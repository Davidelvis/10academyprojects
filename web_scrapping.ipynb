{
 "cells": [
  {
   "cell_type": "code",
   "execution_count": null,
   "metadata": {},
   "outputs": [],
   "source": []
  },
  {
   "cell_type": "markdown",
   "metadata": {},
   "source": [
    "The notion of influence plays an important role in how businesses operate and is heavily linked to viral marketing and even how the society functions. Studying influence patterns can help us better understand why certain trends or innovations are adopted faster than others and how we could help advertisers andmarketers design more effective campaigns."
   ]
  },
  {
   "cell_type": "markdown",
   "metadata": {},
   "source": [
    "**The Goal of this project is to Identify influencers rank position from Twitter data in africa.**"
   ]
  },
  {
   "cell_type": "markdown",
   "metadata": {},
   "source": [
    "## Web scrapping using python\n",
    "\n",
    "#### References\n",
    "1. [Practical Introduction to Web Scraping in Python](https://realpython.com/python-web-scraping-practical-introduction/)\n",
    "2. [Web Scraping using Python](https://www.datacamp.com/community/tutorials/web-scraping-using-python)"
   ]
  },
  {
   "cell_type": "markdown",
   "metadata": {},
   "source": [
    "We will need to install two packages that is;\n",
    " 1. Requests for performing your HTTP requests\n",
    " 2. BeautifulSoup4 for handling all of your HTML processing"
   ]
  },
  {
   "cell_type": "code",
   "execution_count": 1,
   "metadata": {},
   "outputs": [
    {
     "name": "stdout",
     "output_type": "stream",
     "text": [
      "Requirement already up-to-date: requests in /Users/DClinton/opt/anaconda3/lib/python3.7/site-packages (2.24.0)\n",
      "Requirement already up-to-date: BeautifulSoup4 in /Users/DClinton/opt/anaconda3/lib/python3.7/site-packages (4.9.1)\n",
      "Requirement already satisfied, skipping upgrade: chardet<4,>=3.0.2 in /Users/DClinton/opt/anaconda3/lib/python3.7/site-packages (from requests) (3.0.4)\n",
      "Requirement already satisfied, skipping upgrade: idna<3,>=2.5 in /Users/DClinton/opt/anaconda3/lib/python3.7/site-packages (from requests) (2.8)\n",
      "Requirement already satisfied, skipping upgrade: certifi>=2017.4.17 in /Users/DClinton/opt/anaconda3/lib/python3.7/site-packages (from requests) (2019.11.28)\n",
      "Requirement already satisfied, skipping upgrade: urllib3!=1.25.0,!=1.25.1,<1.26,>=1.21.1 in /Users/DClinton/opt/anaconda3/lib/python3.7/site-packages (from requests) (1.25.8)\n",
      "Requirement already satisfied, skipping upgrade: soupsieve>1.2 in /Users/DClinton/opt/anaconda3/lib/python3.7/site-packages (from BeautifulSoup4) (1.9.5)\n"
     ]
    }
   ],
   "source": [
    "!pip install requests BeautifulSoup4 --upgrade"
   ]
  },
  {
   "cell_type": "code",
   "execution_count": 2,
   "metadata": {},
   "outputs": [],
   "source": [
    "#immporting libraries\n",
    "import requests\n",
    "from urllib.request import urlopen as uReq\n",
    "from requests import get\n",
    "from requests.exceptions import RequestException\n",
    "from contextlib import closing\n",
    "from bs4 import BeautifulSoup \n",
    "import pandas as pd\n",
    "import os, sys\n",
    "\n",
    "import fire"
   ]
  },
  {
   "cell_type": "markdown",
   "metadata": {},
   "source": [
    "# MAKING WEB REQUESTS#"
   ]
  },
  {
   "cell_type": "markdown",
   "metadata": {},
   "source": [
    "We will make requests to the web using the requests package plus some python functions that will help us to get data from the web"
   ]
  },
  {
   "cell_type": "code",
   "execution_count": 3,
   "metadata": {},
   "outputs": [],
   "source": [
    "\n",
    "#%%writefile ../pyscrap_url.py #This jupyter magic helps you to save this codecell as a script.\n",
    "\n",
    "def simple_get(url):\n",
    "    \"\"\"\n",
    "    Attempts to get the content at `url` by making an HTTP GET request.\n",
    "    If the content-type of response is some kind of HTML/XML, return the\n",
    "    text content, otherwise return None.\n",
    "    \"\"\"\n",
    "    try:\n",
    "        with closing(get(url, stream=True)) as resp:\n",
    "            if is_good_response(resp):\n",
    "                return resp.content  #.encode(BeautifulSoup.original_encoding)\n",
    "            else:\n",
    "                return None\n",
    "\n",
    "    except RequestException as e:\n",
    "        log_error('Error during requests to {0} : {1}'.format(url, str(e)))\n",
    "        return None\n",
    "\n",
    "\n",
    "def is_good_response(resp):\n",
    "    \"\"\"\n",
    "    Returns True if the response seems to be HTML, False otherwise.\n",
    "    \"\"\"\n",
    "    content_type = resp.headers['Content-Type'].lower()\n",
    "    return (resp.status_code == 200 \n",
    "            and content_type is not None \n",
    "            and content_type.find('html') > -1)\n",
    "\n",
    "\n",
    "def log_error(e):\n",
    "    \"\"\"\n",
    "    It is always a good idea to log errors. \n",
    "    This function just prints them, but you can\n",
    "    make it do anything.\n",
    "    \"\"\"\n",
    "    print(e)\n",
    "    \n",
    "def get_elements(url, tag='',search={}, fname=None):\n",
    "    \"\"\"\n",
    "    Downloads a page specified by the url parameter\n",
    "    and returns a list of strings, one per tag element\n",
    "    \"\"\"\n",
    "    \n",
    "    if isinstance(url,str):\n",
    "        response = simple_get(url)\n",
    "    else:\n",
    "        #if already it is a loaded html page\n",
    "        response = url\n",
    "\n",
    "    if response is not None:\n",
    "        html = BeautifulSoup(response, 'html.parser')\n",
    "        \n",
    "        res = []\n",
    "        if tag:    \n",
    "            for li in html.select(tag):\n",
    "                for name in li.text.split('\\n'):\n",
    "                    if len(name) > 0:\n",
    "                        res.append(name.strip())\n",
    "                       \n",
    "                \n",
    "        if search:\n",
    "            soup = html            \n",
    "            \n",
    "            \n",
    "            r = ''\n",
    "            if 'find' in search.keys():\n",
    "                print('findaing',search['find'])\n",
    "                soup = soup.find(**search['find'])\n",
    "                r = soup\n",
    "\n",
    "                \n",
    "            if 'find_all' in search.keys():\n",
    "                print('findaing all of',search['find_all'])\n",
    "                r = soup.find_all(**search['find_all'])\n",
    "   \n",
    "            if r:\n",
    "                for x in list(r):\n",
    "                    if len(x) > 0:\n",
    "                        res.extend(x)\n",
    "            \n",
    "        return res\n",
    "\n",
    "    # Raise an exception if we failed to get any data from the url\n",
    "    raise Exception('Error retrieving contents at {}'.format(url))    \n",
    "    \n",
    "    \n",
    "if get_ipython().__class__.__name__ == '__main__':\n",
    "    fire(get_tag_elements)"
   ]
  },
  {
   "cell_type": "markdown",
   "metadata": {},
   "source": [
    "This is the data of Hundred most influential people in Africa and their twitter names."
   ]
  },
  {
   "cell_type": "code",
   "execution_count": 4,
   "metadata": {},
   "outputs": [],
   "source": [
    "#we will now call the function and pass the tag of the data we need.\n",
    "res = get_elements('https://africafreak.com/100-most-influential-twitter-users-in-africa',tag='h2')\n",
    "#res"
   ]
  },
  {
   "cell_type": "code",
   "execution_count": 5,
   "metadata": {},
   "outputs": [],
   "source": [
    "#We write the data we scrapped into a csv file\n",
    "with open('csvfile.csv','w') as file:\n",
    "    for line in res:\n",
    "        file.write(line)\n",
    "        file.write('\\n')"
   ]
  },
  {
   "cell_type": "code",
   "execution_count": 6,
   "metadata": {},
   "outputs": [],
   "source": [
    "#Reading the csv file\n",
    "data=pd.read_csv(\"csvfile.csv\",header=None)"
   ]
  },
  {
   "cell_type": "markdown",
   "metadata": {},
   "source": [
    "We will drop the rows that we dont need and do some cleaning on the data"
   ]
  },
  {
   "cell_type": "code",
   "execution_count": 7,
   "metadata": {},
   "outputs": [],
   "source": [
    "#dropping the rows we don't need\n",
    "data.drop([100,101,102,103,104],axis=0,inplace=True)"
   ]
  },
  {
   "cell_type": "code",
   "execution_count": 8,
   "metadata": {},
   "outputs": [],
   "source": [
    "\n",
    "data.columns=['influncers']"
   ]
  },
  {
   "cell_type": "code",
   "execution_count": 9,
   "metadata": {},
   "outputs": [
    {
     "data": {
      "text/html": [
       "<div>\n",
       "<style scoped>\n",
       "    .dataframe tbody tr th:only-of-type {\n",
       "        vertical-align: middle;\n",
       "    }\n",
       "\n",
       "    .dataframe tbody tr th {\n",
       "        vertical-align: top;\n",
       "    }\n",
       "\n",
       "    .dataframe thead th {\n",
       "        text-align: right;\n",
       "    }\n",
       "</style>\n",
       "<table border=\"1\" class=\"dataframe\">\n",
       "  <thead>\n",
       "    <tr style=\"text-align: right;\">\n",
       "      <th></th>\n",
       "      <th>influncers</th>\n",
       "    </tr>\n",
       "  </thead>\n",
       "  <tbody>\n",
       "    <tr>\n",
       "      <th>0</th>\n",
       "      <td>100. Jeffrey Gettleman (@gettleman)</td>\n",
       "    </tr>\n",
       "    <tr>\n",
       "      <th>1</th>\n",
       "      <td>99. Africa24 Media (@a24media)</td>\n",
       "    </tr>\n",
       "    <tr>\n",
       "      <th>2</th>\n",
       "      <td>98. Scapegoat (@andiMakinana)</td>\n",
       "    </tr>\n",
       "    <tr>\n",
       "      <th>3</th>\n",
       "      <td>97. Africa Check (@AfricaCheck)</td>\n",
       "    </tr>\n",
       "    <tr>\n",
       "      <th>4</th>\n",
       "      <td>96. James Copnall (@JamesCopnall)</td>\n",
       "    </tr>\n",
       "    <tr>\n",
       "      <th>...</th>\n",
       "      <td>...</td>\n",
       "    </tr>\n",
       "    <tr>\n",
       "      <th>95</th>\n",
       "      <td>5. Julius Sello Malema (@Julius_S_Malema)</td>\n",
       "    </tr>\n",
       "    <tr>\n",
       "      <th>96</th>\n",
       "      <td>4. News24 (@News24)</td>\n",
       "    </tr>\n",
       "    <tr>\n",
       "      <th>97</th>\n",
       "      <td>3. Jacob G. Zuma (@SAPresident)</td>\n",
       "    </tr>\n",
       "    <tr>\n",
       "      <th>98</th>\n",
       "      <td>2. Gareth Cliff (@GarethCliff)</td>\n",
       "    </tr>\n",
       "    <tr>\n",
       "      <th>99</th>\n",
       "      <td>1. Trevor Noah (@Trevornoah)</td>\n",
       "    </tr>\n",
       "  </tbody>\n",
       "</table>\n",
       "<p>100 rows × 1 columns</p>\n",
       "</div>"
      ],
      "text/plain": [
       "                                   influncers\n",
       "0         100. Jeffrey Gettleman (@gettleman)\n",
       "1              99. Africa24 Media (@a24media)\n",
       "2               98. Scapegoat (@andiMakinana)\n",
       "3             97. Africa Check (@AfricaCheck)\n",
       "4           96. James Copnall (@JamesCopnall)\n",
       "..                                        ...\n",
       "95  5. Julius Sello Malema (@Julius_S_Malema)\n",
       "96                        4. News24 (@News24)\n",
       "97            3. Jacob G. Zuma (@SAPresident)\n",
       "98             2. Gareth Cliff (@GarethCliff)\n",
       "99               1. Trevor Noah (@Trevornoah)\n",
       "\n",
       "[100 rows x 1 columns]"
      ]
     },
     "execution_count": 9,
     "metadata": {},
     "output_type": "execute_result"
    }
   ],
   "source": [
    "data"
   ]
  },
  {
   "cell_type": "code",
   "execution_count": null,
   "metadata": {
    "scrolled": true
   },
   "outputs": [],
   "source": []
  },
  {
   "cell_type": "code",
   "execution_count": 10,
   "metadata": {},
   "outputs": [
    {
     "data": {
      "text/plain": [
       "0           100. Jeffrey Gettleman (@gettleman)\n",
       "1                99. Africa24 Media (@a24media)\n",
       "2                 98. Scapegoat (@andiMakinana)\n",
       "3               97. Africa Check (@AfricaCheck)\n",
       "4             96. James Copnall (@JamesCopnall)\n",
       "                        ...                    \n",
       "95    5. Julius Sello Malema (@Julius_S_Malema)\n",
       "96                          4. News24 (@News24)\n",
       "97              3. Jacob G. Zuma (@SAPresident)\n",
       "98               2. Gareth Cliff (@GarethCliff)\n",
       "99                 1. Trevor Noah (@Trevornoah)\n",
       "Name: influncers, Length: 100, dtype: object"
      ]
     },
     "execution_count": 10,
     "metadata": {},
     "output_type": "execute_result"
    }
   ],
   "source": [
    "data['influncers']"
   ]
  },
  {
   "cell_type": "code",
   "execution_count": null,
   "metadata": {},
   "outputs": [],
   "source": []
  },
  {
   "cell_type": "code",
   "execution_count": 11,
   "metadata": {},
   "outputs": [],
   "source": [
    "#splitting the rank from the names\n",
    "data[['Rank','Names']]=pd.DataFrame(data.influncers.str.split('.',1).tolist())"
   ]
  },
  {
   "cell_type": "code",
   "execution_count": 12,
   "metadata": {},
   "outputs": [
    {
     "data": {
      "text/html": [
       "<div>\n",
       "<style scoped>\n",
       "    .dataframe tbody tr th:only-of-type {\n",
       "        vertical-align: middle;\n",
       "    }\n",
       "\n",
       "    .dataframe tbody tr th {\n",
       "        vertical-align: top;\n",
       "    }\n",
       "\n",
       "    .dataframe thead th {\n",
       "        text-align: right;\n",
       "    }\n",
       "</style>\n",
       "<table border=\"1\" class=\"dataframe\">\n",
       "  <thead>\n",
       "    <tr style=\"text-align: right;\">\n",
       "      <th></th>\n",
       "      <th>influncers</th>\n",
       "      <th>Rank</th>\n",
       "      <th>Names</th>\n",
       "    </tr>\n",
       "  </thead>\n",
       "  <tbody>\n",
       "    <tr>\n",
       "      <th>0</th>\n",
       "      <td>100. Jeffrey Gettleman (@gettleman)</td>\n",
       "      <td>100</td>\n",
       "      <td>Jeffrey Gettleman (@gettleman)</td>\n",
       "    </tr>\n",
       "    <tr>\n",
       "      <th>1</th>\n",
       "      <td>99. Africa24 Media (@a24media)</td>\n",
       "      <td>99</td>\n",
       "      <td>Africa24 Media (@a24media)</td>\n",
       "    </tr>\n",
       "    <tr>\n",
       "      <th>2</th>\n",
       "      <td>98. Scapegoat (@andiMakinana)</td>\n",
       "      <td>98</td>\n",
       "      <td>Scapegoat (@andiMakinana)</td>\n",
       "    </tr>\n",
       "    <tr>\n",
       "      <th>3</th>\n",
       "      <td>97. Africa Check (@AfricaCheck)</td>\n",
       "      <td>97</td>\n",
       "      <td>Africa Check (@AfricaCheck)</td>\n",
       "    </tr>\n",
       "    <tr>\n",
       "      <th>4</th>\n",
       "      <td>96. James Copnall (@JamesCopnall)</td>\n",
       "      <td>96</td>\n",
       "      <td>James Copnall (@JamesCopnall)</td>\n",
       "    </tr>\n",
       "    <tr>\n",
       "      <th>...</th>\n",
       "      <td>...</td>\n",
       "      <td>...</td>\n",
       "      <td>...</td>\n",
       "    </tr>\n",
       "    <tr>\n",
       "      <th>95</th>\n",
       "      <td>5. Julius Sello Malema (@Julius_S_Malema)</td>\n",
       "      <td>5</td>\n",
       "      <td>Julius Sello Malema (@Julius_S_Malema)</td>\n",
       "    </tr>\n",
       "    <tr>\n",
       "      <th>96</th>\n",
       "      <td>4. News24 (@News24)</td>\n",
       "      <td>4</td>\n",
       "      <td>News24 (@News24)</td>\n",
       "    </tr>\n",
       "    <tr>\n",
       "      <th>97</th>\n",
       "      <td>3. Jacob G. Zuma (@SAPresident)</td>\n",
       "      <td>3</td>\n",
       "      <td>Jacob G. Zuma (@SAPresident)</td>\n",
       "    </tr>\n",
       "    <tr>\n",
       "      <th>98</th>\n",
       "      <td>2. Gareth Cliff (@GarethCliff)</td>\n",
       "      <td>2</td>\n",
       "      <td>Gareth Cliff (@GarethCliff)</td>\n",
       "    </tr>\n",
       "    <tr>\n",
       "      <th>99</th>\n",
       "      <td>1. Trevor Noah (@Trevornoah)</td>\n",
       "      <td>1</td>\n",
       "      <td>Trevor Noah (@Trevornoah)</td>\n",
       "    </tr>\n",
       "  </tbody>\n",
       "</table>\n",
       "<p>100 rows × 3 columns</p>\n",
       "</div>"
      ],
      "text/plain": [
       "                                   influncers Rank  \\\n",
       "0         100. Jeffrey Gettleman (@gettleman)  100   \n",
       "1              99. Africa24 Media (@a24media)   99   \n",
       "2               98. Scapegoat (@andiMakinana)   98   \n",
       "3             97. Africa Check (@AfricaCheck)   97   \n",
       "4           96. James Copnall (@JamesCopnall)   96   \n",
       "..                                        ...  ...   \n",
       "95  5. Julius Sello Malema (@Julius_S_Malema)    5   \n",
       "96                        4. News24 (@News24)    4   \n",
       "97            3. Jacob G. Zuma (@SAPresident)    3   \n",
       "98             2. Gareth Cliff (@GarethCliff)    2   \n",
       "99               1. Trevor Noah (@Trevornoah)    1   \n",
       "\n",
       "                                      Names  \n",
       "0            Jeffrey Gettleman (@gettleman)  \n",
       "1                Africa24 Media (@a24media)  \n",
       "2                 Scapegoat (@andiMakinana)  \n",
       "3               Africa Check (@AfricaCheck)  \n",
       "4             James Copnall (@JamesCopnall)  \n",
       "..                                      ...  \n",
       "95   Julius Sello Malema (@Julius_S_Malema)  \n",
       "96                         News24 (@News24)  \n",
       "97             Jacob G. Zuma (@SAPresident)  \n",
       "98              Gareth Cliff (@GarethCliff)  \n",
       "99                Trevor Noah (@Trevornoah)  \n",
       "\n",
       "[100 rows x 3 columns]"
      ]
     },
     "execution_count": 12,
     "metadata": {},
     "output_type": "execute_result"
    }
   ],
   "source": [
    "data"
   ]
  },
  {
   "cell_type": "code",
   "execution_count": 13,
   "metadata": {},
   "outputs": [
    {
     "data": {
      "text/html": [
       "<div>\n",
       "<style scoped>\n",
       "    .dataframe tbody tr th:only-of-type {\n",
       "        vertical-align: middle;\n",
       "    }\n",
       "\n",
       "    .dataframe tbody tr th {\n",
       "        vertical-align: top;\n",
       "    }\n",
       "\n",
       "    .dataframe thead th {\n",
       "        text-align: right;\n",
       "    }\n",
       "</style>\n",
       "<table border=\"1\" class=\"dataframe\">\n",
       "  <thead>\n",
       "    <tr style=\"text-align: right;\">\n",
       "      <th></th>\n",
       "      <th>influncers</th>\n",
       "      <th>Rank</th>\n",
       "      <th>Names</th>\n",
       "      <th>Name</th>\n",
       "      <th>Twittername</th>\n",
       "    </tr>\n",
       "  </thead>\n",
       "  <tbody>\n",
       "    <tr>\n",
       "      <th>0</th>\n",
       "      <td>100. Jeffrey Gettleman (@gettleman)</td>\n",
       "      <td>100</td>\n",
       "      <td>Jeffrey Gettleman (@gettleman)</td>\n",
       "      <td>Jeffrey Gettleman</td>\n",
       "      <td>@gettleman)</td>\n",
       "    </tr>\n",
       "    <tr>\n",
       "      <th>1</th>\n",
       "      <td>99. Africa24 Media (@a24media)</td>\n",
       "      <td>99</td>\n",
       "      <td>Africa24 Media (@a24media)</td>\n",
       "      <td>Africa24 Media</td>\n",
       "      <td>@a24media)</td>\n",
       "    </tr>\n",
       "    <tr>\n",
       "      <th>2</th>\n",
       "      <td>98. Scapegoat (@andiMakinana)</td>\n",
       "      <td>98</td>\n",
       "      <td>Scapegoat (@andiMakinana)</td>\n",
       "      <td>Scapegoat</td>\n",
       "      <td>@andiMakinana)</td>\n",
       "    </tr>\n",
       "    <tr>\n",
       "      <th>3</th>\n",
       "      <td>97. Africa Check (@AfricaCheck)</td>\n",
       "      <td>97</td>\n",
       "      <td>Africa Check (@AfricaCheck)</td>\n",
       "      <td>Africa Check</td>\n",
       "      <td>@AfricaCheck)</td>\n",
       "    </tr>\n",
       "    <tr>\n",
       "      <th>4</th>\n",
       "      <td>96. James Copnall (@JamesCopnall)</td>\n",
       "      <td>96</td>\n",
       "      <td>James Copnall (@JamesCopnall)</td>\n",
       "      <td>James Copnall</td>\n",
       "      <td>@JamesCopnall)</td>\n",
       "    </tr>\n",
       "    <tr>\n",
       "      <th>...</th>\n",
       "      <td>...</td>\n",
       "      <td>...</td>\n",
       "      <td>...</td>\n",
       "      <td>...</td>\n",
       "      <td>...</td>\n",
       "    </tr>\n",
       "    <tr>\n",
       "      <th>95</th>\n",
       "      <td>5. Julius Sello Malema (@Julius_S_Malema)</td>\n",
       "      <td>5</td>\n",
       "      <td>Julius Sello Malema (@Julius_S_Malema)</td>\n",
       "      <td>Julius Sello Malema</td>\n",
       "      <td>@Julius_S_Malema)</td>\n",
       "    </tr>\n",
       "    <tr>\n",
       "      <th>96</th>\n",
       "      <td>4. News24 (@News24)</td>\n",
       "      <td>4</td>\n",
       "      <td>News24 (@News24)</td>\n",
       "      <td>News24</td>\n",
       "      <td>@News24)</td>\n",
       "    </tr>\n",
       "    <tr>\n",
       "      <th>97</th>\n",
       "      <td>3. Jacob G. Zuma (@SAPresident)</td>\n",
       "      <td>3</td>\n",
       "      <td>Jacob G. Zuma (@SAPresident)</td>\n",
       "      <td>Jacob G. Zuma</td>\n",
       "      <td>@SAPresident)</td>\n",
       "    </tr>\n",
       "    <tr>\n",
       "      <th>98</th>\n",
       "      <td>2. Gareth Cliff (@GarethCliff)</td>\n",
       "      <td>2</td>\n",
       "      <td>Gareth Cliff (@GarethCliff)</td>\n",
       "      <td>Gareth Cliff</td>\n",
       "      <td>@GarethCliff)</td>\n",
       "    </tr>\n",
       "    <tr>\n",
       "      <th>99</th>\n",
       "      <td>1. Trevor Noah (@Trevornoah)</td>\n",
       "      <td>1</td>\n",
       "      <td>Trevor Noah (@Trevornoah)</td>\n",
       "      <td>Trevor Noah</td>\n",
       "      <td>@Trevornoah)</td>\n",
       "    </tr>\n",
       "  </tbody>\n",
       "</table>\n",
       "<p>100 rows × 5 columns</p>\n",
       "</div>"
      ],
      "text/plain": [
       "                                   influncers Rank  \\\n",
       "0         100. Jeffrey Gettleman (@gettleman)  100   \n",
       "1              99. Africa24 Media (@a24media)   99   \n",
       "2               98. Scapegoat (@andiMakinana)   98   \n",
       "3             97. Africa Check (@AfricaCheck)   97   \n",
       "4           96. James Copnall (@JamesCopnall)   96   \n",
       "..                                        ...  ...   \n",
       "95  5. Julius Sello Malema (@Julius_S_Malema)    5   \n",
       "96                        4. News24 (@News24)    4   \n",
       "97            3. Jacob G. Zuma (@SAPresident)    3   \n",
       "98             2. Gareth Cliff (@GarethCliff)    2   \n",
       "99               1. Trevor Noah (@Trevornoah)    1   \n",
       "\n",
       "                                      Names                   Name  \\\n",
       "0            Jeffrey Gettleman (@gettleman)     Jeffrey Gettleman    \n",
       "1                Africa24 Media (@a24media)        Africa24 Media    \n",
       "2                 Scapegoat (@andiMakinana)             Scapegoat    \n",
       "3               Africa Check (@AfricaCheck)          Africa Check    \n",
       "4             James Copnall (@JamesCopnall)         James Copnall    \n",
       "..                                      ...                    ...   \n",
       "95   Julius Sello Malema (@Julius_S_Malema)   Julius Sello Malema    \n",
       "96                         News24 (@News24)                News24    \n",
       "97             Jacob G. Zuma (@SAPresident)         Jacob G. Zuma    \n",
       "98              Gareth Cliff (@GarethCliff)          Gareth Cliff    \n",
       "99                Trevor Noah (@Trevornoah)           Trevor Noah    \n",
       "\n",
       "          Twittername  \n",
       "0         @gettleman)  \n",
       "1          @a24media)  \n",
       "2      @andiMakinana)  \n",
       "3       @AfricaCheck)  \n",
       "4      @JamesCopnall)  \n",
       "..                ...  \n",
       "95  @Julius_S_Malema)  \n",
       "96           @News24)  \n",
       "97      @SAPresident)  \n",
       "98      @GarethCliff)  \n",
       "99       @Trevornoah)  \n",
       "\n",
       "[100 rows x 5 columns]"
      ]
     },
     "execution_count": 13,
     "metadata": {},
     "output_type": "execute_result"
    }
   ],
   "source": [
    "#splitting the Names and Twitter account name\n",
    "data[['Name','Twittername']]=pd.DataFrame(data.Names.str.split('(',1).tolist())\n",
    "data"
   ]
  },
  {
   "cell_type": "code",
   "execution_count": 14,
   "metadata": {},
   "outputs": [],
   "source": [
    "# We can now drop the names and influncers column\n",
    "data = data.drop(\"Names\", axis=1)\n",
    "data = data.drop(\"influncers\",axis=1)"
   ]
  },
  {
   "cell_type": "code",
   "execution_count": 15,
   "metadata": {},
   "outputs": [],
   "source": [
    "#stripping the last character from our twittername column\n",
    "data['Twittername'] = data['Twittername'].str.rstrip(')')"
   ]
  },
  {
   "cell_type": "code",
   "execution_count": 16,
   "metadata": {},
   "outputs": [],
   "source": [
    "#saving the data into a csv file\n",
    "data.to_csv ('\\Desktop\\export_dataframe.csv', index = False, header=True)"
   ]
  },
  {
   "cell_type": "code",
   "execution_count": null,
   "metadata": {},
   "outputs": [],
   "source": []
  },
  {
   "cell_type": "code",
   "execution_count": 17,
   "metadata": {},
   "outputs": [
    {
     "data": {
      "text/html": [
       "<div>\n",
       "<style scoped>\n",
       "    .dataframe tbody tr th:only-of-type {\n",
       "        vertical-align: middle;\n",
       "    }\n",
       "\n",
       "    .dataframe tbody tr th {\n",
       "        vertical-align: top;\n",
       "    }\n",
       "\n",
       "    .dataframe thead th {\n",
       "        text-align: right;\n",
       "    }\n",
       "</style>\n",
       "<table border=\"1\" class=\"dataframe\">\n",
       "  <thead>\n",
       "    <tr style=\"text-align: right;\">\n",
       "      <th></th>\n",
       "      <th>Rank</th>\n",
       "      <th>Name</th>\n",
       "      <th>Twittername</th>\n",
       "    </tr>\n",
       "  </thead>\n",
       "  <tbody>\n",
       "    <tr>\n",
       "      <th>0</th>\n",
       "      <td>100</td>\n",
       "      <td>Jeffrey Gettleman</td>\n",
       "      <td>@gettleman</td>\n",
       "    </tr>\n",
       "    <tr>\n",
       "      <th>1</th>\n",
       "      <td>99</td>\n",
       "      <td>Africa24 Media</td>\n",
       "      <td>@a24media</td>\n",
       "    </tr>\n",
       "    <tr>\n",
       "      <th>2</th>\n",
       "      <td>98</td>\n",
       "      <td>Scapegoat</td>\n",
       "      <td>@andiMakinana</td>\n",
       "    </tr>\n",
       "    <tr>\n",
       "      <th>3</th>\n",
       "      <td>97</td>\n",
       "      <td>Africa Check</td>\n",
       "      <td>@AfricaCheck</td>\n",
       "    </tr>\n",
       "    <tr>\n",
       "      <th>4</th>\n",
       "      <td>96</td>\n",
       "      <td>James Copnall</td>\n",
       "      <td>@JamesCopnall</td>\n",
       "    </tr>\n",
       "    <tr>\n",
       "      <th>...</th>\n",
       "      <td>...</td>\n",
       "      <td>...</td>\n",
       "      <td>...</td>\n",
       "    </tr>\n",
       "    <tr>\n",
       "      <th>95</th>\n",
       "      <td>5</td>\n",
       "      <td>Julius Sello Malema</td>\n",
       "      <td>@Julius_S_Malema</td>\n",
       "    </tr>\n",
       "    <tr>\n",
       "      <th>96</th>\n",
       "      <td>4</td>\n",
       "      <td>News24</td>\n",
       "      <td>@News24</td>\n",
       "    </tr>\n",
       "    <tr>\n",
       "      <th>97</th>\n",
       "      <td>3</td>\n",
       "      <td>Jacob G. Zuma</td>\n",
       "      <td>@SAPresident</td>\n",
       "    </tr>\n",
       "    <tr>\n",
       "      <th>98</th>\n",
       "      <td>2</td>\n",
       "      <td>Gareth Cliff</td>\n",
       "      <td>@GarethCliff</td>\n",
       "    </tr>\n",
       "    <tr>\n",
       "      <th>99</th>\n",
       "      <td>1</td>\n",
       "      <td>Trevor Noah</td>\n",
       "      <td>@Trevornoah</td>\n",
       "    </tr>\n",
       "  </tbody>\n",
       "</table>\n",
       "<p>100 rows × 3 columns</p>\n",
       "</div>"
      ],
      "text/plain": [
       "   Rank                   Name       Twittername\n",
       "0   100     Jeffrey Gettleman         @gettleman\n",
       "1    99        Africa24 Media          @a24media\n",
       "2    98             Scapegoat      @andiMakinana\n",
       "3    97          Africa Check       @AfricaCheck\n",
       "4    96         James Copnall      @JamesCopnall\n",
       "..  ...                    ...               ...\n",
       "95    5   Julius Sello Malema   @Julius_S_Malema\n",
       "96    4                News24            @News24\n",
       "97    3         Jacob G. Zuma       @SAPresident\n",
       "98    2          Gareth Cliff       @GarethCliff\n",
       "99    1           Trevor Noah        @Trevornoah\n",
       "\n",
       "[100 rows x 3 columns]"
      ]
     },
     "execution_count": 17,
     "metadata": {},
     "output_type": "execute_result"
    }
   ],
   "source": [
    "data"
   ]
  },
  {
   "cell_type": "code",
   "execution_count": null,
   "metadata": {},
   "outputs": [],
   "source": []
  },
  {
   "cell_type": "code",
   "execution_count": 18,
   "metadata": {},
   "outputs": [],
   "source": [
    "#we will reverse the data to get from the top most influential\n",
    "df1=data.reindex(index=data.index[::-1])"
   ]
  },
  {
   "cell_type": "code",
   "execution_count": 19,
   "metadata": {},
   "outputs": [],
   "source": [
    "df2 = df1.reset_index(drop=True)"
   ]
  },
  {
   "cell_type": "code",
   "execution_count": 20,
   "metadata": {},
   "outputs": [],
   "source": [
    "df3=df2.head(10)"
   ]
  },
  {
   "cell_type": "code",
   "execution_count": 21,
   "metadata": {},
   "outputs": [
    {
     "data": {
      "text/html": [
       "<div>\n",
       "<style scoped>\n",
       "    .dataframe tbody tr th:only-of-type {\n",
       "        vertical-align: middle;\n",
       "    }\n",
       "\n",
       "    .dataframe tbody tr th {\n",
       "        vertical-align: top;\n",
       "    }\n",
       "\n",
       "    .dataframe thead th {\n",
       "        text-align: right;\n",
       "    }\n",
       "</style>\n",
       "<table border=\"1\" class=\"dataframe\">\n",
       "  <thead>\n",
       "    <tr style=\"text-align: right;\">\n",
       "      <th></th>\n",
       "      <th>Rank</th>\n",
       "      <th>Name</th>\n",
       "      <th>Twittername</th>\n",
       "    </tr>\n",
       "  </thead>\n",
       "  <tbody>\n",
       "    <tr>\n",
       "      <th>0</th>\n",
       "      <td>1</td>\n",
       "      <td>Trevor Noah</td>\n",
       "      <td>@Trevornoah</td>\n",
       "    </tr>\n",
       "    <tr>\n",
       "      <th>1</th>\n",
       "      <td>2</td>\n",
       "      <td>Gareth Cliff</td>\n",
       "      <td>@GarethCliff</td>\n",
       "    </tr>\n",
       "    <tr>\n",
       "      <th>2</th>\n",
       "      <td>3</td>\n",
       "      <td>Jacob G. Zuma</td>\n",
       "      <td>@SAPresident</td>\n",
       "    </tr>\n",
       "    <tr>\n",
       "      <th>3</th>\n",
       "      <td>4</td>\n",
       "      <td>News24</td>\n",
       "      <td>@News24</td>\n",
       "    </tr>\n",
       "    <tr>\n",
       "      <th>4</th>\n",
       "      <td>5</td>\n",
       "      <td>Julius Sello Malema</td>\n",
       "      <td>@Julius_S_Malema</td>\n",
       "    </tr>\n",
       "    <tr>\n",
       "      <th>5</th>\n",
       "      <td>6</td>\n",
       "      <td>Helen Zille</td>\n",
       "      <td>@helenzille</td>\n",
       "    </tr>\n",
       "    <tr>\n",
       "      <th>6</th>\n",
       "      <td>7</td>\n",
       "      <td>mailandguardian</td>\n",
       "      <td>@mailandguardian</td>\n",
       "    </tr>\n",
       "    <tr>\n",
       "      <th>7</th>\n",
       "      <td>8</td>\n",
       "      <td>5FM</td>\n",
       "      <td>@5FM</td>\n",
       "    </tr>\n",
       "    <tr>\n",
       "      <th>8</th>\n",
       "      <td>9</td>\n",
       "      <td>loyiso gola</td>\n",
       "      <td>@loyisogola</td>\n",
       "    </tr>\n",
       "    <tr>\n",
       "      <th>9</th>\n",
       "      <td>10</td>\n",
       "      <td>Computicket</td>\n",
       "      <td>@Computicket</td>\n",
       "    </tr>\n",
       "  </tbody>\n",
       "</table>\n",
       "</div>"
      ],
      "text/plain": [
       "  Rank                   Name       Twittername\n",
       "0    1           Trevor Noah        @Trevornoah\n",
       "1    2          Gareth Cliff       @GarethCliff\n",
       "2    3         Jacob G. Zuma       @SAPresident\n",
       "3    4                News24            @News24\n",
       "4    5   Julius Sello Malema   @Julius_S_Malema\n",
       "5    6           Helen Zille        @helenzille\n",
       "6    7       mailandguardian   @mailandguardian\n",
       "7    8                   5FM               @5FM\n",
       "8    9           loyiso gola        @loyisogola\n",
       "9   10           Computicket       @Computicket"
      ]
     },
     "execution_count": 21,
     "metadata": {},
     "output_type": "execute_result"
    }
   ],
   "source": [
    "df3"
   ]
  },
  {
   "cell_type": "code",
   "execution_count": 22,
   "metadata": {},
   "outputs": [],
   "source": [
    "df3.to_csv(r'10most_twitter_influencers.csv', index = False, header=True)"
   ]
  },
  {
   "cell_type": "markdown",
   "metadata": {},
   "source": [
    "Now we will scrap Data to get the Top government officers influencers"
   ]
  },
  {
   "cell_type": "code",
   "execution_count": 23,
   "metadata": {},
   "outputs": [
    {
     "data": {
      "text/plain": [
       "\"\\nimport requests\\nfrom bs4 import BeautifulSoup\\nimport csv\\nimport re\\nr = requests.get('https://www.atlanticcouncil.org/blogs/africasource/african-leaders-respond-to-coronavirus-on-twitter/#west-africa')\\nsoup = BeautifulSoup(r.text, 'html.parser')\\n\""
      ]
     },
     "execution_count": 23,
     "metadata": {},
     "output_type": "execute_result"
    }
   ],
   "source": [
    "#Trial code\n",
    "'''\n",
    "import requests\n",
    "from bs4 import BeautifulSoup\n",
    "import csv\n",
    "import re\n",
    "r = requests.get('https://www.atlanticcouncil.org/blogs/africasource/african-leaders-respond-to-coronavirus-on-twitter/#west-africa')\n",
    "soup = BeautifulSoup(r.text, 'html.parser')\n",
    "'''"
   ]
  },
  {
   "cell_type": "code",
   "execution_count": 24,
   "metadata": {},
   "outputs": [
    {
     "data": {
      "text/plain": [
       "'\\nName = []\\nTwitter_name = []\\nfor item in soup.findAll(\\'span\\', {\\'class\\': \\'css-901oao css-16my406 r-1qd0xha r-ad9z0x r-bcqeeo r-qvutc0\\'}):\\n    Name.append(item.get_text(strip=True))\\nfor item in soup.findAll(\\'span\\', {\\'class\\': \\'css-901oao css-16my406 r-1qd0xha r-ad9z0x r-bcqeeo r-qvutc0\\'}):\\n    Twitter_name.append(item.text)\\ndata = []\\nfor items in zip(Name,Twitter_name):\\n    data.append(items)\\n\\nwith open(\\'output.csv\\', \\'w+\\', newline=\\'\\', encoding=\\'UTF-8-SIG\\') as file:\\n    writer = csv.writer(file)\\n    writer.writerow([\\'Name\\', \\'Twitter_name\\'])\\n    writer.writerows(data)\\n    print(\"Operation Completed\")\\n'"
      ]
     },
     "execution_count": 24,
     "metadata": {},
     "output_type": "execute_result"
    }
   ],
   "source": [
    "#If the data you are scrapping has similarities such us same class, you can use this code segment.\n",
    "#The code gets the data and saves it in a csv file\n",
    "'''\n",
    "Name = []\n",
    "Twitter_name = []\n",
    "for item in soup.findAll('span', {'class': 'css-901oao css-16my406 r-1qd0xha r-ad9z0x r-bcqeeo r-qvutc0'}):\n",
    "    Name.append(item.get_text(strip=True))\n",
    "for item in soup.findAll('span', {'class': 'css-901oao css-16my406 r-1qd0xha r-ad9z0x r-bcqeeo r-qvutc0'}):\n",
    "    Twitter_name.append(item.text)\n",
    "data = []\n",
    "for items in zip(Name,Twitter_name):\n",
    "    data.append(items)\n",
    "\n",
    "with open('output.csv', 'w+', newline='', encoding='UTF-8-SIG') as file:\n",
    "    writer = csv.writer(file)\n",
    "    writer.writerow(['Name', 'Twitter_name'])\n",
    "    writer.writerows(data)\n",
    "    print(\"Operation Completed\")\n",
    "'''"
   ]
  },
  {
   "cell_type": "code",
   "execution_count": null,
   "metadata": {},
   "outputs": [],
   "source": []
  },
  {
   "cell_type": "code",
   "execution_count": null,
   "metadata": {},
   "outputs": [],
   "source": []
  },
  {
   "cell_type": "code",
   "execution_count": null,
   "metadata": {},
   "outputs": [],
   "source": []
  },
  {
   "cell_type": "markdown",
   "metadata": {},
   "source": []
  },
  {
   "cell_type": "code",
   "execution_count": 25,
   "metadata": {},
   "outputs": [],
   "source": [
    "# Attempts to get the content at `url` by making an HTTP GET request.\n",
    "url= 'https://www.atlanticcouncil.org/blogs/africasource/african-leaders-respond-to-coronavirus-on-twitter/#east-africa'\n",
    "response = simple_get(url)"
   ]
  },
  {
   "cell_type": "code",
   "execution_count": 26,
   "metadata": {},
   "outputs": [
    {
     "ename": "SyntaxError",
     "evalue": "invalid syntax (<ipython-input-26-e32b5a829f88>, line 2)",
     "output_type": "error",
     "traceback": [
      "\u001b[0;36m  File \u001b[0;32m\"<ipython-input-26-e32b5a829f88>\"\u001b[0;36m, line \u001b[0;32m2\u001b[0m\n\u001b[0;31m    res = get_elements(response, search={'find_all':{'class_':'wp-block-embed__wrapper'})\u001b[0m\n\u001b[0m                                                                                        ^\u001b[0m\n\u001b[0;31mSyntaxError\u001b[0m\u001b[0;31m:\u001b[0m invalid syntax\n"
     ]
    }
   ],
   "source": [
    "# calling the function that is at the start of this notebook to get the data\n",
    "res = get_elements(response, search={'find_all':{'class_':'wp-block-embed__wrapper'})\n",
    "#res"
   ]
  },
  {
   "cell_type": "code",
   "execution_count": null,
   "metadata": {},
   "outputs": [],
   "source": [
    "#Getting the content from the url by making a requests\n",
    "url=\"https://www.atlanticcouncil.org/blogs/africasource/african-leaders-respond-to-coronavirus-on-twitter/#southern-africa\"\n",
    "r=requests.get(url)\n",
    "soup=BeautifulSoup(r.content)\n",
    "links=soup.find_all('blockquote')\n"
   ]
  },
  {
   "cell_type": "code",
   "execution_count": null,
   "metadata": {},
   "outputs": [],
   "source": [
    "#Changing the content to string\n",
    "list_str = str(links)"
   ]
  },
  {
   "cell_type": "code",
   "execution_count": null,
   "metadata": {},
   "outputs": [],
   "source": [
    "list_str"
   ]
  },
  {
   "cell_type": "code",
   "execution_count": null,
   "metadata": {},
   "outputs": [],
   "source": []
  },
  {
   "cell_type": "code",
   "execution_count": null,
   "metadata": {},
   "outputs": [],
   "source": [
    "'''\n",
    "import re\n",
    "res1 = re.findall('[^()]+', list_str) \n",
    "'''"
   ]
  },
  {
   "cell_type": "code",
   "execution_count": null,
   "metadata": {},
   "outputs": [],
   "source": []
  },
  {
   "cell_type": "code",
   "execution_count": null,
   "metadata": {},
   "outputs": [],
   "source": []
  },
  {
   "cell_type": "code",
   "execution_count": null,
   "metadata": {},
   "outputs": [],
   "source": []
  },
  {
   "cell_type": "code",
   "execution_count": null,
   "metadata": {},
   "outputs": [],
   "source": []
  },
  {
   "cell_type": "code",
   "execution_count": null,
   "metadata": {},
   "outputs": [],
   "source": []
  },
  {
   "cell_type": "code",
   "execution_count": null,
   "metadata": {},
   "outputs": [],
   "source": []
  },
  {
   "cell_type": "code",
   "execution_count": null,
   "metadata": {},
   "outputs": [],
   "source": [
    "#using regex to the desired content twitter names\n",
    "import re\n",
    "res = re.findall(r'\\(.*?\\)', list_str) "
   ]
  },
  {
   "cell_type": "code",
   "execution_count": null,
   "metadata": {},
   "outputs": [],
   "source": []
  },
  {
   "cell_type": "code",
   "execution_count": null,
   "metadata": {},
   "outputs": [],
   "source": [
    "#changing the string list into a dataframe\n",
    "df=pd.DataFrame(res)\n",
    "df.columns=['Twitter_names']"
   ]
  },
  {
   "cell_type": "code",
   "execution_count": null,
   "metadata": {
    "scrolled": false
   },
   "outputs": [],
   "source": [
    "df"
   ]
  },
  {
   "cell_type": "code",
   "execution_count": null,
   "metadata": {
    "scrolled": false
   },
   "outputs": [],
   "source": []
  },
  {
   "cell_type": "code",
   "execution_count": null,
   "metadata": {},
   "outputs": [],
   "source": []
  },
  {
   "cell_type": "code",
   "execution_count": null,
   "metadata": {},
   "outputs": [],
   "source": []
  },
  {
   "cell_type": "code",
   "execution_count": null,
   "metadata": {},
   "outputs": [],
   "source": []
  },
  {
   "cell_type": "code",
   "execution_count": null,
   "metadata": {},
   "outputs": [],
   "source": []
  },
  {
   "cell_type": "code",
   "execution_count": null,
   "metadata": {},
   "outputs": [],
   "source": []
  },
  {
   "cell_type": "code",
   "execution_count": null,
   "metadata": {},
   "outputs": [],
   "source": []
  },
  {
   "cell_type": "code",
   "execution_count": null,
   "metadata": {},
   "outputs": [],
   "source": []
  },
  {
   "cell_type": "code",
   "execution_count": null,
   "metadata": {},
   "outputs": [],
   "source": []
  }
 ],
 "metadata": {
  "kernelspec": {
   "display_name": "Python 3",
   "language": "python",
   "name": "python3"
  },
  "language_info": {
   "codemirror_mode": {
    "name": "ipython",
    "version": 3
   },
   "file_extension": ".py",
   "mimetype": "text/x-python",
   "name": "python",
   "nbconvert_exporter": "python",
   "pygments_lexer": "ipython3",
   "version": "3.7.6"
  }
 },
 "nbformat": 4,
 "nbformat_minor": 4
}
