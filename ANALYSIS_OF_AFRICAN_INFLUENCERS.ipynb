{
 "cells": [
  {
   "cell_type": "code",
   "execution_count": 1,
   "metadata": {},
   "outputs": [
    {
     "name": "stdout",
     "output_type": "stream",
     "text": [
      "Requirement already satisfied: plotly in /Users/DClinton/opt/anaconda3/lib/python3.7/site-packages (4.8.2)\n",
      "Requirement already satisfied: six in /Users/DClinton/opt/anaconda3/lib/python3.7/site-packages (from plotly) (1.14.0)\n",
      "Requirement already satisfied: retrying>=1.3.3 in /Users/DClinton/opt/anaconda3/lib/python3.7/site-packages (from plotly) (1.3.3)\n",
      "Requirement already satisfied: cufflinks in /Users/DClinton/opt/anaconda3/lib/python3.7/site-packages (0.17.3)\n",
      "Requirement already satisfied: ipython>=5.3.0 in /Users/DClinton/opt/anaconda3/lib/python3.7/site-packages (from cufflinks) (7.12.0)\n",
      "Requirement already satisfied: ipywidgets>=7.0.0 in /Users/DClinton/opt/anaconda3/lib/python3.7/site-packages (from cufflinks) (7.5.1)\n",
      "Requirement already satisfied: six>=1.9.0 in /Users/DClinton/opt/anaconda3/lib/python3.7/site-packages (from cufflinks) (1.14.0)\n",
      "Requirement already satisfied: pandas>=0.19.2 in /Users/DClinton/opt/anaconda3/lib/python3.7/site-packages (from cufflinks) (1.0.1)\n",
      "Requirement already satisfied: colorlover>=0.2.1 in /Users/DClinton/opt/anaconda3/lib/python3.7/site-packages (from cufflinks) (0.3.0)\n",
      "Requirement already satisfied: numpy>=1.9.2 in /Users/DClinton/opt/anaconda3/lib/python3.7/site-packages (from cufflinks) (1.18.1)\n",
      "Requirement already satisfied: setuptools>=34.4.1 in /Users/DClinton/opt/anaconda3/lib/python3.7/site-packages (from cufflinks) (46.0.0.post20200309)\n",
      "Requirement already satisfied: plotly>=4.1.1 in /Users/DClinton/opt/anaconda3/lib/python3.7/site-packages (from cufflinks) (4.8.2)\n",
      "Requirement already satisfied: backcall in /Users/DClinton/opt/anaconda3/lib/python3.7/site-packages (from ipython>=5.3.0->cufflinks) (0.1.0)\n",
      "Requirement already satisfied: jedi>=0.10 in /Users/DClinton/opt/anaconda3/lib/python3.7/site-packages (from ipython>=5.3.0->cufflinks) (0.14.1)\n",
      "Requirement already satisfied: pexpect; sys_platform != \"win32\" in /Users/DClinton/opt/anaconda3/lib/python3.7/site-packages (from ipython>=5.3.0->cufflinks) (4.8.0)\n",
      "Requirement already satisfied: decorator in /Users/DClinton/opt/anaconda3/lib/python3.7/site-packages (from ipython>=5.3.0->cufflinks) (4.4.1)\n",
      "Requirement already satisfied: prompt-toolkit!=3.0.0,!=3.0.1,<3.1.0,>=2.0.0 in /Users/DClinton/opt/anaconda3/lib/python3.7/site-packages (from ipython>=5.3.0->cufflinks) (3.0.3)\n",
      "Requirement already satisfied: appnope; sys_platform == \"darwin\" in /Users/DClinton/opt/anaconda3/lib/python3.7/site-packages (from ipython>=5.3.0->cufflinks) (0.1.0)\n",
      "Requirement already satisfied: pygments in /Users/DClinton/opt/anaconda3/lib/python3.7/site-packages (from ipython>=5.3.0->cufflinks) (2.5.2)\n",
      "Requirement already satisfied: traitlets>=4.2 in /Users/DClinton/opt/anaconda3/lib/python3.7/site-packages (from ipython>=5.3.0->cufflinks) (4.3.3)\n",
      "Requirement already satisfied: pickleshare in /Users/DClinton/opt/anaconda3/lib/python3.7/site-packages (from ipython>=5.3.0->cufflinks) (0.7.5)\n",
      "Requirement already satisfied: widgetsnbextension~=3.5.0 in /Users/DClinton/opt/anaconda3/lib/python3.7/site-packages (from ipywidgets>=7.0.0->cufflinks) (3.5.1)\n",
      "Requirement already satisfied: nbformat>=4.2.0 in /Users/DClinton/opt/anaconda3/lib/python3.7/site-packages (from ipywidgets>=7.0.0->cufflinks) (5.0.4)\n",
      "Requirement already satisfied: ipykernel>=4.5.1 in /Users/DClinton/opt/anaconda3/lib/python3.7/site-packages (from ipywidgets>=7.0.0->cufflinks) (5.1.4)\n",
      "Requirement already satisfied: pytz>=2017.2 in /Users/DClinton/opt/anaconda3/lib/python3.7/site-packages (from pandas>=0.19.2->cufflinks) (2019.3)\n",
      "Requirement already satisfied: python-dateutil>=2.6.1 in /Users/DClinton/opt/anaconda3/lib/python3.7/site-packages (from pandas>=0.19.2->cufflinks) (2.8.1)\n",
      "Requirement already satisfied: retrying>=1.3.3 in /Users/DClinton/opt/anaconda3/lib/python3.7/site-packages (from plotly>=4.1.1->cufflinks) (1.3.3)\n",
      "Requirement already satisfied: parso>=0.5.0 in /Users/DClinton/opt/anaconda3/lib/python3.7/site-packages (from jedi>=0.10->ipython>=5.3.0->cufflinks) (0.5.2)\n",
      "Requirement already satisfied: ptyprocess>=0.5 in /Users/DClinton/opt/anaconda3/lib/python3.7/site-packages (from pexpect; sys_platform != \"win32\"->ipython>=5.3.0->cufflinks) (0.6.0)\n",
      "Requirement already satisfied: wcwidth in /Users/DClinton/opt/anaconda3/lib/python3.7/site-packages (from prompt-toolkit!=3.0.0,!=3.0.1,<3.1.0,>=2.0.0->ipython>=5.3.0->cufflinks) (0.1.8)\n",
      "Requirement already satisfied: ipython-genutils in /Users/DClinton/opt/anaconda3/lib/python3.7/site-packages (from traitlets>=4.2->ipython>=5.3.0->cufflinks) (0.2.0)\n",
      "Requirement already satisfied: notebook>=4.4.1 in /Users/DClinton/opt/anaconda3/lib/python3.7/site-packages (from widgetsnbextension~=3.5.0->ipywidgets>=7.0.0->cufflinks) (6.0.3)\n",
      "Requirement already satisfied: jsonschema!=2.5.0,>=2.4 in /Users/DClinton/opt/anaconda3/lib/python3.7/site-packages (from nbformat>=4.2.0->ipywidgets>=7.0.0->cufflinks) (3.2.0)\n",
      "Requirement already satisfied: jupyter-core in /Users/DClinton/opt/anaconda3/lib/python3.7/site-packages (from nbformat>=4.2.0->ipywidgets>=7.0.0->cufflinks) (4.6.1)\n",
      "Requirement already satisfied: jupyter-client in /Users/DClinton/opt/anaconda3/lib/python3.7/site-packages (from ipykernel>=4.5.1->ipywidgets>=7.0.0->cufflinks) (5.3.4)\n",
      "Requirement already satisfied: tornado>=4.2 in /Users/DClinton/opt/anaconda3/lib/python3.7/site-packages (from ipykernel>=4.5.1->ipywidgets>=7.0.0->cufflinks) (6.0.3)\n",
      "Requirement already satisfied: pyzmq>=17 in /Users/DClinton/opt/anaconda3/lib/python3.7/site-packages (from notebook>=4.4.1->widgetsnbextension~=3.5.0->ipywidgets>=7.0.0->cufflinks) (18.1.1)\n",
      "Requirement already satisfied: nbconvert in /Users/DClinton/opt/anaconda3/lib/python3.7/site-packages (from notebook>=4.4.1->widgetsnbextension~=3.5.0->ipywidgets>=7.0.0->cufflinks) (5.6.1)\n",
      "Requirement already satisfied: jinja2 in /Users/DClinton/opt/anaconda3/lib/python3.7/site-packages (from notebook>=4.4.1->widgetsnbextension~=3.5.0->ipywidgets>=7.0.0->cufflinks) (2.11.1)\n",
      "Requirement already satisfied: prometheus-client in /Users/DClinton/opt/anaconda3/lib/python3.7/site-packages (from notebook>=4.4.1->widgetsnbextension~=3.5.0->ipywidgets>=7.0.0->cufflinks) (0.7.1)\n",
      "Requirement already satisfied: Send2Trash in /Users/DClinton/opt/anaconda3/lib/python3.7/site-packages (from notebook>=4.4.1->widgetsnbextension~=3.5.0->ipywidgets>=7.0.0->cufflinks) (1.5.0)\n",
      "Requirement already satisfied: terminado>=0.8.1 in /Users/DClinton/opt/anaconda3/lib/python3.7/site-packages (from notebook>=4.4.1->widgetsnbextension~=3.5.0->ipywidgets>=7.0.0->cufflinks) (0.8.3)\n",
      "Requirement already satisfied: pyrsistent>=0.14.0 in /Users/DClinton/opt/anaconda3/lib/python3.7/site-packages (from jsonschema!=2.5.0,>=2.4->nbformat>=4.2.0->ipywidgets>=7.0.0->cufflinks) (0.15.7)\n",
      "Requirement already satisfied: attrs>=17.4.0 in /Users/DClinton/opt/anaconda3/lib/python3.7/site-packages (from jsonschema!=2.5.0,>=2.4->nbformat>=4.2.0->ipywidgets>=7.0.0->cufflinks) (19.3.0)\n",
      "Requirement already satisfied: importlib-metadata; python_version < \"3.8\" in /Users/DClinton/opt/anaconda3/lib/python3.7/site-packages (from jsonschema!=2.5.0,>=2.4->nbformat>=4.2.0->ipywidgets>=7.0.0->cufflinks) (1.5.0)\n",
      "Requirement already satisfied: defusedxml in /Users/DClinton/opt/anaconda3/lib/python3.7/site-packages (from nbconvert->notebook>=4.4.1->widgetsnbextension~=3.5.0->ipywidgets>=7.0.0->cufflinks) (0.6.0)\n",
      "Requirement already satisfied: bleach in /Users/DClinton/opt/anaconda3/lib/python3.7/site-packages (from nbconvert->notebook>=4.4.1->widgetsnbextension~=3.5.0->ipywidgets>=7.0.0->cufflinks) (3.1.0)\n",
      "Requirement already satisfied: pandocfilters>=1.4.1 in /Users/DClinton/opt/anaconda3/lib/python3.7/site-packages (from nbconvert->notebook>=4.4.1->widgetsnbextension~=3.5.0->ipywidgets>=7.0.0->cufflinks) (1.4.2)\n",
      "Requirement already satisfied: testpath in /Users/DClinton/opt/anaconda3/lib/python3.7/site-packages (from nbconvert->notebook>=4.4.1->widgetsnbextension~=3.5.0->ipywidgets>=7.0.0->cufflinks) (0.4.4)\n",
      "Requirement already satisfied: mistune<2,>=0.8.1 in /Users/DClinton/opt/anaconda3/lib/python3.7/site-packages (from nbconvert->notebook>=4.4.1->widgetsnbextension~=3.5.0->ipywidgets>=7.0.0->cufflinks) (0.8.4)\n",
      "Requirement already satisfied: entrypoints>=0.2.2 in /Users/DClinton/opt/anaconda3/lib/python3.7/site-packages (from nbconvert->notebook>=4.4.1->widgetsnbextension~=3.5.0->ipywidgets>=7.0.0->cufflinks) (0.3)\n",
      "Requirement already satisfied: MarkupSafe>=0.23 in /Users/DClinton/opt/anaconda3/lib/python3.7/site-packages (from jinja2->notebook>=4.4.1->widgetsnbextension~=3.5.0->ipywidgets>=7.0.0->cufflinks) (1.1.1)\n",
      "Requirement already satisfied: zipp>=0.5 in /Users/DClinton/opt/anaconda3/lib/python3.7/site-packages (from importlib-metadata; python_version < \"3.8\"->jsonschema!=2.5.0,>=2.4->nbformat>=4.2.0->ipywidgets>=7.0.0->cufflinks) (2.2.0)\n",
      "Requirement already satisfied: webencodings in /Users/DClinton/opt/anaconda3/lib/python3.7/site-packages (from bleach->nbconvert->notebook>=4.4.1->widgetsnbextension~=3.5.0->ipywidgets>=7.0.0->cufflinks) (0.5.1)\n"
     ]
    },
    {
     "name": "stdout",
     "output_type": "stream",
     "text": [
      "Requirement already satisfied: folium in /Users/DClinton/opt/anaconda3/lib/python3.7/site-packages (0.11.0)\n",
      "Requirement already satisfied: requests in /Users/DClinton/opt/anaconda3/lib/python3.7/site-packages (from folium) (2.24.0)\n",
      "Requirement already satisfied: numpy in /Users/DClinton/opt/anaconda3/lib/python3.7/site-packages (from folium) (1.18.1)\n",
      "Requirement already satisfied: jinja2>=2.9 in /Users/DClinton/opt/anaconda3/lib/python3.7/site-packages (from folium) (2.11.1)\n",
      "Requirement already satisfied: branca>=0.3.0 in /Users/DClinton/opt/anaconda3/lib/python3.7/site-packages (from folium) (0.4.1)\n",
      "Requirement already satisfied: idna<3,>=2.5 in /Users/DClinton/opt/anaconda3/lib/python3.7/site-packages (from requests->folium) (2.8)\n",
      "Requirement already satisfied: chardet<4,>=3.0.2 in /Users/DClinton/opt/anaconda3/lib/python3.7/site-packages (from requests->folium) (3.0.4)\n",
      "Requirement already satisfied: certifi>=2017.4.17 in /Users/DClinton/opt/anaconda3/lib/python3.7/site-packages (from requests->folium) (2019.11.28)\n",
      "Requirement already satisfied: urllib3!=1.25.0,!=1.25.1,<1.26,>=1.21.1 in /Users/DClinton/opt/anaconda3/lib/python3.7/site-packages (from requests->folium) (1.25.8)\n",
      "Requirement already satisfied: MarkupSafe>=0.23 in /Users/DClinton/opt/anaconda3/lib/python3.7/site-packages (from jinja2>=2.9->folium) (1.1.1)\n"
     ]
    }
   ],
   "source": [
    "#importing libraries \n",
    "import pandas as pd\n",
    "import matplotlib.pyplot as plt\n",
    "import seaborn \n",
    "from matplotlib import style\n",
    "#style.use(\"ggplot\")\n",
    "%matplotlib inline\n",
    "!pip install plotly\n",
    "import plotly\n",
    "import plotly.express as px\n",
    "import plotly.graph_objects as go\n",
    "#to set the size of the fisures that will be created.\n",
    "plt.rcParams[\"figure.figsize\"]=20,20\n",
    "!pip install cufflinks\n",
    "import cufflinks as cf\n",
    "import plotly.offline as pyo\n",
    "from plotly.offline import init_notebook_mode,plot,iplot\n",
    "!pip install folium\n",
    "import folium"
   ]
  },
  {
   "cell_type": "code",
   "execution_count": 2,
   "metadata": {},
   "outputs": [
    {
     "data": {
      "text/html": [
       "        <script type=\"text/javascript\">\n",
       "        window.PlotlyConfig = {MathJaxConfig: 'local'};\n",
       "        if (window.MathJax) {MathJax.Hub.Config({SVG: {font: \"STIX-Web\"}});}\n",
       "        if (typeof require !== 'undefined') {\n",
       "        require.undef(\"plotly\");\n",
       "        requirejs.config({\n",
       "            paths: {\n",
       "                'plotly': ['https://cdn.plot.ly/plotly-latest.min']\n",
       "            }\n",
       "        });\n",
       "        require(['plotly'], function(Plotly) {\n",
       "            window._Plotly = Plotly;\n",
       "        });\n",
       "        }\n",
       "        </script>\n",
       "        "
      ]
     },
     "metadata": {},
     "output_type": "display_data"
    },
    {
     "data": {
      "text/html": [
       "        <script type=\"text/javascript\">\n",
       "        window.PlotlyConfig = {MathJaxConfig: 'local'};\n",
       "        if (window.MathJax) {MathJax.Hub.Config({SVG: {font: \"STIX-Web\"}});}\n",
       "        if (typeof require !== 'undefined') {\n",
       "        require.undef(\"plotly\");\n",
       "        requirejs.config({\n",
       "            paths: {\n",
       "                'plotly': ['https://cdn.plot.ly/plotly-latest.min']\n",
       "            }\n",
       "        });\n",
       "        require(['plotly'], function(Plotly) {\n",
       "            window._Plotly = Plotly;\n",
       "        });\n",
       "        }\n",
       "        </script>\n",
       "        "
      ]
     },
     "metadata": {},
     "output_type": "display_data"
    }
   ],
   "source": [
    "pyo.init_notebook_mode(connected=True)\n",
    "cf.go_offline()"
   ]
  },
  {
   "cell_type": "code",
   "execution_count": 3,
   "metadata": {},
   "outputs": [
    {
     "data": {
      "text/html": [
       "<div>\n",
       "<style scoped>\n",
       "    .dataframe tbody tr th:only-of-type {\n",
       "        vertical-align: middle;\n",
       "    }\n",
       "\n",
       "    .dataframe tbody tr th {\n",
       "        vertical-align: top;\n",
       "    }\n",
       "\n",
       "    .dataframe thead th {\n",
       "        text-align: right;\n",
       "    }\n",
       "</style>\n",
       "<table border=\"1\" class=\"dataframe\">\n",
       "  <thead>\n",
       "    <tr style=\"text-align: right;\">\n",
       "      <th></th>\n",
       "      <th>African_govt_influencers</th>\n",
       "      <th>Twitter_name</th>\n",
       "      <th>screen_name</th>\n",
       "      <th>No. of followers</th>\n",
       "      <th>Country</th>\n",
       "      <th>No. of tweets</th>\n",
       "      <th>retweet_count</th>\n",
       "      <th>favorite_count</th>\n",
       "      <th>friends_count</th>\n",
       "      <th>status_count</th>\n",
       "      <th>Account_age</th>\n",
       "      <th>Average_tweets_per day</th>\n",
       "    </tr>\n",
       "  </thead>\n",
       "  <tbody>\n",
       "    <tr>\n",
       "      <th>0</th>\n",
       "      <td>Malawi Government</td>\n",
       "      <td>@MalawiGovt</td>\n",
       "      <td>MalawiGovt</td>\n",
       "      <td>39008</td>\n",
       "      <td>Malawi</td>\n",
       "      <td>3211</td>\n",
       "      <td>38959</td>\n",
       "      <td>31410</td>\n",
       "      <td>26</td>\n",
       "      <td>4030</td>\n",
       "      <td>2440</td>\n",
       "      <td>1.65</td>\n",
       "    </tr>\n",
       "    <tr>\n",
       "      <th>1</th>\n",
       "      <td>Seychelles Ministry of Finance</td>\n",
       "      <td>@FinanceSC</td>\n",
       "      <td>FinanceSC</td>\n",
       "      <td>126</td>\n",
       "      <td>Seychelles</td>\n",
       "      <td>123</td>\n",
       "      <td>625</td>\n",
       "      <td>123</td>\n",
       "      <td>224</td>\n",
       "      <td>124</td>\n",
       "      <td>123</td>\n",
       "      <td>1.02</td>\n",
       "    </tr>\n",
       "    <tr>\n",
       "      <th>2</th>\n",
       "      <td>Hage G. Geingob</td>\n",
       "      <td>@hagegeingob</td>\n",
       "      <td>hagegeingob</td>\n",
       "      <td>191708</td>\n",
       "      <td>Namibia</td>\n",
       "      <td>1084</td>\n",
       "      <td>35130</td>\n",
       "      <td>155180</td>\n",
       "      <td>55</td>\n",
       "      <td>1085</td>\n",
       "      <td>2249</td>\n",
       "      <td>0.48</td>\n",
       "    </tr>\n",
       "    <tr>\n",
       "      <th>3</th>\n",
       "      <td>PresidencyZA</td>\n",
       "      <td>@PresidencyZA</td>\n",
       "      <td>PresidencyZA</td>\n",
       "      <td>1595331</td>\n",
       "      <td>south Africa</td>\n",
       "      <td>3209</td>\n",
       "      <td>181221</td>\n",
       "      <td>366900</td>\n",
       "      <td>14</td>\n",
       "      <td>18845</td>\n",
       "      <td>4079</td>\n",
       "      <td>4.63</td>\n",
       "    </tr>\n",
       "    <tr>\n",
       "      <th>4</th>\n",
       "      <td>Ministry of Health Zambia</td>\n",
       "      <td>@mohzambia</td>\n",
       "      <td>mohzambia</td>\n",
       "      <td>7092</td>\n",
       "      <td>Zambia</td>\n",
       "      <td>385</td>\n",
       "      <td>19130</td>\n",
       "      <td>2028</td>\n",
       "      <td>95</td>\n",
       "      <td>835</td>\n",
       "      <td>2705</td>\n",
       "      <td>0.31</td>\n",
       "    </tr>\n",
       "    <tr>\n",
       "      <th>5</th>\n",
       "      <td>President of Zimbabwe</td>\n",
       "      <td>@edmnangagwa</td>\n",
       "      <td>edmnangagwa</td>\n",
       "      <td>544351</td>\n",
       "      <td>Zimbabwe</td>\n",
       "      <td>613</td>\n",
       "      <td>171785</td>\n",
       "      <td>596256</td>\n",
       "      <td>116</td>\n",
       "      <td>628</td>\n",
       "      <td>3126</td>\n",
       "      <td>0.20</td>\n",
       "    </tr>\n",
       "    <tr>\n",
       "      <th>6</th>\n",
       "      <td>MinSantédj</td>\n",
       "      <td>@MinSantedj</td>\n",
       "      <td>MinSantedj</td>\n",
       "      <td>2914</td>\n",
       "      <td>De Djibouti</td>\n",
       "      <td>1051</td>\n",
       "      <td>43014</td>\n",
       "      <td>3692</td>\n",
       "      <td>127</td>\n",
       "      <td>1062</td>\n",
       "      <td>1077</td>\n",
       "      <td>0.99</td>\n",
       "    </tr>\n",
       "    <tr>\n",
       "      <th>7</th>\n",
       "      <td>Yemane G. Meskel</td>\n",
       "      <td>@hawelti</td>\n",
       "      <td>hawelti</td>\n",
       "      <td>65881</td>\n",
       "      <td>Eritrea</td>\n",
       "      <td>3213</td>\n",
       "      <td>144291</td>\n",
       "      <td>219628</td>\n",
       "      <td>434</td>\n",
       "      <td>4710</td>\n",
       "      <td>3137</td>\n",
       "      <td>1.50</td>\n",
       "    </tr>\n",
       "    <tr>\n",
       "      <th>8</th>\n",
       "      <td>State House Kenya</td>\n",
       "      <td>@StateHouseKenya</td>\n",
       "      <td>State House Kenya</td>\n",
       "      <td>1100680</td>\n",
       "      <td>Kenya</td>\n",
       "      <td>3197</td>\n",
       "      <td>123060</td>\n",
       "      <td>448900</td>\n",
       "      <td>214</td>\n",
       "      <td>9044</td>\n",
       "      <td>3245</td>\n",
       "      <td>2.79</td>\n",
       "    </tr>\n",
       "    <tr>\n",
       "      <th>9</th>\n",
       "      <td>Paul Kagame</td>\n",
       "      <td>@PaulKagame</td>\n",
       "      <td>PaulKagame</td>\n",
       "      <td>1978560</td>\n",
       "      <td>Rwanda</td>\n",
       "      <td>2861</td>\n",
       "      <td>413392</td>\n",
       "      <td>629437</td>\n",
       "      <td>181</td>\n",
       "      <td>2861</td>\n",
       "      <td>4093</td>\n",
       "      <td>0.70</td>\n",
       "    </tr>\n",
       "    <tr>\n",
       "      <th>10</th>\n",
       "      <td>Mohamed Farmaajo</td>\n",
       "      <td>@M_Farmaajo</td>\n",
       "      <td>M_Farmaajo</td>\n",
       "      <td>421125</td>\n",
       "      <td>Somali</td>\n",
       "      <td>597</td>\n",
       "      <td>96323</td>\n",
       "      <td>308637</td>\n",
       "      <td>2</td>\n",
       "      <td>599</td>\n",
       "      <td>1302</td>\n",
       "      <td>0.46</td>\n",
       "    </tr>\n",
       "    <tr>\n",
       "      <th>11</th>\n",
       "      <td>South Sudan Government</td>\n",
       "      <td>@SouthSudanGov</td>\n",
       "      <td>SouthSudanGov</td>\n",
       "      <td>2521</td>\n",
       "      <td>South Sudan</td>\n",
       "      <td>203</td>\n",
       "      <td>2919</td>\n",
       "      <td>2151</td>\n",
       "      <td>463</td>\n",
       "      <td>209</td>\n",
       "      <td>1149</td>\n",
       "      <td>0.18</td>\n",
       "    </tr>\n",
       "    <tr>\n",
       "      <th>12</th>\n",
       "      <td>Abdalla Hamdok</td>\n",
       "      <td>@SudanPMHamdok</td>\n",
       "      <td>SudanPMHamdok</td>\n",
       "      <td>368099</td>\n",
       "      <td>Sudan</td>\n",
       "      <td>650</td>\n",
       "      <td>238166</td>\n",
       "      <td>1099949</td>\n",
       "      <td>115</td>\n",
       "      <td>652</td>\n",
       "      <td>330</td>\n",
       "      <td>1.98</td>\n",
       "    </tr>\n",
       "    <tr>\n",
       "      <th>13</th>\n",
       "      <td>TanzaniaSpokesperson</td>\n",
       "      <td>@TZSpokesperson</td>\n",
       "      <td>TZSpokesperson</td>\n",
       "      <td>3994</td>\n",
       "      <td>Tanzania</td>\n",
       "      <td>834</td>\n",
       "      <td>26345</td>\n",
       "      <td>15164</td>\n",
       "      <td>32</td>\n",
       "      <td>836</td>\n",
       "      <td>850</td>\n",
       "      <td>0.98</td>\n",
       "    </tr>\n",
       "    <tr>\n",
       "      <th>14</th>\n",
       "      <td>Yoweri K Museveni</td>\n",
       "      <td>@KagutaMuseveni</td>\n",
       "      <td>KagutaMuseveni</td>\n",
       "      <td>1806255</td>\n",
       "      <td>Uganda</td>\n",
       "      <td>3223</td>\n",
       "      <td>323140</td>\n",
       "      <td>1652020</td>\n",
       "      <td>28</td>\n",
       "      <td>6640</td>\n",
       "      <td>3766</td>\n",
       "      <td>1.76</td>\n",
       "    </tr>\n",
       "    <tr>\n",
       "      <th>15</th>\n",
       "      <td>Angola</td>\n",
       "      <td>@angola_Mirex</td>\n",
       "      <td>angola_Mirex</td>\n",
       "      <td>3256</td>\n",
       "      <td>Angola</td>\n",
       "      <td>732</td>\n",
       "      <td>3070</td>\n",
       "      <td>7637</td>\n",
       "      <td>312</td>\n",
       "      <td>732</td>\n",
       "      <td>895</td>\n",
       "      <td>0.82</td>\n",
       "    </tr>\n",
       "    <tr>\n",
       "      <th>16</th>\n",
       "      <td>Amb. Willy Nyamitwe</td>\n",
       "      <td>@willynyamitwe</td>\n",
       "      <td>willynyamitwe</td>\n",
       "      <td>107165</td>\n",
       "      <td>Burundi</td>\n",
       "      <td>3212</td>\n",
       "      <td>161582</td>\n",
       "      <td>37345</td>\n",
       "      <td>4654</td>\n",
       "      <td>40660</td>\n",
       "      <td>3289</td>\n",
       "      <td>12.37</td>\n",
       "    </tr>\n",
       "    <tr>\n",
       "      <th>17</th>\n",
       "      <td>Chérif Mahamat Zene</td>\n",
       "      <td>@Cherif_MZ</td>\n",
       "      <td>Cherif_MZ</td>\n",
       "      <td>18233</td>\n",
       "      <td>Chadi</td>\n",
       "      <td>748</td>\n",
       "      <td>22656</td>\n",
       "      <td>40679</td>\n",
       "      <td>195</td>\n",
       "      <td>750</td>\n",
       "      <td>2412</td>\n",
       "      <td>0.31</td>\n",
       "    </tr>\n",
       "    <tr>\n",
       "      <th>18</th>\n",
       "      <td>Présidence RDC</td>\n",
       "      <td>@Presidence_RDC</td>\n",
       "      <td>Presidence_RDC</td>\n",
       "      <td>338342</td>\n",
       "      <td>DRC</td>\n",
       "      <td>1645</td>\n",
       "      <td>127147</td>\n",
       "      <td>756765</td>\n",
       "      <td>125</td>\n",
       "      <td>1648</td>\n",
       "      <td>1288</td>\n",
       "      <td>1.28</td>\n",
       "    </tr>\n",
       "    <tr>\n",
       "      <th>19</th>\n",
       "      <td>Ali Bongo Ondimba</td>\n",
       "      <td>@PresidentABO</td>\n",
       "      <td>PresidentABO</td>\n",
       "      <td>172803</td>\n",
       "      <td>Gabon</td>\n",
       "      <td>1736</td>\n",
       "      <td>76018</td>\n",
       "      <td>99125</td>\n",
       "      <td>4</td>\n",
       "      <td>1737</td>\n",
       "      <td>1987</td>\n",
       "      <td>0.87</td>\n",
       "    </tr>\n",
       "    <tr>\n",
       "      <th>20</th>\n",
       "      <td>Présidence du Bénin</td>\n",
       "      <td>@PresidenceBenin</td>\n",
       "      <td>PresidenceBenin</td>\n",
       "      <td>30000</td>\n",
       "      <td>Benin</td>\n",
       "      <td>3203</td>\n",
       "      <td>34712</td>\n",
       "      <td>36399</td>\n",
       "      <td>66</td>\n",
       "      <td>5647</td>\n",
       "      <td>2086</td>\n",
       "      <td>2.71</td>\n",
       "    </tr>\n",
       "    <tr>\n",
       "      <th>21</th>\n",
       "      <td>Roch KABORE</td>\n",
       "      <td>@rochkaborepf</td>\n",
       "      <td>rochkaborepf</td>\n",
       "      <td>255187</td>\n",
       "      <td>Burkina Faso</td>\n",
       "      <td>3220</td>\n",
       "      <td>56071</td>\n",
       "      <td>240437</td>\n",
       "      <td>151</td>\n",
       "      <td>4496</td>\n",
       "      <td>1844</td>\n",
       "      <td>2.44</td>\n",
       "    </tr>\n",
       "    <tr>\n",
       "      <th>22</th>\n",
       "      <td>Presidente Cabo Verde</td>\n",
       "      <td>@PresidenciaCV</td>\n",
       "      <td>PresidenciaCV</td>\n",
       "      <td>3266</td>\n",
       "      <td>Cape Verde</td>\n",
       "      <td>710</td>\n",
       "      <td>265</td>\n",
       "      <td>312</td>\n",
       "      <td>885</td>\n",
       "      <td>711</td>\n",
       "      <td>2987</td>\n",
       "      <td>0.24</td>\n",
       "    </tr>\n",
       "    <tr>\n",
       "      <th>23</th>\n",
       "      <td>Alassane Ouattara</td>\n",
       "      <td>@AOuattara_PRCI</td>\n",
       "      <td>AOuattara_PRCI</td>\n",
       "      <td>827673</td>\n",
       "      <td>Ivory Coast</td>\n",
       "      <td>3221</td>\n",
       "      <td>77289</td>\n",
       "      <td>392966</td>\n",
       "      <td>23</td>\n",
       "      <td>7131</td>\n",
       "      <td>3915</td>\n",
       "      <td>1.82</td>\n",
       "    </tr>\n",
       "    <tr>\n",
       "      <th>24</th>\n",
       "      <td>State House of The Gambia</td>\n",
       "      <td>@Presidency_GMB</td>\n",
       "      <td>Presidency_GMB</td>\n",
       "      <td>10644</td>\n",
       "      <td>Gambia</td>\n",
       "      <td>1437</td>\n",
       "      <td>20802</td>\n",
       "      <td>25913</td>\n",
       "      <td>27</td>\n",
       "      <td>1437</td>\n",
       "      <td>789</td>\n",
       "      <td>1.83</td>\n",
       "    </tr>\n",
       "    <tr>\n",
       "      <th>25</th>\n",
       "      <td>Nana Akufo', 'Addo</td>\n",
       "      <td>@NAkufoAddo</td>\n",
       "      <td>NAkufoAddo</td>\n",
       "      <td>1501262</td>\n",
       "      <td>Ghana</td>\n",
       "      <td>3184</td>\n",
       "      <td>701726</td>\n",
       "      <td>2072260</td>\n",
       "      <td>351</td>\n",
       "      <td>7089</td>\n",
       "      <td>3452</td>\n",
       "      <td>2.06</td>\n",
       "    </tr>\n",
       "    <tr>\n",
       "      <th>26</th>\n",
       "      <td>Pr. Alpha CONDÉ</td>\n",
       "      <td>@President_GN</td>\n",
       "      <td>president_gn</td>\n",
       "      <td>699</td>\n",
       "      <td>Guinea</td>\n",
       "      <td>21</td>\n",
       "      <td>442</td>\n",
       "      <td>604</td>\n",
       "      <td>29</td>\n",
       "      <td>21</td>\n",
       "      <td>213</td>\n",
       "      <td>0.10</td>\n",
       "    </tr>\n",
       "    <tr>\n",
       "      <th>27</th>\n",
       "      <td>Umaro Sissoco Embalo</td>\n",
       "      <td>@USEmbalo</td>\n",
       "      <td>USEmbalo</td>\n",
       "      <td>8460</td>\n",
       "      <td>Guines-Bissau</td>\n",
       "      <td>828</td>\n",
       "      <td>9296</td>\n",
       "      <td>15672</td>\n",
       "      <td>181</td>\n",
       "      <td>828</td>\n",
       "      <td>1522</td>\n",
       "      <td>0.54</td>\n",
       "    </tr>\n",
       "    <tr>\n",
       "      <th>28</th>\n",
       "      <td>Presidence Mali</td>\n",
       "      <td>@PresidenceMali</td>\n",
       "      <td>PresidenceMali</td>\n",
       "      <td>228014</td>\n",
       "      <td>Mali</td>\n",
       "      <td>3213</td>\n",
       "      <td>41682</td>\n",
       "      <td>128478</td>\n",
       "      <td>1001</td>\n",
       "      <td>11167</td>\n",
       "      <td>3202</td>\n",
       "      <td>3.49</td>\n",
       "    </tr>\n",
       "    <tr>\n",
       "      <th>29</th>\n",
       "      <td>Mohamed Cheikh El Ghazouani</td>\n",
       "      <td>@CheikhGhazouani</td>\n",
       "      <td>CheikhGhazouani</td>\n",
       "      <td>31586</td>\n",
       "      <td>Mauritania</td>\n",
       "      <td>29</td>\n",
       "      <td>8114</td>\n",
       "      <td>8114</td>\n",
       "      <td>9</td>\n",
       "      <td>30</td>\n",
       "      <td>211</td>\n",
       "      <td>0.14</td>\n",
       "    </tr>\n",
       "    <tr>\n",
       "      <th>30</th>\n",
       "      <td>Issoufou Mahamadou</td>\n",
       "      <td>@IssoufouMhm</td>\n",
       "      <td>IssoufouMhm</td>\n",
       "      <td>115650</td>\n",
       "      <td>Niger</td>\n",
       "      <td>348</td>\n",
       "      <td>22527</td>\n",
       "      <td>92278</td>\n",
       "      <td>17</td>\n",
       "      <td>349</td>\n",
       "      <td>1644</td>\n",
       "      <td>0.21</td>\n",
       "    </tr>\n",
       "    <tr>\n",
       "      <th>31</th>\n",
       "      <td>Muhammadu Buhari</td>\n",
       "      <td>@MBuhari</td>\n",
       "      <td>MBuhari</td>\n",
       "      <td>3265113</td>\n",
       "      <td>Nigeria</td>\n",
       "      <td>3216</td>\n",
       "      <td>1575924</td>\n",
       "      <td>3780305</td>\n",
       "      <td>26</td>\n",
       "      <td>4734</td>\n",
       "      <td>2035</td>\n",
       "      <td>2.33</td>\n",
       "    </tr>\n",
       "    <tr>\n",
       "      <th>32</th>\n",
       "      <td>Macky Sall</td>\n",
       "      <td>@Macky_Sall</td>\n",
       "      <td>Macky_Sall</td>\n",
       "      <td>1370436</td>\n",
       "      <td>Senegal</td>\n",
       "      <td>2794</td>\n",
       "      <td>184784</td>\n",
       "      <td>826314</td>\n",
       "      <td>171</td>\n",
       "      <td>2796</td>\n",
       "      <td>3678</td>\n",
       "      <td>0.78</td>\n",
       "    </tr>\n",
       "    <tr>\n",
       "      <th>33</th>\n",
       "      <td>President Julius Maada Bio</td>\n",
       "      <td>@PresidentBio</td>\n",
       "      <td>PresidentBio</td>\n",
       "      <td>14591</td>\n",
       "      <td>Sierra leone</td>\n",
       "      <td>83</td>\n",
       "      <td>6613</td>\n",
       "      <td>39711</td>\n",
       "      <td>0</td>\n",
       "      <td>83</td>\n",
       "      <td>831</td>\n",
       "      <td>0.10</td>\n",
       "    </tr>\n",
       "    <tr>\n",
       "      <th>34</th>\n",
       "      <td>Ministère de la Santé et de l'hygiène Publique</td>\n",
       "      <td>@MSPS_Togo</td>\n",
       "      <td>MSPS_Togo</td>\n",
       "      <td>1130</td>\n",
       "      <td>cote d ivoire</td>\n",
       "      <td>44</td>\n",
       "      <td>157</td>\n",
       "      <td>217</td>\n",
       "      <td>2</td>\n",
       "      <td>44</td>\n",
       "      <td>1614</td>\n",
       "      <td>0.03</td>\n",
       "    </tr>\n",
       "  </tbody>\n",
       "</table>\n",
       "</div>"
      ],
      "text/plain": [
       "                          African_govt_influencers      Twitter_name  \\\n",
       "0                                Malawi Government       @MalawiGovt   \n",
       "1                   Seychelles Ministry of Finance        @FinanceSC   \n",
       "2                                  Hage G. Geingob      @hagegeingob   \n",
       "3                                     PresidencyZA     @PresidencyZA   \n",
       "4                        Ministry of Health Zambia        @mohzambia   \n",
       "5                            President of Zimbabwe      @edmnangagwa   \n",
       "6                                       MinSantédj       @MinSantedj   \n",
       "7                                 Yemane G. Meskel          @hawelti   \n",
       "8                                State House Kenya  @StateHouseKenya   \n",
       "9                                      Paul Kagame       @PaulKagame   \n",
       "10                                Mohamed Farmaajo       @M_Farmaajo   \n",
       "11                          South Sudan Government    @SouthSudanGov   \n",
       "12                                  Abdalla Hamdok    @SudanPMHamdok   \n",
       "13                            TanzaniaSpokesperson   @TZSpokesperson   \n",
       "14                               Yoweri K Museveni   @KagutaMuseveni   \n",
       "15                                          Angola     @angola_Mirex   \n",
       "16                             Amb. Willy Nyamitwe    @willynyamitwe   \n",
       "17                             Chérif Mahamat Zene        @Cherif_MZ   \n",
       "18                                  Présidence RDC   @Presidence_RDC   \n",
       "19                               Ali Bongo Ondimba     @PresidentABO   \n",
       "20                             Présidence du Bénin  @PresidenceBenin   \n",
       "21                                     Roch KABORE     @rochkaborepf   \n",
       "22                           Presidente Cabo Verde    @PresidenciaCV   \n",
       "23                               Alassane Ouattara   @AOuattara_PRCI   \n",
       "24                       State House of The Gambia   @Presidency_GMB   \n",
       "25                              Nana Akufo', 'Addo       @NAkufoAddo   \n",
       "26                                 Pr. Alpha CONDÉ     @President_GN   \n",
       "27                            Umaro Sissoco Embalo         @USEmbalo   \n",
       "28                                 Presidence Mali   @PresidenceMali   \n",
       "29                     Mohamed Cheikh El Ghazouani  @CheikhGhazouani   \n",
       "30                              Issoufou Mahamadou      @IssoufouMhm   \n",
       "31                                Muhammadu Buhari          @MBuhari   \n",
       "32                                      Macky Sall       @Macky_Sall   \n",
       "33                      President Julius Maada Bio     @PresidentBio   \n",
       "34  Ministère de la Santé et de l'hygiène Publique        @MSPS_Togo   \n",
       "\n",
       "          screen_name  No. of followers        Country  No. of tweets  \\\n",
       "0          MalawiGovt             39008         Malawi           3211   \n",
       "1           FinanceSC               126     Seychelles            123   \n",
       "2         hagegeingob            191708        Namibia           1084   \n",
       "3        PresidencyZA           1595331   south Africa           3209   \n",
       "4           mohzambia              7092         Zambia            385   \n",
       "5         edmnangagwa            544351       Zimbabwe            613   \n",
       "6          MinSantedj              2914    De Djibouti           1051   \n",
       "7             hawelti             65881        Eritrea           3213   \n",
       "8   State House Kenya           1100680          Kenya           3197   \n",
       "9          PaulKagame           1978560         Rwanda           2861   \n",
       "10         M_Farmaajo            421125         Somali            597   \n",
       "11      SouthSudanGov              2521    South Sudan            203   \n",
       "12      SudanPMHamdok            368099          Sudan            650   \n",
       "13     TZSpokesperson              3994       Tanzania            834   \n",
       "14     KagutaMuseveni           1806255         Uganda           3223   \n",
       "15       angola_Mirex              3256         Angola            732   \n",
       "16      willynyamitwe            107165        Burundi           3212   \n",
       "17          Cherif_MZ             18233          Chadi            748   \n",
       "18     Presidence_RDC            338342            DRC           1645   \n",
       "19       PresidentABO            172803          Gabon           1736   \n",
       "20    PresidenceBenin             30000          Benin           3203   \n",
       "21       rochkaborepf            255187   Burkina Faso           3220   \n",
       "22      PresidenciaCV              3266     Cape Verde            710   \n",
       "23     AOuattara_PRCI            827673    Ivory Coast           3221   \n",
       "24     Presidency_GMB             10644         Gambia           1437   \n",
       "25         NAkufoAddo           1501262          Ghana           3184   \n",
       "26       president_gn               699         Guinea             21   \n",
       "27           USEmbalo              8460  Guines-Bissau            828   \n",
       "28     PresidenceMali            228014           Mali           3213   \n",
       "29    CheikhGhazouani             31586     Mauritania             29   \n",
       "30        IssoufouMhm            115650          Niger            348   \n",
       "31            MBuhari           3265113        Nigeria           3216   \n",
       "32         Macky_Sall           1370436        Senegal           2794   \n",
       "33       PresidentBio             14591   Sierra leone             83   \n",
       "34          MSPS_Togo              1130  cote d ivoire             44   \n",
       "\n",
       "    retweet_count  favorite_count  friends_count  status_count  Account_age  \\\n",
       "0           38959           31410             26          4030         2440   \n",
       "1             625             123            224           124          123   \n",
       "2           35130          155180             55          1085         2249   \n",
       "3          181221          366900             14         18845         4079   \n",
       "4           19130            2028             95           835         2705   \n",
       "5          171785          596256            116           628         3126   \n",
       "6           43014            3692            127          1062         1077   \n",
       "7          144291          219628            434          4710         3137   \n",
       "8          123060          448900            214          9044         3245   \n",
       "9          413392          629437            181          2861         4093   \n",
       "10          96323          308637              2           599         1302   \n",
       "11           2919            2151            463           209         1149   \n",
       "12         238166         1099949            115           652          330   \n",
       "13          26345           15164             32           836          850   \n",
       "14         323140         1652020             28          6640         3766   \n",
       "15           3070            7637            312           732          895   \n",
       "16         161582           37345           4654         40660         3289   \n",
       "17          22656           40679            195           750         2412   \n",
       "18         127147          756765            125          1648         1288   \n",
       "19          76018           99125              4          1737         1987   \n",
       "20          34712           36399             66          5647         2086   \n",
       "21          56071          240437            151          4496         1844   \n",
       "22            265             312            885           711         2987   \n",
       "23          77289          392966             23          7131         3915   \n",
       "24          20802           25913             27          1437          789   \n",
       "25         701726         2072260            351          7089         3452   \n",
       "26            442             604             29            21          213   \n",
       "27           9296           15672            181           828         1522   \n",
       "28          41682          128478           1001         11167         3202   \n",
       "29           8114            8114              9            30          211   \n",
       "30          22527           92278             17           349         1644   \n",
       "31        1575924         3780305             26          4734         2035   \n",
       "32         184784          826314            171          2796         3678   \n",
       "33           6613           39711              0            83          831   \n",
       "34            157             217              2            44         1614   \n",
       "\n",
       "    Average_tweets_per day  \n",
       "0                     1.65  \n",
       "1                     1.02  \n",
       "2                     0.48  \n",
       "3                     4.63  \n",
       "4                     0.31  \n",
       "5                     0.20  \n",
       "6                     0.99  \n",
       "7                     1.50  \n",
       "8                     2.79  \n",
       "9                     0.70  \n",
       "10                    0.46  \n",
       "11                    0.18  \n",
       "12                    1.98  \n",
       "13                    0.98  \n",
       "14                    1.76  \n",
       "15                    0.82  \n",
       "16                   12.37  \n",
       "17                    0.31  \n",
       "18                    1.28  \n",
       "19                    0.87  \n",
       "20                    2.71  \n",
       "21                    2.44  \n",
       "22                    0.24  \n",
       "23                    1.82  \n",
       "24                    1.83  \n",
       "25                    2.06  \n",
       "26                    0.10  \n",
       "27                    0.54  \n",
       "28                    3.49  \n",
       "29                    0.14  \n",
       "30                    0.21  \n",
       "31                    2.33  \n",
       "32                    0.78  \n",
       "33                    0.10  \n",
       "34                    0.03  "
      ]
     },
     "execution_count": 3,
     "metadata": {},
     "output_type": "execute_result"
    }
   ],
   "source": [
    "#Reading the data\n",
    "data1=pd.read_csv('govt_influencers.csv')\n",
    "data1"
   ]
  },
  {
   "cell_type": "code",
   "execution_count": 4,
   "metadata": {},
   "outputs": [],
   "source": [
    "#sorting data in descending order to get the influencers most to least in number of followers\n",
    "data2 = data1.sort_values(by=['No. of followers'],ascending=False)"
   ]
  },
  {
   "cell_type": "code",
   "execution_count": 5,
   "metadata": {},
   "outputs": [
    {
     "data": {
      "text/html": [
       "<div>\n",
       "<style scoped>\n",
       "    .dataframe tbody tr th:only-of-type {\n",
       "        vertical-align: middle;\n",
       "    }\n",
       "\n",
       "    .dataframe tbody tr th {\n",
       "        vertical-align: top;\n",
       "    }\n",
       "\n",
       "    .dataframe thead th {\n",
       "        text-align: right;\n",
       "    }\n",
       "</style>\n",
       "<table border=\"1\" class=\"dataframe\">\n",
       "  <thead>\n",
       "    <tr style=\"text-align: right;\">\n",
       "      <th></th>\n",
       "      <th>African_govt_influencers</th>\n",
       "      <th>Twitter_name</th>\n",
       "      <th>screen_name</th>\n",
       "      <th>No. of followers</th>\n",
       "      <th>Country</th>\n",
       "      <th>No. of tweets</th>\n",
       "      <th>retweet_count</th>\n",
       "      <th>favorite_count</th>\n",
       "      <th>friends_count</th>\n",
       "      <th>status_count</th>\n",
       "      <th>Account_age</th>\n",
       "      <th>Average_tweets_per day</th>\n",
       "    </tr>\n",
       "  </thead>\n",
       "  <tbody>\n",
       "    <tr>\n",
       "      <th>31</th>\n",
       "      <td>Muhammadu Buhari</td>\n",
       "      <td>@MBuhari</td>\n",
       "      <td>MBuhari</td>\n",
       "      <td>3265113</td>\n",
       "      <td>Nigeria</td>\n",
       "      <td>3216</td>\n",
       "      <td>1575924</td>\n",
       "      <td>3780305</td>\n",
       "      <td>26</td>\n",
       "      <td>4734</td>\n",
       "      <td>2035</td>\n",
       "      <td>2.33</td>\n",
       "    </tr>\n",
       "    <tr>\n",
       "      <th>9</th>\n",
       "      <td>Paul Kagame</td>\n",
       "      <td>@PaulKagame</td>\n",
       "      <td>PaulKagame</td>\n",
       "      <td>1978560</td>\n",
       "      <td>Rwanda</td>\n",
       "      <td>2861</td>\n",
       "      <td>413392</td>\n",
       "      <td>629437</td>\n",
       "      <td>181</td>\n",
       "      <td>2861</td>\n",
       "      <td>4093</td>\n",
       "      <td>0.70</td>\n",
       "    </tr>\n",
       "    <tr>\n",
       "      <th>14</th>\n",
       "      <td>Yoweri K Museveni</td>\n",
       "      <td>@KagutaMuseveni</td>\n",
       "      <td>KagutaMuseveni</td>\n",
       "      <td>1806255</td>\n",
       "      <td>Uganda</td>\n",
       "      <td>3223</td>\n",
       "      <td>323140</td>\n",
       "      <td>1652020</td>\n",
       "      <td>28</td>\n",
       "      <td>6640</td>\n",
       "      <td>3766</td>\n",
       "      <td>1.76</td>\n",
       "    </tr>\n",
       "    <tr>\n",
       "      <th>3</th>\n",
       "      <td>PresidencyZA</td>\n",
       "      <td>@PresidencyZA</td>\n",
       "      <td>PresidencyZA</td>\n",
       "      <td>1595331</td>\n",
       "      <td>south Africa</td>\n",
       "      <td>3209</td>\n",
       "      <td>181221</td>\n",
       "      <td>366900</td>\n",
       "      <td>14</td>\n",
       "      <td>18845</td>\n",
       "      <td>4079</td>\n",
       "      <td>4.63</td>\n",
       "    </tr>\n",
       "    <tr>\n",
       "      <th>25</th>\n",
       "      <td>Nana Akufo', 'Addo</td>\n",
       "      <td>@NAkufoAddo</td>\n",
       "      <td>NAkufoAddo</td>\n",
       "      <td>1501262</td>\n",
       "      <td>Ghana</td>\n",
       "      <td>3184</td>\n",
       "      <td>701726</td>\n",
       "      <td>2072260</td>\n",
       "      <td>351</td>\n",
       "      <td>7089</td>\n",
       "      <td>3452</td>\n",
       "      <td>2.06</td>\n",
       "    </tr>\n",
       "    <tr>\n",
       "      <th>32</th>\n",
       "      <td>Macky Sall</td>\n",
       "      <td>@Macky_Sall</td>\n",
       "      <td>Macky_Sall</td>\n",
       "      <td>1370436</td>\n",
       "      <td>Senegal</td>\n",
       "      <td>2794</td>\n",
       "      <td>184784</td>\n",
       "      <td>826314</td>\n",
       "      <td>171</td>\n",
       "      <td>2796</td>\n",
       "      <td>3678</td>\n",
       "      <td>0.78</td>\n",
       "    </tr>\n",
       "    <tr>\n",
       "      <th>8</th>\n",
       "      <td>State House Kenya</td>\n",
       "      <td>@StateHouseKenya</td>\n",
       "      <td>State House Kenya</td>\n",
       "      <td>1100680</td>\n",
       "      <td>Kenya</td>\n",
       "      <td>3197</td>\n",
       "      <td>123060</td>\n",
       "      <td>448900</td>\n",
       "      <td>214</td>\n",
       "      <td>9044</td>\n",
       "      <td>3245</td>\n",
       "      <td>2.79</td>\n",
       "    </tr>\n",
       "    <tr>\n",
       "      <th>23</th>\n",
       "      <td>Alassane Ouattara</td>\n",
       "      <td>@AOuattara_PRCI</td>\n",
       "      <td>AOuattara_PRCI</td>\n",
       "      <td>827673</td>\n",
       "      <td>Ivory Coast</td>\n",
       "      <td>3221</td>\n",
       "      <td>77289</td>\n",
       "      <td>392966</td>\n",
       "      <td>23</td>\n",
       "      <td>7131</td>\n",
       "      <td>3915</td>\n",
       "      <td>1.82</td>\n",
       "    </tr>\n",
       "    <tr>\n",
       "      <th>5</th>\n",
       "      <td>President of Zimbabwe</td>\n",
       "      <td>@edmnangagwa</td>\n",
       "      <td>edmnangagwa</td>\n",
       "      <td>544351</td>\n",
       "      <td>Zimbabwe</td>\n",
       "      <td>613</td>\n",
       "      <td>171785</td>\n",
       "      <td>596256</td>\n",
       "      <td>116</td>\n",
       "      <td>628</td>\n",
       "      <td>3126</td>\n",
       "      <td>0.20</td>\n",
       "    </tr>\n",
       "    <tr>\n",
       "      <th>10</th>\n",
       "      <td>Mohamed Farmaajo</td>\n",
       "      <td>@M_Farmaajo</td>\n",
       "      <td>M_Farmaajo</td>\n",
       "      <td>421125</td>\n",
       "      <td>Somali</td>\n",
       "      <td>597</td>\n",
       "      <td>96323</td>\n",
       "      <td>308637</td>\n",
       "      <td>2</td>\n",
       "      <td>599</td>\n",
       "      <td>1302</td>\n",
       "      <td>0.46</td>\n",
       "    </tr>\n",
       "    <tr>\n",
       "      <th>12</th>\n",
       "      <td>Abdalla Hamdok</td>\n",
       "      <td>@SudanPMHamdok</td>\n",
       "      <td>SudanPMHamdok</td>\n",
       "      <td>368099</td>\n",
       "      <td>Sudan</td>\n",
       "      <td>650</td>\n",
       "      <td>238166</td>\n",
       "      <td>1099949</td>\n",
       "      <td>115</td>\n",
       "      <td>652</td>\n",
       "      <td>330</td>\n",
       "      <td>1.98</td>\n",
       "    </tr>\n",
       "    <tr>\n",
       "      <th>18</th>\n",
       "      <td>Présidence RDC</td>\n",
       "      <td>@Presidence_RDC</td>\n",
       "      <td>Presidence_RDC</td>\n",
       "      <td>338342</td>\n",
       "      <td>DRC</td>\n",
       "      <td>1645</td>\n",
       "      <td>127147</td>\n",
       "      <td>756765</td>\n",
       "      <td>125</td>\n",
       "      <td>1648</td>\n",
       "      <td>1288</td>\n",
       "      <td>1.28</td>\n",
       "    </tr>\n",
       "    <tr>\n",
       "      <th>21</th>\n",
       "      <td>Roch KABORE</td>\n",
       "      <td>@rochkaborepf</td>\n",
       "      <td>rochkaborepf</td>\n",
       "      <td>255187</td>\n",
       "      <td>Burkina Faso</td>\n",
       "      <td>3220</td>\n",
       "      <td>56071</td>\n",
       "      <td>240437</td>\n",
       "      <td>151</td>\n",
       "      <td>4496</td>\n",
       "      <td>1844</td>\n",
       "      <td>2.44</td>\n",
       "    </tr>\n",
       "    <tr>\n",
       "      <th>28</th>\n",
       "      <td>Presidence Mali</td>\n",
       "      <td>@PresidenceMali</td>\n",
       "      <td>PresidenceMali</td>\n",
       "      <td>228014</td>\n",
       "      <td>Mali</td>\n",
       "      <td>3213</td>\n",
       "      <td>41682</td>\n",
       "      <td>128478</td>\n",
       "      <td>1001</td>\n",
       "      <td>11167</td>\n",
       "      <td>3202</td>\n",
       "      <td>3.49</td>\n",
       "    </tr>\n",
       "    <tr>\n",
       "      <th>2</th>\n",
       "      <td>Hage G. Geingob</td>\n",
       "      <td>@hagegeingob</td>\n",
       "      <td>hagegeingob</td>\n",
       "      <td>191708</td>\n",
       "      <td>Namibia</td>\n",
       "      <td>1084</td>\n",
       "      <td>35130</td>\n",
       "      <td>155180</td>\n",
       "      <td>55</td>\n",
       "      <td>1085</td>\n",
       "      <td>2249</td>\n",
       "      <td>0.48</td>\n",
       "    </tr>\n",
       "    <tr>\n",
       "      <th>19</th>\n",
       "      <td>Ali Bongo Ondimba</td>\n",
       "      <td>@PresidentABO</td>\n",
       "      <td>PresidentABO</td>\n",
       "      <td>172803</td>\n",
       "      <td>Gabon</td>\n",
       "      <td>1736</td>\n",
       "      <td>76018</td>\n",
       "      <td>99125</td>\n",
       "      <td>4</td>\n",
       "      <td>1737</td>\n",
       "      <td>1987</td>\n",
       "      <td>0.87</td>\n",
       "    </tr>\n",
       "    <tr>\n",
       "      <th>30</th>\n",
       "      <td>Issoufou Mahamadou</td>\n",
       "      <td>@IssoufouMhm</td>\n",
       "      <td>IssoufouMhm</td>\n",
       "      <td>115650</td>\n",
       "      <td>Niger</td>\n",
       "      <td>348</td>\n",
       "      <td>22527</td>\n",
       "      <td>92278</td>\n",
       "      <td>17</td>\n",
       "      <td>349</td>\n",
       "      <td>1644</td>\n",
       "      <td>0.21</td>\n",
       "    </tr>\n",
       "    <tr>\n",
       "      <th>16</th>\n",
       "      <td>Amb. Willy Nyamitwe</td>\n",
       "      <td>@willynyamitwe</td>\n",
       "      <td>willynyamitwe</td>\n",
       "      <td>107165</td>\n",
       "      <td>Burundi</td>\n",
       "      <td>3212</td>\n",
       "      <td>161582</td>\n",
       "      <td>37345</td>\n",
       "      <td>4654</td>\n",
       "      <td>40660</td>\n",
       "      <td>3289</td>\n",
       "      <td>12.37</td>\n",
       "    </tr>\n",
       "    <tr>\n",
       "      <th>7</th>\n",
       "      <td>Yemane G. Meskel</td>\n",
       "      <td>@hawelti</td>\n",
       "      <td>hawelti</td>\n",
       "      <td>65881</td>\n",
       "      <td>Eritrea</td>\n",
       "      <td>3213</td>\n",
       "      <td>144291</td>\n",
       "      <td>219628</td>\n",
       "      <td>434</td>\n",
       "      <td>4710</td>\n",
       "      <td>3137</td>\n",
       "      <td>1.50</td>\n",
       "    </tr>\n",
       "    <tr>\n",
       "      <th>0</th>\n",
       "      <td>Malawi Government</td>\n",
       "      <td>@MalawiGovt</td>\n",
       "      <td>MalawiGovt</td>\n",
       "      <td>39008</td>\n",
       "      <td>Malawi</td>\n",
       "      <td>3211</td>\n",
       "      <td>38959</td>\n",
       "      <td>31410</td>\n",
       "      <td>26</td>\n",
       "      <td>4030</td>\n",
       "      <td>2440</td>\n",
       "      <td>1.65</td>\n",
       "    </tr>\n",
       "    <tr>\n",
       "      <th>29</th>\n",
       "      <td>Mohamed Cheikh El Ghazouani</td>\n",
       "      <td>@CheikhGhazouani</td>\n",
       "      <td>CheikhGhazouani</td>\n",
       "      <td>31586</td>\n",
       "      <td>Mauritania</td>\n",
       "      <td>29</td>\n",
       "      <td>8114</td>\n",
       "      <td>8114</td>\n",
       "      <td>9</td>\n",
       "      <td>30</td>\n",
       "      <td>211</td>\n",
       "      <td>0.14</td>\n",
       "    </tr>\n",
       "    <tr>\n",
       "      <th>20</th>\n",
       "      <td>Présidence du Bénin</td>\n",
       "      <td>@PresidenceBenin</td>\n",
       "      <td>PresidenceBenin</td>\n",
       "      <td>30000</td>\n",
       "      <td>Benin</td>\n",
       "      <td>3203</td>\n",
       "      <td>34712</td>\n",
       "      <td>36399</td>\n",
       "      <td>66</td>\n",
       "      <td>5647</td>\n",
       "      <td>2086</td>\n",
       "      <td>2.71</td>\n",
       "    </tr>\n",
       "    <tr>\n",
       "      <th>17</th>\n",
       "      <td>Chérif Mahamat Zene</td>\n",
       "      <td>@Cherif_MZ</td>\n",
       "      <td>Cherif_MZ</td>\n",
       "      <td>18233</td>\n",
       "      <td>Chadi</td>\n",
       "      <td>748</td>\n",
       "      <td>22656</td>\n",
       "      <td>40679</td>\n",
       "      <td>195</td>\n",
       "      <td>750</td>\n",
       "      <td>2412</td>\n",
       "      <td>0.31</td>\n",
       "    </tr>\n",
       "    <tr>\n",
       "      <th>33</th>\n",
       "      <td>President Julius Maada Bio</td>\n",
       "      <td>@PresidentBio</td>\n",
       "      <td>PresidentBio</td>\n",
       "      <td>14591</td>\n",
       "      <td>Sierra leone</td>\n",
       "      <td>83</td>\n",
       "      <td>6613</td>\n",
       "      <td>39711</td>\n",
       "      <td>0</td>\n",
       "      <td>83</td>\n",
       "      <td>831</td>\n",
       "      <td>0.10</td>\n",
       "    </tr>\n",
       "    <tr>\n",
       "      <th>24</th>\n",
       "      <td>State House of The Gambia</td>\n",
       "      <td>@Presidency_GMB</td>\n",
       "      <td>Presidency_GMB</td>\n",
       "      <td>10644</td>\n",
       "      <td>Gambia</td>\n",
       "      <td>1437</td>\n",
       "      <td>20802</td>\n",
       "      <td>25913</td>\n",
       "      <td>27</td>\n",
       "      <td>1437</td>\n",
       "      <td>789</td>\n",
       "      <td>1.83</td>\n",
       "    </tr>\n",
       "    <tr>\n",
       "      <th>27</th>\n",
       "      <td>Umaro Sissoco Embalo</td>\n",
       "      <td>@USEmbalo</td>\n",
       "      <td>USEmbalo</td>\n",
       "      <td>8460</td>\n",
       "      <td>Guines-Bissau</td>\n",
       "      <td>828</td>\n",
       "      <td>9296</td>\n",
       "      <td>15672</td>\n",
       "      <td>181</td>\n",
       "      <td>828</td>\n",
       "      <td>1522</td>\n",
       "      <td>0.54</td>\n",
       "    </tr>\n",
       "    <tr>\n",
       "      <th>4</th>\n",
       "      <td>Ministry of Health Zambia</td>\n",
       "      <td>@mohzambia</td>\n",
       "      <td>mohzambia</td>\n",
       "      <td>7092</td>\n",
       "      <td>Zambia</td>\n",
       "      <td>385</td>\n",
       "      <td>19130</td>\n",
       "      <td>2028</td>\n",
       "      <td>95</td>\n",
       "      <td>835</td>\n",
       "      <td>2705</td>\n",
       "      <td>0.31</td>\n",
       "    </tr>\n",
       "    <tr>\n",
       "      <th>13</th>\n",
       "      <td>TanzaniaSpokesperson</td>\n",
       "      <td>@TZSpokesperson</td>\n",
       "      <td>TZSpokesperson</td>\n",
       "      <td>3994</td>\n",
       "      <td>Tanzania</td>\n",
       "      <td>834</td>\n",
       "      <td>26345</td>\n",
       "      <td>15164</td>\n",
       "      <td>32</td>\n",
       "      <td>836</td>\n",
       "      <td>850</td>\n",
       "      <td>0.98</td>\n",
       "    </tr>\n",
       "    <tr>\n",
       "      <th>22</th>\n",
       "      <td>Presidente Cabo Verde</td>\n",
       "      <td>@PresidenciaCV</td>\n",
       "      <td>PresidenciaCV</td>\n",
       "      <td>3266</td>\n",
       "      <td>Cape Verde</td>\n",
       "      <td>710</td>\n",
       "      <td>265</td>\n",
       "      <td>312</td>\n",
       "      <td>885</td>\n",
       "      <td>711</td>\n",
       "      <td>2987</td>\n",
       "      <td>0.24</td>\n",
       "    </tr>\n",
       "    <tr>\n",
       "      <th>15</th>\n",
       "      <td>Angola</td>\n",
       "      <td>@angola_Mirex</td>\n",
       "      <td>angola_Mirex</td>\n",
       "      <td>3256</td>\n",
       "      <td>Angola</td>\n",
       "      <td>732</td>\n",
       "      <td>3070</td>\n",
       "      <td>7637</td>\n",
       "      <td>312</td>\n",
       "      <td>732</td>\n",
       "      <td>895</td>\n",
       "      <td>0.82</td>\n",
       "    </tr>\n",
       "    <tr>\n",
       "      <th>6</th>\n",
       "      <td>MinSantédj</td>\n",
       "      <td>@MinSantedj</td>\n",
       "      <td>MinSantedj</td>\n",
       "      <td>2914</td>\n",
       "      <td>De Djibouti</td>\n",
       "      <td>1051</td>\n",
       "      <td>43014</td>\n",
       "      <td>3692</td>\n",
       "      <td>127</td>\n",
       "      <td>1062</td>\n",
       "      <td>1077</td>\n",
       "      <td>0.99</td>\n",
       "    </tr>\n",
       "    <tr>\n",
       "      <th>11</th>\n",
       "      <td>South Sudan Government</td>\n",
       "      <td>@SouthSudanGov</td>\n",
       "      <td>SouthSudanGov</td>\n",
       "      <td>2521</td>\n",
       "      <td>South Sudan</td>\n",
       "      <td>203</td>\n",
       "      <td>2919</td>\n",
       "      <td>2151</td>\n",
       "      <td>463</td>\n",
       "      <td>209</td>\n",
       "      <td>1149</td>\n",
       "      <td>0.18</td>\n",
       "    </tr>\n",
       "    <tr>\n",
       "      <th>34</th>\n",
       "      <td>Ministère de la Santé et de l'hygiène Publique</td>\n",
       "      <td>@MSPS_Togo</td>\n",
       "      <td>MSPS_Togo</td>\n",
       "      <td>1130</td>\n",
       "      <td>cote d ivoire</td>\n",
       "      <td>44</td>\n",
       "      <td>157</td>\n",
       "      <td>217</td>\n",
       "      <td>2</td>\n",
       "      <td>44</td>\n",
       "      <td>1614</td>\n",
       "      <td>0.03</td>\n",
       "    </tr>\n",
       "    <tr>\n",
       "      <th>26</th>\n",
       "      <td>Pr. Alpha CONDÉ</td>\n",
       "      <td>@President_GN</td>\n",
       "      <td>president_gn</td>\n",
       "      <td>699</td>\n",
       "      <td>Guinea</td>\n",
       "      <td>21</td>\n",
       "      <td>442</td>\n",
       "      <td>604</td>\n",
       "      <td>29</td>\n",
       "      <td>21</td>\n",
       "      <td>213</td>\n",
       "      <td>0.10</td>\n",
       "    </tr>\n",
       "    <tr>\n",
       "      <th>1</th>\n",
       "      <td>Seychelles Ministry of Finance</td>\n",
       "      <td>@FinanceSC</td>\n",
       "      <td>FinanceSC</td>\n",
       "      <td>126</td>\n",
       "      <td>Seychelles</td>\n",
       "      <td>123</td>\n",
       "      <td>625</td>\n",
       "      <td>123</td>\n",
       "      <td>224</td>\n",
       "      <td>124</td>\n",
       "      <td>123</td>\n",
       "      <td>1.02</td>\n",
       "    </tr>\n",
       "  </tbody>\n",
       "</table>\n",
       "</div>"
      ],
      "text/plain": [
       "                          African_govt_influencers      Twitter_name  \\\n",
       "31                                Muhammadu Buhari          @MBuhari   \n",
       "9                                      Paul Kagame       @PaulKagame   \n",
       "14                               Yoweri K Museveni   @KagutaMuseveni   \n",
       "3                                     PresidencyZA     @PresidencyZA   \n",
       "25                              Nana Akufo', 'Addo       @NAkufoAddo   \n",
       "32                                      Macky Sall       @Macky_Sall   \n",
       "8                                State House Kenya  @StateHouseKenya   \n",
       "23                               Alassane Ouattara   @AOuattara_PRCI   \n",
       "5                            President of Zimbabwe      @edmnangagwa   \n",
       "10                                Mohamed Farmaajo       @M_Farmaajo   \n",
       "12                                  Abdalla Hamdok    @SudanPMHamdok   \n",
       "18                                  Présidence RDC   @Presidence_RDC   \n",
       "21                                     Roch KABORE     @rochkaborepf   \n",
       "28                                 Presidence Mali   @PresidenceMali   \n",
       "2                                  Hage G. Geingob      @hagegeingob   \n",
       "19                               Ali Bongo Ondimba     @PresidentABO   \n",
       "30                              Issoufou Mahamadou      @IssoufouMhm   \n",
       "16                             Amb. Willy Nyamitwe    @willynyamitwe   \n",
       "7                                 Yemane G. Meskel          @hawelti   \n",
       "0                                Malawi Government       @MalawiGovt   \n",
       "29                     Mohamed Cheikh El Ghazouani  @CheikhGhazouani   \n",
       "20                             Présidence du Bénin  @PresidenceBenin   \n",
       "17                             Chérif Mahamat Zene        @Cherif_MZ   \n",
       "33                      President Julius Maada Bio     @PresidentBio   \n",
       "24                       State House of The Gambia   @Presidency_GMB   \n",
       "27                            Umaro Sissoco Embalo         @USEmbalo   \n",
       "4                        Ministry of Health Zambia        @mohzambia   \n",
       "13                            TanzaniaSpokesperson   @TZSpokesperson   \n",
       "22                           Presidente Cabo Verde    @PresidenciaCV   \n",
       "15                                          Angola     @angola_Mirex   \n",
       "6                                       MinSantédj       @MinSantedj   \n",
       "11                          South Sudan Government    @SouthSudanGov   \n",
       "34  Ministère de la Santé et de l'hygiène Publique        @MSPS_Togo   \n",
       "26                                 Pr. Alpha CONDÉ     @President_GN   \n",
       "1                   Seychelles Ministry of Finance        @FinanceSC   \n",
       "\n",
       "          screen_name  No. of followers        Country  No. of tweets  \\\n",
       "31            MBuhari           3265113        Nigeria           3216   \n",
       "9          PaulKagame           1978560         Rwanda           2861   \n",
       "14     KagutaMuseveni           1806255         Uganda           3223   \n",
       "3        PresidencyZA           1595331   south Africa           3209   \n",
       "25         NAkufoAddo           1501262          Ghana           3184   \n",
       "32         Macky_Sall           1370436        Senegal           2794   \n",
       "8   State House Kenya           1100680          Kenya           3197   \n",
       "23     AOuattara_PRCI            827673    Ivory Coast           3221   \n",
       "5         edmnangagwa            544351       Zimbabwe            613   \n",
       "10         M_Farmaajo            421125         Somali            597   \n",
       "12      SudanPMHamdok            368099          Sudan            650   \n",
       "18     Presidence_RDC            338342            DRC           1645   \n",
       "21       rochkaborepf            255187   Burkina Faso           3220   \n",
       "28     PresidenceMali            228014           Mali           3213   \n",
       "2         hagegeingob            191708        Namibia           1084   \n",
       "19       PresidentABO            172803          Gabon           1736   \n",
       "30        IssoufouMhm            115650          Niger            348   \n",
       "16      willynyamitwe            107165        Burundi           3212   \n",
       "7             hawelti             65881        Eritrea           3213   \n",
       "0          MalawiGovt             39008         Malawi           3211   \n",
       "29    CheikhGhazouani             31586     Mauritania             29   \n",
       "20    PresidenceBenin             30000          Benin           3203   \n",
       "17          Cherif_MZ             18233          Chadi            748   \n",
       "33       PresidentBio             14591   Sierra leone             83   \n",
       "24     Presidency_GMB             10644         Gambia           1437   \n",
       "27           USEmbalo              8460  Guines-Bissau            828   \n",
       "4           mohzambia              7092         Zambia            385   \n",
       "13     TZSpokesperson              3994       Tanzania            834   \n",
       "22      PresidenciaCV              3266     Cape Verde            710   \n",
       "15       angola_Mirex              3256         Angola            732   \n",
       "6          MinSantedj              2914    De Djibouti           1051   \n",
       "11      SouthSudanGov              2521    South Sudan            203   \n",
       "34          MSPS_Togo              1130  cote d ivoire             44   \n",
       "26       president_gn               699         Guinea             21   \n",
       "1           FinanceSC               126     Seychelles            123   \n",
       "\n",
       "    retweet_count  favorite_count  friends_count  status_count  Account_age  \\\n",
       "31        1575924         3780305             26          4734         2035   \n",
       "9          413392          629437            181          2861         4093   \n",
       "14         323140         1652020             28          6640         3766   \n",
       "3          181221          366900             14         18845         4079   \n",
       "25         701726         2072260            351          7089         3452   \n",
       "32         184784          826314            171          2796         3678   \n",
       "8          123060          448900            214          9044         3245   \n",
       "23          77289          392966             23          7131         3915   \n",
       "5          171785          596256            116           628         3126   \n",
       "10          96323          308637              2           599         1302   \n",
       "12         238166         1099949            115           652          330   \n",
       "18         127147          756765            125          1648         1288   \n",
       "21          56071          240437            151          4496         1844   \n",
       "28          41682          128478           1001         11167         3202   \n",
       "2           35130          155180             55          1085         2249   \n",
       "19          76018           99125              4          1737         1987   \n",
       "30          22527           92278             17           349         1644   \n",
       "16         161582           37345           4654         40660         3289   \n",
       "7          144291          219628            434          4710         3137   \n",
       "0           38959           31410             26          4030         2440   \n",
       "29           8114            8114              9            30          211   \n",
       "20          34712           36399             66          5647         2086   \n",
       "17          22656           40679            195           750         2412   \n",
       "33           6613           39711              0            83          831   \n",
       "24          20802           25913             27          1437          789   \n",
       "27           9296           15672            181           828         1522   \n",
       "4           19130            2028             95           835         2705   \n",
       "13          26345           15164             32           836          850   \n",
       "22            265             312            885           711         2987   \n",
       "15           3070            7637            312           732          895   \n",
       "6           43014            3692            127          1062         1077   \n",
       "11           2919            2151            463           209         1149   \n",
       "34            157             217              2            44         1614   \n",
       "26            442             604             29            21          213   \n",
       "1             625             123            224           124          123   \n",
       "\n",
       "    Average_tweets_per day  \n",
       "31                    2.33  \n",
       "9                     0.70  \n",
       "14                    1.76  \n",
       "3                     4.63  \n",
       "25                    2.06  \n",
       "32                    0.78  \n",
       "8                     2.79  \n",
       "23                    1.82  \n",
       "5                     0.20  \n",
       "10                    0.46  \n",
       "12                    1.98  \n",
       "18                    1.28  \n",
       "21                    2.44  \n",
       "28                    3.49  \n",
       "2                     0.48  \n",
       "19                    0.87  \n",
       "30                    0.21  \n",
       "16                   12.37  \n",
       "7                     1.50  \n",
       "0                     1.65  \n",
       "29                    0.14  \n",
       "20                    2.71  \n",
       "17                    0.31  \n",
       "33                    0.10  \n",
       "24                    1.83  \n",
       "27                    0.54  \n",
       "4                     0.31  \n",
       "13                    0.98  \n",
       "22                    0.24  \n",
       "15                    0.82  \n",
       "6                     0.99  \n",
       "11                    0.18  \n",
       "34                    0.03  \n",
       "26                    0.10  \n",
       "1                     1.02  "
      ]
     },
     "execution_count": 5,
     "metadata": {},
     "output_type": "execute_result"
    }
   ],
   "source": [
    "data2"
   ]
  },
  {
   "cell_type": "code",
   "execution_count": 6,
   "metadata": {},
   "outputs": [],
   "source": [
    "#resetting the index after sorting\n",
    "data2 = data2.reset_index(drop=True)"
   ]
  },
  {
   "cell_type": "code",
   "execution_count": 7,
   "metadata": {
    "scrolled": true
   },
   "outputs": [
    {
     "data": {
      "text/html": [
       "<div>\n",
       "<style scoped>\n",
       "    .dataframe tbody tr th:only-of-type {\n",
       "        vertical-align: middle;\n",
       "    }\n",
       "\n",
       "    .dataframe tbody tr th {\n",
       "        vertical-align: top;\n",
       "    }\n",
       "\n",
       "    .dataframe thead th {\n",
       "        text-align: right;\n",
       "    }\n",
       "</style>\n",
       "<table border=\"1\" class=\"dataframe\">\n",
       "  <thead>\n",
       "    <tr style=\"text-align: right;\">\n",
       "      <th></th>\n",
       "      <th>African_govt_influencers</th>\n",
       "      <th>Twitter_name</th>\n",
       "      <th>screen_name</th>\n",
       "      <th>No. of followers</th>\n",
       "      <th>Country</th>\n",
       "      <th>No. of tweets</th>\n",
       "      <th>retweet_count</th>\n",
       "      <th>favorite_count</th>\n",
       "      <th>friends_count</th>\n",
       "      <th>status_count</th>\n",
       "      <th>Account_age</th>\n",
       "      <th>Average_tweets_per day</th>\n",
       "    </tr>\n",
       "  </thead>\n",
       "  <tbody>\n",
       "    <tr>\n",
       "      <th>0</th>\n",
       "      <td>Muhammadu Buhari</td>\n",
       "      <td>@MBuhari</td>\n",
       "      <td>MBuhari</td>\n",
       "      <td>3265113</td>\n",
       "      <td>Nigeria</td>\n",
       "      <td>3216</td>\n",
       "      <td>1575924</td>\n",
       "      <td>3780305</td>\n",
       "      <td>26</td>\n",
       "      <td>4734</td>\n",
       "      <td>2035</td>\n",
       "      <td>2.33</td>\n",
       "    </tr>\n",
       "    <tr>\n",
       "      <th>1</th>\n",
       "      <td>Paul Kagame</td>\n",
       "      <td>@PaulKagame</td>\n",
       "      <td>PaulKagame</td>\n",
       "      <td>1978560</td>\n",
       "      <td>Rwanda</td>\n",
       "      <td>2861</td>\n",
       "      <td>413392</td>\n",
       "      <td>629437</td>\n",
       "      <td>181</td>\n",
       "      <td>2861</td>\n",
       "      <td>4093</td>\n",
       "      <td>0.70</td>\n",
       "    </tr>\n",
       "    <tr>\n",
       "      <th>2</th>\n",
       "      <td>Yoweri K Museveni</td>\n",
       "      <td>@KagutaMuseveni</td>\n",
       "      <td>KagutaMuseveni</td>\n",
       "      <td>1806255</td>\n",
       "      <td>Uganda</td>\n",
       "      <td>3223</td>\n",
       "      <td>323140</td>\n",
       "      <td>1652020</td>\n",
       "      <td>28</td>\n",
       "      <td>6640</td>\n",
       "      <td>3766</td>\n",
       "      <td>1.76</td>\n",
       "    </tr>\n",
       "    <tr>\n",
       "      <th>3</th>\n",
       "      <td>PresidencyZA</td>\n",
       "      <td>@PresidencyZA</td>\n",
       "      <td>PresidencyZA</td>\n",
       "      <td>1595331</td>\n",
       "      <td>south Africa</td>\n",
       "      <td>3209</td>\n",
       "      <td>181221</td>\n",
       "      <td>366900</td>\n",
       "      <td>14</td>\n",
       "      <td>18845</td>\n",
       "      <td>4079</td>\n",
       "      <td>4.63</td>\n",
       "    </tr>\n",
       "    <tr>\n",
       "      <th>4</th>\n",
       "      <td>Nana Akufo', 'Addo</td>\n",
       "      <td>@NAkufoAddo</td>\n",
       "      <td>NAkufoAddo</td>\n",
       "      <td>1501262</td>\n",
       "      <td>Ghana</td>\n",
       "      <td>3184</td>\n",
       "      <td>701726</td>\n",
       "      <td>2072260</td>\n",
       "      <td>351</td>\n",
       "      <td>7089</td>\n",
       "      <td>3452</td>\n",
       "      <td>2.06</td>\n",
       "    </tr>\n",
       "    <tr>\n",
       "      <th>5</th>\n",
       "      <td>Macky Sall</td>\n",
       "      <td>@Macky_Sall</td>\n",
       "      <td>Macky_Sall</td>\n",
       "      <td>1370436</td>\n",
       "      <td>Senegal</td>\n",
       "      <td>2794</td>\n",
       "      <td>184784</td>\n",
       "      <td>826314</td>\n",
       "      <td>171</td>\n",
       "      <td>2796</td>\n",
       "      <td>3678</td>\n",
       "      <td>0.78</td>\n",
       "    </tr>\n",
       "    <tr>\n",
       "      <th>6</th>\n",
       "      <td>State House Kenya</td>\n",
       "      <td>@StateHouseKenya</td>\n",
       "      <td>State House Kenya</td>\n",
       "      <td>1100680</td>\n",
       "      <td>Kenya</td>\n",
       "      <td>3197</td>\n",
       "      <td>123060</td>\n",
       "      <td>448900</td>\n",
       "      <td>214</td>\n",
       "      <td>9044</td>\n",
       "      <td>3245</td>\n",
       "      <td>2.79</td>\n",
       "    </tr>\n",
       "    <tr>\n",
       "      <th>7</th>\n",
       "      <td>Alassane Ouattara</td>\n",
       "      <td>@AOuattara_PRCI</td>\n",
       "      <td>AOuattara_PRCI</td>\n",
       "      <td>827673</td>\n",
       "      <td>Ivory Coast</td>\n",
       "      <td>3221</td>\n",
       "      <td>77289</td>\n",
       "      <td>392966</td>\n",
       "      <td>23</td>\n",
       "      <td>7131</td>\n",
       "      <td>3915</td>\n",
       "      <td>1.82</td>\n",
       "    </tr>\n",
       "    <tr>\n",
       "      <th>8</th>\n",
       "      <td>President of Zimbabwe</td>\n",
       "      <td>@edmnangagwa</td>\n",
       "      <td>edmnangagwa</td>\n",
       "      <td>544351</td>\n",
       "      <td>Zimbabwe</td>\n",
       "      <td>613</td>\n",
       "      <td>171785</td>\n",
       "      <td>596256</td>\n",
       "      <td>116</td>\n",
       "      <td>628</td>\n",
       "      <td>3126</td>\n",
       "      <td>0.20</td>\n",
       "    </tr>\n",
       "    <tr>\n",
       "      <th>9</th>\n",
       "      <td>Mohamed Farmaajo</td>\n",
       "      <td>@M_Farmaajo</td>\n",
       "      <td>M_Farmaajo</td>\n",
       "      <td>421125</td>\n",
       "      <td>Somali</td>\n",
       "      <td>597</td>\n",
       "      <td>96323</td>\n",
       "      <td>308637</td>\n",
       "      <td>2</td>\n",
       "      <td>599</td>\n",
       "      <td>1302</td>\n",
       "      <td>0.46</td>\n",
       "    </tr>\n",
       "    <tr>\n",
       "      <th>10</th>\n",
       "      <td>Abdalla Hamdok</td>\n",
       "      <td>@SudanPMHamdok</td>\n",
       "      <td>SudanPMHamdok</td>\n",
       "      <td>368099</td>\n",
       "      <td>Sudan</td>\n",
       "      <td>650</td>\n",
       "      <td>238166</td>\n",
       "      <td>1099949</td>\n",
       "      <td>115</td>\n",
       "      <td>652</td>\n",
       "      <td>330</td>\n",
       "      <td>1.98</td>\n",
       "    </tr>\n",
       "    <tr>\n",
       "      <th>11</th>\n",
       "      <td>Présidence RDC</td>\n",
       "      <td>@Presidence_RDC</td>\n",
       "      <td>Presidence_RDC</td>\n",
       "      <td>338342</td>\n",
       "      <td>DRC</td>\n",
       "      <td>1645</td>\n",
       "      <td>127147</td>\n",
       "      <td>756765</td>\n",
       "      <td>125</td>\n",
       "      <td>1648</td>\n",
       "      <td>1288</td>\n",
       "      <td>1.28</td>\n",
       "    </tr>\n",
       "    <tr>\n",
       "      <th>12</th>\n",
       "      <td>Roch KABORE</td>\n",
       "      <td>@rochkaborepf</td>\n",
       "      <td>rochkaborepf</td>\n",
       "      <td>255187</td>\n",
       "      <td>Burkina Faso</td>\n",
       "      <td>3220</td>\n",
       "      <td>56071</td>\n",
       "      <td>240437</td>\n",
       "      <td>151</td>\n",
       "      <td>4496</td>\n",
       "      <td>1844</td>\n",
       "      <td>2.44</td>\n",
       "    </tr>\n",
       "    <tr>\n",
       "      <th>13</th>\n",
       "      <td>Presidence Mali</td>\n",
       "      <td>@PresidenceMali</td>\n",
       "      <td>PresidenceMali</td>\n",
       "      <td>228014</td>\n",
       "      <td>Mali</td>\n",
       "      <td>3213</td>\n",
       "      <td>41682</td>\n",
       "      <td>128478</td>\n",
       "      <td>1001</td>\n",
       "      <td>11167</td>\n",
       "      <td>3202</td>\n",
       "      <td>3.49</td>\n",
       "    </tr>\n",
       "    <tr>\n",
       "      <th>14</th>\n",
       "      <td>Hage G. Geingob</td>\n",
       "      <td>@hagegeingob</td>\n",
       "      <td>hagegeingob</td>\n",
       "      <td>191708</td>\n",
       "      <td>Namibia</td>\n",
       "      <td>1084</td>\n",
       "      <td>35130</td>\n",
       "      <td>155180</td>\n",
       "      <td>55</td>\n",
       "      <td>1085</td>\n",
       "      <td>2249</td>\n",
       "      <td>0.48</td>\n",
       "    </tr>\n",
       "    <tr>\n",
       "      <th>15</th>\n",
       "      <td>Ali Bongo Ondimba</td>\n",
       "      <td>@PresidentABO</td>\n",
       "      <td>PresidentABO</td>\n",
       "      <td>172803</td>\n",
       "      <td>Gabon</td>\n",
       "      <td>1736</td>\n",
       "      <td>76018</td>\n",
       "      <td>99125</td>\n",
       "      <td>4</td>\n",
       "      <td>1737</td>\n",
       "      <td>1987</td>\n",
       "      <td>0.87</td>\n",
       "    </tr>\n",
       "    <tr>\n",
       "      <th>16</th>\n",
       "      <td>Issoufou Mahamadou</td>\n",
       "      <td>@IssoufouMhm</td>\n",
       "      <td>IssoufouMhm</td>\n",
       "      <td>115650</td>\n",
       "      <td>Niger</td>\n",
       "      <td>348</td>\n",
       "      <td>22527</td>\n",
       "      <td>92278</td>\n",
       "      <td>17</td>\n",
       "      <td>349</td>\n",
       "      <td>1644</td>\n",
       "      <td>0.21</td>\n",
       "    </tr>\n",
       "    <tr>\n",
       "      <th>17</th>\n",
       "      <td>Amb. Willy Nyamitwe</td>\n",
       "      <td>@willynyamitwe</td>\n",
       "      <td>willynyamitwe</td>\n",
       "      <td>107165</td>\n",
       "      <td>Burundi</td>\n",
       "      <td>3212</td>\n",
       "      <td>161582</td>\n",
       "      <td>37345</td>\n",
       "      <td>4654</td>\n",
       "      <td>40660</td>\n",
       "      <td>3289</td>\n",
       "      <td>12.37</td>\n",
       "    </tr>\n",
       "    <tr>\n",
       "      <th>18</th>\n",
       "      <td>Yemane G. Meskel</td>\n",
       "      <td>@hawelti</td>\n",
       "      <td>hawelti</td>\n",
       "      <td>65881</td>\n",
       "      <td>Eritrea</td>\n",
       "      <td>3213</td>\n",
       "      <td>144291</td>\n",
       "      <td>219628</td>\n",
       "      <td>434</td>\n",
       "      <td>4710</td>\n",
       "      <td>3137</td>\n",
       "      <td>1.50</td>\n",
       "    </tr>\n",
       "    <tr>\n",
       "      <th>19</th>\n",
       "      <td>Malawi Government</td>\n",
       "      <td>@MalawiGovt</td>\n",
       "      <td>MalawiGovt</td>\n",
       "      <td>39008</td>\n",
       "      <td>Malawi</td>\n",
       "      <td>3211</td>\n",
       "      <td>38959</td>\n",
       "      <td>31410</td>\n",
       "      <td>26</td>\n",
       "      <td>4030</td>\n",
       "      <td>2440</td>\n",
       "      <td>1.65</td>\n",
       "    </tr>\n",
       "    <tr>\n",
       "      <th>20</th>\n",
       "      <td>Mohamed Cheikh El Ghazouani</td>\n",
       "      <td>@CheikhGhazouani</td>\n",
       "      <td>CheikhGhazouani</td>\n",
       "      <td>31586</td>\n",
       "      <td>Mauritania</td>\n",
       "      <td>29</td>\n",
       "      <td>8114</td>\n",
       "      <td>8114</td>\n",
       "      <td>9</td>\n",
       "      <td>30</td>\n",
       "      <td>211</td>\n",
       "      <td>0.14</td>\n",
       "    </tr>\n",
       "    <tr>\n",
       "      <th>21</th>\n",
       "      <td>Présidence du Bénin</td>\n",
       "      <td>@PresidenceBenin</td>\n",
       "      <td>PresidenceBenin</td>\n",
       "      <td>30000</td>\n",
       "      <td>Benin</td>\n",
       "      <td>3203</td>\n",
       "      <td>34712</td>\n",
       "      <td>36399</td>\n",
       "      <td>66</td>\n",
       "      <td>5647</td>\n",
       "      <td>2086</td>\n",
       "      <td>2.71</td>\n",
       "    </tr>\n",
       "    <tr>\n",
       "      <th>22</th>\n",
       "      <td>Chérif Mahamat Zene</td>\n",
       "      <td>@Cherif_MZ</td>\n",
       "      <td>Cherif_MZ</td>\n",
       "      <td>18233</td>\n",
       "      <td>Chadi</td>\n",
       "      <td>748</td>\n",
       "      <td>22656</td>\n",
       "      <td>40679</td>\n",
       "      <td>195</td>\n",
       "      <td>750</td>\n",
       "      <td>2412</td>\n",
       "      <td>0.31</td>\n",
       "    </tr>\n",
       "    <tr>\n",
       "      <th>23</th>\n",
       "      <td>President Julius Maada Bio</td>\n",
       "      <td>@PresidentBio</td>\n",
       "      <td>PresidentBio</td>\n",
       "      <td>14591</td>\n",
       "      <td>Sierra leone</td>\n",
       "      <td>83</td>\n",
       "      <td>6613</td>\n",
       "      <td>39711</td>\n",
       "      <td>0</td>\n",
       "      <td>83</td>\n",
       "      <td>831</td>\n",
       "      <td>0.10</td>\n",
       "    </tr>\n",
       "    <tr>\n",
       "      <th>24</th>\n",
       "      <td>State House of The Gambia</td>\n",
       "      <td>@Presidency_GMB</td>\n",
       "      <td>Presidency_GMB</td>\n",
       "      <td>10644</td>\n",
       "      <td>Gambia</td>\n",
       "      <td>1437</td>\n",
       "      <td>20802</td>\n",
       "      <td>25913</td>\n",
       "      <td>27</td>\n",
       "      <td>1437</td>\n",
       "      <td>789</td>\n",
       "      <td>1.83</td>\n",
       "    </tr>\n",
       "    <tr>\n",
       "      <th>25</th>\n",
       "      <td>Umaro Sissoco Embalo</td>\n",
       "      <td>@USEmbalo</td>\n",
       "      <td>USEmbalo</td>\n",
       "      <td>8460</td>\n",
       "      <td>Guines-Bissau</td>\n",
       "      <td>828</td>\n",
       "      <td>9296</td>\n",
       "      <td>15672</td>\n",
       "      <td>181</td>\n",
       "      <td>828</td>\n",
       "      <td>1522</td>\n",
       "      <td>0.54</td>\n",
       "    </tr>\n",
       "    <tr>\n",
       "      <th>26</th>\n",
       "      <td>Ministry of Health Zambia</td>\n",
       "      <td>@mohzambia</td>\n",
       "      <td>mohzambia</td>\n",
       "      <td>7092</td>\n",
       "      <td>Zambia</td>\n",
       "      <td>385</td>\n",
       "      <td>19130</td>\n",
       "      <td>2028</td>\n",
       "      <td>95</td>\n",
       "      <td>835</td>\n",
       "      <td>2705</td>\n",
       "      <td>0.31</td>\n",
       "    </tr>\n",
       "    <tr>\n",
       "      <th>27</th>\n",
       "      <td>TanzaniaSpokesperson</td>\n",
       "      <td>@TZSpokesperson</td>\n",
       "      <td>TZSpokesperson</td>\n",
       "      <td>3994</td>\n",
       "      <td>Tanzania</td>\n",
       "      <td>834</td>\n",
       "      <td>26345</td>\n",
       "      <td>15164</td>\n",
       "      <td>32</td>\n",
       "      <td>836</td>\n",
       "      <td>850</td>\n",
       "      <td>0.98</td>\n",
       "    </tr>\n",
       "    <tr>\n",
       "      <th>28</th>\n",
       "      <td>Presidente Cabo Verde</td>\n",
       "      <td>@PresidenciaCV</td>\n",
       "      <td>PresidenciaCV</td>\n",
       "      <td>3266</td>\n",
       "      <td>Cape Verde</td>\n",
       "      <td>710</td>\n",
       "      <td>265</td>\n",
       "      <td>312</td>\n",
       "      <td>885</td>\n",
       "      <td>711</td>\n",
       "      <td>2987</td>\n",
       "      <td>0.24</td>\n",
       "    </tr>\n",
       "    <tr>\n",
       "      <th>29</th>\n",
       "      <td>Angola</td>\n",
       "      <td>@angola_Mirex</td>\n",
       "      <td>angola_Mirex</td>\n",
       "      <td>3256</td>\n",
       "      <td>Angola</td>\n",
       "      <td>732</td>\n",
       "      <td>3070</td>\n",
       "      <td>7637</td>\n",
       "      <td>312</td>\n",
       "      <td>732</td>\n",
       "      <td>895</td>\n",
       "      <td>0.82</td>\n",
       "    </tr>\n",
       "    <tr>\n",
       "      <th>30</th>\n",
       "      <td>MinSantédj</td>\n",
       "      <td>@MinSantedj</td>\n",
       "      <td>MinSantedj</td>\n",
       "      <td>2914</td>\n",
       "      <td>De Djibouti</td>\n",
       "      <td>1051</td>\n",
       "      <td>43014</td>\n",
       "      <td>3692</td>\n",
       "      <td>127</td>\n",
       "      <td>1062</td>\n",
       "      <td>1077</td>\n",
       "      <td>0.99</td>\n",
       "    </tr>\n",
       "    <tr>\n",
       "      <th>31</th>\n",
       "      <td>South Sudan Government</td>\n",
       "      <td>@SouthSudanGov</td>\n",
       "      <td>SouthSudanGov</td>\n",
       "      <td>2521</td>\n",
       "      <td>South Sudan</td>\n",
       "      <td>203</td>\n",
       "      <td>2919</td>\n",
       "      <td>2151</td>\n",
       "      <td>463</td>\n",
       "      <td>209</td>\n",
       "      <td>1149</td>\n",
       "      <td>0.18</td>\n",
       "    </tr>\n",
       "    <tr>\n",
       "      <th>32</th>\n",
       "      <td>Ministère de la Santé et de l'hygiène Publique</td>\n",
       "      <td>@MSPS_Togo</td>\n",
       "      <td>MSPS_Togo</td>\n",
       "      <td>1130</td>\n",
       "      <td>cote d ivoire</td>\n",
       "      <td>44</td>\n",
       "      <td>157</td>\n",
       "      <td>217</td>\n",
       "      <td>2</td>\n",
       "      <td>44</td>\n",
       "      <td>1614</td>\n",
       "      <td>0.03</td>\n",
       "    </tr>\n",
       "    <tr>\n",
       "      <th>33</th>\n",
       "      <td>Pr. Alpha CONDÉ</td>\n",
       "      <td>@President_GN</td>\n",
       "      <td>president_gn</td>\n",
       "      <td>699</td>\n",
       "      <td>Guinea</td>\n",
       "      <td>21</td>\n",
       "      <td>442</td>\n",
       "      <td>604</td>\n",
       "      <td>29</td>\n",
       "      <td>21</td>\n",
       "      <td>213</td>\n",
       "      <td>0.10</td>\n",
       "    </tr>\n",
       "    <tr>\n",
       "      <th>34</th>\n",
       "      <td>Seychelles Ministry of Finance</td>\n",
       "      <td>@FinanceSC</td>\n",
       "      <td>FinanceSC</td>\n",
       "      <td>126</td>\n",
       "      <td>Seychelles</td>\n",
       "      <td>123</td>\n",
       "      <td>625</td>\n",
       "      <td>123</td>\n",
       "      <td>224</td>\n",
       "      <td>124</td>\n",
       "      <td>123</td>\n",
       "      <td>1.02</td>\n",
       "    </tr>\n",
       "  </tbody>\n",
       "</table>\n",
       "</div>"
      ],
      "text/plain": [
       "                          African_govt_influencers      Twitter_name  \\\n",
       "0                                 Muhammadu Buhari          @MBuhari   \n",
       "1                                      Paul Kagame       @PaulKagame   \n",
       "2                                Yoweri K Museveni   @KagutaMuseveni   \n",
       "3                                     PresidencyZA     @PresidencyZA   \n",
       "4                               Nana Akufo', 'Addo       @NAkufoAddo   \n",
       "5                                       Macky Sall       @Macky_Sall   \n",
       "6                                State House Kenya  @StateHouseKenya   \n",
       "7                                Alassane Ouattara   @AOuattara_PRCI   \n",
       "8                            President of Zimbabwe      @edmnangagwa   \n",
       "9                                 Mohamed Farmaajo       @M_Farmaajo   \n",
       "10                                  Abdalla Hamdok    @SudanPMHamdok   \n",
       "11                                  Présidence RDC   @Presidence_RDC   \n",
       "12                                     Roch KABORE     @rochkaborepf   \n",
       "13                                 Presidence Mali   @PresidenceMali   \n",
       "14                                 Hage G. Geingob      @hagegeingob   \n",
       "15                               Ali Bongo Ondimba     @PresidentABO   \n",
       "16                              Issoufou Mahamadou      @IssoufouMhm   \n",
       "17                             Amb. Willy Nyamitwe    @willynyamitwe   \n",
       "18                                Yemane G. Meskel          @hawelti   \n",
       "19                               Malawi Government       @MalawiGovt   \n",
       "20                     Mohamed Cheikh El Ghazouani  @CheikhGhazouani   \n",
       "21                             Présidence du Bénin  @PresidenceBenin   \n",
       "22                             Chérif Mahamat Zene        @Cherif_MZ   \n",
       "23                      President Julius Maada Bio     @PresidentBio   \n",
       "24                       State House of The Gambia   @Presidency_GMB   \n",
       "25                            Umaro Sissoco Embalo         @USEmbalo   \n",
       "26                       Ministry of Health Zambia        @mohzambia   \n",
       "27                            TanzaniaSpokesperson   @TZSpokesperson   \n",
       "28                           Presidente Cabo Verde    @PresidenciaCV   \n",
       "29                                          Angola     @angola_Mirex   \n",
       "30                                      MinSantédj       @MinSantedj   \n",
       "31                          South Sudan Government    @SouthSudanGov   \n",
       "32  Ministère de la Santé et de l'hygiène Publique        @MSPS_Togo   \n",
       "33                                 Pr. Alpha CONDÉ     @President_GN   \n",
       "34                  Seychelles Ministry of Finance        @FinanceSC   \n",
       "\n",
       "          screen_name  No. of followers        Country  No. of tweets  \\\n",
       "0             MBuhari           3265113        Nigeria           3216   \n",
       "1          PaulKagame           1978560         Rwanda           2861   \n",
       "2      KagutaMuseveni           1806255         Uganda           3223   \n",
       "3        PresidencyZA           1595331   south Africa           3209   \n",
       "4          NAkufoAddo           1501262          Ghana           3184   \n",
       "5          Macky_Sall           1370436        Senegal           2794   \n",
       "6   State House Kenya           1100680          Kenya           3197   \n",
       "7      AOuattara_PRCI            827673    Ivory Coast           3221   \n",
       "8         edmnangagwa            544351       Zimbabwe            613   \n",
       "9          M_Farmaajo            421125         Somali            597   \n",
       "10      SudanPMHamdok            368099          Sudan            650   \n",
       "11     Presidence_RDC            338342            DRC           1645   \n",
       "12       rochkaborepf            255187   Burkina Faso           3220   \n",
       "13     PresidenceMali            228014           Mali           3213   \n",
       "14        hagegeingob            191708        Namibia           1084   \n",
       "15       PresidentABO            172803          Gabon           1736   \n",
       "16        IssoufouMhm            115650          Niger            348   \n",
       "17      willynyamitwe            107165        Burundi           3212   \n",
       "18            hawelti             65881        Eritrea           3213   \n",
       "19         MalawiGovt             39008         Malawi           3211   \n",
       "20    CheikhGhazouani             31586     Mauritania             29   \n",
       "21    PresidenceBenin             30000          Benin           3203   \n",
       "22          Cherif_MZ             18233          Chadi            748   \n",
       "23       PresidentBio             14591   Sierra leone             83   \n",
       "24     Presidency_GMB             10644         Gambia           1437   \n",
       "25           USEmbalo              8460  Guines-Bissau            828   \n",
       "26          mohzambia              7092         Zambia            385   \n",
       "27     TZSpokesperson              3994       Tanzania            834   \n",
       "28      PresidenciaCV              3266     Cape Verde            710   \n",
       "29       angola_Mirex              3256         Angola            732   \n",
       "30         MinSantedj              2914    De Djibouti           1051   \n",
       "31      SouthSudanGov              2521    South Sudan            203   \n",
       "32          MSPS_Togo              1130  cote d ivoire             44   \n",
       "33       president_gn               699         Guinea             21   \n",
       "34          FinanceSC               126     Seychelles            123   \n",
       "\n",
       "    retweet_count  favorite_count  friends_count  status_count  Account_age  \\\n",
       "0         1575924         3780305             26          4734         2035   \n",
       "1          413392          629437            181          2861         4093   \n",
       "2          323140         1652020             28          6640         3766   \n",
       "3          181221          366900             14         18845         4079   \n",
       "4          701726         2072260            351          7089         3452   \n",
       "5          184784          826314            171          2796         3678   \n",
       "6          123060          448900            214          9044         3245   \n",
       "7           77289          392966             23          7131         3915   \n",
       "8          171785          596256            116           628         3126   \n",
       "9           96323          308637              2           599         1302   \n",
       "10         238166         1099949            115           652          330   \n",
       "11         127147          756765            125          1648         1288   \n",
       "12          56071          240437            151          4496         1844   \n",
       "13          41682          128478           1001         11167         3202   \n",
       "14          35130          155180             55          1085         2249   \n",
       "15          76018           99125              4          1737         1987   \n",
       "16          22527           92278             17           349         1644   \n",
       "17         161582           37345           4654         40660         3289   \n",
       "18         144291          219628            434          4710         3137   \n",
       "19          38959           31410             26          4030         2440   \n",
       "20           8114            8114              9            30          211   \n",
       "21          34712           36399             66          5647         2086   \n",
       "22          22656           40679            195           750         2412   \n",
       "23           6613           39711              0            83          831   \n",
       "24          20802           25913             27          1437          789   \n",
       "25           9296           15672            181           828         1522   \n",
       "26          19130            2028             95           835         2705   \n",
       "27          26345           15164             32           836          850   \n",
       "28            265             312            885           711         2987   \n",
       "29           3070            7637            312           732          895   \n",
       "30          43014            3692            127          1062         1077   \n",
       "31           2919            2151            463           209         1149   \n",
       "32            157             217              2            44         1614   \n",
       "33            442             604             29            21          213   \n",
       "34            625             123            224           124          123   \n",
       "\n",
       "    Average_tweets_per day  \n",
       "0                     2.33  \n",
       "1                     0.70  \n",
       "2                     1.76  \n",
       "3                     4.63  \n",
       "4                     2.06  \n",
       "5                     0.78  \n",
       "6                     2.79  \n",
       "7                     1.82  \n",
       "8                     0.20  \n",
       "9                     0.46  \n",
       "10                    1.98  \n",
       "11                    1.28  \n",
       "12                    2.44  \n",
       "13                    3.49  \n",
       "14                    0.48  \n",
       "15                    0.87  \n",
       "16                    0.21  \n",
       "17                   12.37  \n",
       "18                    1.50  \n",
       "19                    1.65  \n",
       "20                    0.14  \n",
       "21                    2.71  \n",
       "22                    0.31  \n",
       "23                    0.10  \n",
       "24                    1.83  \n",
       "25                    0.54  \n",
       "26                    0.31  \n",
       "27                    0.98  \n",
       "28                    0.24  \n",
       "29                    0.82  \n",
       "30                    0.99  \n",
       "31                    0.18  \n",
       "32                    0.03  \n",
       "33                    0.10  \n",
       "34                    1.02  "
      ]
     },
     "execution_count": 7,
     "metadata": {},
     "output_type": "execute_result"
    }
   ],
   "source": [
    "data2"
   ]
  },
  {
   "cell_type": "markdown",
   "metadata": {},
   "source": [
    "We will plot a bar graph to show the african influencers in their ranks"
   ]
  },
  {
   "cell_type": "code",
   "execution_count": 8,
   "metadata": {},
   "outputs": [
    {
     "data": {
      "application/vnd.plotly.v1+json": {
       "config": {
        "linkText": "Export to plot.ly",
        "plotlyServerURL": "https://plot.ly",
        "showLink": true
       },
       "data": [
        {
         "marker": {
          "color": "rgba(255, 153, 51, 0.6)",
          "line": {
           "color": "rgba(255, 153, 51, 1.0)",
           "width": 1
          }
         },
         "name": "No. of followers",
         "orientation": "v",
         "text": "",
         "type": "bar",
         "x": [
          "Muhammadu Buhari",
          "Paul Kagame",
          "Yoweri K Museveni",
          "PresidencyZA",
          "Nana Akufo', 'Addo",
          "Macky Sall",
          "State House Kenya",
          "Alassane Ouattara",
          "President of Zimbabwe",
          "Mohamed Farmaajo",
          "Abdalla Hamdok",
          "Présidence RDC",
          "Roch KABORE",
          "Presidence Mali",
          "Hage G. Geingob",
          "Ali Bongo Ondimba",
          "Issoufou Mahamadou",
          "Amb. Willy Nyamitwe",
          "Yemane G. Meskel",
          "Malawi Government",
          "Mohamed Cheikh El Ghazouani",
          "Présidence du Bénin",
          "Chérif Mahamat Zene",
          "President Julius Maada Bio",
          "State House of The Gambia",
          "Umaro Sissoco Embalo",
          "Ministry of Health Zambia",
          "TanzaniaSpokesperson",
          "Presidente Cabo Verde",
          "Angola",
          "MinSantédj",
          "South Sudan Government",
          "Ministère de la Santé et de l'hygiène Publique",
          "Pr. Alpha CONDÉ",
          "Seychelles Ministry of Finance"
         ],
         "y": [
          3265113,
          1978560,
          1806255,
          1595331,
          1501262,
          1370436,
          1100680,
          827673,
          544351,
          421125,
          368099,
          338342,
          255187,
          228014,
          191708,
          172803,
          115650,
          107165,
          65881,
          39008,
          31586,
          30000,
          18233,
          14591,
          10644,
          8460,
          7092,
          3994,
          3266,
          3256,
          2914,
          2521,
          1130,
          699,
          126
         ]
        }
       ],
       "layout": {
        "legend": {
         "bgcolor": "#F5F6F9",
         "font": {
          "color": "#4D5663"
         }
        },
        "paper_bgcolor": "#F5F6F9",
        "plot_bgcolor": "#F5F6F9",
        "template": {
         "data": {
          "bar": [
           {
            "error_x": {
             "color": "#2a3f5f"
            },
            "error_y": {
             "color": "#2a3f5f"
            },
            "marker": {
             "line": {
              "color": "#E5ECF6",
              "width": 0.5
             }
            },
            "type": "bar"
           }
          ],
          "barpolar": [
           {
            "marker": {
             "line": {
              "color": "#E5ECF6",
              "width": 0.5
             }
            },
            "type": "barpolar"
           }
          ],
          "carpet": [
           {
            "aaxis": {
             "endlinecolor": "#2a3f5f",
             "gridcolor": "white",
             "linecolor": "white",
             "minorgridcolor": "white",
             "startlinecolor": "#2a3f5f"
            },
            "baxis": {
             "endlinecolor": "#2a3f5f",
             "gridcolor": "white",
             "linecolor": "white",
             "minorgridcolor": "white",
             "startlinecolor": "#2a3f5f"
            },
            "type": "carpet"
           }
          ],
          "choropleth": [
           {
            "colorbar": {
             "outlinewidth": 0,
             "ticks": ""
            },
            "type": "choropleth"
           }
          ],
          "contour": [
           {
            "colorbar": {
             "outlinewidth": 0,
             "ticks": ""
            },
            "colorscale": [
             [
              0,
              "#0d0887"
             ],
             [
              0.1111111111111111,
              "#46039f"
             ],
             [
              0.2222222222222222,
              "#7201a8"
             ],
             [
              0.3333333333333333,
              "#9c179e"
             ],
             [
              0.4444444444444444,
              "#bd3786"
             ],
             [
              0.5555555555555556,
              "#d8576b"
             ],
             [
              0.6666666666666666,
              "#ed7953"
             ],
             [
              0.7777777777777778,
              "#fb9f3a"
             ],
             [
              0.8888888888888888,
              "#fdca26"
             ],
             [
              1,
              "#f0f921"
             ]
            ],
            "type": "contour"
           }
          ],
          "contourcarpet": [
           {
            "colorbar": {
             "outlinewidth": 0,
             "ticks": ""
            },
            "type": "contourcarpet"
           }
          ],
          "heatmap": [
           {
            "colorbar": {
             "outlinewidth": 0,
             "ticks": ""
            },
            "colorscale": [
             [
              0,
              "#0d0887"
             ],
             [
              0.1111111111111111,
              "#46039f"
             ],
             [
              0.2222222222222222,
              "#7201a8"
             ],
             [
              0.3333333333333333,
              "#9c179e"
             ],
             [
              0.4444444444444444,
              "#bd3786"
             ],
             [
              0.5555555555555556,
              "#d8576b"
             ],
             [
              0.6666666666666666,
              "#ed7953"
             ],
             [
              0.7777777777777778,
              "#fb9f3a"
             ],
             [
              0.8888888888888888,
              "#fdca26"
             ],
             [
              1,
              "#f0f921"
             ]
            ],
            "type": "heatmap"
           }
          ],
          "heatmapgl": [
           {
            "colorbar": {
             "outlinewidth": 0,
             "ticks": ""
            },
            "colorscale": [
             [
              0,
              "#0d0887"
             ],
             [
              0.1111111111111111,
              "#46039f"
             ],
             [
              0.2222222222222222,
              "#7201a8"
             ],
             [
              0.3333333333333333,
              "#9c179e"
             ],
             [
              0.4444444444444444,
              "#bd3786"
             ],
             [
              0.5555555555555556,
              "#d8576b"
             ],
             [
              0.6666666666666666,
              "#ed7953"
             ],
             [
              0.7777777777777778,
              "#fb9f3a"
             ],
             [
              0.8888888888888888,
              "#fdca26"
             ],
             [
              1,
              "#f0f921"
             ]
            ],
            "type": "heatmapgl"
           }
          ],
          "histogram": [
           {
            "marker": {
             "colorbar": {
              "outlinewidth": 0,
              "ticks": ""
             }
            },
            "type": "histogram"
           }
          ],
          "histogram2d": [
           {
            "colorbar": {
             "outlinewidth": 0,
             "ticks": ""
            },
            "colorscale": [
             [
              0,
              "#0d0887"
             ],
             [
              0.1111111111111111,
              "#46039f"
             ],
             [
              0.2222222222222222,
              "#7201a8"
             ],
             [
              0.3333333333333333,
              "#9c179e"
             ],
             [
              0.4444444444444444,
              "#bd3786"
             ],
             [
              0.5555555555555556,
              "#d8576b"
             ],
             [
              0.6666666666666666,
              "#ed7953"
             ],
             [
              0.7777777777777778,
              "#fb9f3a"
             ],
             [
              0.8888888888888888,
              "#fdca26"
             ],
             [
              1,
              "#f0f921"
             ]
            ],
            "type": "histogram2d"
           }
          ],
          "histogram2dcontour": [
           {
            "colorbar": {
             "outlinewidth": 0,
             "ticks": ""
            },
            "colorscale": [
             [
              0,
              "#0d0887"
             ],
             [
              0.1111111111111111,
              "#46039f"
             ],
             [
              0.2222222222222222,
              "#7201a8"
             ],
             [
              0.3333333333333333,
              "#9c179e"
             ],
             [
              0.4444444444444444,
              "#bd3786"
             ],
             [
              0.5555555555555556,
              "#d8576b"
             ],
             [
              0.6666666666666666,
              "#ed7953"
             ],
             [
              0.7777777777777778,
              "#fb9f3a"
             ],
             [
              0.8888888888888888,
              "#fdca26"
             ],
             [
              1,
              "#f0f921"
             ]
            ],
            "type": "histogram2dcontour"
           }
          ],
          "mesh3d": [
           {
            "colorbar": {
             "outlinewidth": 0,
             "ticks": ""
            },
            "type": "mesh3d"
           }
          ],
          "parcoords": [
           {
            "line": {
             "colorbar": {
              "outlinewidth": 0,
              "ticks": ""
             }
            },
            "type": "parcoords"
           }
          ],
          "pie": [
           {
            "automargin": true,
            "type": "pie"
           }
          ],
          "scatter": [
           {
            "marker": {
             "colorbar": {
              "outlinewidth": 0,
              "ticks": ""
             }
            },
            "type": "scatter"
           }
          ],
          "scatter3d": [
           {
            "line": {
             "colorbar": {
              "outlinewidth": 0,
              "ticks": ""
             }
            },
            "marker": {
             "colorbar": {
              "outlinewidth": 0,
              "ticks": ""
             }
            },
            "type": "scatter3d"
           }
          ],
          "scattercarpet": [
           {
            "marker": {
             "colorbar": {
              "outlinewidth": 0,
              "ticks": ""
             }
            },
            "type": "scattercarpet"
           }
          ],
          "scattergeo": [
           {
            "marker": {
             "colorbar": {
              "outlinewidth": 0,
              "ticks": ""
             }
            },
            "type": "scattergeo"
           }
          ],
          "scattergl": [
           {
            "marker": {
             "colorbar": {
              "outlinewidth": 0,
              "ticks": ""
             }
            },
            "type": "scattergl"
           }
          ],
          "scattermapbox": [
           {
            "marker": {
             "colorbar": {
              "outlinewidth": 0,
              "ticks": ""
             }
            },
            "type": "scattermapbox"
           }
          ],
          "scatterpolar": [
           {
            "marker": {
             "colorbar": {
              "outlinewidth": 0,
              "ticks": ""
             }
            },
            "type": "scatterpolar"
           }
          ],
          "scatterpolargl": [
           {
            "marker": {
             "colorbar": {
              "outlinewidth": 0,
              "ticks": ""
             }
            },
            "type": "scatterpolargl"
           }
          ],
          "scatterternary": [
           {
            "marker": {
             "colorbar": {
              "outlinewidth": 0,
              "ticks": ""
             }
            },
            "type": "scatterternary"
           }
          ],
          "surface": [
           {
            "colorbar": {
             "outlinewidth": 0,
             "ticks": ""
            },
            "colorscale": [
             [
              0,
              "#0d0887"
             ],
             [
              0.1111111111111111,
              "#46039f"
             ],
             [
              0.2222222222222222,
              "#7201a8"
             ],
             [
              0.3333333333333333,
              "#9c179e"
             ],
             [
              0.4444444444444444,
              "#bd3786"
             ],
             [
              0.5555555555555556,
              "#d8576b"
             ],
             [
              0.6666666666666666,
              "#ed7953"
             ],
             [
              0.7777777777777778,
              "#fb9f3a"
             ],
             [
              0.8888888888888888,
              "#fdca26"
             ],
             [
              1,
              "#f0f921"
             ]
            ],
            "type": "surface"
           }
          ],
          "table": [
           {
            "cells": {
             "fill": {
              "color": "#EBF0F8"
             },
             "line": {
              "color": "white"
             }
            },
            "header": {
             "fill": {
              "color": "#C8D4E3"
             },
             "line": {
              "color": "white"
             }
            },
            "type": "table"
           }
          ]
         },
         "layout": {
          "annotationdefaults": {
           "arrowcolor": "#2a3f5f",
           "arrowhead": 0,
           "arrowwidth": 1
          },
          "coloraxis": {
           "colorbar": {
            "outlinewidth": 0,
            "ticks": ""
           }
          },
          "colorscale": {
           "diverging": [
            [
             0,
             "#8e0152"
            ],
            [
             0.1,
             "#c51b7d"
            ],
            [
             0.2,
             "#de77ae"
            ],
            [
             0.3,
             "#f1b6da"
            ],
            [
             0.4,
             "#fde0ef"
            ],
            [
             0.5,
             "#f7f7f7"
            ],
            [
             0.6,
             "#e6f5d0"
            ],
            [
             0.7,
             "#b8e186"
            ],
            [
             0.8,
             "#7fbc41"
            ],
            [
             0.9,
             "#4d9221"
            ],
            [
             1,
             "#276419"
            ]
           ],
           "sequential": [
            [
             0,
             "#0d0887"
            ],
            [
             0.1111111111111111,
             "#46039f"
            ],
            [
             0.2222222222222222,
             "#7201a8"
            ],
            [
             0.3333333333333333,
             "#9c179e"
            ],
            [
             0.4444444444444444,
             "#bd3786"
            ],
            [
             0.5555555555555556,
             "#d8576b"
            ],
            [
             0.6666666666666666,
             "#ed7953"
            ],
            [
             0.7777777777777778,
             "#fb9f3a"
            ],
            [
             0.8888888888888888,
             "#fdca26"
            ],
            [
             1,
             "#f0f921"
            ]
           ],
           "sequentialminus": [
            [
             0,
             "#0d0887"
            ],
            [
             0.1111111111111111,
             "#46039f"
            ],
            [
             0.2222222222222222,
             "#7201a8"
            ],
            [
             0.3333333333333333,
             "#9c179e"
            ],
            [
             0.4444444444444444,
             "#bd3786"
            ],
            [
             0.5555555555555556,
             "#d8576b"
            ],
            [
             0.6666666666666666,
             "#ed7953"
            ],
            [
             0.7777777777777778,
             "#fb9f3a"
            ],
            [
             0.8888888888888888,
             "#fdca26"
            ],
            [
             1,
             "#f0f921"
            ]
           ]
          },
          "colorway": [
           "#636efa",
           "#EF553B",
           "#00cc96",
           "#ab63fa",
           "#FFA15A",
           "#19d3f3",
           "#FF6692",
           "#B6E880",
           "#FF97FF",
           "#FECB52"
          ],
          "font": {
           "color": "#2a3f5f"
          },
          "geo": {
           "bgcolor": "white",
           "lakecolor": "white",
           "landcolor": "#E5ECF6",
           "showlakes": true,
           "showland": true,
           "subunitcolor": "white"
          },
          "hoverlabel": {
           "align": "left"
          },
          "hovermode": "closest",
          "mapbox": {
           "style": "light"
          },
          "paper_bgcolor": "white",
          "plot_bgcolor": "#E5ECF6",
          "polar": {
           "angularaxis": {
            "gridcolor": "white",
            "linecolor": "white",
            "ticks": ""
           },
           "bgcolor": "#E5ECF6",
           "radialaxis": {
            "gridcolor": "white",
            "linecolor": "white",
            "ticks": ""
           }
          },
          "scene": {
           "xaxis": {
            "backgroundcolor": "#E5ECF6",
            "gridcolor": "white",
            "gridwidth": 2,
            "linecolor": "white",
            "showbackground": true,
            "ticks": "",
            "zerolinecolor": "white"
           },
           "yaxis": {
            "backgroundcolor": "#E5ECF6",
            "gridcolor": "white",
            "gridwidth": 2,
            "linecolor": "white",
            "showbackground": true,
            "ticks": "",
            "zerolinecolor": "white"
           },
           "zaxis": {
            "backgroundcolor": "#E5ECF6",
            "gridcolor": "white",
            "gridwidth": 2,
            "linecolor": "white",
            "showbackground": true,
            "ticks": "",
            "zerolinecolor": "white"
           }
          },
          "shapedefaults": {
           "line": {
            "color": "#2a3f5f"
           }
          },
          "ternary": {
           "aaxis": {
            "gridcolor": "white",
            "linecolor": "white",
            "ticks": ""
           },
           "baxis": {
            "gridcolor": "white",
            "linecolor": "white",
            "ticks": ""
           },
           "bgcolor": "#E5ECF6",
           "caxis": {
            "gridcolor": "white",
            "linecolor": "white",
            "ticks": ""
           }
          },
          "title": {
           "x": 0.05
          },
          "xaxis": {
           "automargin": true,
           "gridcolor": "white",
           "linecolor": "white",
           "ticks": "",
           "title": {
            "standoff": 15
           },
           "zerolinecolor": "white",
           "zerolinewidth": 2
          },
          "yaxis": {
           "automargin": true,
           "gridcolor": "white",
           "linecolor": "white",
           "ticks": "",
           "title": {
            "standoff": 15
           },
           "zerolinecolor": "white",
           "zerolinewidth": 2
          }
         }
        },
        "title": {
         "font": {
          "color": "#4D5663"
         },
         "text": "AFRICAN GOVERNMENT OFFICIALS INFLUENCERS"
        },
        "xaxis": {
         "gridcolor": "#E1E5ED",
         "showgrid": true,
         "tickfont": {
          "color": "#4D5663"
         },
         "title": {
          "font": {
           "color": "#4D5663"
          },
          "text": "Africa\"Top governments influencers"
         },
         "zerolinecolor": "#E1E5ED"
        },
        "yaxis": {
         "gridcolor": "#E1E5ED",
         "showgrid": true,
         "tickfont": {
          "color": "#4D5663"
         },
         "title": {
          "font": {
           "color": "#4D5663"
          },
          "text": "Number of twitter followers"
         },
         "zerolinecolor": "#E1E5ED"
        }
       }
      },
      "text/html": [
       "<div>\n",
       "        \n",
       "        \n",
       "            <div id=\"b548c89a-37fe-46af-893f-405463fabb76\" class=\"plotly-graph-div\" style=\"height:525px; width:100%;\"></div>\n",
       "            <script type=\"text/javascript\">\n",
       "                require([\"plotly\"], function(Plotly) {\n",
       "                    window.PLOTLYENV=window.PLOTLYENV || {};\n",
       "                    window.PLOTLYENV.BASE_URL='https://plot.ly';\n",
       "                    \n",
       "                if (document.getElementById(\"b548c89a-37fe-46af-893f-405463fabb76\")) {\n",
       "                    Plotly.newPlot(\n",
       "                        'b548c89a-37fe-46af-893f-405463fabb76',\n",
       "                        [{\"marker\": {\"color\": \"rgba(255, 153, 51, 0.6)\", \"line\": {\"color\": \"rgba(255, 153, 51, 1.0)\", \"width\": 1}}, \"name\": \"No. of followers\", \"orientation\": \"v\", \"text\": \"\", \"type\": \"bar\", \"x\": [\"Muhammadu Buhari\", \"Paul Kagame\", \"Yoweri K Museveni\", \"PresidencyZA\", \"Nana Akufo', 'Addo\", \"Macky Sall\", \"State House Kenya\", \"Alassane Ouattara\", \"President of Zimbabwe\", \"Mohamed Farmaajo\", \"Abdalla Hamdok\", \"Pr\\u00e9sidence RDC\", \"Roch KABORE\", \"Presidence Mali\", \"Hage G. Geingob\", \"Ali Bongo Ondimba\", \"Issoufou Mahamadou\", \"Amb. Willy Nyamitwe\", \"Yemane G. Meskel\", \"Malawi Government\", \"Mohamed Cheikh El Ghazouani\", \"Pr\\u00e9sidence du B\\u00e9nin\", \"Ch\\u00e9rif Mahamat Zene\", \"President Julius Maada Bio\", \"State House of The Gambia\", \"Umaro Sissoco Embalo\", \"Ministry of Health Zambia\", \"TanzaniaSpokesperson\", \"Presidente Cabo Verde\", \"Angola\", \"MinSant\\u00e9dj\", \"South Sudan Government\", \"Minist\\u00e8re de la Sant\\u00e9 et de l'hygi\\u00e8ne Publique\", \"Pr. Alpha COND\\u00c9\", \"Seychelles Ministry of Finance\"], \"y\": [3265113, 1978560, 1806255, 1595331, 1501262, 1370436, 1100680, 827673, 544351, 421125, 368099, 338342, 255187, 228014, 191708, 172803, 115650, 107165, 65881, 39008, 31586, 30000, 18233, 14591, 10644, 8460, 7092, 3994, 3266, 3256, 2914, 2521, 1130, 699, 126]}],\n",
       "                        {\"legend\": {\"bgcolor\": \"#F5F6F9\", \"font\": {\"color\": \"#4D5663\"}}, \"paper_bgcolor\": \"#F5F6F9\", \"plot_bgcolor\": \"#F5F6F9\", \"template\": {\"data\": {\"bar\": [{\"error_x\": {\"color\": \"#2a3f5f\"}, \"error_y\": {\"color\": \"#2a3f5f\"}, \"marker\": {\"line\": {\"color\": \"#E5ECF6\", \"width\": 0.5}}, \"type\": \"bar\"}], \"barpolar\": [{\"marker\": {\"line\": {\"color\": \"#E5ECF6\", \"width\": 0.5}}, \"type\": \"barpolar\"}], \"carpet\": [{\"aaxis\": {\"endlinecolor\": \"#2a3f5f\", \"gridcolor\": \"white\", \"linecolor\": \"white\", \"minorgridcolor\": \"white\", \"startlinecolor\": \"#2a3f5f\"}, \"baxis\": {\"endlinecolor\": \"#2a3f5f\", \"gridcolor\": \"white\", \"linecolor\": \"white\", \"minorgridcolor\": \"white\", \"startlinecolor\": \"#2a3f5f\"}, \"type\": \"carpet\"}], \"choropleth\": [{\"colorbar\": {\"outlinewidth\": 0, \"ticks\": \"\"}, \"type\": \"choropleth\"}], \"contour\": [{\"colorbar\": {\"outlinewidth\": 0, \"ticks\": \"\"}, \"colorscale\": [[0.0, \"#0d0887\"], [0.1111111111111111, \"#46039f\"], [0.2222222222222222, \"#7201a8\"], [0.3333333333333333, \"#9c179e\"], [0.4444444444444444, \"#bd3786\"], [0.5555555555555556, \"#d8576b\"], [0.6666666666666666, \"#ed7953\"], [0.7777777777777778, \"#fb9f3a\"], [0.8888888888888888, \"#fdca26\"], [1.0, \"#f0f921\"]], \"type\": \"contour\"}], \"contourcarpet\": [{\"colorbar\": {\"outlinewidth\": 0, \"ticks\": \"\"}, \"type\": \"contourcarpet\"}], \"heatmap\": [{\"colorbar\": {\"outlinewidth\": 0, \"ticks\": \"\"}, \"colorscale\": [[0.0, \"#0d0887\"], [0.1111111111111111, \"#46039f\"], [0.2222222222222222, \"#7201a8\"], [0.3333333333333333, \"#9c179e\"], [0.4444444444444444, \"#bd3786\"], [0.5555555555555556, \"#d8576b\"], [0.6666666666666666, \"#ed7953\"], [0.7777777777777778, \"#fb9f3a\"], [0.8888888888888888, \"#fdca26\"], [1.0, \"#f0f921\"]], \"type\": \"heatmap\"}], \"heatmapgl\": [{\"colorbar\": {\"outlinewidth\": 0, \"ticks\": \"\"}, \"colorscale\": [[0.0, \"#0d0887\"], [0.1111111111111111, \"#46039f\"], [0.2222222222222222, \"#7201a8\"], [0.3333333333333333, \"#9c179e\"], [0.4444444444444444, \"#bd3786\"], [0.5555555555555556, \"#d8576b\"], [0.6666666666666666, \"#ed7953\"], [0.7777777777777778, \"#fb9f3a\"], [0.8888888888888888, \"#fdca26\"], [1.0, \"#f0f921\"]], \"type\": \"heatmapgl\"}], \"histogram\": [{\"marker\": {\"colorbar\": {\"outlinewidth\": 0, \"ticks\": \"\"}}, \"type\": \"histogram\"}], \"histogram2d\": [{\"colorbar\": {\"outlinewidth\": 0, \"ticks\": \"\"}, \"colorscale\": [[0.0, \"#0d0887\"], [0.1111111111111111, \"#46039f\"], [0.2222222222222222, \"#7201a8\"], [0.3333333333333333, \"#9c179e\"], [0.4444444444444444, \"#bd3786\"], [0.5555555555555556, \"#d8576b\"], [0.6666666666666666, \"#ed7953\"], [0.7777777777777778, \"#fb9f3a\"], [0.8888888888888888, \"#fdca26\"], [1.0, \"#f0f921\"]], \"type\": \"histogram2d\"}], \"histogram2dcontour\": [{\"colorbar\": {\"outlinewidth\": 0, \"ticks\": \"\"}, \"colorscale\": [[0.0, \"#0d0887\"], [0.1111111111111111, \"#46039f\"], [0.2222222222222222, \"#7201a8\"], [0.3333333333333333, \"#9c179e\"], [0.4444444444444444, \"#bd3786\"], [0.5555555555555556, \"#d8576b\"], [0.6666666666666666, \"#ed7953\"], [0.7777777777777778, \"#fb9f3a\"], [0.8888888888888888, \"#fdca26\"], [1.0, \"#f0f921\"]], \"type\": \"histogram2dcontour\"}], \"mesh3d\": [{\"colorbar\": {\"outlinewidth\": 0, \"ticks\": \"\"}, \"type\": \"mesh3d\"}], \"parcoords\": [{\"line\": {\"colorbar\": {\"outlinewidth\": 0, \"ticks\": \"\"}}, \"type\": \"parcoords\"}], \"pie\": [{\"automargin\": true, \"type\": \"pie\"}], \"scatter\": [{\"marker\": {\"colorbar\": {\"outlinewidth\": 0, \"ticks\": \"\"}}, \"type\": \"scatter\"}], \"scatter3d\": [{\"line\": {\"colorbar\": {\"outlinewidth\": 0, \"ticks\": \"\"}}, \"marker\": {\"colorbar\": {\"outlinewidth\": 0, \"ticks\": \"\"}}, \"type\": \"scatter3d\"}], \"scattercarpet\": [{\"marker\": {\"colorbar\": {\"outlinewidth\": 0, \"ticks\": \"\"}}, \"type\": \"scattercarpet\"}], \"scattergeo\": [{\"marker\": {\"colorbar\": {\"outlinewidth\": 0, \"ticks\": \"\"}}, \"type\": \"scattergeo\"}], \"scattergl\": [{\"marker\": {\"colorbar\": {\"outlinewidth\": 0, \"ticks\": \"\"}}, \"type\": \"scattergl\"}], \"scattermapbox\": [{\"marker\": {\"colorbar\": {\"outlinewidth\": 0, \"ticks\": \"\"}}, \"type\": \"scattermapbox\"}], \"scatterpolar\": [{\"marker\": {\"colorbar\": {\"outlinewidth\": 0, \"ticks\": \"\"}}, \"type\": \"scatterpolar\"}], \"scatterpolargl\": [{\"marker\": {\"colorbar\": {\"outlinewidth\": 0, \"ticks\": \"\"}}, \"type\": \"scatterpolargl\"}], \"scatterternary\": [{\"marker\": {\"colorbar\": {\"outlinewidth\": 0, \"ticks\": \"\"}}, \"type\": \"scatterternary\"}], \"surface\": [{\"colorbar\": {\"outlinewidth\": 0, \"ticks\": \"\"}, \"colorscale\": [[0.0, \"#0d0887\"], [0.1111111111111111, \"#46039f\"], [0.2222222222222222, \"#7201a8\"], [0.3333333333333333, \"#9c179e\"], [0.4444444444444444, \"#bd3786\"], [0.5555555555555556, \"#d8576b\"], [0.6666666666666666, \"#ed7953\"], [0.7777777777777778, \"#fb9f3a\"], [0.8888888888888888, \"#fdca26\"], [1.0, \"#f0f921\"]], \"type\": \"surface\"}], \"table\": [{\"cells\": {\"fill\": {\"color\": \"#EBF0F8\"}, \"line\": {\"color\": \"white\"}}, \"header\": {\"fill\": {\"color\": \"#C8D4E3\"}, \"line\": {\"color\": \"white\"}}, \"type\": \"table\"}]}, \"layout\": {\"annotationdefaults\": {\"arrowcolor\": \"#2a3f5f\", \"arrowhead\": 0, \"arrowwidth\": 1}, \"coloraxis\": {\"colorbar\": {\"outlinewidth\": 0, \"ticks\": \"\"}}, \"colorscale\": {\"diverging\": [[0, \"#8e0152\"], [0.1, \"#c51b7d\"], [0.2, \"#de77ae\"], [0.3, \"#f1b6da\"], [0.4, \"#fde0ef\"], [0.5, \"#f7f7f7\"], [0.6, \"#e6f5d0\"], [0.7, \"#b8e186\"], [0.8, \"#7fbc41\"], [0.9, \"#4d9221\"], [1, \"#276419\"]], \"sequential\": [[0.0, \"#0d0887\"], [0.1111111111111111, \"#46039f\"], [0.2222222222222222, \"#7201a8\"], [0.3333333333333333, \"#9c179e\"], [0.4444444444444444, \"#bd3786\"], [0.5555555555555556, \"#d8576b\"], [0.6666666666666666, \"#ed7953\"], [0.7777777777777778, \"#fb9f3a\"], [0.8888888888888888, \"#fdca26\"], [1.0, \"#f0f921\"]], \"sequentialminus\": [[0.0, \"#0d0887\"], [0.1111111111111111, \"#46039f\"], [0.2222222222222222, \"#7201a8\"], [0.3333333333333333, \"#9c179e\"], [0.4444444444444444, \"#bd3786\"], [0.5555555555555556, \"#d8576b\"], [0.6666666666666666, \"#ed7953\"], [0.7777777777777778, \"#fb9f3a\"], [0.8888888888888888, \"#fdca26\"], [1.0, \"#f0f921\"]]}, \"colorway\": [\"#636efa\", \"#EF553B\", \"#00cc96\", \"#ab63fa\", \"#FFA15A\", \"#19d3f3\", \"#FF6692\", \"#B6E880\", \"#FF97FF\", \"#FECB52\"], \"font\": {\"color\": \"#2a3f5f\"}, \"geo\": {\"bgcolor\": \"white\", \"lakecolor\": \"white\", \"landcolor\": \"#E5ECF6\", \"showlakes\": true, \"showland\": true, \"subunitcolor\": \"white\"}, \"hoverlabel\": {\"align\": \"left\"}, \"hovermode\": \"closest\", \"mapbox\": {\"style\": \"light\"}, \"paper_bgcolor\": \"white\", \"plot_bgcolor\": \"#E5ECF6\", \"polar\": {\"angularaxis\": {\"gridcolor\": \"white\", \"linecolor\": \"white\", \"ticks\": \"\"}, \"bgcolor\": \"#E5ECF6\", \"radialaxis\": {\"gridcolor\": \"white\", \"linecolor\": \"white\", \"ticks\": \"\"}}, \"scene\": {\"xaxis\": {\"backgroundcolor\": \"#E5ECF6\", \"gridcolor\": \"white\", \"gridwidth\": 2, \"linecolor\": \"white\", \"showbackground\": true, \"ticks\": \"\", \"zerolinecolor\": \"white\"}, \"yaxis\": {\"backgroundcolor\": \"#E5ECF6\", \"gridcolor\": \"white\", \"gridwidth\": 2, \"linecolor\": \"white\", \"showbackground\": true, \"ticks\": \"\", \"zerolinecolor\": \"white\"}, \"zaxis\": {\"backgroundcolor\": \"#E5ECF6\", \"gridcolor\": \"white\", \"gridwidth\": 2, \"linecolor\": \"white\", \"showbackground\": true, \"ticks\": \"\", \"zerolinecolor\": \"white\"}}, \"shapedefaults\": {\"line\": {\"color\": \"#2a3f5f\"}}, \"ternary\": {\"aaxis\": {\"gridcolor\": \"white\", \"linecolor\": \"white\", \"ticks\": \"\"}, \"baxis\": {\"gridcolor\": \"white\", \"linecolor\": \"white\", \"ticks\": \"\"}, \"bgcolor\": \"#E5ECF6\", \"caxis\": {\"gridcolor\": \"white\", \"linecolor\": \"white\", \"ticks\": \"\"}}, \"title\": {\"x\": 0.05}, \"xaxis\": {\"automargin\": true, \"gridcolor\": \"white\", \"linecolor\": \"white\", \"ticks\": \"\", \"title\": {\"standoff\": 15}, \"zerolinecolor\": \"white\", \"zerolinewidth\": 2}, \"yaxis\": {\"automargin\": true, \"gridcolor\": \"white\", \"linecolor\": \"white\", \"ticks\": \"\", \"title\": {\"standoff\": 15}, \"zerolinecolor\": \"white\", \"zerolinewidth\": 2}}}, \"title\": {\"font\": {\"color\": \"#4D5663\"}, \"text\": \"AFRICAN GOVERNMENT OFFICIALS INFLUENCERS\"}, \"xaxis\": {\"gridcolor\": \"#E1E5ED\", \"showgrid\": true, \"tickfont\": {\"color\": \"#4D5663\"}, \"title\": {\"font\": {\"color\": \"#4D5663\"}, \"text\": \"Africa\\\"Top governments influencers\"}, \"zerolinecolor\": \"#E1E5ED\"}, \"yaxis\": {\"gridcolor\": \"#E1E5ED\", \"showgrid\": true, \"tickfont\": {\"color\": \"#4D5663\"}, \"title\": {\"font\": {\"color\": \"#4D5663\"}, \"text\": \"Number of twitter followers\"}, \"zerolinecolor\": \"#E1E5ED\"}},\n",
       "                        {\"showLink\": true, \"linkText\": \"Export to plot.ly\", \"plotlyServerURL\": \"https://plot.ly\", \"responsive\": true}\n",
       "                    ).then(function(){\n",
       "                            \n",
       "var gd = document.getElementById('b548c89a-37fe-46af-893f-405463fabb76');\n",
       "var x = new MutationObserver(function (mutations, observer) {{\n",
       "        var display = window.getComputedStyle(gd).display;\n",
       "        if (!display || display === 'none') {{\n",
       "            console.log([gd, 'removed!']);\n",
       "            Plotly.purge(gd);\n",
       "            observer.disconnect();\n",
       "        }}\n",
       "}});\n",
       "\n",
       "// Listen for the removal of the full notebook cells\n",
       "var notebookContainer = gd.closest('#notebook-container');\n",
       "if (notebookContainer) {{\n",
       "    x.observe(notebookContainer, {childList: true});\n",
       "}}\n",
       "\n",
       "// Listen for the clearing of the current output cell\n",
       "var outputEl = gd.closest('.output');\n",
       "if (outputEl) {{\n",
       "    x.observe(outputEl, {childList: true});\n",
       "}}\n",
       "\n",
       "                        })\n",
       "                };\n",
       "                });\n",
       "            </script>\n",
       "        </div>"
      ]
     },
     "metadata": {},
     "output_type": "display_data"
    }
   ],
   "source": [
    "#Visualisation using plotly.\n",
    "data2.iplot(kind=\"bar\",x=\"African_govt_influencers\",y=\"No. of followers\",xTitle='Africa\"Top governments influencers',\n",
    "           yTitle='Number of twitter followers',title='AFRICAN GOVERNMENT OFFICIALS INFLUENCERS')"
   ]
  },
  {
   "cell_type": "code",
   "execution_count": 9,
   "metadata": {},
   "outputs": [],
   "source": [
    "Top_10=data2.head(10)"
   ]
  },
  {
   "cell_type": "code",
   "execution_count": 10,
   "metadata": {},
   "outputs": [
    {
     "data": {
      "text/html": [
       "<div>\n",
       "<style scoped>\n",
       "    .dataframe tbody tr th:only-of-type {\n",
       "        vertical-align: middle;\n",
       "    }\n",
       "\n",
       "    .dataframe tbody tr th {\n",
       "        vertical-align: top;\n",
       "    }\n",
       "\n",
       "    .dataframe thead th {\n",
       "        text-align: right;\n",
       "    }\n",
       "</style>\n",
       "<table border=\"1\" class=\"dataframe\">\n",
       "  <thead>\n",
       "    <tr style=\"text-align: right;\">\n",
       "      <th></th>\n",
       "      <th>African_govt_influencers</th>\n",
       "      <th>Twitter_name</th>\n",
       "      <th>screen_name</th>\n",
       "      <th>No. of followers</th>\n",
       "      <th>Country</th>\n",
       "      <th>No. of tweets</th>\n",
       "      <th>retweet_count</th>\n",
       "      <th>favorite_count</th>\n",
       "      <th>friends_count</th>\n",
       "      <th>status_count</th>\n",
       "      <th>Account_age</th>\n",
       "      <th>Average_tweets_per day</th>\n",
       "    </tr>\n",
       "  </thead>\n",
       "  <tbody>\n",
       "    <tr>\n",
       "      <th>0</th>\n",
       "      <td>Muhammadu Buhari</td>\n",
       "      <td>@MBuhari</td>\n",
       "      <td>MBuhari</td>\n",
       "      <td>3265113</td>\n",
       "      <td>Nigeria</td>\n",
       "      <td>3216</td>\n",
       "      <td>1575924</td>\n",
       "      <td>3780305</td>\n",
       "      <td>26</td>\n",
       "      <td>4734</td>\n",
       "      <td>2035</td>\n",
       "      <td>2.33</td>\n",
       "    </tr>\n",
       "    <tr>\n",
       "      <th>1</th>\n",
       "      <td>Paul Kagame</td>\n",
       "      <td>@PaulKagame</td>\n",
       "      <td>PaulKagame</td>\n",
       "      <td>1978560</td>\n",
       "      <td>Rwanda</td>\n",
       "      <td>2861</td>\n",
       "      <td>413392</td>\n",
       "      <td>629437</td>\n",
       "      <td>181</td>\n",
       "      <td>2861</td>\n",
       "      <td>4093</td>\n",
       "      <td>0.70</td>\n",
       "    </tr>\n",
       "    <tr>\n",
       "      <th>2</th>\n",
       "      <td>Yoweri K Museveni</td>\n",
       "      <td>@KagutaMuseveni</td>\n",
       "      <td>KagutaMuseveni</td>\n",
       "      <td>1806255</td>\n",
       "      <td>Uganda</td>\n",
       "      <td>3223</td>\n",
       "      <td>323140</td>\n",
       "      <td>1652020</td>\n",
       "      <td>28</td>\n",
       "      <td>6640</td>\n",
       "      <td>3766</td>\n",
       "      <td>1.76</td>\n",
       "    </tr>\n",
       "    <tr>\n",
       "      <th>3</th>\n",
       "      <td>PresidencyZA</td>\n",
       "      <td>@PresidencyZA</td>\n",
       "      <td>PresidencyZA</td>\n",
       "      <td>1595331</td>\n",
       "      <td>south Africa</td>\n",
       "      <td>3209</td>\n",
       "      <td>181221</td>\n",
       "      <td>366900</td>\n",
       "      <td>14</td>\n",
       "      <td>18845</td>\n",
       "      <td>4079</td>\n",
       "      <td>4.63</td>\n",
       "    </tr>\n",
       "    <tr>\n",
       "      <th>4</th>\n",
       "      <td>Nana Akufo', 'Addo</td>\n",
       "      <td>@NAkufoAddo</td>\n",
       "      <td>NAkufoAddo</td>\n",
       "      <td>1501262</td>\n",
       "      <td>Ghana</td>\n",
       "      <td>3184</td>\n",
       "      <td>701726</td>\n",
       "      <td>2072260</td>\n",
       "      <td>351</td>\n",
       "      <td>7089</td>\n",
       "      <td>3452</td>\n",
       "      <td>2.06</td>\n",
       "    </tr>\n",
       "    <tr>\n",
       "      <th>5</th>\n",
       "      <td>Macky Sall</td>\n",
       "      <td>@Macky_Sall</td>\n",
       "      <td>Macky_Sall</td>\n",
       "      <td>1370436</td>\n",
       "      <td>Senegal</td>\n",
       "      <td>2794</td>\n",
       "      <td>184784</td>\n",
       "      <td>826314</td>\n",
       "      <td>171</td>\n",
       "      <td>2796</td>\n",
       "      <td>3678</td>\n",
       "      <td>0.78</td>\n",
       "    </tr>\n",
       "    <tr>\n",
       "      <th>6</th>\n",
       "      <td>State House Kenya</td>\n",
       "      <td>@StateHouseKenya</td>\n",
       "      <td>State House Kenya</td>\n",
       "      <td>1100680</td>\n",
       "      <td>Kenya</td>\n",
       "      <td>3197</td>\n",
       "      <td>123060</td>\n",
       "      <td>448900</td>\n",
       "      <td>214</td>\n",
       "      <td>9044</td>\n",
       "      <td>3245</td>\n",
       "      <td>2.79</td>\n",
       "    </tr>\n",
       "    <tr>\n",
       "      <th>7</th>\n",
       "      <td>Alassane Ouattara</td>\n",
       "      <td>@AOuattara_PRCI</td>\n",
       "      <td>AOuattara_PRCI</td>\n",
       "      <td>827673</td>\n",
       "      <td>Ivory Coast</td>\n",
       "      <td>3221</td>\n",
       "      <td>77289</td>\n",
       "      <td>392966</td>\n",
       "      <td>23</td>\n",
       "      <td>7131</td>\n",
       "      <td>3915</td>\n",
       "      <td>1.82</td>\n",
       "    </tr>\n",
       "    <tr>\n",
       "      <th>8</th>\n",
       "      <td>President of Zimbabwe</td>\n",
       "      <td>@edmnangagwa</td>\n",
       "      <td>edmnangagwa</td>\n",
       "      <td>544351</td>\n",
       "      <td>Zimbabwe</td>\n",
       "      <td>613</td>\n",
       "      <td>171785</td>\n",
       "      <td>596256</td>\n",
       "      <td>116</td>\n",
       "      <td>628</td>\n",
       "      <td>3126</td>\n",
       "      <td>0.20</td>\n",
       "    </tr>\n",
       "    <tr>\n",
       "      <th>9</th>\n",
       "      <td>Mohamed Farmaajo</td>\n",
       "      <td>@M_Farmaajo</td>\n",
       "      <td>M_Farmaajo</td>\n",
       "      <td>421125</td>\n",
       "      <td>Somali</td>\n",
       "      <td>597</td>\n",
       "      <td>96323</td>\n",
       "      <td>308637</td>\n",
       "      <td>2</td>\n",
       "      <td>599</td>\n",
       "      <td>1302</td>\n",
       "      <td>0.46</td>\n",
       "    </tr>\n",
       "  </tbody>\n",
       "</table>\n",
       "</div>"
      ],
      "text/plain": [
       "  African_govt_influencers      Twitter_name        screen_name  \\\n",
       "0         Muhammadu Buhari          @MBuhari            MBuhari   \n",
       "1              Paul Kagame       @PaulKagame         PaulKagame   \n",
       "2        Yoweri K Museveni   @KagutaMuseveni     KagutaMuseveni   \n",
       "3             PresidencyZA     @PresidencyZA       PresidencyZA   \n",
       "4       Nana Akufo', 'Addo       @NAkufoAddo         NAkufoAddo   \n",
       "5               Macky Sall       @Macky_Sall         Macky_Sall   \n",
       "6        State House Kenya  @StateHouseKenya  State House Kenya   \n",
       "7        Alassane Ouattara   @AOuattara_PRCI     AOuattara_PRCI   \n",
       "8    President of Zimbabwe      @edmnangagwa        edmnangagwa   \n",
       "9         Mohamed Farmaajo       @M_Farmaajo         M_Farmaajo   \n",
       "\n",
       "   No. of followers       Country  No. of tweets  retweet_count  \\\n",
       "0           3265113       Nigeria           3216        1575924   \n",
       "1           1978560        Rwanda           2861         413392   \n",
       "2           1806255        Uganda           3223         323140   \n",
       "3           1595331  south Africa           3209         181221   \n",
       "4           1501262         Ghana           3184         701726   \n",
       "5           1370436       Senegal           2794         184784   \n",
       "6           1100680         Kenya           3197         123060   \n",
       "7            827673   Ivory Coast           3221          77289   \n",
       "8            544351      Zimbabwe            613         171785   \n",
       "9            421125        Somali            597          96323   \n",
       "\n",
       "   favorite_count  friends_count  status_count  Account_age  \\\n",
       "0         3780305             26          4734         2035   \n",
       "1          629437            181          2861         4093   \n",
       "2         1652020             28          6640         3766   \n",
       "3          366900             14         18845         4079   \n",
       "4         2072260            351          7089         3452   \n",
       "5          826314            171          2796         3678   \n",
       "6          448900            214          9044         3245   \n",
       "7          392966             23          7131         3915   \n",
       "8          596256            116           628         3126   \n",
       "9          308637              2           599         1302   \n",
       "\n",
       "   Average_tweets_per day  \n",
       "0                    2.33  \n",
       "1                    0.70  \n",
       "2                    1.76  \n",
       "3                    4.63  \n",
       "4                    2.06  \n",
       "5                    0.78  \n",
       "6                    2.79  \n",
       "7                    1.82  \n",
       "8                    0.20  \n",
       "9                    0.46  "
      ]
     },
     "execution_count": 10,
     "metadata": {},
     "output_type": "execute_result"
    }
   ],
   "source": [
    "Top_10"
   ]
  },
  {
   "cell_type": "code",
   "execution_count": 112,
   "metadata": {},
   "outputs": [
    {
     "data": {
      "application/vnd.plotly.v1+json": {
       "config": {
        "linkText": "Export to plot.ly",
        "plotlyServerURL": "https://plot.ly",
        "showLink": true
       },
       "data": [
        {
         "marker": {
          "color": "rgba(255, 153, 51, 0.6)",
          "line": {
           "color": "rgba(255, 153, 51, 1.0)",
           "width": 1
          }
         },
         "name": "No. of followers",
         "orientation": "v",
         "text": "",
         "type": "bar",
         "x": [
          "Muhammadu Buhari",
          "Paul Kagame",
          "Yoweri K Museveni",
          "PresidencyZA",
          "Nana Akufo', 'Addo",
          "Macky Sall",
          "State House Kenya",
          "Alassane Ouattara",
          "President of Zimbabwe",
          "Mohamed Farmaajo"
         ],
         "y": [
          3265113,
          1978560,
          1806255,
          1595331,
          1501262,
          1370436,
          1100680,
          827673,
          544351,
          421125
         ]
        }
       ],
       "layout": {
        "legend": {
         "bgcolor": "#F5F6F9",
         "font": {
          "color": "#4D5663"
         }
        },
        "paper_bgcolor": "#F5F6F9",
        "plot_bgcolor": "#F5F6F9",
        "template": {
         "data": {
          "bar": [
           {
            "error_x": {
             "color": "#2a3f5f"
            },
            "error_y": {
             "color": "#2a3f5f"
            },
            "marker": {
             "line": {
              "color": "#E5ECF6",
              "width": 0.5
             }
            },
            "type": "bar"
           }
          ],
          "barpolar": [
           {
            "marker": {
             "line": {
              "color": "#E5ECF6",
              "width": 0.5
             }
            },
            "type": "barpolar"
           }
          ],
          "carpet": [
           {
            "aaxis": {
             "endlinecolor": "#2a3f5f",
             "gridcolor": "white",
             "linecolor": "white",
             "minorgridcolor": "white",
             "startlinecolor": "#2a3f5f"
            },
            "baxis": {
             "endlinecolor": "#2a3f5f",
             "gridcolor": "white",
             "linecolor": "white",
             "minorgridcolor": "white",
             "startlinecolor": "#2a3f5f"
            },
            "type": "carpet"
           }
          ],
          "choropleth": [
           {
            "colorbar": {
             "outlinewidth": 0,
             "ticks": ""
            },
            "type": "choropleth"
           }
          ],
          "contour": [
           {
            "colorbar": {
             "outlinewidth": 0,
             "ticks": ""
            },
            "colorscale": [
             [
              0,
              "#0d0887"
             ],
             [
              0.1111111111111111,
              "#46039f"
             ],
             [
              0.2222222222222222,
              "#7201a8"
             ],
             [
              0.3333333333333333,
              "#9c179e"
             ],
             [
              0.4444444444444444,
              "#bd3786"
             ],
             [
              0.5555555555555556,
              "#d8576b"
             ],
             [
              0.6666666666666666,
              "#ed7953"
             ],
             [
              0.7777777777777778,
              "#fb9f3a"
             ],
             [
              0.8888888888888888,
              "#fdca26"
             ],
             [
              1,
              "#f0f921"
             ]
            ],
            "type": "contour"
           }
          ],
          "contourcarpet": [
           {
            "colorbar": {
             "outlinewidth": 0,
             "ticks": ""
            },
            "type": "contourcarpet"
           }
          ],
          "heatmap": [
           {
            "colorbar": {
             "outlinewidth": 0,
             "ticks": ""
            },
            "colorscale": [
             [
              0,
              "#0d0887"
             ],
             [
              0.1111111111111111,
              "#46039f"
             ],
             [
              0.2222222222222222,
              "#7201a8"
             ],
             [
              0.3333333333333333,
              "#9c179e"
             ],
             [
              0.4444444444444444,
              "#bd3786"
             ],
             [
              0.5555555555555556,
              "#d8576b"
             ],
             [
              0.6666666666666666,
              "#ed7953"
             ],
             [
              0.7777777777777778,
              "#fb9f3a"
             ],
             [
              0.8888888888888888,
              "#fdca26"
             ],
             [
              1,
              "#f0f921"
             ]
            ],
            "type": "heatmap"
           }
          ],
          "heatmapgl": [
           {
            "colorbar": {
             "outlinewidth": 0,
             "ticks": ""
            },
            "colorscale": [
             [
              0,
              "#0d0887"
             ],
             [
              0.1111111111111111,
              "#46039f"
             ],
             [
              0.2222222222222222,
              "#7201a8"
             ],
             [
              0.3333333333333333,
              "#9c179e"
             ],
             [
              0.4444444444444444,
              "#bd3786"
             ],
             [
              0.5555555555555556,
              "#d8576b"
             ],
             [
              0.6666666666666666,
              "#ed7953"
             ],
             [
              0.7777777777777778,
              "#fb9f3a"
             ],
             [
              0.8888888888888888,
              "#fdca26"
             ],
             [
              1,
              "#f0f921"
             ]
            ],
            "type": "heatmapgl"
           }
          ],
          "histogram": [
           {
            "marker": {
             "colorbar": {
              "outlinewidth": 0,
              "ticks": ""
             }
            },
            "type": "histogram"
           }
          ],
          "histogram2d": [
           {
            "colorbar": {
             "outlinewidth": 0,
             "ticks": ""
            },
            "colorscale": [
             [
              0,
              "#0d0887"
             ],
             [
              0.1111111111111111,
              "#46039f"
             ],
             [
              0.2222222222222222,
              "#7201a8"
             ],
             [
              0.3333333333333333,
              "#9c179e"
             ],
             [
              0.4444444444444444,
              "#bd3786"
             ],
             [
              0.5555555555555556,
              "#d8576b"
             ],
             [
              0.6666666666666666,
              "#ed7953"
             ],
             [
              0.7777777777777778,
              "#fb9f3a"
             ],
             [
              0.8888888888888888,
              "#fdca26"
             ],
             [
              1,
              "#f0f921"
             ]
            ],
            "type": "histogram2d"
           }
          ],
          "histogram2dcontour": [
           {
            "colorbar": {
             "outlinewidth": 0,
             "ticks": ""
            },
            "colorscale": [
             [
              0,
              "#0d0887"
             ],
             [
              0.1111111111111111,
              "#46039f"
             ],
             [
              0.2222222222222222,
              "#7201a8"
             ],
             [
              0.3333333333333333,
              "#9c179e"
             ],
             [
              0.4444444444444444,
              "#bd3786"
             ],
             [
              0.5555555555555556,
              "#d8576b"
             ],
             [
              0.6666666666666666,
              "#ed7953"
             ],
             [
              0.7777777777777778,
              "#fb9f3a"
             ],
             [
              0.8888888888888888,
              "#fdca26"
             ],
             [
              1,
              "#f0f921"
             ]
            ],
            "type": "histogram2dcontour"
           }
          ],
          "mesh3d": [
           {
            "colorbar": {
             "outlinewidth": 0,
             "ticks": ""
            },
            "type": "mesh3d"
           }
          ],
          "parcoords": [
           {
            "line": {
             "colorbar": {
              "outlinewidth": 0,
              "ticks": ""
             }
            },
            "type": "parcoords"
           }
          ],
          "pie": [
           {
            "automargin": true,
            "type": "pie"
           }
          ],
          "scatter": [
           {
            "marker": {
             "colorbar": {
              "outlinewidth": 0,
              "ticks": ""
             }
            },
            "type": "scatter"
           }
          ],
          "scatter3d": [
           {
            "line": {
             "colorbar": {
              "outlinewidth": 0,
              "ticks": ""
             }
            },
            "marker": {
             "colorbar": {
              "outlinewidth": 0,
              "ticks": ""
             }
            },
            "type": "scatter3d"
           }
          ],
          "scattercarpet": [
           {
            "marker": {
             "colorbar": {
              "outlinewidth": 0,
              "ticks": ""
             }
            },
            "type": "scattercarpet"
           }
          ],
          "scattergeo": [
           {
            "marker": {
             "colorbar": {
              "outlinewidth": 0,
              "ticks": ""
             }
            },
            "type": "scattergeo"
           }
          ],
          "scattergl": [
           {
            "marker": {
             "colorbar": {
              "outlinewidth": 0,
              "ticks": ""
             }
            },
            "type": "scattergl"
           }
          ],
          "scattermapbox": [
           {
            "marker": {
             "colorbar": {
              "outlinewidth": 0,
              "ticks": ""
             }
            },
            "type": "scattermapbox"
           }
          ],
          "scatterpolar": [
           {
            "marker": {
             "colorbar": {
              "outlinewidth": 0,
              "ticks": ""
             }
            },
            "type": "scatterpolar"
           }
          ],
          "scatterpolargl": [
           {
            "marker": {
             "colorbar": {
              "outlinewidth": 0,
              "ticks": ""
             }
            },
            "type": "scatterpolargl"
           }
          ],
          "scatterternary": [
           {
            "marker": {
             "colorbar": {
              "outlinewidth": 0,
              "ticks": ""
             }
            },
            "type": "scatterternary"
           }
          ],
          "surface": [
           {
            "colorbar": {
             "outlinewidth": 0,
             "ticks": ""
            },
            "colorscale": [
             [
              0,
              "#0d0887"
             ],
             [
              0.1111111111111111,
              "#46039f"
             ],
             [
              0.2222222222222222,
              "#7201a8"
             ],
             [
              0.3333333333333333,
              "#9c179e"
             ],
             [
              0.4444444444444444,
              "#bd3786"
             ],
             [
              0.5555555555555556,
              "#d8576b"
             ],
             [
              0.6666666666666666,
              "#ed7953"
             ],
             [
              0.7777777777777778,
              "#fb9f3a"
             ],
             [
              0.8888888888888888,
              "#fdca26"
             ],
             [
              1,
              "#f0f921"
             ]
            ],
            "type": "surface"
           }
          ],
          "table": [
           {
            "cells": {
             "fill": {
              "color": "#EBF0F8"
             },
             "line": {
              "color": "white"
             }
            },
            "header": {
             "fill": {
              "color": "#C8D4E3"
             },
             "line": {
              "color": "white"
             }
            },
            "type": "table"
           }
          ]
         },
         "layout": {
          "annotationdefaults": {
           "arrowcolor": "#2a3f5f",
           "arrowhead": 0,
           "arrowwidth": 1
          },
          "coloraxis": {
           "colorbar": {
            "outlinewidth": 0,
            "ticks": ""
           }
          },
          "colorscale": {
           "diverging": [
            [
             0,
             "#8e0152"
            ],
            [
             0.1,
             "#c51b7d"
            ],
            [
             0.2,
             "#de77ae"
            ],
            [
             0.3,
             "#f1b6da"
            ],
            [
             0.4,
             "#fde0ef"
            ],
            [
             0.5,
             "#f7f7f7"
            ],
            [
             0.6,
             "#e6f5d0"
            ],
            [
             0.7,
             "#b8e186"
            ],
            [
             0.8,
             "#7fbc41"
            ],
            [
             0.9,
             "#4d9221"
            ],
            [
             1,
             "#276419"
            ]
           ],
           "sequential": [
            [
             0,
             "#0d0887"
            ],
            [
             0.1111111111111111,
             "#46039f"
            ],
            [
             0.2222222222222222,
             "#7201a8"
            ],
            [
             0.3333333333333333,
             "#9c179e"
            ],
            [
             0.4444444444444444,
             "#bd3786"
            ],
            [
             0.5555555555555556,
             "#d8576b"
            ],
            [
             0.6666666666666666,
             "#ed7953"
            ],
            [
             0.7777777777777778,
             "#fb9f3a"
            ],
            [
             0.8888888888888888,
             "#fdca26"
            ],
            [
             1,
             "#f0f921"
            ]
           ],
           "sequentialminus": [
            [
             0,
             "#0d0887"
            ],
            [
             0.1111111111111111,
             "#46039f"
            ],
            [
             0.2222222222222222,
             "#7201a8"
            ],
            [
             0.3333333333333333,
             "#9c179e"
            ],
            [
             0.4444444444444444,
             "#bd3786"
            ],
            [
             0.5555555555555556,
             "#d8576b"
            ],
            [
             0.6666666666666666,
             "#ed7953"
            ],
            [
             0.7777777777777778,
             "#fb9f3a"
            ],
            [
             0.8888888888888888,
             "#fdca26"
            ],
            [
             1,
             "#f0f921"
            ]
           ]
          },
          "colorway": [
           "#636efa",
           "#EF553B",
           "#00cc96",
           "#ab63fa",
           "#FFA15A",
           "#19d3f3",
           "#FF6692",
           "#B6E880",
           "#FF97FF",
           "#FECB52"
          ],
          "font": {
           "color": "#2a3f5f"
          },
          "geo": {
           "bgcolor": "white",
           "lakecolor": "white",
           "landcolor": "#E5ECF6",
           "showlakes": true,
           "showland": true,
           "subunitcolor": "white"
          },
          "hoverlabel": {
           "align": "left"
          },
          "hovermode": "closest",
          "mapbox": {
           "style": "light"
          },
          "paper_bgcolor": "white",
          "plot_bgcolor": "#E5ECF6",
          "polar": {
           "angularaxis": {
            "gridcolor": "white",
            "linecolor": "white",
            "ticks": ""
           },
           "bgcolor": "#E5ECF6",
           "radialaxis": {
            "gridcolor": "white",
            "linecolor": "white",
            "ticks": ""
           }
          },
          "scene": {
           "xaxis": {
            "backgroundcolor": "#E5ECF6",
            "gridcolor": "white",
            "gridwidth": 2,
            "linecolor": "white",
            "showbackground": true,
            "ticks": "",
            "zerolinecolor": "white"
           },
           "yaxis": {
            "backgroundcolor": "#E5ECF6",
            "gridcolor": "white",
            "gridwidth": 2,
            "linecolor": "white",
            "showbackground": true,
            "ticks": "",
            "zerolinecolor": "white"
           },
           "zaxis": {
            "backgroundcolor": "#E5ECF6",
            "gridcolor": "white",
            "gridwidth": 2,
            "linecolor": "white",
            "showbackground": true,
            "ticks": "",
            "zerolinecolor": "white"
           }
          },
          "shapedefaults": {
           "line": {
            "color": "#2a3f5f"
           }
          },
          "ternary": {
           "aaxis": {
            "gridcolor": "white",
            "linecolor": "white",
            "ticks": ""
           },
           "baxis": {
            "gridcolor": "white",
            "linecolor": "white",
            "ticks": ""
           },
           "bgcolor": "#E5ECF6",
           "caxis": {
            "gridcolor": "white",
            "linecolor": "white",
            "ticks": ""
           }
          },
          "title": {
           "x": 0.05
          },
          "xaxis": {
           "automargin": true,
           "gridcolor": "white",
           "linecolor": "white",
           "ticks": "",
           "title": {
            "standoff": 15
           },
           "zerolinecolor": "white",
           "zerolinewidth": 2
          },
          "yaxis": {
           "automargin": true,
           "gridcolor": "white",
           "linecolor": "white",
           "ticks": "",
           "title": {
            "standoff": 15
           },
           "zerolinecolor": "white",
           "zerolinewidth": 2
          }
         }
        },
        "title": {
         "font": {
          "color": "#4D5663"
         },
         "text": "AFRICAN TOP 10 GOVERNMENT OFFICIALS INFLUENCERS"
        },
        "xaxis": {
         "gridcolor": "#E1E5ED",
         "showgrid": true,
         "tickfont": {
          "color": "#4D5663"
         },
         "title": {
          "font": {
           "color": "#4D5663"
          },
          "text": "Africa\"Top 10 governments influencers"
         },
         "zerolinecolor": "#E1E5ED"
        },
        "yaxis": {
         "gridcolor": "#E1E5ED",
         "showgrid": true,
         "tickfont": {
          "color": "#4D5663"
         },
         "title": {
          "font": {
           "color": "#4D5663"
          },
          "text": "Number of twitter followers"
         },
         "zerolinecolor": "#E1E5ED"
        }
       }
      },
      "text/html": [
       "<div>\n",
       "        \n",
       "        \n",
       "            <div id=\"0ae4e926-fe86-4bbe-adfc-4580a9b36d20\" class=\"plotly-graph-div\" style=\"height:525px; width:100%;\"></div>\n",
       "            <script type=\"text/javascript\">\n",
       "                require([\"plotly\"], function(Plotly) {\n",
       "                    window.PLOTLYENV=window.PLOTLYENV || {};\n",
       "                    window.PLOTLYENV.BASE_URL='https://plot.ly';\n",
       "                    \n",
       "                if (document.getElementById(\"0ae4e926-fe86-4bbe-adfc-4580a9b36d20\")) {\n",
       "                    Plotly.newPlot(\n",
       "                        '0ae4e926-fe86-4bbe-adfc-4580a9b36d20',\n",
       "                        [{\"marker\": {\"color\": \"rgba(255, 153, 51, 0.6)\", \"line\": {\"color\": \"rgba(255, 153, 51, 1.0)\", \"width\": 1}}, \"name\": \"No. of followers\", \"orientation\": \"v\", \"text\": \"\", \"type\": \"bar\", \"x\": [\"Muhammadu Buhari\", \"Paul Kagame\", \"Yoweri K Museveni\", \"PresidencyZA\", \"Nana Akufo', 'Addo\", \"Macky Sall\", \"State House Kenya\", \"Alassane Ouattara\", \"President of Zimbabwe\", \"Mohamed Farmaajo\"], \"y\": [3265113, 1978560, 1806255, 1595331, 1501262, 1370436, 1100680, 827673, 544351, 421125]}],\n",
       "                        {\"legend\": {\"bgcolor\": \"#F5F6F9\", \"font\": {\"color\": \"#4D5663\"}}, \"paper_bgcolor\": \"#F5F6F9\", \"plot_bgcolor\": \"#F5F6F9\", \"template\": {\"data\": {\"bar\": [{\"error_x\": {\"color\": \"#2a3f5f\"}, \"error_y\": {\"color\": \"#2a3f5f\"}, \"marker\": {\"line\": {\"color\": \"#E5ECF6\", \"width\": 0.5}}, \"type\": \"bar\"}], \"barpolar\": [{\"marker\": {\"line\": {\"color\": \"#E5ECF6\", \"width\": 0.5}}, \"type\": \"barpolar\"}], \"carpet\": [{\"aaxis\": {\"endlinecolor\": \"#2a3f5f\", \"gridcolor\": \"white\", \"linecolor\": \"white\", \"minorgridcolor\": \"white\", \"startlinecolor\": \"#2a3f5f\"}, \"baxis\": {\"endlinecolor\": \"#2a3f5f\", \"gridcolor\": \"white\", \"linecolor\": \"white\", \"minorgridcolor\": \"white\", \"startlinecolor\": \"#2a3f5f\"}, \"type\": \"carpet\"}], \"choropleth\": [{\"colorbar\": {\"outlinewidth\": 0, \"ticks\": \"\"}, \"type\": \"choropleth\"}], \"contour\": [{\"colorbar\": {\"outlinewidth\": 0, \"ticks\": \"\"}, \"colorscale\": [[0.0, \"#0d0887\"], [0.1111111111111111, \"#46039f\"], [0.2222222222222222, \"#7201a8\"], [0.3333333333333333, \"#9c179e\"], [0.4444444444444444, \"#bd3786\"], [0.5555555555555556, \"#d8576b\"], [0.6666666666666666, \"#ed7953\"], [0.7777777777777778, \"#fb9f3a\"], [0.8888888888888888, \"#fdca26\"], [1.0, \"#f0f921\"]], \"type\": \"contour\"}], \"contourcarpet\": [{\"colorbar\": {\"outlinewidth\": 0, \"ticks\": \"\"}, \"type\": \"contourcarpet\"}], \"heatmap\": [{\"colorbar\": {\"outlinewidth\": 0, \"ticks\": \"\"}, \"colorscale\": [[0.0, \"#0d0887\"], [0.1111111111111111, \"#46039f\"], [0.2222222222222222, \"#7201a8\"], [0.3333333333333333, \"#9c179e\"], [0.4444444444444444, \"#bd3786\"], [0.5555555555555556, \"#d8576b\"], [0.6666666666666666, \"#ed7953\"], [0.7777777777777778, \"#fb9f3a\"], [0.8888888888888888, \"#fdca26\"], [1.0, \"#f0f921\"]], \"type\": \"heatmap\"}], \"heatmapgl\": [{\"colorbar\": {\"outlinewidth\": 0, \"ticks\": \"\"}, \"colorscale\": [[0.0, \"#0d0887\"], [0.1111111111111111, \"#46039f\"], [0.2222222222222222, \"#7201a8\"], [0.3333333333333333, \"#9c179e\"], [0.4444444444444444, \"#bd3786\"], [0.5555555555555556, \"#d8576b\"], [0.6666666666666666, \"#ed7953\"], [0.7777777777777778, \"#fb9f3a\"], [0.8888888888888888, \"#fdca26\"], [1.0, \"#f0f921\"]], \"type\": \"heatmapgl\"}], \"histogram\": [{\"marker\": {\"colorbar\": {\"outlinewidth\": 0, \"ticks\": \"\"}}, \"type\": \"histogram\"}], \"histogram2d\": [{\"colorbar\": {\"outlinewidth\": 0, \"ticks\": \"\"}, \"colorscale\": [[0.0, \"#0d0887\"], [0.1111111111111111, \"#46039f\"], [0.2222222222222222, \"#7201a8\"], [0.3333333333333333, \"#9c179e\"], [0.4444444444444444, \"#bd3786\"], [0.5555555555555556, \"#d8576b\"], [0.6666666666666666, \"#ed7953\"], [0.7777777777777778, \"#fb9f3a\"], [0.8888888888888888, \"#fdca26\"], [1.0, \"#f0f921\"]], \"type\": \"histogram2d\"}], \"histogram2dcontour\": [{\"colorbar\": {\"outlinewidth\": 0, \"ticks\": \"\"}, \"colorscale\": [[0.0, \"#0d0887\"], [0.1111111111111111, \"#46039f\"], [0.2222222222222222, \"#7201a8\"], [0.3333333333333333, \"#9c179e\"], [0.4444444444444444, \"#bd3786\"], [0.5555555555555556, \"#d8576b\"], [0.6666666666666666, \"#ed7953\"], [0.7777777777777778, \"#fb9f3a\"], [0.8888888888888888, \"#fdca26\"], [1.0, \"#f0f921\"]], \"type\": \"histogram2dcontour\"}], \"mesh3d\": [{\"colorbar\": {\"outlinewidth\": 0, \"ticks\": \"\"}, \"type\": \"mesh3d\"}], \"parcoords\": [{\"line\": {\"colorbar\": {\"outlinewidth\": 0, \"ticks\": \"\"}}, \"type\": \"parcoords\"}], \"pie\": [{\"automargin\": true, \"type\": \"pie\"}], \"scatter\": [{\"marker\": {\"colorbar\": {\"outlinewidth\": 0, \"ticks\": \"\"}}, \"type\": \"scatter\"}], \"scatter3d\": [{\"line\": {\"colorbar\": {\"outlinewidth\": 0, \"ticks\": \"\"}}, \"marker\": {\"colorbar\": {\"outlinewidth\": 0, \"ticks\": \"\"}}, \"type\": \"scatter3d\"}], \"scattercarpet\": [{\"marker\": {\"colorbar\": {\"outlinewidth\": 0, \"ticks\": \"\"}}, \"type\": \"scattercarpet\"}], \"scattergeo\": [{\"marker\": {\"colorbar\": {\"outlinewidth\": 0, \"ticks\": \"\"}}, \"type\": \"scattergeo\"}], \"scattergl\": [{\"marker\": {\"colorbar\": {\"outlinewidth\": 0, \"ticks\": \"\"}}, \"type\": \"scattergl\"}], \"scattermapbox\": [{\"marker\": {\"colorbar\": {\"outlinewidth\": 0, \"ticks\": \"\"}}, \"type\": \"scattermapbox\"}], \"scatterpolar\": [{\"marker\": {\"colorbar\": {\"outlinewidth\": 0, \"ticks\": \"\"}}, \"type\": \"scatterpolar\"}], \"scatterpolargl\": [{\"marker\": {\"colorbar\": {\"outlinewidth\": 0, \"ticks\": \"\"}}, \"type\": \"scatterpolargl\"}], \"scatterternary\": [{\"marker\": {\"colorbar\": {\"outlinewidth\": 0, \"ticks\": \"\"}}, \"type\": \"scatterternary\"}], \"surface\": [{\"colorbar\": {\"outlinewidth\": 0, \"ticks\": \"\"}, \"colorscale\": [[0.0, \"#0d0887\"], [0.1111111111111111, \"#46039f\"], [0.2222222222222222, \"#7201a8\"], [0.3333333333333333, \"#9c179e\"], [0.4444444444444444, \"#bd3786\"], [0.5555555555555556, \"#d8576b\"], [0.6666666666666666, \"#ed7953\"], [0.7777777777777778, \"#fb9f3a\"], [0.8888888888888888, \"#fdca26\"], [1.0, \"#f0f921\"]], \"type\": \"surface\"}], \"table\": [{\"cells\": {\"fill\": {\"color\": \"#EBF0F8\"}, \"line\": {\"color\": \"white\"}}, \"header\": {\"fill\": {\"color\": \"#C8D4E3\"}, \"line\": {\"color\": \"white\"}}, \"type\": \"table\"}]}, \"layout\": {\"annotationdefaults\": {\"arrowcolor\": \"#2a3f5f\", \"arrowhead\": 0, \"arrowwidth\": 1}, \"coloraxis\": {\"colorbar\": {\"outlinewidth\": 0, \"ticks\": \"\"}}, \"colorscale\": {\"diverging\": [[0, \"#8e0152\"], [0.1, \"#c51b7d\"], [0.2, \"#de77ae\"], [0.3, \"#f1b6da\"], [0.4, \"#fde0ef\"], [0.5, \"#f7f7f7\"], [0.6, \"#e6f5d0\"], [0.7, \"#b8e186\"], [0.8, \"#7fbc41\"], [0.9, \"#4d9221\"], [1, \"#276419\"]], \"sequential\": [[0.0, \"#0d0887\"], [0.1111111111111111, \"#46039f\"], [0.2222222222222222, \"#7201a8\"], [0.3333333333333333, \"#9c179e\"], [0.4444444444444444, \"#bd3786\"], [0.5555555555555556, \"#d8576b\"], [0.6666666666666666, \"#ed7953\"], [0.7777777777777778, \"#fb9f3a\"], [0.8888888888888888, \"#fdca26\"], [1.0, \"#f0f921\"]], \"sequentialminus\": [[0.0, \"#0d0887\"], [0.1111111111111111, \"#46039f\"], [0.2222222222222222, \"#7201a8\"], [0.3333333333333333, \"#9c179e\"], [0.4444444444444444, \"#bd3786\"], [0.5555555555555556, \"#d8576b\"], [0.6666666666666666, \"#ed7953\"], [0.7777777777777778, \"#fb9f3a\"], [0.8888888888888888, \"#fdca26\"], [1.0, \"#f0f921\"]]}, \"colorway\": [\"#636efa\", \"#EF553B\", \"#00cc96\", \"#ab63fa\", \"#FFA15A\", \"#19d3f3\", \"#FF6692\", \"#B6E880\", \"#FF97FF\", \"#FECB52\"], \"font\": {\"color\": \"#2a3f5f\"}, \"geo\": {\"bgcolor\": \"white\", \"lakecolor\": \"white\", \"landcolor\": \"#E5ECF6\", \"showlakes\": true, \"showland\": true, \"subunitcolor\": \"white\"}, \"hoverlabel\": {\"align\": \"left\"}, \"hovermode\": \"closest\", \"mapbox\": {\"style\": \"light\"}, \"paper_bgcolor\": \"white\", \"plot_bgcolor\": \"#E5ECF6\", \"polar\": {\"angularaxis\": {\"gridcolor\": \"white\", \"linecolor\": \"white\", \"ticks\": \"\"}, \"bgcolor\": \"#E5ECF6\", \"radialaxis\": {\"gridcolor\": \"white\", \"linecolor\": \"white\", \"ticks\": \"\"}}, \"scene\": {\"xaxis\": {\"backgroundcolor\": \"#E5ECF6\", \"gridcolor\": \"white\", \"gridwidth\": 2, \"linecolor\": \"white\", \"showbackground\": true, \"ticks\": \"\", \"zerolinecolor\": \"white\"}, \"yaxis\": {\"backgroundcolor\": \"#E5ECF6\", \"gridcolor\": \"white\", \"gridwidth\": 2, \"linecolor\": \"white\", \"showbackground\": true, \"ticks\": \"\", \"zerolinecolor\": \"white\"}, \"zaxis\": {\"backgroundcolor\": \"#E5ECF6\", \"gridcolor\": \"white\", \"gridwidth\": 2, \"linecolor\": \"white\", \"showbackground\": true, \"ticks\": \"\", \"zerolinecolor\": \"white\"}}, \"shapedefaults\": {\"line\": {\"color\": \"#2a3f5f\"}}, \"ternary\": {\"aaxis\": {\"gridcolor\": \"white\", \"linecolor\": \"white\", \"ticks\": \"\"}, \"baxis\": {\"gridcolor\": \"white\", \"linecolor\": \"white\", \"ticks\": \"\"}, \"bgcolor\": \"#E5ECF6\", \"caxis\": {\"gridcolor\": \"white\", \"linecolor\": \"white\", \"ticks\": \"\"}}, \"title\": {\"x\": 0.05}, \"xaxis\": {\"automargin\": true, \"gridcolor\": \"white\", \"linecolor\": \"white\", \"ticks\": \"\", \"title\": {\"standoff\": 15}, \"zerolinecolor\": \"white\", \"zerolinewidth\": 2}, \"yaxis\": {\"automargin\": true, \"gridcolor\": \"white\", \"linecolor\": \"white\", \"ticks\": \"\", \"title\": {\"standoff\": 15}, \"zerolinecolor\": \"white\", \"zerolinewidth\": 2}}}, \"title\": {\"font\": {\"color\": \"#4D5663\"}, \"text\": \"AFRICAN TOP 10 GOVERNMENT OFFICIALS INFLUENCERS\"}, \"xaxis\": {\"gridcolor\": \"#E1E5ED\", \"showgrid\": true, \"tickfont\": {\"color\": \"#4D5663\"}, \"title\": {\"font\": {\"color\": \"#4D5663\"}, \"text\": \"Africa\\\"Top 10 governments influencers\"}, \"zerolinecolor\": \"#E1E5ED\"}, \"yaxis\": {\"gridcolor\": \"#E1E5ED\", \"showgrid\": true, \"tickfont\": {\"color\": \"#4D5663\"}, \"title\": {\"font\": {\"color\": \"#4D5663\"}, \"text\": \"Number of twitter followers\"}, \"zerolinecolor\": \"#E1E5ED\"}},\n",
       "                        {\"showLink\": true, \"linkText\": \"Export to plot.ly\", \"plotlyServerURL\": \"https://plot.ly\", \"responsive\": true}\n",
       "                    ).then(function(){\n",
       "                            \n",
       "var gd = document.getElementById('0ae4e926-fe86-4bbe-adfc-4580a9b36d20');\n",
       "var x = new MutationObserver(function (mutations, observer) {{\n",
       "        var display = window.getComputedStyle(gd).display;\n",
       "        if (!display || display === 'none') {{\n",
       "            console.log([gd, 'removed!']);\n",
       "            Plotly.purge(gd);\n",
       "            observer.disconnect();\n",
       "        }}\n",
       "}});\n",
       "\n",
       "// Listen for the removal of the full notebook cells\n",
       "var notebookContainer = gd.closest('#notebook-container');\n",
       "if (notebookContainer) {{\n",
       "    x.observe(notebookContainer, {childList: true});\n",
       "}}\n",
       "\n",
       "// Listen for the clearing of the current output cell\n",
       "var outputEl = gd.closest('.output');\n",
       "if (outputEl) {{\n",
       "    x.observe(outputEl, {childList: true});\n",
       "}}\n",
       "\n",
       "                        })\n",
       "                };\n",
       "                });\n",
       "            </script>\n",
       "        </div>"
      ]
     },
     "metadata": {},
     "output_type": "display_data"
    }
   ],
   "source": [
    "Top_10.iplot(kind=\"bar\",x=\"African_govt_influencers\",y=\"No. of followers\",xTitle='Africa\"Top 10 governments influencers',\n",
    "           yTitle='Number of twitter followers',title='AFRICAN TOP 10 GOVERNMENT OFFICIALS INFLUENCERS')\n"
   ]
  },
  {
   "cell_type": "code",
   "execution_count": 36,
   "metadata": {},
   "outputs": [
    {
     "data": {
      "text/html": [
       "<div>\n",
       "<style scoped>\n",
       "    .dataframe tbody tr th:only-of-type {\n",
       "        vertical-align: middle;\n",
       "    }\n",
       "\n",
       "    .dataframe tbody tr th {\n",
       "        vertical-align: top;\n",
       "    }\n",
       "\n",
       "    .dataframe thead th {\n",
       "        text-align: right;\n",
       "    }\n",
       "</style>\n",
       "<table border=\"1\" class=\"dataframe\">\n",
       "  <thead>\n",
       "    <tr style=\"text-align: right;\">\n",
       "      <th></th>\n",
       "      <th>African_govt_influencers</th>\n",
       "      <th>Twitter_name</th>\n",
       "      <th>screen_name</th>\n",
       "      <th>No. of followers</th>\n",
       "      <th>Country</th>\n",
       "      <th>No. of tweets</th>\n",
       "      <th>retweet_count</th>\n",
       "      <th>favorite_count</th>\n",
       "      <th>friends_count</th>\n",
       "      <th>status_count</th>\n",
       "      <th>Account_age</th>\n",
       "      <th>Average_tweets_per day</th>\n",
       "    </tr>\n",
       "  </thead>\n",
       "  <tbody>\n",
       "    <tr>\n",
       "      <th>0</th>\n",
       "      <td>Muhammadu Buhari</td>\n",
       "      <td>@MBuhari</td>\n",
       "      <td>MBuhari</td>\n",
       "      <td>3265113</td>\n",
       "      <td>Nigeria</td>\n",
       "      <td>3216</td>\n",
       "      <td>1575924</td>\n",
       "      <td>3780305</td>\n",
       "      <td>26</td>\n",
       "      <td>4734</td>\n",
       "      <td>2035</td>\n",
       "      <td>2.33</td>\n",
       "    </tr>\n",
       "    <tr>\n",
       "      <th>1</th>\n",
       "      <td>Paul Kagame</td>\n",
       "      <td>@PaulKagame</td>\n",
       "      <td>PaulKagame</td>\n",
       "      <td>1978560</td>\n",
       "      <td>Rwanda</td>\n",
       "      <td>2861</td>\n",
       "      <td>413392</td>\n",
       "      <td>629437</td>\n",
       "      <td>181</td>\n",
       "      <td>2861</td>\n",
       "      <td>4093</td>\n",
       "      <td>0.70</td>\n",
       "    </tr>\n",
       "    <tr>\n",
       "      <th>2</th>\n",
       "      <td>Yoweri K Museveni</td>\n",
       "      <td>@KagutaMuseveni</td>\n",
       "      <td>KagutaMuseveni</td>\n",
       "      <td>1806255</td>\n",
       "      <td>Uganda</td>\n",
       "      <td>3223</td>\n",
       "      <td>323140</td>\n",
       "      <td>1652020</td>\n",
       "      <td>28</td>\n",
       "      <td>6640</td>\n",
       "      <td>3766</td>\n",
       "      <td>1.76</td>\n",
       "    </tr>\n",
       "    <tr>\n",
       "      <th>3</th>\n",
       "      <td>PresidencyZA</td>\n",
       "      <td>@PresidencyZA</td>\n",
       "      <td>PresidencyZA</td>\n",
       "      <td>1595331</td>\n",
       "      <td>south Africa</td>\n",
       "      <td>3209</td>\n",
       "      <td>181221</td>\n",
       "      <td>366900</td>\n",
       "      <td>14</td>\n",
       "      <td>18845</td>\n",
       "      <td>4079</td>\n",
       "      <td>4.63</td>\n",
       "    </tr>\n",
       "    <tr>\n",
       "      <th>4</th>\n",
       "      <td>Nana Akufo', 'Addo</td>\n",
       "      <td>@NAkufoAddo</td>\n",
       "      <td>NAkufoAddo</td>\n",
       "      <td>1501262</td>\n",
       "      <td>Ghana</td>\n",
       "      <td>3184</td>\n",
       "      <td>701726</td>\n",
       "      <td>2072260</td>\n",
       "      <td>351</td>\n",
       "      <td>7089</td>\n",
       "      <td>3452</td>\n",
       "      <td>2.06</td>\n",
       "    </tr>\n",
       "    <tr>\n",
       "      <th>5</th>\n",
       "      <td>Macky Sall</td>\n",
       "      <td>@Macky_Sall</td>\n",
       "      <td>Macky_Sall</td>\n",
       "      <td>1370436</td>\n",
       "      <td>Senegal</td>\n",
       "      <td>2794</td>\n",
       "      <td>184784</td>\n",
       "      <td>826314</td>\n",
       "      <td>171</td>\n",
       "      <td>2796</td>\n",
       "      <td>3678</td>\n",
       "      <td>0.78</td>\n",
       "    </tr>\n",
       "    <tr>\n",
       "      <th>6</th>\n",
       "      <td>State House Kenya</td>\n",
       "      <td>@StateHouseKenya</td>\n",
       "      <td>State House Kenya</td>\n",
       "      <td>1100680</td>\n",
       "      <td>Kenya</td>\n",
       "      <td>3197</td>\n",
       "      <td>123060</td>\n",
       "      <td>448900</td>\n",
       "      <td>214</td>\n",
       "      <td>9044</td>\n",
       "      <td>3245</td>\n",
       "      <td>2.79</td>\n",
       "    </tr>\n",
       "    <tr>\n",
       "      <th>7</th>\n",
       "      <td>Alassane Ouattara</td>\n",
       "      <td>@AOuattara_PRCI</td>\n",
       "      <td>AOuattara_PRCI</td>\n",
       "      <td>827673</td>\n",
       "      <td>Ivory Coast</td>\n",
       "      <td>3221</td>\n",
       "      <td>77289</td>\n",
       "      <td>392966</td>\n",
       "      <td>23</td>\n",
       "      <td>7131</td>\n",
       "      <td>3915</td>\n",
       "      <td>1.82</td>\n",
       "    </tr>\n",
       "    <tr>\n",
       "      <th>8</th>\n",
       "      <td>President of Zimbabwe</td>\n",
       "      <td>@edmnangagwa</td>\n",
       "      <td>edmnangagwa</td>\n",
       "      <td>544351</td>\n",
       "      <td>Zimbabwe</td>\n",
       "      <td>613</td>\n",
       "      <td>171785</td>\n",
       "      <td>596256</td>\n",
       "      <td>116</td>\n",
       "      <td>628</td>\n",
       "      <td>3126</td>\n",
       "      <td>0.20</td>\n",
       "    </tr>\n",
       "    <tr>\n",
       "      <th>9</th>\n",
       "      <td>Mohamed Farmaajo</td>\n",
       "      <td>@M_Farmaajo</td>\n",
       "      <td>M_Farmaajo</td>\n",
       "      <td>421125</td>\n",
       "      <td>Somali</td>\n",
       "      <td>597</td>\n",
       "      <td>96323</td>\n",
       "      <td>308637</td>\n",
       "      <td>2</td>\n",
       "      <td>599</td>\n",
       "      <td>1302</td>\n",
       "      <td>0.46</td>\n",
       "    </tr>\n",
       "    <tr>\n",
       "      <th>10</th>\n",
       "      <td>Abdalla Hamdok</td>\n",
       "      <td>@SudanPMHamdok</td>\n",
       "      <td>SudanPMHamdok</td>\n",
       "      <td>368099</td>\n",
       "      <td>Sudan</td>\n",
       "      <td>650</td>\n",
       "      <td>238166</td>\n",
       "      <td>1099949</td>\n",
       "      <td>115</td>\n",
       "      <td>652</td>\n",
       "      <td>330</td>\n",
       "      <td>1.98</td>\n",
       "    </tr>\n",
       "    <tr>\n",
       "      <th>11</th>\n",
       "      <td>Présidence RDC</td>\n",
       "      <td>@Presidence_RDC</td>\n",
       "      <td>Presidence_RDC</td>\n",
       "      <td>338342</td>\n",
       "      <td>DRC</td>\n",
       "      <td>1645</td>\n",
       "      <td>127147</td>\n",
       "      <td>756765</td>\n",
       "      <td>125</td>\n",
       "      <td>1648</td>\n",
       "      <td>1288</td>\n",
       "      <td>1.28</td>\n",
       "    </tr>\n",
       "    <tr>\n",
       "      <th>12</th>\n",
       "      <td>Roch KABORE</td>\n",
       "      <td>@rochkaborepf</td>\n",
       "      <td>rochkaborepf</td>\n",
       "      <td>255187</td>\n",
       "      <td>Burkina Faso</td>\n",
       "      <td>3220</td>\n",
       "      <td>56071</td>\n",
       "      <td>240437</td>\n",
       "      <td>151</td>\n",
       "      <td>4496</td>\n",
       "      <td>1844</td>\n",
       "      <td>2.44</td>\n",
       "    </tr>\n",
       "    <tr>\n",
       "      <th>13</th>\n",
       "      <td>Presidence Mali</td>\n",
       "      <td>@PresidenceMali</td>\n",
       "      <td>PresidenceMali</td>\n",
       "      <td>228014</td>\n",
       "      <td>Mali</td>\n",
       "      <td>3213</td>\n",
       "      <td>41682</td>\n",
       "      <td>128478</td>\n",
       "      <td>1001</td>\n",
       "      <td>11167</td>\n",
       "      <td>3202</td>\n",
       "      <td>3.49</td>\n",
       "    </tr>\n",
       "    <tr>\n",
       "      <th>14</th>\n",
       "      <td>Hage G. Geingob</td>\n",
       "      <td>@hagegeingob</td>\n",
       "      <td>hagegeingob</td>\n",
       "      <td>191708</td>\n",
       "      <td>Namibia</td>\n",
       "      <td>1084</td>\n",
       "      <td>35130</td>\n",
       "      <td>155180</td>\n",
       "      <td>55</td>\n",
       "      <td>1085</td>\n",
       "      <td>2249</td>\n",
       "      <td>0.48</td>\n",
       "    </tr>\n",
       "    <tr>\n",
       "      <th>15</th>\n",
       "      <td>Ali Bongo Ondimba</td>\n",
       "      <td>@PresidentABO</td>\n",
       "      <td>PresidentABO</td>\n",
       "      <td>172803</td>\n",
       "      <td>Gabon</td>\n",
       "      <td>1736</td>\n",
       "      <td>76018</td>\n",
       "      <td>99125</td>\n",
       "      <td>4</td>\n",
       "      <td>1737</td>\n",
       "      <td>1987</td>\n",
       "      <td>0.87</td>\n",
       "    </tr>\n",
       "    <tr>\n",
       "      <th>16</th>\n",
       "      <td>Issoufou Mahamadou</td>\n",
       "      <td>@IssoufouMhm</td>\n",
       "      <td>IssoufouMhm</td>\n",
       "      <td>115650</td>\n",
       "      <td>Niger</td>\n",
       "      <td>348</td>\n",
       "      <td>22527</td>\n",
       "      <td>92278</td>\n",
       "      <td>17</td>\n",
       "      <td>349</td>\n",
       "      <td>1644</td>\n",
       "      <td>0.21</td>\n",
       "    </tr>\n",
       "    <tr>\n",
       "      <th>17</th>\n",
       "      <td>Amb. Willy Nyamitwe</td>\n",
       "      <td>@willynyamitwe</td>\n",
       "      <td>willynyamitwe</td>\n",
       "      <td>107165</td>\n",
       "      <td>Burundi</td>\n",
       "      <td>3212</td>\n",
       "      <td>161582</td>\n",
       "      <td>37345</td>\n",
       "      <td>4654</td>\n",
       "      <td>40660</td>\n",
       "      <td>3289</td>\n",
       "      <td>12.37</td>\n",
       "    </tr>\n",
       "    <tr>\n",
       "      <th>18</th>\n",
       "      <td>Yemane G. Meskel</td>\n",
       "      <td>@hawelti</td>\n",
       "      <td>hawelti</td>\n",
       "      <td>65881</td>\n",
       "      <td>Eritrea</td>\n",
       "      <td>3213</td>\n",
       "      <td>144291</td>\n",
       "      <td>219628</td>\n",
       "      <td>434</td>\n",
       "      <td>4710</td>\n",
       "      <td>3137</td>\n",
       "      <td>1.50</td>\n",
       "    </tr>\n",
       "    <tr>\n",
       "      <th>19</th>\n",
       "      <td>Malawi Government</td>\n",
       "      <td>@MalawiGovt</td>\n",
       "      <td>MalawiGovt</td>\n",
       "      <td>39008</td>\n",
       "      <td>Malawi</td>\n",
       "      <td>3211</td>\n",
       "      <td>38959</td>\n",
       "      <td>31410</td>\n",
       "      <td>26</td>\n",
       "      <td>4030</td>\n",
       "      <td>2440</td>\n",
       "      <td>1.65</td>\n",
       "    </tr>\n",
       "    <tr>\n",
       "      <th>20</th>\n",
       "      <td>Mohamed Cheikh El Ghazouani</td>\n",
       "      <td>@CheikhGhazouani</td>\n",
       "      <td>CheikhGhazouani</td>\n",
       "      <td>31586</td>\n",
       "      <td>Mauritania</td>\n",
       "      <td>29</td>\n",
       "      <td>8114</td>\n",
       "      <td>8114</td>\n",
       "      <td>9</td>\n",
       "      <td>30</td>\n",
       "      <td>211</td>\n",
       "      <td>0.14</td>\n",
       "    </tr>\n",
       "    <tr>\n",
       "      <th>21</th>\n",
       "      <td>Présidence du Bénin</td>\n",
       "      <td>@PresidenceBenin</td>\n",
       "      <td>PresidenceBenin</td>\n",
       "      <td>30000</td>\n",
       "      <td>Benin</td>\n",
       "      <td>3203</td>\n",
       "      <td>34712</td>\n",
       "      <td>36399</td>\n",
       "      <td>66</td>\n",
       "      <td>5647</td>\n",
       "      <td>2086</td>\n",
       "      <td>2.71</td>\n",
       "    </tr>\n",
       "    <tr>\n",
       "      <th>22</th>\n",
       "      <td>Chérif Mahamat Zene</td>\n",
       "      <td>@Cherif_MZ</td>\n",
       "      <td>Cherif_MZ</td>\n",
       "      <td>18233</td>\n",
       "      <td>Chadi</td>\n",
       "      <td>748</td>\n",
       "      <td>22656</td>\n",
       "      <td>40679</td>\n",
       "      <td>195</td>\n",
       "      <td>750</td>\n",
       "      <td>2412</td>\n",
       "      <td>0.31</td>\n",
       "    </tr>\n",
       "    <tr>\n",
       "      <th>23</th>\n",
       "      <td>President Julius Maada Bio</td>\n",
       "      <td>@PresidentBio</td>\n",
       "      <td>PresidentBio</td>\n",
       "      <td>14591</td>\n",
       "      <td>Sierra leone</td>\n",
       "      <td>83</td>\n",
       "      <td>6613</td>\n",
       "      <td>39711</td>\n",
       "      <td>0</td>\n",
       "      <td>83</td>\n",
       "      <td>831</td>\n",
       "      <td>0.10</td>\n",
       "    </tr>\n",
       "    <tr>\n",
       "      <th>24</th>\n",
       "      <td>State House of The Gambia</td>\n",
       "      <td>@Presidency_GMB</td>\n",
       "      <td>Presidency_GMB</td>\n",
       "      <td>10644</td>\n",
       "      <td>Gambia</td>\n",
       "      <td>1437</td>\n",
       "      <td>20802</td>\n",
       "      <td>25913</td>\n",
       "      <td>27</td>\n",
       "      <td>1437</td>\n",
       "      <td>789</td>\n",
       "      <td>1.83</td>\n",
       "    </tr>\n",
       "    <tr>\n",
       "      <th>25</th>\n",
       "      <td>Umaro Sissoco Embalo</td>\n",
       "      <td>@USEmbalo</td>\n",
       "      <td>USEmbalo</td>\n",
       "      <td>8460</td>\n",
       "      <td>Guines-Bissau</td>\n",
       "      <td>828</td>\n",
       "      <td>9296</td>\n",
       "      <td>15672</td>\n",
       "      <td>181</td>\n",
       "      <td>828</td>\n",
       "      <td>1522</td>\n",
       "      <td>0.54</td>\n",
       "    </tr>\n",
       "    <tr>\n",
       "      <th>26</th>\n",
       "      <td>Ministry of Health Zambia</td>\n",
       "      <td>@mohzambia</td>\n",
       "      <td>mohzambia</td>\n",
       "      <td>7092</td>\n",
       "      <td>Zambia</td>\n",
       "      <td>385</td>\n",
       "      <td>19130</td>\n",
       "      <td>2028</td>\n",
       "      <td>95</td>\n",
       "      <td>835</td>\n",
       "      <td>2705</td>\n",
       "      <td>0.31</td>\n",
       "    </tr>\n",
       "    <tr>\n",
       "      <th>27</th>\n",
       "      <td>TanzaniaSpokesperson</td>\n",
       "      <td>@TZSpokesperson</td>\n",
       "      <td>TZSpokesperson</td>\n",
       "      <td>3994</td>\n",
       "      <td>Tanzania</td>\n",
       "      <td>834</td>\n",
       "      <td>26345</td>\n",
       "      <td>15164</td>\n",
       "      <td>32</td>\n",
       "      <td>836</td>\n",
       "      <td>850</td>\n",
       "      <td>0.98</td>\n",
       "    </tr>\n",
       "    <tr>\n",
       "      <th>28</th>\n",
       "      <td>Presidente Cabo Verde</td>\n",
       "      <td>@PresidenciaCV</td>\n",
       "      <td>PresidenciaCV</td>\n",
       "      <td>3266</td>\n",
       "      <td>Cape Verde</td>\n",
       "      <td>710</td>\n",
       "      <td>265</td>\n",
       "      <td>312</td>\n",
       "      <td>885</td>\n",
       "      <td>711</td>\n",
       "      <td>2987</td>\n",
       "      <td>0.24</td>\n",
       "    </tr>\n",
       "    <tr>\n",
       "      <th>29</th>\n",
       "      <td>Angola</td>\n",
       "      <td>@angola_Mirex</td>\n",
       "      <td>angola_Mirex</td>\n",
       "      <td>3256</td>\n",
       "      <td>Angola</td>\n",
       "      <td>732</td>\n",
       "      <td>3070</td>\n",
       "      <td>7637</td>\n",
       "      <td>312</td>\n",
       "      <td>732</td>\n",
       "      <td>895</td>\n",
       "      <td>0.82</td>\n",
       "    </tr>\n",
       "    <tr>\n",
       "      <th>30</th>\n",
       "      <td>MinSantédj</td>\n",
       "      <td>@MinSantedj</td>\n",
       "      <td>MinSantedj</td>\n",
       "      <td>2914</td>\n",
       "      <td>De Djibouti</td>\n",
       "      <td>1051</td>\n",
       "      <td>43014</td>\n",
       "      <td>3692</td>\n",
       "      <td>127</td>\n",
       "      <td>1062</td>\n",
       "      <td>1077</td>\n",
       "      <td>0.99</td>\n",
       "    </tr>\n",
       "    <tr>\n",
       "      <th>31</th>\n",
       "      <td>South Sudan Government</td>\n",
       "      <td>@SouthSudanGov</td>\n",
       "      <td>SouthSudanGov</td>\n",
       "      <td>2521</td>\n",
       "      <td>South Sudan</td>\n",
       "      <td>203</td>\n",
       "      <td>2919</td>\n",
       "      <td>2151</td>\n",
       "      <td>463</td>\n",
       "      <td>209</td>\n",
       "      <td>1149</td>\n",
       "      <td>0.18</td>\n",
       "    </tr>\n",
       "    <tr>\n",
       "      <th>32</th>\n",
       "      <td>Ministère de la Santé et de l'hygiène Publique</td>\n",
       "      <td>@MSPS_Togo</td>\n",
       "      <td>MSPS_Togo</td>\n",
       "      <td>1130</td>\n",
       "      <td>cote d ivoire</td>\n",
       "      <td>44</td>\n",
       "      <td>157</td>\n",
       "      <td>217</td>\n",
       "      <td>2</td>\n",
       "      <td>44</td>\n",
       "      <td>1614</td>\n",
       "      <td>0.03</td>\n",
       "    </tr>\n",
       "    <tr>\n",
       "      <th>33</th>\n",
       "      <td>Pr. Alpha CONDÉ</td>\n",
       "      <td>@President_GN</td>\n",
       "      <td>president_gn</td>\n",
       "      <td>699</td>\n",
       "      <td>Guinea</td>\n",
       "      <td>21</td>\n",
       "      <td>442</td>\n",
       "      <td>604</td>\n",
       "      <td>29</td>\n",
       "      <td>21</td>\n",
       "      <td>213</td>\n",
       "      <td>0.10</td>\n",
       "    </tr>\n",
       "    <tr>\n",
       "      <th>34</th>\n",
       "      <td>Seychelles Ministry of Finance</td>\n",
       "      <td>@FinanceSC</td>\n",
       "      <td>FinanceSC</td>\n",
       "      <td>126</td>\n",
       "      <td>Seychelles</td>\n",
       "      <td>123</td>\n",
       "      <td>625</td>\n",
       "      <td>123</td>\n",
       "      <td>224</td>\n",
       "      <td>124</td>\n",
       "      <td>123</td>\n",
       "      <td>1.02</td>\n",
       "    </tr>\n",
       "  </tbody>\n",
       "</table>\n",
       "</div>"
      ],
      "text/plain": [
       "                          African_govt_influencers      Twitter_name  \\\n",
       "0                                 Muhammadu Buhari          @MBuhari   \n",
       "1                                      Paul Kagame       @PaulKagame   \n",
       "2                                Yoweri K Museveni   @KagutaMuseveni   \n",
       "3                                     PresidencyZA     @PresidencyZA   \n",
       "4                               Nana Akufo', 'Addo       @NAkufoAddo   \n",
       "5                                       Macky Sall       @Macky_Sall   \n",
       "6                                State House Kenya  @StateHouseKenya   \n",
       "7                                Alassane Ouattara   @AOuattara_PRCI   \n",
       "8                            President of Zimbabwe      @edmnangagwa   \n",
       "9                                 Mohamed Farmaajo       @M_Farmaajo   \n",
       "10                                  Abdalla Hamdok    @SudanPMHamdok   \n",
       "11                                  Présidence RDC   @Presidence_RDC   \n",
       "12                                     Roch KABORE     @rochkaborepf   \n",
       "13                                 Presidence Mali   @PresidenceMali   \n",
       "14                                 Hage G. Geingob      @hagegeingob   \n",
       "15                               Ali Bongo Ondimba     @PresidentABO   \n",
       "16                              Issoufou Mahamadou      @IssoufouMhm   \n",
       "17                             Amb. Willy Nyamitwe    @willynyamitwe   \n",
       "18                                Yemane G. Meskel          @hawelti   \n",
       "19                               Malawi Government       @MalawiGovt   \n",
       "20                     Mohamed Cheikh El Ghazouani  @CheikhGhazouani   \n",
       "21                             Présidence du Bénin  @PresidenceBenin   \n",
       "22                             Chérif Mahamat Zene        @Cherif_MZ   \n",
       "23                      President Julius Maada Bio     @PresidentBio   \n",
       "24                       State House of The Gambia   @Presidency_GMB   \n",
       "25                            Umaro Sissoco Embalo         @USEmbalo   \n",
       "26                       Ministry of Health Zambia        @mohzambia   \n",
       "27                            TanzaniaSpokesperson   @TZSpokesperson   \n",
       "28                           Presidente Cabo Verde    @PresidenciaCV   \n",
       "29                                          Angola     @angola_Mirex   \n",
       "30                                      MinSantédj       @MinSantedj   \n",
       "31                          South Sudan Government    @SouthSudanGov   \n",
       "32  Ministère de la Santé et de l'hygiène Publique        @MSPS_Togo   \n",
       "33                                 Pr. Alpha CONDÉ     @President_GN   \n",
       "34                  Seychelles Ministry of Finance        @FinanceSC   \n",
       "\n",
       "          screen_name  No. of followers        Country  No. of tweets  \\\n",
       "0             MBuhari           3265113        Nigeria           3216   \n",
       "1          PaulKagame           1978560         Rwanda           2861   \n",
       "2      KagutaMuseveni           1806255         Uganda           3223   \n",
       "3        PresidencyZA           1595331   south Africa           3209   \n",
       "4          NAkufoAddo           1501262          Ghana           3184   \n",
       "5          Macky_Sall           1370436        Senegal           2794   \n",
       "6   State House Kenya           1100680          Kenya           3197   \n",
       "7      AOuattara_PRCI            827673    Ivory Coast           3221   \n",
       "8         edmnangagwa            544351       Zimbabwe            613   \n",
       "9          M_Farmaajo            421125         Somali            597   \n",
       "10      SudanPMHamdok            368099          Sudan            650   \n",
       "11     Presidence_RDC            338342            DRC           1645   \n",
       "12       rochkaborepf            255187   Burkina Faso           3220   \n",
       "13     PresidenceMali            228014           Mali           3213   \n",
       "14        hagegeingob            191708        Namibia           1084   \n",
       "15       PresidentABO            172803          Gabon           1736   \n",
       "16        IssoufouMhm            115650          Niger            348   \n",
       "17      willynyamitwe            107165        Burundi           3212   \n",
       "18            hawelti             65881        Eritrea           3213   \n",
       "19         MalawiGovt             39008         Malawi           3211   \n",
       "20    CheikhGhazouani             31586     Mauritania             29   \n",
       "21    PresidenceBenin             30000          Benin           3203   \n",
       "22          Cherif_MZ             18233          Chadi            748   \n",
       "23       PresidentBio             14591   Sierra leone             83   \n",
       "24     Presidency_GMB             10644         Gambia           1437   \n",
       "25           USEmbalo              8460  Guines-Bissau            828   \n",
       "26          mohzambia              7092         Zambia            385   \n",
       "27     TZSpokesperson              3994       Tanzania            834   \n",
       "28      PresidenciaCV              3266     Cape Verde            710   \n",
       "29       angola_Mirex              3256         Angola            732   \n",
       "30         MinSantedj              2914    De Djibouti           1051   \n",
       "31      SouthSudanGov              2521    South Sudan            203   \n",
       "32          MSPS_Togo              1130  cote d ivoire             44   \n",
       "33       president_gn               699         Guinea             21   \n",
       "34          FinanceSC               126     Seychelles            123   \n",
       "\n",
       "    retweet_count  favorite_count  friends_count  status_count  Account_age  \\\n",
       "0         1575924         3780305             26          4734         2035   \n",
       "1          413392          629437            181          2861         4093   \n",
       "2          323140         1652020             28          6640         3766   \n",
       "3          181221          366900             14         18845         4079   \n",
       "4          701726         2072260            351          7089         3452   \n",
       "5          184784          826314            171          2796         3678   \n",
       "6          123060          448900            214          9044         3245   \n",
       "7           77289          392966             23          7131         3915   \n",
       "8          171785          596256            116           628         3126   \n",
       "9           96323          308637              2           599         1302   \n",
       "10         238166         1099949            115           652          330   \n",
       "11         127147          756765            125          1648         1288   \n",
       "12          56071          240437            151          4496         1844   \n",
       "13          41682          128478           1001         11167         3202   \n",
       "14          35130          155180             55          1085         2249   \n",
       "15          76018           99125              4          1737         1987   \n",
       "16          22527           92278             17           349         1644   \n",
       "17         161582           37345           4654         40660         3289   \n",
       "18         144291          219628            434          4710         3137   \n",
       "19          38959           31410             26          4030         2440   \n",
       "20           8114            8114              9            30          211   \n",
       "21          34712           36399             66          5647         2086   \n",
       "22          22656           40679            195           750         2412   \n",
       "23           6613           39711              0            83          831   \n",
       "24          20802           25913             27          1437          789   \n",
       "25           9296           15672            181           828         1522   \n",
       "26          19130            2028             95           835         2705   \n",
       "27          26345           15164             32           836          850   \n",
       "28            265             312            885           711         2987   \n",
       "29           3070            7637            312           732          895   \n",
       "30          43014            3692            127          1062         1077   \n",
       "31           2919            2151            463           209         1149   \n",
       "32            157             217              2            44         1614   \n",
       "33            442             604             29            21          213   \n",
       "34            625             123            224           124          123   \n",
       "\n",
       "    Average_tweets_per day  \n",
       "0                     2.33  \n",
       "1                     0.70  \n",
       "2                     1.76  \n",
       "3                     4.63  \n",
       "4                     2.06  \n",
       "5                     0.78  \n",
       "6                     2.79  \n",
       "7                     1.82  \n",
       "8                     0.20  \n",
       "9                     0.46  \n",
       "10                    1.98  \n",
       "11                    1.28  \n",
       "12                    2.44  \n",
       "13                    3.49  \n",
       "14                    0.48  \n",
       "15                    0.87  \n",
       "16                    0.21  \n",
       "17                   12.37  \n",
       "18                    1.50  \n",
       "19                    1.65  \n",
       "20                    0.14  \n",
       "21                    2.71  \n",
       "22                    0.31  \n",
       "23                    0.10  \n",
       "24                    1.83  \n",
       "25                    0.54  \n",
       "26                    0.31  \n",
       "27                    0.98  \n",
       "28                    0.24  \n",
       "29                    0.82  \n",
       "30                    0.99  \n",
       "31                    0.18  \n",
       "32                    0.03  \n",
       "33                    0.10  \n",
       "34                    1.02  "
      ]
     },
     "execution_count": 36,
     "metadata": {},
     "output_type": "execute_result"
    }
   ],
   "source": [
    "data2"
   ]
  },
  {
   "cell_type": "code",
   "execution_count": 90,
   "metadata": {},
   "outputs": [],
   "source": [
    "#Creating a new column by adding two columns, popularity score for african top government officials\n",
    "data2[\"popularity_score\"]=data2[\"retweet_count\"]+data2[\"favorite_count\"]"
   ]
  },
  {
   "cell_type": "code",
   "execution_count": 93,
   "metadata": {},
   "outputs": [],
   "source": [
    "#Creating anew column; Reach_score by subtracting the followers_count and the friends_count\n",
    "data2[\"reach_score\"]=data2[\"No. of followers\"]-data2[\"friends_count\"]"
   ]
  },
  {
   "cell_type": "code",
   "execution_count": 97,
   "metadata": {},
   "outputs": [],
   "source": [
    "data3=data2.sort_values(by=['popularity_score'],ascending=False)"
   ]
  },
  {
   "cell_type": "code",
   "execution_count": 98,
   "metadata": {},
   "outputs": [
    {
     "data": {
      "application/vnd.plotly.v1+json": {
       "config": {
        "linkText": "Export to plot.ly",
        "plotlyServerURL": "https://plot.ly",
        "showLink": true
       },
       "data": [
        {
         "marker": {
          "color": "rgba(255, 153, 51, 0.6)",
          "line": {
           "color": "rgba(255, 153, 51, 1.0)",
           "width": 1
          }
         },
         "name": "popularity_score",
         "orientation": "v",
         "text": "",
         "type": "bar",
         "x": [
          "MBuhari",
          "NAkufoAddo",
          "KagutaMuseveni",
          "SudanPMHamdok",
          "PaulKagame",
          "Macky_Sall",
          "Presidence_RDC",
          "edmnangagwa",
          "State House Kenya",
          "PresidencyZA",
          "AOuattara_PRCI",
          "M_Farmaajo",
          "hawelti",
          "rochkaborepf",
          "willynyamitwe",
          "hagegeingob",
          "PresidentABO",
          "PresidenceMali",
          "IssoufouMhm",
          "PresidenceBenin",
          "MalawiGovt",
          "Cherif_MZ",
          "Presidency_GMB",
          "MinSantedj",
          "PresidentBio",
          "TZSpokesperson",
          "USEmbalo",
          "mohzambia",
          "CheikhGhazouani",
          "angola_Mirex",
          "SouthSudanGov",
          "president_gn",
          "FinanceSC",
          "PresidenciaCV",
          "MSPS_Togo"
         ],
         "y": [
          5356229,
          2773986,
          1975160,
          1338115,
          1042829,
          1011098,
          883912,
          768041,
          571960,
          548121,
          470255,
          404960,
          363919,
          296508,
          198927,
          190310,
          175143,
          170160,
          114805,
          71111,
          70369,
          63335,
          46715,
          46706,
          46324,
          41509,
          24968,
          21158,
          16228,
          10707,
          5070,
          1046,
          748,
          577,
          374
         ]
        }
       ],
       "layout": {
        "legend": {
         "bgcolor": "#F5F6F9",
         "font": {
          "color": "#4D5663"
         }
        },
        "paper_bgcolor": "#F5F6F9",
        "plot_bgcolor": "#F5F6F9",
        "template": {
         "data": {
          "bar": [
           {
            "error_x": {
             "color": "#2a3f5f"
            },
            "error_y": {
             "color": "#2a3f5f"
            },
            "marker": {
             "line": {
              "color": "#E5ECF6",
              "width": 0.5
             }
            },
            "type": "bar"
           }
          ],
          "barpolar": [
           {
            "marker": {
             "line": {
              "color": "#E5ECF6",
              "width": 0.5
             }
            },
            "type": "barpolar"
           }
          ],
          "carpet": [
           {
            "aaxis": {
             "endlinecolor": "#2a3f5f",
             "gridcolor": "white",
             "linecolor": "white",
             "minorgridcolor": "white",
             "startlinecolor": "#2a3f5f"
            },
            "baxis": {
             "endlinecolor": "#2a3f5f",
             "gridcolor": "white",
             "linecolor": "white",
             "minorgridcolor": "white",
             "startlinecolor": "#2a3f5f"
            },
            "type": "carpet"
           }
          ],
          "choropleth": [
           {
            "colorbar": {
             "outlinewidth": 0,
             "ticks": ""
            },
            "type": "choropleth"
           }
          ],
          "contour": [
           {
            "colorbar": {
             "outlinewidth": 0,
             "ticks": ""
            },
            "colorscale": [
             [
              0,
              "#0d0887"
             ],
             [
              0.1111111111111111,
              "#46039f"
             ],
             [
              0.2222222222222222,
              "#7201a8"
             ],
             [
              0.3333333333333333,
              "#9c179e"
             ],
             [
              0.4444444444444444,
              "#bd3786"
             ],
             [
              0.5555555555555556,
              "#d8576b"
             ],
             [
              0.6666666666666666,
              "#ed7953"
             ],
             [
              0.7777777777777778,
              "#fb9f3a"
             ],
             [
              0.8888888888888888,
              "#fdca26"
             ],
             [
              1,
              "#f0f921"
             ]
            ],
            "type": "contour"
           }
          ],
          "contourcarpet": [
           {
            "colorbar": {
             "outlinewidth": 0,
             "ticks": ""
            },
            "type": "contourcarpet"
           }
          ],
          "heatmap": [
           {
            "colorbar": {
             "outlinewidth": 0,
             "ticks": ""
            },
            "colorscale": [
             [
              0,
              "#0d0887"
             ],
             [
              0.1111111111111111,
              "#46039f"
             ],
             [
              0.2222222222222222,
              "#7201a8"
             ],
             [
              0.3333333333333333,
              "#9c179e"
             ],
             [
              0.4444444444444444,
              "#bd3786"
             ],
             [
              0.5555555555555556,
              "#d8576b"
             ],
             [
              0.6666666666666666,
              "#ed7953"
             ],
             [
              0.7777777777777778,
              "#fb9f3a"
             ],
             [
              0.8888888888888888,
              "#fdca26"
             ],
             [
              1,
              "#f0f921"
             ]
            ],
            "type": "heatmap"
           }
          ],
          "heatmapgl": [
           {
            "colorbar": {
             "outlinewidth": 0,
             "ticks": ""
            },
            "colorscale": [
             [
              0,
              "#0d0887"
             ],
             [
              0.1111111111111111,
              "#46039f"
             ],
             [
              0.2222222222222222,
              "#7201a8"
             ],
             [
              0.3333333333333333,
              "#9c179e"
             ],
             [
              0.4444444444444444,
              "#bd3786"
             ],
             [
              0.5555555555555556,
              "#d8576b"
             ],
             [
              0.6666666666666666,
              "#ed7953"
             ],
             [
              0.7777777777777778,
              "#fb9f3a"
             ],
             [
              0.8888888888888888,
              "#fdca26"
             ],
             [
              1,
              "#f0f921"
             ]
            ],
            "type": "heatmapgl"
           }
          ],
          "histogram": [
           {
            "marker": {
             "colorbar": {
              "outlinewidth": 0,
              "ticks": ""
             }
            },
            "type": "histogram"
           }
          ],
          "histogram2d": [
           {
            "colorbar": {
             "outlinewidth": 0,
             "ticks": ""
            },
            "colorscale": [
             [
              0,
              "#0d0887"
             ],
             [
              0.1111111111111111,
              "#46039f"
             ],
             [
              0.2222222222222222,
              "#7201a8"
             ],
             [
              0.3333333333333333,
              "#9c179e"
             ],
             [
              0.4444444444444444,
              "#bd3786"
             ],
             [
              0.5555555555555556,
              "#d8576b"
             ],
             [
              0.6666666666666666,
              "#ed7953"
             ],
             [
              0.7777777777777778,
              "#fb9f3a"
             ],
             [
              0.8888888888888888,
              "#fdca26"
             ],
             [
              1,
              "#f0f921"
             ]
            ],
            "type": "histogram2d"
           }
          ],
          "histogram2dcontour": [
           {
            "colorbar": {
             "outlinewidth": 0,
             "ticks": ""
            },
            "colorscale": [
             [
              0,
              "#0d0887"
             ],
             [
              0.1111111111111111,
              "#46039f"
             ],
             [
              0.2222222222222222,
              "#7201a8"
             ],
             [
              0.3333333333333333,
              "#9c179e"
             ],
             [
              0.4444444444444444,
              "#bd3786"
             ],
             [
              0.5555555555555556,
              "#d8576b"
             ],
             [
              0.6666666666666666,
              "#ed7953"
             ],
             [
              0.7777777777777778,
              "#fb9f3a"
             ],
             [
              0.8888888888888888,
              "#fdca26"
             ],
             [
              1,
              "#f0f921"
             ]
            ],
            "type": "histogram2dcontour"
           }
          ],
          "mesh3d": [
           {
            "colorbar": {
             "outlinewidth": 0,
             "ticks": ""
            },
            "type": "mesh3d"
           }
          ],
          "parcoords": [
           {
            "line": {
             "colorbar": {
              "outlinewidth": 0,
              "ticks": ""
             }
            },
            "type": "parcoords"
           }
          ],
          "pie": [
           {
            "automargin": true,
            "type": "pie"
           }
          ],
          "scatter": [
           {
            "marker": {
             "colorbar": {
              "outlinewidth": 0,
              "ticks": ""
             }
            },
            "type": "scatter"
           }
          ],
          "scatter3d": [
           {
            "line": {
             "colorbar": {
              "outlinewidth": 0,
              "ticks": ""
             }
            },
            "marker": {
             "colorbar": {
              "outlinewidth": 0,
              "ticks": ""
             }
            },
            "type": "scatter3d"
           }
          ],
          "scattercarpet": [
           {
            "marker": {
             "colorbar": {
              "outlinewidth": 0,
              "ticks": ""
             }
            },
            "type": "scattercarpet"
           }
          ],
          "scattergeo": [
           {
            "marker": {
             "colorbar": {
              "outlinewidth": 0,
              "ticks": ""
             }
            },
            "type": "scattergeo"
           }
          ],
          "scattergl": [
           {
            "marker": {
             "colorbar": {
              "outlinewidth": 0,
              "ticks": ""
             }
            },
            "type": "scattergl"
           }
          ],
          "scattermapbox": [
           {
            "marker": {
             "colorbar": {
              "outlinewidth": 0,
              "ticks": ""
             }
            },
            "type": "scattermapbox"
           }
          ],
          "scatterpolar": [
           {
            "marker": {
             "colorbar": {
              "outlinewidth": 0,
              "ticks": ""
             }
            },
            "type": "scatterpolar"
           }
          ],
          "scatterpolargl": [
           {
            "marker": {
             "colorbar": {
              "outlinewidth": 0,
              "ticks": ""
             }
            },
            "type": "scatterpolargl"
           }
          ],
          "scatterternary": [
           {
            "marker": {
             "colorbar": {
              "outlinewidth": 0,
              "ticks": ""
             }
            },
            "type": "scatterternary"
           }
          ],
          "surface": [
           {
            "colorbar": {
             "outlinewidth": 0,
             "ticks": ""
            },
            "colorscale": [
             [
              0,
              "#0d0887"
             ],
             [
              0.1111111111111111,
              "#46039f"
             ],
             [
              0.2222222222222222,
              "#7201a8"
             ],
             [
              0.3333333333333333,
              "#9c179e"
             ],
             [
              0.4444444444444444,
              "#bd3786"
             ],
             [
              0.5555555555555556,
              "#d8576b"
             ],
             [
              0.6666666666666666,
              "#ed7953"
             ],
             [
              0.7777777777777778,
              "#fb9f3a"
             ],
             [
              0.8888888888888888,
              "#fdca26"
             ],
             [
              1,
              "#f0f921"
             ]
            ],
            "type": "surface"
           }
          ],
          "table": [
           {
            "cells": {
             "fill": {
              "color": "#EBF0F8"
             },
             "line": {
              "color": "white"
             }
            },
            "header": {
             "fill": {
              "color": "#C8D4E3"
             },
             "line": {
              "color": "white"
             }
            },
            "type": "table"
           }
          ]
         },
         "layout": {
          "annotationdefaults": {
           "arrowcolor": "#2a3f5f",
           "arrowhead": 0,
           "arrowwidth": 1
          },
          "coloraxis": {
           "colorbar": {
            "outlinewidth": 0,
            "ticks": ""
           }
          },
          "colorscale": {
           "diverging": [
            [
             0,
             "#8e0152"
            ],
            [
             0.1,
             "#c51b7d"
            ],
            [
             0.2,
             "#de77ae"
            ],
            [
             0.3,
             "#f1b6da"
            ],
            [
             0.4,
             "#fde0ef"
            ],
            [
             0.5,
             "#f7f7f7"
            ],
            [
             0.6,
             "#e6f5d0"
            ],
            [
             0.7,
             "#b8e186"
            ],
            [
             0.8,
             "#7fbc41"
            ],
            [
             0.9,
             "#4d9221"
            ],
            [
             1,
             "#276419"
            ]
           ],
           "sequential": [
            [
             0,
             "#0d0887"
            ],
            [
             0.1111111111111111,
             "#46039f"
            ],
            [
             0.2222222222222222,
             "#7201a8"
            ],
            [
             0.3333333333333333,
             "#9c179e"
            ],
            [
             0.4444444444444444,
             "#bd3786"
            ],
            [
             0.5555555555555556,
             "#d8576b"
            ],
            [
             0.6666666666666666,
             "#ed7953"
            ],
            [
             0.7777777777777778,
             "#fb9f3a"
            ],
            [
             0.8888888888888888,
             "#fdca26"
            ],
            [
             1,
             "#f0f921"
            ]
           ],
           "sequentialminus": [
            [
             0,
             "#0d0887"
            ],
            [
             0.1111111111111111,
             "#46039f"
            ],
            [
             0.2222222222222222,
             "#7201a8"
            ],
            [
             0.3333333333333333,
             "#9c179e"
            ],
            [
             0.4444444444444444,
             "#bd3786"
            ],
            [
             0.5555555555555556,
             "#d8576b"
            ],
            [
             0.6666666666666666,
             "#ed7953"
            ],
            [
             0.7777777777777778,
             "#fb9f3a"
            ],
            [
             0.8888888888888888,
             "#fdca26"
            ],
            [
             1,
             "#f0f921"
            ]
           ]
          },
          "colorway": [
           "#636efa",
           "#EF553B",
           "#00cc96",
           "#ab63fa",
           "#FFA15A",
           "#19d3f3",
           "#FF6692",
           "#B6E880",
           "#FF97FF",
           "#FECB52"
          ],
          "font": {
           "color": "#2a3f5f"
          },
          "geo": {
           "bgcolor": "white",
           "lakecolor": "white",
           "landcolor": "#E5ECF6",
           "showlakes": true,
           "showland": true,
           "subunitcolor": "white"
          },
          "hoverlabel": {
           "align": "left"
          },
          "hovermode": "closest",
          "mapbox": {
           "style": "light"
          },
          "paper_bgcolor": "white",
          "plot_bgcolor": "#E5ECF6",
          "polar": {
           "angularaxis": {
            "gridcolor": "white",
            "linecolor": "white",
            "ticks": ""
           },
           "bgcolor": "#E5ECF6",
           "radialaxis": {
            "gridcolor": "white",
            "linecolor": "white",
            "ticks": ""
           }
          },
          "scene": {
           "xaxis": {
            "backgroundcolor": "#E5ECF6",
            "gridcolor": "white",
            "gridwidth": 2,
            "linecolor": "white",
            "showbackground": true,
            "ticks": "",
            "zerolinecolor": "white"
           },
           "yaxis": {
            "backgroundcolor": "#E5ECF6",
            "gridcolor": "white",
            "gridwidth": 2,
            "linecolor": "white",
            "showbackground": true,
            "ticks": "",
            "zerolinecolor": "white"
           },
           "zaxis": {
            "backgroundcolor": "#E5ECF6",
            "gridcolor": "white",
            "gridwidth": 2,
            "linecolor": "white",
            "showbackground": true,
            "ticks": "",
            "zerolinecolor": "white"
           }
          },
          "shapedefaults": {
           "line": {
            "color": "#2a3f5f"
           }
          },
          "ternary": {
           "aaxis": {
            "gridcolor": "white",
            "linecolor": "white",
            "ticks": ""
           },
           "baxis": {
            "gridcolor": "white",
            "linecolor": "white",
            "ticks": ""
           },
           "bgcolor": "#E5ECF6",
           "caxis": {
            "gridcolor": "white",
            "linecolor": "white",
            "ticks": ""
           }
          },
          "title": {
           "x": 0.05
          },
          "xaxis": {
           "automargin": true,
           "gridcolor": "white",
           "linecolor": "white",
           "ticks": "",
           "title": {
            "standoff": 15
           },
           "zerolinecolor": "white",
           "zerolinewidth": 2
          },
          "yaxis": {
           "automargin": true,
           "gridcolor": "white",
           "linecolor": "white",
           "ticks": "",
           "title": {
            "standoff": 15
           },
           "zerolinecolor": "white",
           "zerolinewidth": 2
          }
         }
        },
        "title": {
         "font": {
          "color": "#4D5663"
         },
         "text": "AFRICA'S TWITTER GOVERNMENT OFFICIALS INFLUENCERS:POPULARITY_SCORE"
        },
        "xaxis": {
         "gridcolor": "#E1E5ED",
         "showgrid": true,
         "tickfont": {
          "color": "#4D5663"
         },
         "title": {
          "font": {
           "color": "#4D5663"
          },
          "text": "Africa Govt Twitter influencers"
         },
         "zerolinecolor": "#E1E5ED"
        },
        "yaxis": {
         "gridcolor": "#E1E5ED",
         "showgrid": true,
         "tickfont": {
          "color": "#4D5663"
         },
         "title": {
          "font": {
           "color": "#4D5663"
          },
          "text": "popularity_score"
         },
         "zerolinecolor": "#E1E5ED"
        }
       }
      },
      "text/html": [
       "<div>\n",
       "        \n",
       "        \n",
       "            <div id=\"a3941163-d6a5-4101-b213-50f18cc8e4fa\" class=\"plotly-graph-div\" style=\"height:525px; width:100%;\"></div>\n",
       "            <script type=\"text/javascript\">\n",
       "                require([\"plotly\"], function(Plotly) {\n",
       "                    window.PLOTLYENV=window.PLOTLYENV || {};\n",
       "                    window.PLOTLYENV.BASE_URL='https://plot.ly';\n",
       "                    \n",
       "                if (document.getElementById(\"a3941163-d6a5-4101-b213-50f18cc8e4fa\")) {\n",
       "                    Plotly.newPlot(\n",
       "                        'a3941163-d6a5-4101-b213-50f18cc8e4fa',\n",
       "                        [{\"marker\": {\"color\": \"rgba(255, 153, 51, 0.6)\", \"line\": {\"color\": \"rgba(255, 153, 51, 1.0)\", \"width\": 1}}, \"name\": \"popularity_score\", \"orientation\": \"v\", \"text\": \"\", \"type\": \"bar\", \"x\": [\"MBuhari\", \"NAkufoAddo\", \"KagutaMuseveni\", \"SudanPMHamdok\", \"PaulKagame\", \"Macky_Sall\", \"Presidence_RDC\", \"edmnangagwa\", \"State House Kenya\", \"PresidencyZA\", \"AOuattara_PRCI\", \"M_Farmaajo\", \"hawelti\", \"rochkaborepf\", \"willynyamitwe\", \"hagegeingob\", \"PresidentABO\", \"PresidenceMali\", \"IssoufouMhm\", \"PresidenceBenin\", \"MalawiGovt\", \"Cherif_MZ\", \"Presidency_GMB\", \"MinSantedj\", \"PresidentBio\", \"TZSpokesperson\", \"USEmbalo\", \"mohzambia\", \"CheikhGhazouani\", \"angola_Mirex\", \"SouthSudanGov\", \"president_gn\", \"FinanceSC\", \"PresidenciaCV\", \"MSPS_Togo\"], \"y\": [5356229, 2773986, 1975160, 1338115, 1042829, 1011098, 883912, 768041, 571960, 548121, 470255, 404960, 363919, 296508, 198927, 190310, 175143, 170160, 114805, 71111, 70369, 63335, 46715, 46706, 46324, 41509, 24968, 21158, 16228, 10707, 5070, 1046, 748, 577, 374]}],\n",
       "                        {\"legend\": {\"bgcolor\": \"#F5F6F9\", \"font\": {\"color\": \"#4D5663\"}}, \"paper_bgcolor\": \"#F5F6F9\", \"plot_bgcolor\": \"#F5F6F9\", \"template\": {\"data\": {\"bar\": [{\"error_x\": {\"color\": \"#2a3f5f\"}, \"error_y\": {\"color\": \"#2a3f5f\"}, \"marker\": {\"line\": {\"color\": \"#E5ECF6\", \"width\": 0.5}}, \"type\": \"bar\"}], \"barpolar\": [{\"marker\": {\"line\": {\"color\": \"#E5ECF6\", \"width\": 0.5}}, \"type\": \"barpolar\"}], \"carpet\": [{\"aaxis\": {\"endlinecolor\": \"#2a3f5f\", \"gridcolor\": \"white\", \"linecolor\": \"white\", \"minorgridcolor\": \"white\", \"startlinecolor\": \"#2a3f5f\"}, \"baxis\": {\"endlinecolor\": \"#2a3f5f\", \"gridcolor\": \"white\", \"linecolor\": \"white\", \"minorgridcolor\": \"white\", \"startlinecolor\": \"#2a3f5f\"}, \"type\": \"carpet\"}], \"choropleth\": [{\"colorbar\": {\"outlinewidth\": 0, \"ticks\": \"\"}, \"type\": \"choropleth\"}], \"contour\": [{\"colorbar\": {\"outlinewidth\": 0, \"ticks\": \"\"}, \"colorscale\": [[0.0, \"#0d0887\"], [0.1111111111111111, \"#46039f\"], [0.2222222222222222, \"#7201a8\"], [0.3333333333333333, \"#9c179e\"], [0.4444444444444444, \"#bd3786\"], [0.5555555555555556, \"#d8576b\"], [0.6666666666666666, \"#ed7953\"], [0.7777777777777778, \"#fb9f3a\"], [0.8888888888888888, \"#fdca26\"], [1.0, \"#f0f921\"]], \"type\": \"contour\"}], \"contourcarpet\": [{\"colorbar\": {\"outlinewidth\": 0, \"ticks\": \"\"}, \"type\": \"contourcarpet\"}], \"heatmap\": [{\"colorbar\": {\"outlinewidth\": 0, \"ticks\": \"\"}, \"colorscale\": [[0.0, \"#0d0887\"], [0.1111111111111111, \"#46039f\"], [0.2222222222222222, \"#7201a8\"], [0.3333333333333333, \"#9c179e\"], [0.4444444444444444, \"#bd3786\"], [0.5555555555555556, \"#d8576b\"], [0.6666666666666666, \"#ed7953\"], [0.7777777777777778, \"#fb9f3a\"], [0.8888888888888888, \"#fdca26\"], [1.0, \"#f0f921\"]], \"type\": \"heatmap\"}], \"heatmapgl\": [{\"colorbar\": {\"outlinewidth\": 0, \"ticks\": \"\"}, \"colorscale\": [[0.0, \"#0d0887\"], [0.1111111111111111, \"#46039f\"], [0.2222222222222222, \"#7201a8\"], [0.3333333333333333, \"#9c179e\"], [0.4444444444444444, \"#bd3786\"], [0.5555555555555556, \"#d8576b\"], [0.6666666666666666, \"#ed7953\"], [0.7777777777777778, \"#fb9f3a\"], [0.8888888888888888, \"#fdca26\"], [1.0, \"#f0f921\"]], \"type\": \"heatmapgl\"}], \"histogram\": [{\"marker\": {\"colorbar\": {\"outlinewidth\": 0, \"ticks\": \"\"}}, \"type\": \"histogram\"}], \"histogram2d\": [{\"colorbar\": {\"outlinewidth\": 0, \"ticks\": \"\"}, \"colorscale\": [[0.0, \"#0d0887\"], [0.1111111111111111, \"#46039f\"], [0.2222222222222222, \"#7201a8\"], [0.3333333333333333, \"#9c179e\"], [0.4444444444444444, \"#bd3786\"], [0.5555555555555556, \"#d8576b\"], [0.6666666666666666, \"#ed7953\"], [0.7777777777777778, \"#fb9f3a\"], [0.8888888888888888, \"#fdca26\"], [1.0, \"#f0f921\"]], \"type\": \"histogram2d\"}], \"histogram2dcontour\": [{\"colorbar\": {\"outlinewidth\": 0, \"ticks\": \"\"}, \"colorscale\": [[0.0, \"#0d0887\"], [0.1111111111111111, \"#46039f\"], [0.2222222222222222, \"#7201a8\"], [0.3333333333333333, \"#9c179e\"], [0.4444444444444444, \"#bd3786\"], [0.5555555555555556, \"#d8576b\"], [0.6666666666666666, \"#ed7953\"], [0.7777777777777778, \"#fb9f3a\"], [0.8888888888888888, \"#fdca26\"], [1.0, \"#f0f921\"]], \"type\": \"histogram2dcontour\"}], \"mesh3d\": [{\"colorbar\": {\"outlinewidth\": 0, \"ticks\": \"\"}, \"type\": \"mesh3d\"}], \"parcoords\": [{\"line\": {\"colorbar\": {\"outlinewidth\": 0, \"ticks\": \"\"}}, \"type\": \"parcoords\"}], \"pie\": [{\"automargin\": true, \"type\": \"pie\"}], \"scatter\": [{\"marker\": {\"colorbar\": {\"outlinewidth\": 0, \"ticks\": \"\"}}, \"type\": \"scatter\"}], \"scatter3d\": [{\"line\": {\"colorbar\": {\"outlinewidth\": 0, \"ticks\": \"\"}}, \"marker\": {\"colorbar\": {\"outlinewidth\": 0, \"ticks\": \"\"}}, \"type\": \"scatter3d\"}], \"scattercarpet\": [{\"marker\": {\"colorbar\": {\"outlinewidth\": 0, \"ticks\": \"\"}}, \"type\": \"scattercarpet\"}], \"scattergeo\": [{\"marker\": {\"colorbar\": {\"outlinewidth\": 0, \"ticks\": \"\"}}, \"type\": \"scattergeo\"}], \"scattergl\": [{\"marker\": {\"colorbar\": {\"outlinewidth\": 0, \"ticks\": \"\"}}, \"type\": \"scattergl\"}], \"scattermapbox\": [{\"marker\": {\"colorbar\": {\"outlinewidth\": 0, \"ticks\": \"\"}}, \"type\": \"scattermapbox\"}], \"scatterpolar\": [{\"marker\": {\"colorbar\": {\"outlinewidth\": 0, \"ticks\": \"\"}}, \"type\": \"scatterpolar\"}], \"scatterpolargl\": [{\"marker\": {\"colorbar\": {\"outlinewidth\": 0, \"ticks\": \"\"}}, \"type\": \"scatterpolargl\"}], \"scatterternary\": [{\"marker\": {\"colorbar\": {\"outlinewidth\": 0, \"ticks\": \"\"}}, \"type\": \"scatterternary\"}], \"surface\": [{\"colorbar\": {\"outlinewidth\": 0, \"ticks\": \"\"}, \"colorscale\": [[0.0, \"#0d0887\"], [0.1111111111111111, \"#46039f\"], [0.2222222222222222, \"#7201a8\"], [0.3333333333333333, \"#9c179e\"], [0.4444444444444444, \"#bd3786\"], [0.5555555555555556, \"#d8576b\"], [0.6666666666666666, \"#ed7953\"], [0.7777777777777778, \"#fb9f3a\"], [0.8888888888888888, \"#fdca26\"], [1.0, \"#f0f921\"]], \"type\": \"surface\"}], \"table\": [{\"cells\": {\"fill\": {\"color\": \"#EBF0F8\"}, \"line\": {\"color\": \"white\"}}, \"header\": {\"fill\": {\"color\": \"#C8D4E3\"}, \"line\": {\"color\": \"white\"}}, \"type\": \"table\"}]}, \"layout\": {\"annotationdefaults\": {\"arrowcolor\": \"#2a3f5f\", \"arrowhead\": 0, \"arrowwidth\": 1}, \"coloraxis\": {\"colorbar\": {\"outlinewidth\": 0, \"ticks\": \"\"}}, \"colorscale\": {\"diverging\": [[0, \"#8e0152\"], [0.1, \"#c51b7d\"], [0.2, \"#de77ae\"], [0.3, \"#f1b6da\"], [0.4, \"#fde0ef\"], [0.5, \"#f7f7f7\"], [0.6, \"#e6f5d0\"], [0.7, \"#b8e186\"], [0.8, \"#7fbc41\"], [0.9, \"#4d9221\"], [1, \"#276419\"]], \"sequential\": [[0.0, \"#0d0887\"], [0.1111111111111111, \"#46039f\"], [0.2222222222222222, \"#7201a8\"], [0.3333333333333333, \"#9c179e\"], [0.4444444444444444, \"#bd3786\"], [0.5555555555555556, \"#d8576b\"], [0.6666666666666666, \"#ed7953\"], [0.7777777777777778, \"#fb9f3a\"], [0.8888888888888888, \"#fdca26\"], [1.0, \"#f0f921\"]], \"sequentialminus\": [[0.0, \"#0d0887\"], [0.1111111111111111, \"#46039f\"], [0.2222222222222222, \"#7201a8\"], [0.3333333333333333, \"#9c179e\"], [0.4444444444444444, \"#bd3786\"], [0.5555555555555556, \"#d8576b\"], [0.6666666666666666, \"#ed7953\"], [0.7777777777777778, \"#fb9f3a\"], [0.8888888888888888, \"#fdca26\"], [1.0, \"#f0f921\"]]}, \"colorway\": [\"#636efa\", \"#EF553B\", \"#00cc96\", \"#ab63fa\", \"#FFA15A\", \"#19d3f3\", \"#FF6692\", \"#B6E880\", \"#FF97FF\", \"#FECB52\"], \"font\": {\"color\": \"#2a3f5f\"}, \"geo\": {\"bgcolor\": \"white\", \"lakecolor\": \"white\", \"landcolor\": \"#E5ECF6\", \"showlakes\": true, \"showland\": true, \"subunitcolor\": \"white\"}, \"hoverlabel\": {\"align\": \"left\"}, \"hovermode\": \"closest\", \"mapbox\": {\"style\": \"light\"}, \"paper_bgcolor\": \"white\", \"plot_bgcolor\": \"#E5ECF6\", \"polar\": {\"angularaxis\": {\"gridcolor\": \"white\", \"linecolor\": \"white\", \"ticks\": \"\"}, \"bgcolor\": \"#E5ECF6\", \"radialaxis\": {\"gridcolor\": \"white\", \"linecolor\": \"white\", \"ticks\": \"\"}}, \"scene\": {\"xaxis\": {\"backgroundcolor\": \"#E5ECF6\", \"gridcolor\": \"white\", \"gridwidth\": 2, \"linecolor\": \"white\", \"showbackground\": true, \"ticks\": \"\", \"zerolinecolor\": \"white\"}, \"yaxis\": {\"backgroundcolor\": \"#E5ECF6\", \"gridcolor\": \"white\", \"gridwidth\": 2, \"linecolor\": \"white\", \"showbackground\": true, \"ticks\": \"\", \"zerolinecolor\": \"white\"}, \"zaxis\": {\"backgroundcolor\": \"#E5ECF6\", \"gridcolor\": \"white\", \"gridwidth\": 2, \"linecolor\": \"white\", \"showbackground\": true, \"ticks\": \"\", \"zerolinecolor\": \"white\"}}, \"shapedefaults\": {\"line\": {\"color\": \"#2a3f5f\"}}, \"ternary\": {\"aaxis\": {\"gridcolor\": \"white\", \"linecolor\": \"white\", \"ticks\": \"\"}, \"baxis\": {\"gridcolor\": \"white\", \"linecolor\": \"white\", \"ticks\": \"\"}, \"bgcolor\": \"#E5ECF6\", \"caxis\": {\"gridcolor\": \"white\", \"linecolor\": \"white\", \"ticks\": \"\"}}, \"title\": {\"x\": 0.05}, \"xaxis\": {\"automargin\": true, \"gridcolor\": \"white\", \"linecolor\": \"white\", \"ticks\": \"\", \"title\": {\"standoff\": 15}, \"zerolinecolor\": \"white\", \"zerolinewidth\": 2}, \"yaxis\": {\"automargin\": true, \"gridcolor\": \"white\", \"linecolor\": \"white\", \"ticks\": \"\", \"title\": {\"standoff\": 15}, \"zerolinecolor\": \"white\", \"zerolinewidth\": 2}}}, \"title\": {\"font\": {\"color\": \"#4D5663\"}, \"text\": \"AFRICA'S TWITTER GOVERNMENT OFFICIALS INFLUENCERS:POPULARITY_SCORE\"}, \"xaxis\": {\"gridcolor\": \"#E1E5ED\", \"showgrid\": true, \"tickfont\": {\"color\": \"#4D5663\"}, \"title\": {\"font\": {\"color\": \"#4D5663\"}, \"text\": \"Africa Govt Twitter influencers\"}, \"zerolinecolor\": \"#E1E5ED\"}, \"yaxis\": {\"gridcolor\": \"#E1E5ED\", \"showgrid\": true, \"tickfont\": {\"color\": \"#4D5663\"}, \"title\": {\"font\": {\"color\": \"#4D5663\"}, \"text\": \"popularity_score\"}, \"zerolinecolor\": \"#E1E5ED\"}},\n",
       "                        {\"showLink\": true, \"linkText\": \"Export to plot.ly\", \"plotlyServerURL\": \"https://plot.ly\", \"responsive\": true}\n",
       "                    ).then(function(){\n",
       "                            \n",
       "var gd = document.getElementById('a3941163-d6a5-4101-b213-50f18cc8e4fa');\n",
       "var x = new MutationObserver(function (mutations, observer) {{\n",
       "        var display = window.getComputedStyle(gd).display;\n",
       "        if (!display || display === 'none') {{\n",
       "            console.log([gd, 'removed!']);\n",
       "            Plotly.purge(gd);\n",
       "            observer.disconnect();\n",
       "        }}\n",
       "}});\n",
       "\n",
       "// Listen for the removal of the full notebook cells\n",
       "var notebookContainer = gd.closest('#notebook-container');\n",
       "if (notebookContainer) {{\n",
       "    x.observe(notebookContainer, {childList: true});\n",
       "}}\n",
       "\n",
       "// Listen for the clearing of the current output cell\n",
       "var outputEl = gd.closest('.output');\n",
       "if (outputEl) {{\n",
       "    x.observe(outputEl, {childList: true});\n",
       "}}\n",
       "\n",
       "                        })\n",
       "                };\n",
       "                });\n",
       "            </script>\n",
       "        </div>"
      ]
     },
     "metadata": {},
     "output_type": "display_data"
    }
   ],
   "source": [
    "#ploting the popularity score verses the twitter names\n",
    "data3.iplot(kind=\"bar\",x=\"screen_name\",y=\"popularity_score\",xTitle='Africa Govt Twitter influencers',\n",
    "           yTitle='popularity_score',title=\"AFRICA'S TWITTER GOVERNMENT OFFICIALS INFLUENCERS:POPULARITY_SCORE\")"
   ]
  },
  {
   "cell_type": "code",
   "execution_count": 96,
   "metadata": {},
   "outputs": [
    {
     "data": {
      "application/vnd.plotly.v1+json": {
       "config": {
        "linkText": "Export to plot.ly",
        "plotlyServerURL": "https://plot.ly",
        "showLink": true
       },
       "data": [
        {
         "marker": {
          "color": "rgba(255, 153, 51, 0.6)",
          "line": {
           "color": "rgba(255, 153, 51, 1.0)",
           "width": 1
          }
         },
         "name": "reach_score",
         "orientation": "v",
         "text": "",
         "type": "bar",
         "x": [
          "MBuhari",
          "PaulKagame",
          "KagutaMuseveni",
          "PresidencyZA",
          "NAkufoAddo",
          "Macky_Sall",
          "State House Kenya",
          "AOuattara_PRCI",
          "edmnangagwa",
          "M_Farmaajo",
          "SudanPMHamdok",
          "Presidence_RDC",
          "rochkaborepf",
          "PresidenceMali",
          "hagegeingob",
          "PresidentABO",
          "IssoufouMhm",
          "willynyamitwe",
          "hawelti",
          "MalawiGovt",
          "CheikhGhazouani",
          "PresidenceBenin",
          "Cherif_MZ",
          "PresidentBio",
          "Presidency_GMB",
          "USEmbalo",
          "mohzambia",
          "TZSpokesperson",
          "PresidenciaCV",
          "angola_Mirex",
          "MinSantedj",
          "SouthSudanGov",
          "MSPS_Togo",
          "president_gn",
          "FinanceSC"
         ],
         "y": [
          3265087,
          1978379,
          1806227,
          1595317,
          1500911,
          1370265,
          1100466,
          827650,
          544235,
          421123,
          367984,
          338217,
          255036,
          227013,
          191653,
          172799,
          115633,
          102511,
          65447,
          38982,
          31577,
          29934,
          18038,
          14591,
          10617,
          8279,
          6997,
          3962,
          2381,
          2944,
          2787,
          2058,
          1128,
          670,
          -98
         ]
        }
       ],
       "layout": {
        "legend": {
         "bgcolor": "#F5F6F9",
         "font": {
          "color": "#4D5663"
         }
        },
        "paper_bgcolor": "#F5F6F9",
        "plot_bgcolor": "#F5F6F9",
        "template": {
         "data": {
          "bar": [
           {
            "error_x": {
             "color": "#2a3f5f"
            },
            "error_y": {
             "color": "#2a3f5f"
            },
            "marker": {
             "line": {
              "color": "#E5ECF6",
              "width": 0.5
             }
            },
            "type": "bar"
           }
          ],
          "barpolar": [
           {
            "marker": {
             "line": {
              "color": "#E5ECF6",
              "width": 0.5
             }
            },
            "type": "barpolar"
           }
          ],
          "carpet": [
           {
            "aaxis": {
             "endlinecolor": "#2a3f5f",
             "gridcolor": "white",
             "linecolor": "white",
             "minorgridcolor": "white",
             "startlinecolor": "#2a3f5f"
            },
            "baxis": {
             "endlinecolor": "#2a3f5f",
             "gridcolor": "white",
             "linecolor": "white",
             "minorgridcolor": "white",
             "startlinecolor": "#2a3f5f"
            },
            "type": "carpet"
           }
          ],
          "choropleth": [
           {
            "colorbar": {
             "outlinewidth": 0,
             "ticks": ""
            },
            "type": "choropleth"
           }
          ],
          "contour": [
           {
            "colorbar": {
             "outlinewidth": 0,
             "ticks": ""
            },
            "colorscale": [
             [
              0,
              "#0d0887"
             ],
             [
              0.1111111111111111,
              "#46039f"
             ],
             [
              0.2222222222222222,
              "#7201a8"
             ],
             [
              0.3333333333333333,
              "#9c179e"
             ],
             [
              0.4444444444444444,
              "#bd3786"
             ],
             [
              0.5555555555555556,
              "#d8576b"
             ],
             [
              0.6666666666666666,
              "#ed7953"
             ],
             [
              0.7777777777777778,
              "#fb9f3a"
             ],
             [
              0.8888888888888888,
              "#fdca26"
             ],
             [
              1,
              "#f0f921"
             ]
            ],
            "type": "contour"
           }
          ],
          "contourcarpet": [
           {
            "colorbar": {
             "outlinewidth": 0,
             "ticks": ""
            },
            "type": "contourcarpet"
           }
          ],
          "heatmap": [
           {
            "colorbar": {
             "outlinewidth": 0,
             "ticks": ""
            },
            "colorscale": [
             [
              0,
              "#0d0887"
             ],
             [
              0.1111111111111111,
              "#46039f"
             ],
             [
              0.2222222222222222,
              "#7201a8"
             ],
             [
              0.3333333333333333,
              "#9c179e"
             ],
             [
              0.4444444444444444,
              "#bd3786"
             ],
             [
              0.5555555555555556,
              "#d8576b"
             ],
             [
              0.6666666666666666,
              "#ed7953"
             ],
             [
              0.7777777777777778,
              "#fb9f3a"
             ],
             [
              0.8888888888888888,
              "#fdca26"
             ],
             [
              1,
              "#f0f921"
             ]
            ],
            "type": "heatmap"
           }
          ],
          "heatmapgl": [
           {
            "colorbar": {
             "outlinewidth": 0,
             "ticks": ""
            },
            "colorscale": [
             [
              0,
              "#0d0887"
             ],
             [
              0.1111111111111111,
              "#46039f"
             ],
             [
              0.2222222222222222,
              "#7201a8"
             ],
             [
              0.3333333333333333,
              "#9c179e"
             ],
             [
              0.4444444444444444,
              "#bd3786"
             ],
             [
              0.5555555555555556,
              "#d8576b"
             ],
             [
              0.6666666666666666,
              "#ed7953"
             ],
             [
              0.7777777777777778,
              "#fb9f3a"
             ],
             [
              0.8888888888888888,
              "#fdca26"
             ],
             [
              1,
              "#f0f921"
             ]
            ],
            "type": "heatmapgl"
           }
          ],
          "histogram": [
           {
            "marker": {
             "colorbar": {
              "outlinewidth": 0,
              "ticks": ""
             }
            },
            "type": "histogram"
           }
          ],
          "histogram2d": [
           {
            "colorbar": {
             "outlinewidth": 0,
             "ticks": ""
            },
            "colorscale": [
             [
              0,
              "#0d0887"
             ],
             [
              0.1111111111111111,
              "#46039f"
             ],
             [
              0.2222222222222222,
              "#7201a8"
             ],
             [
              0.3333333333333333,
              "#9c179e"
             ],
             [
              0.4444444444444444,
              "#bd3786"
             ],
             [
              0.5555555555555556,
              "#d8576b"
             ],
             [
              0.6666666666666666,
              "#ed7953"
             ],
             [
              0.7777777777777778,
              "#fb9f3a"
             ],
             [
              0.8888888888888888,
              "#fdca26"
             ],
             [
              1,
              "#f0f921"
             ]
            ],
            "type": "histogram2d"
           }
          ],
          "histogram2dcontour": [
           {
            "colorbar": {
             "outlinewidth": 0,
             "ticks": ""
            },
            "colorscale": [
             [
              0,
              "#0d0887"
             ],
             [
              0.1111111111111111,
              "#46039f"
             ],
             [
              0.2222222222222222,
              "#7201a8"
             ],
             [
              0.3333333333333333,
              "#9c179e"
             ],
             [
              0.4444444444444444,
              "#bd3786"
             ],
             [
              0.5555555555555556,
              "#d8576b"
             ],
             [
              0.6666666666666666,
              "#ed7953"
             ],
             [
              0.7777777777777778,
              "#fb9f3a"
             ],
             [
              0.8888888888888888,
              "#fdca26"
             ],
             [
              1,
              "#f0f921"
             ]
            ],
            "type": "histogram2dcontour"
           }
          ],
          "mesh3d": [
           {
            "colorbar": {
             "outlinewidth": 0,
             "ticks": ""
            },
            "type": "mesh3d"
           }
          ],
          "parcoords": [
           {
            "line": {
             "colorbar": {
              "outlinewidth": 0,
              "ticks": ""
             }
            },
            "type": "parcoords"
           }
          ],
          "pie": [
           {
            "automargin": true,
            "type": "pie"
           }
          ],
          "scatter": [
           {
            "marker": {
             "colorbar": {
              "outlinewidth": 0,
              "ticks": ""
             }
            },
            "type": "scatter"
           }
          ],
          "scatter3d": [
           {
            "line": {
             "colorbar": {
              "outlinewidth": 0,
              "ticks": ""
             }
            },
            "marker": {
             "colorbar": {
              "outlinewidth": 0,
              "ticks": ""
             }
            },
            "type": "scatter3d"
           }
          ],
          "scattercarpet": [
           {
            "marker": {
             "colorbar": {
              "outlinewidth": 0,
              "ticks": ""
             }
            },
            "type": "scattercarpet"
           }
          ],
          "scattergeo": [
           {
            "marker": {
             "colorbar": {
              "outlinewidth": 0,
              "ticks": ""
             }
            },
            "type": "scattergeo"
           }
          ],
          "scattergl": [
           {
            "marker": {
             "colorbar": {
              "outlinewidth": 0,
              "ticks": ""
             }
            },
            "type": "scattergl"
           }
          ],
          "scattermapbox": [
           {
            "marker": {
             "colorbar": {
              "outlinewidth": 0,
              "ticks": ""
             }
            },
            "type": "scattermapbox"
           }
          ],
          "scatterpolar": [
           {
            "marker": {
             "colorbar": {
              "outlinewidth": 0,
              "ticks": ""
             }
            },
            "type": "scatterpolar"
           }
          ],
          "scatterpolargl": [
           {
            "marker": {
             "colorbar": {
              "outlinewidth": 0,
              "ticks": ""
             }
            },
            "type": "scatterpolargl"
           }
          ],
          "scatterternary": [
           {
            "marker": {
             "colorbar": {
              "outlinewidth": 0,
              "ticks": ""
             }
            },
            "type": "scatterternary"
           }
          ],
          "surface": [
           {
            "colorbar": {
             "outlinewidth": 0,
             "ticks": ""
            },
            "colorscale": [
             [
              0,
              "#0d0887"
             ],
             [
              0.1111111111111111,
              "#46039f"
             ],
             [
              0.2222222222222222,
              "#7201a8"
             ],
             [
              0.3333333333333333,
              "#9c179e"
             ],
             [
              0.4444444444444444,
              "#bd3786"
             ],
             [
              0.5555555555555556,
              "#d8576b"
             ],
             [
              0.6666666666666666,
              "#ed7953"
             ],
             [
              0.7777777777777778,
              "#fb9f3a"
             ],
             [
              0.8888888888888888,
              "#fdca26"
             ],
             [
              1,
              "#f0f921"
             ]
            ],
            "type": "surface"
           }
          ],
          "table": [
           {
            "cells": {
             "fill": {
              "color": "#EBF0F8"
             },
             "line": {
              "color": "white"
             }
            },
            "header": {
             "fill": {
              "color": "#C8D4E3"
             },
             "line": {
              "color": "white"
             }
            },
            "type": "table"
           }
          ]
         },
         "layout": {
          "annotationdefaults": {
           "arrowcolor": "#2a3f5f",
           "arrowhead": 0,
           "arrowwidth": 1
          },
          "coloraxis": {
           "colorbar": {
            "outlinewidth": 0,
            "ticks": ""
           }
          },
          "colorscale": {
           "diverging": [
            [
             0,
             "#8e0152"
            ],
            [
             0.1,
             "#c51b7d"
            ],
            [
             0.2,
             "#de77ae"
            ],
            [
             0.3,
             "#f1b6da"
            ],
            [
             0.4,
             "#fde0ef"
            ],
            [
             0.5,
             "#f7f7f7"
            ],
            [
             0.6,
             "#e6f5d0"
            ],
            [
             0.7,
             "#b8e186"
            ],
            [
             0.8,
             "#7fbc41"
            ],
            [
             0.9,
             "#4d9221"
            ],
            [
             1,
             "#276419"
            ]
           ],
           "sequential": [
            [
             0,
             "#0d0887"
            ],
            [
             0.1111111111111111,
             "#46039f"
            ],
            [
             0.2222222222222222,
             "#7201a8"
            ],
            [
             0.3333333333333333,
             "#9c179e"
            ],
            [
             0.4444444444444444,
             "#bd3786"
            ],
            [
             0.5555555555555556,
             "#d8576b"
            ],
            [
             0.6666666666666666,
             "#ed7953"
            ],
            [
             0.7777777777777778,
             "#fb9f3a"
            ],
            [
             0.8888888888888888,
             "#fdca26"
            ],
            [
             1,
             "#f0f921"
            ]
           ],
           "sequentialminus": [
            [
             0,
             "#0d0887"
            ],
            [
             0.1111111111111111,
             "#46039f"
            ],
            [
             0.2222222222222222,
             "#7201a8"
            ],
            [
             0.3333333333333333,
             "#9c179e"
            ],
            [
             0.4444444444444444,
             "#bd3786"
            ],
            [
             0.5555555555555556,
             "#d8576b"
            ],
            [
             0.6666666666666666,
             "#ed7953"
            ],
            [
             0.7777777777777778,
             "#fb9f3a"
            ],
            [
             0.8888888888888888,
             "#fdca26"
            ],
            [
             1,
             "#f0f921"
            ]
           ]
          },
          "colorway": [
           "#636efa",
           "#EF553B",
           "#00cc96",
           "#ab63fa",
           "#FFA15A",
           "#19d3f3",
           "#FF6692",
           "#B6E880",
           "#FF97FF",
           "#FECB52"
          ],
          "font": {
           "color": "#2a3f5f"
          },
          "geo": {
           "bgcolor": "white",
           "lakecolor": "white",
           "landcolor": "#E5ECF6",
           "showlakes": true,
           "showland": true,
           "subunitcolor": "white"
          },
          "hoverlabel": {
           "align": "left"
          },
          "hovermode": "closest",
          "mapbox": {
           "style": "light"
          },
          "paper_bgcolor": "white",
          "plot_bgcolor": "#E5ECF6",
          "polar": {
           "angularaxis": {
            "gridcolor": "white",
            "linecolor": "white",
            "ticks": ""
           },
           "bgcolor": "#E5ECF6",
           "radialaxis": {
            "gridcolor": "white",
            "linecolor": "white",
            "ticks": ""
           }
          },
          "scene": {
           "xaxis": {
            "backgroundcolor": "#E5ECF6",
            "gridcolor": "white",
            "gridwidth": 2,
            "linecolor": "white",
            "showbackground": true,
            "ticks": "",
            "zerolinecolor": "white"
           },
           "yaxis": {
            "backgroundcolor": "#E5ECF6",
            "gridcolor": "white",
            "gridwidth": 2,
            "linecolor": "white",
            "showbackground": true,
            "ticks": "",
            "zerolinecolor": "white"
           },
           "zaxis": {
            "backgroundcolor": "#E5ECF6",
            "gridcolor": "white",
            "gridwidth": 2,
            "linecolor": "white",
            "showbackground": true,
            "ticks": "",
            "zerolinecolor": "white"
           }
          },
          "shapedefaults": {
           "line": {
            "color": "#2a3f5f"
           }
          },
          "ternary": {
           "aaxis": {
            "gridcolor": "white",
            "linecolor": "white",
            "ticks": ""
           },
           "baxis": {
            "gridcolor": "white",
            "linecolor": "white",
            "ticks": ""
           },
           "bgcolor": "#E5ECF6",
           "caxis": {
            "gridcolor": "white",
            "linecolor": "white",
            "ticks": ""
           }
          },
          "title": {
           "x": 0.05
          },
          "xaxis": {
           "automargin": true,
           "gridcolor": "white",
           "linecolor": "white",
           "ticks": "",
           "title": {
            "standoff": 15
           },
           "zerolinecolor": "white",
           "zerolinewidth": 2
          },
          "yaxis": {
           "automargin": true,
           "gridcolor": "white",
           "linecolor": "white",
           "ticks": "",
           "title": {
            "standoff": 15
           },
           "zerolinecolor": "white",
           "zerolinewidth": 2
          }
         }
        },
        "title": {
         "font": {
          "color": "#4D5663"
         },
         "text": "AFRICA'S TWITTER GOVERNMENT OFFICIALS INFLUENCERS:REACH_SCORE"
        },
        "xaxis": {
         "gridcolor": "#E1E5ED",
         "showgrid": true,
         "tickfont": {
          "color": "#4D5663"
         },
         "title": {
          "font": {
           "color": "#4D5663"
          },
          "text": "Africa Govt Twitter influencers"
         },
         "zerolinecolor": "#E1E5ED"
        },
        "yaxis": {
         "gridcolor": "#E1E5ED",
         "showgrid": true,
         "tickfont": {
          "color": "#4D5663"
         },
         "title": {
          "font": {
           "color": "#4D5663"
          },
          "text": "reach_score"
         },
         "zerolinecolor": "#E1E5ED"
        }
       }
      },
      "text/html": [
       "<div>\n",
       "        \n",
       "        \n",
       "            <div id=\"24d3f611-f6d1-4ccb-9a59-bdc87df50d75\" class=\"plotly-graph-div\" style=\"height:525px; width:100%;\"></div>\n",
       "            <script type=\"text/javascript\">\n",
       "                require([\"plotly\"], function(Plotly) {\n",
       "                    window.PLOTLYENV=window.PLOTLYENV || {};\n",
       "                    window.PLOTLYENV.BASE_URL='https://plot.ly';\n",
       "                    \n",
       "                if (document.getElementById(\"24d3f611-f6d1-4ccb-9a59-bdc87df50d75\")) {\n",
       "                    Plotly.newPlot(\n",
       "                        '24d3f611-f6d1-4ccb-9a59-bdc87df50d75',\n",
       "                        [{\"marker\": {\"color\": \"rgba(255, 153, 51, 0.6)\", \"line\": {\"color\": \"rgba(255, 153, 51, 1.0)\", \"width\": 1}}, \"name\": \"reach_score\", \"orientation\": \"v\", \"text\": \"\", \"type\": \"bar\", \"x\": [\"MBuhari\", \"PaulKagame\", \"KagutaMuseveni\", \"PresidencyZA\", \"NAkufoAddo\", \"Macky_Sall\", \"State House Kenya\", \"AOuattara_PRCI\", \"edmnangagwa\", \"M_Farmaajo\", \"SudanPMHamdok\", \"Presidence_RDC\", \"rochkaborepf\", \"PresidenceMali\", \"hagegeingob\", \"PresidentABO\", \"IssoufouMhm\", \"willynyamitwe\", \"hawelti\", \"MalawiGovt\", \"CheikhGhazouani\", \"PresidenceBenin\", \"Cherif_MZ\", \"PresidentBio\", \"Presidency_GMB\", \"USEmbalo\", \"mohzambia\", \"TZSpokesperson\", \"PresidenciaCV\", \"angola_Mirex\", \"MinSantedj\", \"SouthSudanGov\", \"MSPS_Togo\", \"president_gn\", \"FinanceSC\"], \"y\": [3265087, 1978379, 1806227, 1595317, 1500911, 1370265, 1100466, 827650, 544235, 421123, 367984, 338217, 255036, 227013, 191653, 172799, 115633, 102511, 65447, 38982, 31577, 29934, 18038, 14591, 10617, 8279, 6997, 3962, 2381, 2944, 2787, 2058, 1128, 670, -98]}],\n",
       "                        {\"legend\": {\"bgcolor\": \"#F5F6F9\", \"font\": {\"color\": \"#4D5663\"}}, \"paper_bgcolor\": \"#F5F6F9\", \"plot_bgcolor\": \"#F5F6F9\", \"template\": {\"data\": {\"bar\": [{\"error_x\": {\"color\": \"#2a3f5f\"}, \"error_y\": {\"color\": \"#2a3f5f\"}, \"marker\": {\"line\": {\"color\": \"#E5ECF6\", \"width\": 0.5}}, \"type\": \"bar\"}], \"barpolar\": [{\"marker\": {\"line\": {\"color\": \"#E5ECF6\", \"width\": 0.5}}, \"type\": \"barpolar\"}], \"carpet\": [{\"aaxis\": {\"endlinecolor\": \"#2a3f5f\", \"gridcolor\": \"white\", \"linecolor\": \"white\", \"minorgridcolor\": \"white\", \"startlinecolor\": \"#2a3f5f\"}, \"baxis\": {\"endlinecolor\": \"#2a3f5f\", \"gridcolor\": \"white\", \"linecolor\": \"white\", \"minorgridcolor\": \"white\", \"startlinecolor\": \"#2a3f5f\"}, \"type\": \"carpet\"}], \"choropleth\": [{\"colorbar\": {\"outlinewidth\": 0, \"ticks\": \"\"}, \"type\": \"choropleth\"}], \"contour\": [{\"colorbar\": {\"outlinewidth\": 0, \"ticks\": \"\"}, \"colorscale\": [[0.0, \"#0d0887\"], [0.1111111111111111, \"#46039f\"], [0.2222222222222222, \"#7201a8\"], [0.3333333333333333, \"#9c179e\"], [0.4444444444444444, \"#bd3786\"], [0.5555555555555556, \"#d8576b\"], [0.6666666666666666, \"#ed7953\"], [0.7777777777777778, \"#fb9f3a\"], [0.8888888888888888, \"#fdca26\"], [1.0, \"#f0f921\"]], \"type\": \"contour\"}], \"contourcarpet\": [{\"colorbar\": {\"outlinewidth\": 0, \"ticks\": \"\"}, \"type\": \"contourcarpet\"}], \"heatmap\": [{\"colorbar\": {\"outlinewidth\": 0, \"ticks\": \"\"}, \"colorscale\": [[0.0, \"#0d0887\"], [0.1111111111111111, \"#46039f\"], [0.2222222222222222, \"#7201a8\"], [0.3333333333333333, \"#9c179e\"], [0.4444444444444444, \"#bd3786\"], [0.5555555555555556, \"#d8576b\"], [0.6666666666666666, \"#ed7953\"], [0.7777777777777778, \"#fb9f3a\"], [0.8888888888888888, \"#fdca26\"], [1.0, \"#f0f921\"]], \"type\": \"heatmap\"}], \"heatmapgl\": [{\"colorbar\": {\"outlinewidth\": 0, \"ticks\": \"\"}, \"colorscale\": [[0.0, \"#0d0887\"], [0.1111111111111111, \"#46039f\"], [0.2222222222222222, \"#7201a8\"], [0.3333333333333333, \"#9c179e\"], [0.4444444444444444, \"#bd3786\"], [0.5555555555555556, \"#d8576b\"], [0.6666666666666666, \"#ed7953\"], [0.7777777777777778, \"#fb9f3a\"], [0.8888888888888888, \"#fdca26\"], [1.0, \"#f0f921\"]], \"type\": \"heatmapgl\"}], \"histogram\": [{\"marker\": {\"colorbar\": {\"outlinewidth\": 0, \"ticks\": \"\"}}, \"type\": \"histogram\"}], \"histogram2d\": [{\"colorbar\": {\"outlinewidth\": 0, \"ticks\": \"\"}, \"colorscale\": [[0.0, \"#0d0887\"], [0.1111111111111111, \"#46039f\"], [0.2222222222222222, \"#7201a8\"], [0.3333333333333333, \"#9c179e\"], [0.4444444444444444, \"#bd3786\"], [0.5555555555555556, \"#d8576b\"], [0.6666666666666666, \"#ed7953\"], [0.7777777777777778, \"#fb9f3a\"], [0.8888888888888888, \"#fdca26\"], [1.0, \"#f0f921\"]], \"type\": \"histogram2d\"}], \"histogram2dcontour\": [{\"colorbar\": {\"outlinewidth\": 0, \"ticks\": \"\"}, \"colorscale\": [[0.0, \"#0d0887\"], [0.1111111111111111, \"#46039f\"], [0.2222222222222222, \"#7201a8\"], [0.3333333333333333, \"#9c179e\"], [0.4444444444444444, \"#bd3786\"], [0.5555555555555556, \"#d8576b\"], [0.6666666666666666, \"#ed7953\"], [0.7777777777777778, \"#fb9f3a\"], [0.8888888888888888, \"#fdca26\"], [1.0, \"#f0f921\"]], \"type\": \"histogram2dcontour\"}], \"mesh3d\": [{\"colorbar\": {\"outlinewidth\": 0, \"ticks\": \"\"}, \"type\": \"mesh3d\"}], \"parcoords\": [{\"line\": {\"colorbar\": {\"outlinewidth\": 0, \"ticks\": \"\"}}, \"type\": \"parcoords\"}], \"pie\": [{\"automargin\": true, \"type\": \"pie\"}], \"scatter\": [{\"marker\": {\"colorbar\": {\"outlinewidth\": 0, \"ticks\": \"\"}}, \"type\": \"scatter\"}], \"scatter3d\": [{\"line\": {\"colorbar\": {\"outlinewidth\": 0, \"ticks\": \"\"}}, \"marker\": {\"colorbar\": {\"outlinewidth\": 0, \"ticks\": \"\"}}, \"type\": \"scatter3d\"}], \"scattercarpet\": [{\"marker\": {\"colorbar\": {\"outlinewidth\": 0, \"ticks\": \"\"}}, \"type\": \"scattercarpet\"}], \"scattergeo\": [{\"marker\": {\"colorbar\": {\"outlinewidth\": 0, \"ticks\": \"\"}}, \"type\": \"scattergeo\"}], \"scattergl\": [{\"marker\": {\"colorbar\": {\"outlinewidth\": 0, \"ticks\": \"\"}}, \"type\": \"scattergl\"}], \"scattermapbox\": [{\"marker\": {\"colorbar\": {\"outlinewidth\": 0, \"ticks\": \"\"}}, \"type\": \"scattermapbox\"}], \"scatterpolar\": [{\"marker\": {\"colorbar\": {\"outlinewidth\": 0, \"ticks\": \"\"}}, \"type\": \"scatterpolar\"}], \"scatterpolargl\": [{\"marker\": {\"colorbar\": {\"outlinewidth\": 0, \"ticks\": \"\"}}, \"type\": \"scatterpolargl\"}], \"scatterternary\": [{\"marker\": {\"colorbar\": {\"outlinewidth\": 0, \"ticks\": \"\"}}, \"type\": \"scatterternary\"}], \"surface\": [{\"colorbar\": {\"outlinewidth\": 0, \"ticks\": \"\"}, \"colorscale\": [[0.0, \"#0d0887\"], [0.1111111111111111, \"#46039f\"], [0.2222222222222222, \"#7201a8\"], [0.3333333333333333, \"#9c179e\"], [0.4444444444444444, \"#bd3786\"], [0.5555555555555556, \"#d8576b\"], [0.6666666666666666, \"#ed7953\"], [0.7777777777777778, \"#fb9f3a\"], [0.8888888888888888, \"#fdca26\"], [1.0, \"#f0f921\"]], \"type\": \"surface\"}], \"table\": [{\"cells\": {\"fill\": {\"color\": \"#EBF0F8\"}, \"line\": {\"color\": \"white\"}}, \"header\": {\"fill\": {\"color\": \"#C8D4E3\"}, \"line\": {\"color\": \"white\"}}, \"type\": \"table\"}]}, \"layout\": {\"annotationdefaults\": {\"arrowcolor\": \"#2a3f5f\", \"arrowhead\": 0, \"arrowwidth\": 1}, \"coloraxis\": {\"colorbar\": {\"outlinewidth\": 0, \"ticks\": \"\"}}, \"colorscale\": {\"diverging\": [[0, \"#8e0152\"], [0.1, \"#c51b7d\"], [0.2, \"#de77ae\"], [0.3, \"#f1b6da\"], [0.4, \"#fde0ef\"], [0.5, \"#f7f7f7\"], [0.6, \"#e6f5d0\"], [0.7, \"#b8e186\"], [0.8, \"#7fbc41\"], [0.9, \"#4d9221\"], [1, \"#276419\"]], \"sequential\": [[0.0, \"#0d0887\"], [0.1111111111111111, \"#46039f\"], [0.2222222222222222, \"#7201a8\"], [0.3333333333333333, \"#9c179e\"], [0.4444444444444444, \"#bd3786\"], [0.5555555555555556, \"#d8576b\"], [0.6666666666666666, \"#ed7953\"], [0.7777777777777778, \"#fb9f3a\"], [0.8888888888888888, \"#fdca26\"], [1.0, \"#f0f921\"]], \"sequentialminus\": [[0.0, \"#0d0887\"], [0.1111111111111111, \"#46039f\"], [0.2222222222222222, \"#7201a8\"], [0.3333333333333333, \"#9c179e\"], [0.4444444444444444, \"#bd3786\"], [0.5555555555555556, \"#d8576b\"], [0.6666666666666666, \"#ed7953\"], [0.7777777777777778, \"#fb9f3a\"], [0.8888888888888888, \"#fdca26\"], [1.0, \"#f0f921\"]]}, \"colorway\": [\"#636efa\", \"#EF553B\", \"#00cc96\", \"#ab63fa\", \"#FFA15A\", \"#19d3f3\", \"#FF6692\", \"#B6E880\", \"#FF97FF\", \"#FECB52\"], \"font\": {\"color\": \"#2a3f5f\"}, \"geo\": {\"bgcolor\": \"white\", \"lakecolor\": \"white\", \"landcolor\": \"#E5ECF6\", \"showlakes\": true, \"showland\": true, \"subunitcolor\": \"white\"}, \"hoverlabel\": {\"align\": \"left\"}, \"hovermode\": \"closest\", \"mapbox\": {\"style\": \"light\"}, \"paper_bgcolor\": \"white\", \"plot_bgcolor\": \"#E5ECF6\", \"polar\": {\"angularaxis\": {\"gridcolor\": \"white\", \"linecolor\": \"white\", \"ticks\": \"\"}, \"bgcolor\": \"#E5ECF6\", \"radialaxis\": {\"gridcolor\": \"white\", \"linecolor\": \"white\", \"ticks\": \"\"}}, \"scene\": {\"xaxis\": {\"backgroundcolor\": \"#E5ECF6\", \"gridcolor\": \"white\", \"gridwidth\": 2, \"linecolor\": \"white\", \"showbackground\": true, \"ticks\": \"\", \"zerolinecolor\": \"white\"}, \"yaxis\": {\"backgroundcolor\": \"#E5ECF6\", \"gridcolor\": \"white\", \"gridwidth\": 2, \"linecolor\": \"white\", \"showbackground\": true, \"ticks\": \"\", \"zerolinecolor\": \"white\"}, \"zaxis\": {\"backgroundcolor\": \"#E5ECF6\", \"gridcolor\": \"white\", \"gridwidth\": 2, \"linecolor\": \"white\", \"showbackground\": true, \"ticks\": \"\", \"zerolinecolor\": \"white\"}}, \"shapedefaults\": {\"line\": {\"color\": \"#2a3f5f\"}}, \"ternary\": {\"aaxis\": {\"gridcolor\": \"white\", \"linecolor\": \"white\", \"ticks\": \"\"}, \"baxis\": {\"gridcolor\": \"white\", \"linecolor\": \"white\", \"ticks\": \"\"}, \"bgcolor\": \"#E5ECF6\", \"caxis\": {\"gridcolor\": \"white\", \"linecolor\": \"white\", \"ticks\": \"\"}}, \"title\": {\"x\": 0.05}, \"xaxis\": {\"automargin\": true, \"gridcolor\": \"white\", \"linecolor\": \"white\", \"ticks\": \"\", \"title\": {\"standoff\": 15}, \"zerolinecolor\": \"white\", \"zerolinewidth\": 2}, \"yaxis\": {\"automargin\": true, \"gridcolor\": \"white\", \"linecolor\": \"white\", \"ticks\": \"\", \"title\": {\"standoff\": 15}, \"zerolinecolor\": \"white\", \"zerolinewidth\": 2}}}, \"title\": {\"font\": {\"color\": \"#4D5663\"}, \"text\": \"AFRICA'S TWITTER GOVERNMENT OFFICIALS INFLUENCERS:REACH_SCORE\"}, \"xaxis\": {\"gridcolor\": \"#E1E5ED\", \"showgrid\": true, \"tickfont\": {\"color\": \"#4D5663\"}, \"title\": {\"font\": {\"color\": \"#4D5663\"}, \"text\": \"Africa Govt Twitter influencers\"}, \"zerolinecolor\": \"#E1E5ED\"}, \"yaxis\": {\"gridcolor\": \"#E1E5ED\", \"showgrid\": true, \"tickfont\": {\"color\": \"#4D5663\"}, \"title\": {\"font\": {\"color\": \"#4D5663\"}, \"text\": \"reach_score\"}, \"zerolinecolor\": \"#E1E5ED\"}},\n",
       "                        {\"showLink\": true, \"linkText\": \"Export to plot.ly\", \"plotlyServerURL\": \"https://plot.ly\", \"responsive\": true}\n",
       "                    ).then(function(){\n",
       "                            \n",
       "var gd = document.getElementById('24d3f611-f6d1-4ccb-9a59-bdc87df50d75');\n",
       "var x = new MutationObserver(function (mutations, observer) {{\n",
       "        var display = window.getComputedStyle(gd).display;\n",
       "        if (!display || display === 'none') {{\n",
       "            console.log([gd, 'removed!']);\n",
       "            Plotly.purge(gd);\n",
       "            observer.disconnect();\n",
       "        }}\n",
       "}});\n",
       "\n",
       "// Listen for the removal of the full notebook cells\n",
       "var notebookContainer = gd.closest('#notebook-container');\n",
       "if (notebookContainer) {{\n",
       "    x.observe(notebookContainer, {childList: true});\n",
       "}}\n",
       "\n",
       "// Listen for the clearing of the current output cell\n",
       "var outputEl = gd.closest('.output');\n",
       "if (outputEl) {{\n",
       "    x.observe(outputEl, {childList: true});\n",
       "}}\n",
       "\n",
       "                        })\n",
       "                };\n",
       "                });\n",
       "            </script>\n",
       "        </div>"
      ]
     },
     "metadata": {},
     "output_type": "display_data"
    }
   ],
   "source": [
    "#ploting the reach score verses the twitter names\n",
    "data2.iplot(kind=\"bar\",x=\"screen_name\",y=\"reach_score\",xTitle='Africa Govt Twitter influencers',\n",
    "           yTitle='reach_score',title=\"AFRICA'S TWITTER GOVERNMENT OFFICIALS INFLUENCERS:REACH_SCORE\")"
   ]
  },
  {
   "cell_type": "code",
   "execution_count": 109,
   "metadata": {},
   "outputs": [],
   "source": [
    "data2=data2.head(10)"
   ]
  },
  {
   "cell_type": "code",
   "execution_count": 106,
   "metadata": {},
   "outputs": [],
   "source": [
    "data3=data3.head(10)"
   ]
  },
  {
   "cell_type": "code",
   "execution_count": 107,
   "metadata": {},
   "outputs": [
    {
     "data": {
      "application/vnd.plotly.v1+json": {
       "config": {
        "linkText": "Export to plot.ly",
        "plotlyServerURL": "https://plot.ly",
        "showLink": true
       },
       "data": [
        {
         "marker": {
          "color": "rgba(255, 153, 51, 0.6)",
          "line": {
           "color": "rgba(255, 153, 51, 1.0)",
           "width": 1
          }
         },
         "name": "popularity_score",
         "orientation": "v",
         "text": "",
         "type": "bar",
         "x": [
          "MBuhari",
          "PaulKagame",
          "KagutaMuseveni",
          "PresidencyZA",
          "NAkufoAddo",
          "Macky_Sall",
          "State House Kenya",
          "AOuattara_PRCI",
          "edmnangagwa",
          "M_Farmaajo"
         ],
         "y": [
          5356229,
          1042829,
          1975160,
          548121,
          2773986,
          1011098,
          571960,
          470255,
          768041,
          404960
         ]
        }
       ],
       "layout": {
        "legend": {
         "bgcolor": "#F5F6F9",
         "font": {
          "color": "#4D5663"
         }
        },
        "paper_bgcolor": "#F5F6F9",
        "plot_bgcolor": "#F5F6F9",
        "template": {
         "data": {
          "bar": [
           {
            "error_x": {
             "color": "#2a3f5f"
            },
            "error_y": {
             "color": "#2a3f5f"
            },
            "marker": {
             "line": {
              "color": "#E5ECF6",
              "width": 0.5
             }
            },
            "type": "bar"
           }
          ],
          "barpolar": [
           {
            "marker": {
             "line": {
              "color": "#E5ECF6",
              "width": 0.5
             }
            },
            "type": "barpolar"
           }
          ],
          "carpet": [
           {
            "aaxis": {
             "endlinecolor": "#2a3f5f",
             "gridcolor": "white",
             "linecolor": "white",
             "minorgridcolor": "white",
             "startlinecolor": "#2a3f5f"
            },
            "baxis": {
             "endlinecolor": "#2a3f5f",
             "gridcolor": "white",
             "linecolor": "white",
             "minorgridcolor": "white",
             "startlinecolor": "#2a3f5f"
            },
            "type": "carpet"
           }
          ],
          "choropleth": [
           {
            "colorbar": {
             "outlinewidth": 0,
             "ticks": ""
            },
            "type": "choropleth"
           }
          ],
          "contour": [
           {
            "colorbar": {
             "outlinewidth": 0,
             "ticks": ""
            },
            "colorscale": [
             [
              0,
              "#0d0887"
             ],
             [
              0.1111111111111111,
              "#46039f"
             ],
             [
              0.2222222222222222,
              "#7201a8"
             ],
             [
              0.3333333333333333,
              "#9c179e"
             ],
             [
              0.4444444444444444,
              "#bd3786"
             ],
             [
              0.5555555555555556,
              "#d8576b"
             ],
             [
              0.6666666666666666,
              "#ed7953"
             ],
             [
              0.7777777777777778,
              "#fb9f3a"
             ],
             [
              0.8888888888888888,
              "#fdca26"
             ],
             [
              1,
              "#f0f921"
             ]
            ],
            "type": "contour"
           }
          ],
          "contourcarpet": [
           {
            "colorbar": {
             "outlinewidth": 0,
             "ticks": ""
            },
            "type": "contourcarpet"
           }
          ],
          "heatmap": [
           {
            "colorbar": {
             "outlinewidth": 0,
             "ticks": ""
            },
            "colorscale": [
             [
              0,
              "#0d0887"
             ],
             [
              0.1111111111111111,
              "#46039f"
             ],
             [
              0.2222222222222222,
              "#7201a8"
             ],
             [
              0.3333333333333333,
              "#9c179e"
             ],
             [
              0.4444444444444444,
              "#bd3786"
             ],
             [
              0.5555555555555556,
              "#d8576b"
             ],
             [
              0.6666666666666666,
              "#ed7953"
             ],
             [
              0.7777777777777778,
              "#fb9f3a"
             ],
             [
              0.8888888888888888,
              "#fdca26"
             ],
             [
              1,
              "#f0f921"
             ]
            ],
            "type": "heatmap"
           }
          ],
          "heatmapgl": [
           {
            "colorbar": {
             "outlinewidth": 0,
             "ticks": ""
            },
            "colorscale": [
             [
              0,
              "#0d0887"
             ],
             [
              0.1111111111111111,
              "#46039f"
             ],
             [
              0.2222222222222222,
              "#7201a8"
             ],
             [
              0.3333333333333333,
              "#9c179e"
             ],
             [
              0.4444444444444444,
              "#bd3786"
             ],
             [
              0.5555555555555556,
              "#d8576b"
             ],
             [
              0.6666666666666666,
              "#ed7953"
             ],
             [
              0.7777777777777778,
              "#fb9f3a"
             ],
             [
              0.8888888888888888,
              "#fdca26"
             ],
             [
              1,
              "#f0f921"
             ]
            ],
            "type": "heatmapgl"
           }
          ],
          "histogram": [
           {
            "marker": {
             "colorbar": {
              "outlinewidth": 0,
              "ticks": ""
             }
            },
            "type": "histogram"
           }
          ],
          "histogram2d": [
           {
            "colorbar": {
             "outlinewidth": 0,
             "ticks": ""
            },
            "colorscale": [
             [
              0,
              "#0d0887"
             ],
             [
              0.1111111111111111,
              "#46039f"
             ],
             [
              0.2222222222222222,
              "#7201a8"
             ],
             [
              0.3333333333333333,
              "#9c179e"
             ],
             [
              0.4444444444444444,
              "#bd3786"
             ],
             [
              0.5555555555555556,
              "#d8576b"
             ],
             [
              0.6666666666666666,
              "#ed7953"
             ],
             [
              0.7777777777777778,
              "#fb9f3a"
             ],
             [
              0.8888888888888888,
              "#fdca26"
             ],
             [
              1,
              "#f0f921"
             ]
            ],
            "type": "histogram2d"
           }
          ],
          "histogram2dcontour": [
           {
            "colorbar": {
             "outlinewidth": 0,
             "ticks": ""
            },
            "colorscale": [
             [
              0,
              "#0d0887"
             ],
             [
              0.1111111111111111,
              "#46039f"
             ],
             [
              0.2222222222222222,
              "#7201a8"
             ],
             [
              0.3333333333333333,
              "#9c179e"
             ],
             [
              0.4444444444444444,
              "#bd3786"
             ],
             [
              0.5555555555555556,
              "#d8576b"
             ],
             [
              0.6666666666666666,
              "#ed7953"
             ],
             [
              0.7777777777777778,
              "#fb9f3a"
             ],
             [
              0.8888888888888888,
              "#fdca26"
             ],
             [
              1,
              "#f0f921"
             ]
            ],
            "type": "histogram2dcontour"
           }
          ],
          "mesh3d": [
           {
            "colorbar": {
             "outlinewidth": 0,
             "ticks": ""
            },
            "type": "mesh3d"
           }
          ],
          "parcoords": [
           {
            "line": {
             "colorbar": {
              "outlinewidth": 0,
              "ticks": ""
             }
            },
            "type": "parcoords"
           }
          ],
          "pie": [
           {
            "automargin": true,
            "type": "pie"
           }
          ],
          "scatter": [
           {
            "marker": {
             "colorbar": {
              "outlinewidth": 0,
              "ticks": ""
             }
            },
            "type": "scatter"
           }
          ],
          "scatter3d": [
           {
            "line": {
             "colorbar": {
              "outlinewidth": 0,
              "ticks": ""
             }
            },
            "marker": {
             "colorbar": {
              "outlinewidth": 0,
              "ticks": ""
             }
            },
            "type": "scatter3d"
           }
          ],
          "scattercarpet": [
           {
            "marker": {
             "colorbar": {
              "outlinewidth": 0,
              "ticks": ""
             }
            },
            "type": "scattercarpet"
           }
          ],
          "scattergeo": [
           {
            "marker": {
             "colorbar": {
              "outlinewidth": 0,
              "ticks": ""
             }
            },
            "type": "scattergeo"
           }
          ],
          "scattergl": [
           {
            "marker": {
             "colorbar": {
              "outlinewidth": 0,
              "ticks": ""
             }
            },
            "type": "scattergl"
           }
          ],
          "scattermapbox": [
           {
            "marker": {
             "colorbar": {
              "outlinewidth": 0,
              "ticks": ""
             }
            },
            "type": "scattermapbox"
           }
          ],
          "scatterpolar": [
           {
            "marker": {
             "colorbar": {
              "outlinewidth": 0,
              "ticks": ""
             }
            },
            "type": "scatterpolar"
           }
          ],
          "scatterpolargl": [
           {
            "marker": {
             "colorbar": {
              "outlinewidth": 0,
              "ticks": ""
             }
            },
            "type": "scatterpolargl"
           }
          ],
          "scatterternary": [
           {
            "marker": {
             "colorbar": {
              "outlinewidth": 0,
              "ticks": ""
             }
            },
            "type": "scatterternary"
           }
          ],
          "surface": [
           {
            "colorbar": {
             "outlinewidth": 0,
             "ticks": ""
            },
            "colorscale": [
             [
              0,
              "#0d0887"
             ],
             [
              0.1111111111111111,
              "#46039f"
             ],
             [
              0.2222222222222222,
              "#7201a8"
             ],
             [
              0.3333333333333333,
              "#9c179e"
             ],
             [
              0.4444444444444444,
              "#bd3786"
             ],
             [
              0.5555555555555556,
              "#d8576b"
             ],
             [
              0.6666666666666666,
              "#ed7953"
             ],
             [
              0.7777777777777778,
              "#fb9f3a"
             ],
             [
              0.8888888888888888,
              "#fdca26"
             ],
             [
              1,
              "#f0f921"
             ]
            ],
            "type": "surface"
           }
          ],
          "table": [
           {
            "cells": {
             "fill": {
              "color": "#EBF0F8"
             },
             "line": {
              "color": "white"
             }
            },
            "header": {
             "fill": {
              "color": "#C8D4E3"
             },
             "line": {
              "color": "white"
             }
            },
            "type": "table"
           }
          ]
         },
         "layout": {
          "annotationdefaults": {
           "arrowcolor": "#2a3f5f",
           "arrowhead": 0,
           "arrowwidth": 1
          },
          "coloraxis": {
           "colorbar": {
            "outlinewidth": 0,
            "ticks": ""
           }
          },
          "colorscale": {
           "diverging": [
            [
             0,
             "#8e0152"
            ],
            [
             0.1,
             "#c51b7d"
            ],
            [
             0.2,
             "#de77ae"
            ],
            [
             0.3,
             "#f1b6da"
            ],
            [
             0.4,
             "#fde0ef"
            ],
            [
             0.5,
             "#f7f7f7"
            ],
            [
             0.6,
             "#e6f5d0"
            ],
            [
             0.7,
             "#b8e186"
            ],
            [
             0.8,
             "#7fbc41"
            ],
            [
             0.9,
             "#4d9221"
            ],
            [
             1,
             "#276419"
            ]
           ],
           "sequential": [
            [
             0,
             "#0d0887"
            ],
            [
             0.1111111111111111,
             "#46039f"
            ],
            [
             0.2222222222222222,
             "#7201a8"
            ],
            [
             0.3333333333333333,
             "#9c179e"
            ],
            [
             0.4444444444444444,
             "#bd3786"
            ],
            [
             0.5555555555555556,
             "#d8576b"
            ],
            [
             0.6666666666666666,
             "#ed7953"
            ],
            [
             0.7777777777777778,
             "#fb9f3a"
            ],
            [
             0.8888888888888888,
             "#fdca26"
            ],
            [
             1,
             "#f0f921"
            ]
           ],
           "sequentialminus": [
            [
             0,
             "#0d0887"
            ],
            [
             0.1111111111111111,
             "#46039f"
            ],
            [
             0.2222222222222222,
             "#7201a8"
            ],
            [
             0.3333333333333333,
             "#9c179e"
            ],
            [
             0.4444444444444444,
             "#bd3786"
            ],
            [
             0.5555555555555556,
             "#d8576b"
            ],
            [
             0.6666666666666666,
             "#ed7953"
            ],
            [
             0.7777777777777778,
             "#fb9f3a"
            ],
            [
             0.8888888888888888,
             "#fdca26"
            ],
            [
             1,
             "#f0f921"
            ]
           ]
          },
          "colorway": [
           "#636efa",
           "#EF553B",
           "#00cc96",
           "#ab63fa",
           "#FFA15A",
           "#19d3f3",
           "#FF6692",
           "#B6E880",
           "#FF97FF",
           "#FECB52"
          ],
          "font": {
           "color": "#2a3f5f"
          },
          "geo": {
           "bgcolor": "white",
           "lakecolor": "white",
           "landcolor": "#E5ECF6",
           "showlakes": true,
           "showland": true,
           "subunitcolor": "white"
          },
          "hoverlabel": {
           "align": "left"
          },
          "hovermode": "closest",
          "mapbox": {
           "style": "light"
          },
          "paper_bgcolor": "white",
          "plot_bgcolor": "#E5ECF6",
          "polar": {
           "angularaxis": {
            "gridcolor": "white",
            "linecolor": "white",
            "ticks": ""
           },
           "bgcolor": "#E5ECF6",
           "radialaxis": {
            "gridcolor": "white",
            "linecolor": "white",
            "ticks": ""
           }
          },
          "scene": {
           "xaxis": {
            "backgroundcolor": "#E5ECF6",
            "gridcolor": "white",
            "gridwidth": 2,
            "linecolor": "white",
            "showbackground": true,
            "ticks": "",
            "zerolinecolor": "white"
           },
           "yaxis": {
            "backgroundcolor": "#E5ECF6",
            "gridcolor": "white",
            "gridwidth": 2,
            "linecolor": "white",
            "showbackground": true,
            "ticks": "",
            "zerolinecolor": "white"
           },
           "zaxis": {
            "backgroundcolor": "#E5ECF6",
            "gridcolor": "white",
            "gridwidth": 2,
            "linecolor": "white",
            "showbackground": true,
            "ticks": "",
            "zerolinecolor": "white"
           }
          },
          "shapedefaults": {
           "line": {
            "color": "#2a3f5f"
           }
          },
          "ternary": {
           "aaxis": {
            "gridcolor": "white",
            "linecolor": "white",
            "ticks": ""
           },
           "baxis": {
            "gridcolor": "white",
            "linecolor": "white",
            "ticks": ""
           },
           "bgcolor": "#E5ECF6",
           "caxis": {
            "gridcolor": "white",
            "linecolor": "white",
            "ticks": ""
           }
          },
          "title": {
           "x": 0.05
          },
          "xaxis": {
           "automargin": true,
           "gridcolor": "white",
           "linecolor": "white",
           "ticks": "",
           "title": {
            "standoff": 15
           },
           "zerolinecolor": "white",
           "zerolinewidth": 2
          },
          "yaxis": {
           "automargin": true,
           "gridcolor": "white",
           "linecolor": "white",
           "ticks": "",
           "title": {
            "standoff": 15
           },
           "zerolinecolor": "white",
           "zerolinewidth": 2
          }
         }
        },
        "title": {
         "font": {
          "color": "#4D5663"
         },
         "text": "AFRICA'S TOP10 TWITTER OFFICIALS INFLUENCERS:POPULARITY_SCORE"
        },
        "xaxis": {
         "gridcolor": "#E1E5ED",
         "showgrid": true,
         "tickfont": {
          "color": "#4D5663"
         },
         "title": {
          "font": {
           "color": "#4D5663"
          },
          "text": "Africa Twitter influencers"
         },
         "zerolinecolor": "#E1E5ED"
        },
        "yaxis": {
         "gridcolor": "#E1E5ED",
         "showgrid": true,
         "tickfont": {
          "color": "#4D5663"
         },
         "title": {
          "font": {
           "color": "#4D5663"
          },
          "text": "popularity_score"
         },
         "zerolinecolor": "#E1E5ED"
        }
       }
      },
      "text/html": [
       "<div>\n",
       "        \n",
       "        \n",
       "            <div id=\"96e6950f-ae10-4202-8918-ef9621060aca\" class=\"plotly-graph-div\" style=\"height:525px; width:100%;\"></div>\n",
       "            <script type=\"text/javascript\">\n",
       "                require([\"plotly\"], function(Plotly) {\n",
       "                    window.PLOTLYENV=window.PLOTLYENV || {};\n",
       "                    window.PLOTLYENV.BASE_URL='https://plot.ly';\n",
       "                    \n",
       "                if (document.getElementById(\"96e6950f-ae10-4202-8918-ef9621060aca\")) {\n",
       "                    Plotly.newPlot(\n",
       "                        '96e6950f-ae10-4202-8918-ef9621060aca',\n",
       "                        [{\"marker\": {\"color\": \"rgba(255, 153, 51, 0.6)\", \"line\": {\"color\": \"rgba(255, 153, 51, 1.0)\", \"width\": 1}}, \"name\": \"popularity_score\", \"orientation\": \"v\", \"text\": \"\", \"type\": \"bar\", \"x\": [\"MBuhari\", \"PaulKagame\", \"KagutaMuseveni\", \"PresidencyZA\", \"NAkufoAddo\", \"Macky_Sall\", \"State House Kenya\", \"AOuattara_PRCI\", \"edmnangagwa\", \"M_Farmaajo\"], \"y\": [5356229, 1042829, 1975160, 548121, 2773986, 1011098, 571960, 470255, 768041, 404960]}],\n",
       "                        {\"legend\": {\"bgcolor\": \"#F5F6F9\", \"font\": {\"color\": \"#4D5663\"}}, \"paper_bgcolor\": \"#F5F6F9\", \"plot_bgcolor\": \"#F5F6F9\", \"template\": {\"data\": {\"bar\": [{\"error_x\": {\"color\": \"#2a3f5f\"}, \"error_y\": {\"color\": \"#2a3f5f\"}, \"marker\": {\"line\": {\"color\": \"#E5ECF6\", \"width\": 0.5}}, \"type\": \"bar\"}], \"barpolar\": [{\"marker\": {\"line\": {\"color\": \"#E5ECF6\", \"width\": 0.5}}, \"type\": \"barpolar\"}], \"carpet\": [{\"aaxis\": {\"endlinecolor\": \"#2a3f5f\", \"gridcolor\": \"white\", \"linecolor\": \"white\", \"minorgridcolor\": \"white\", \"startlinecolor\": \"#2a3f5f\"}, \"baxis\": {\"endlinecolor\": \"#2a3f5f\", \"gridcolor\": \"white\", \"linecolor\": \"white\", \"minorgridcolor\": \"white\", \"startlinecolor\": \"#2a3f5f\"}, \"type\": \"carpet\"}], \"choropleth\": [{\"colorbar\": {\"outlinewidth\": 0, \"ticks\": \"\"}, \"type\": \"choropleth\"}], \"contour\": [{\"colorbar\": {\"outlinewidth\": 0, \"ticks\": \"\"}, \"colorscale\": [[0.0, \"#0d0887\"], [0.1111111111111111, \"#46039f\"], [0.2222222222222222, \"#7201a8\"], [0.3333333333333333, \"#9c179e\"], [0.4444444444444444, \"#bd3786\"], [0.5555555555555556, \"#d8576b\"], [0.6666666666666666, \"#ed7953\"], [0.7777777777777778, \"#fb9f3a\"], [0.8888888888888888, \"#fdca26\"], [1.0, \"#f0f921\"]], \"type\": \"contour\"}], \"contourcarpet\": [{\"colorbar\": {\"outlinewidth\": 0, \"ticks\": \"\"}, \"type\": \"contourcarpet\"}], \"heatmap\": [{\"colorbar\": {\"outlinewidth\": 0, \"ticks\": \"\"}, \"colorscale\": [[0.0, \"#0d0887\"], [0.1111111111111111, \"#46039f\"], [0.2222222222222222, \"#7201a8\"], [0.3333333333333333, \"#9c179e\"], [0.4444444444444444, \"#bd3786\"], [0.5555555555555556, \"#d8576b\"], [0.6666666666666666, \"#ed7953\"], [0.7777777777777778, \"#fb9f3a\"], [0.8888888888888888, \"#fdca26\"], [1.0, \"#f0f921\"]], \"type\": \"heatmap\"}], \"heatmapgl\": [{\"colorbar\": {\"outlinewidth\": 0, \"ticks\": \"\"}, \"colorscale\": [[0.0, \"#0d0887\"], [0.1111111111111111, \"#46039f\"], [0.2222222222222222, \"#7201a8\"], [0.3333333333333333, \"#9c179e\"], [0.4444444444444444, \"#bd3786\"], [0.5555555555555556, \"#d8576b\"], [0.6666666666666666, \"#ed7953\"], [0.7777777777777778, \"#fb9f3a\"], [0.8888888888888888, \"#fdca26\"], [1.0, \"#f0f921\"]], \"type\": \"heatmapgl\"}], \"histogram\": [{\"marker\": {\"colorbar\": {\"outlinewidth\": 0, \"ticks\": \"\"}}, \"type\": \"histogram\"}], \"histogram2d\": [{\"colorbar\": {\"outlinewidth\": 0, \"ticks\": \"\"}, \"colorscale\": [[0.0, \"#0d0887\"], [0.1111111111111111, \"#46039f\"], [0.2222222222222222, \"#7201a8\"], [0.3333333333333333, \"#9c179e\"], [0.4444444444444444, \"#bd3786\"], [0.5555555555555556, \"#d8576b\"], [0.6666666666666666, \"#ed7953\"], [0.7777777777777778, \"#fb9f3a\"], [0.8888888888888888, \"#fdca26\"], [1.0, \"#f0f921\"]], \"type\": \"histogram2d\"}], \"histogram2dcontour\": [{\"colorbar\": {\"outlinewidth\": 0, \"ticks\": \"\"}, \"colorscale\": [[0.0, \"#0d0887\"], [0.1111111111111111, \"#46039f\"], [0.2222222222222222, \"#7201a8\"], [0.3333333333333333, \"#9c179e\"], [0.4444444444444444, \"#bd3786\"], [0.5555555555555556, \"#d8576b\"], [0.6666666666666666, \"#ed7953\"], [0.7777777777777778, \"#fb9f3a\"], [0.8888888888888888, \"#fdca26\"], [1.0, \"#f0f921\"]], \"type\": \"histogram2dcontour\"}], \"mesh3d\": [{\"colorbar\": {\"outlinewidth\": 0, \"ticks\": \"\"}, \"type\": \"mesh3d\"}], \"parcoords\": [{\"line\": {\"colorbar\": {\"outlinewidth\": 0, \"ticks\": \"\"}}, \"type\": \"parcoords\"}], \"pie\": [{\"automargin\": true, \"type\": \"pie\"}], \"scatter\": [{\"marker\": {\"colorbar\": {\"outlinewidth\": 0, \"ticks\": \"\"}}, \"type\": \"scatter\"}], \"scatter3d\": [{\"line\": {\"colorbar\": {\"outlinewidth\": 0, \"ticks\": \"\"}}, \"marker\": {\"colorbar\": {\"outlinewidth\": 0, \"ticks\": \"\"}}, \"type\": \"scatter3d\"}], \"scattercarpet\": [{\"marker\": {\"colorbar\": {\"outlinewidth\": 0, \"ticks\": \"\"}}, \"type\": \"scattercarpet\"}], \"scattergeo\": [{\"marker\": {\"colorbar\": {\"outlinewidth\": 0, \"ticks\": \"\"}}, \"type\": \"scattergeo\"}], \"scattergl\": [{\"marker\": {\"colorbar\": {\"outlinewidth\": 0, \"ticks\": \"\"}}, \"type\": \"scattergl\"}], \"scattermapbox\": [{\"marker\": {\"colorbar\": {\"outlinewidth\": 0, \"ticks\": \"\"}}, \"type\": \"scattermapbox\"}], \"scatterpolar\": [{\"marker\": {\"colorbar\": {\"outlinewidth\": 0, \"ticks\": \"\"}}, \"type\": \"scatterpolar\"}], \"scatterpolargl\": [{\"marker\": {\"colorbar\": {\"outlinewidth\": 0, \"ticks\": \"\"}}, \"type\": \"scatterpolargl\"}], \"scatterternary\": [{\"marker\": {\"colorbar\": {\"outlinewidth\": 0, \"ticks\": \"\"}}, \"type\": \"scatterternary\"}], \"surface\": [{\"colorbar\": {\"outlinewidth\": 0, \"ticks\": \"\"}, \"colorscale\": [[0.0, \"#0d0887\"], [0.1111111111111111, \"#46039f\"], [0.2222222222222222, \"#7201a8\"], [0.3333333333333333, \"#9c179e\"], [0.4444444444444444, \"#bd3786\"], [0.5555555555555556, \"#d8576b\"], [0.6666666666666666, \"#ed7953\"], [0.7777777777777778, \"#fb9f3a\"], [0.8888888888888888, \"#fdca26\"], [1.0, \"#f0f921\"]], \"type\": \"surface\"}], \"table\": [{\"cells\": {\"fill\": {\"color\": \"#EBF0F8\"}, \"line\": {\"color\": \"white\"}}, \"header\": {\"fill\": {\"color\": \"#C8D4E3\"}, \"line\": {\"color\": \"white\"}}, \"type\": \"table\"}]}, \"layout\": {\"annotationdefaults\": {\"arrowcolor\": \"#2a3f5f\", \"arrowhead\": 0, \"arrowwidth\": 1}, \"coloraxis\": {\"colorbar\": {\"outlinewidth\": 0, \"ticks\": \"\"}}, \"colorscale\": {\"diverging\": [[0, \"#8e0152\"], [0.1, \"#c51b7d\"], [0.2, \"#de77ae\"], [0.3, \"#f1b6da\"], [0.4, \"#fde0ef\"], [0.5, \"#f7f7f7\"], [0.6, \"#e6f5d0\"], [0.7, \"#b8e186\"], [0.8, \"#7fbc41\"], [0.9, \"#4d9221\"], [1, \"#276419\"]], \"sequential\": [[0.0, \"#0d0887\"], [0.1111111111111111, \"#46039f\"], [0.2222222222222222, \"#7201a8\"], [0.3333333333333333, \"#9c179e\"], [0.4444444444444444, \"#bd3786\"], [0.5555555555555556, \"#d8576b\"], [0.6666666666666666, \"#ed7953\"], [0.7777777777777778, \"#fb9f3a\"], [0.8888888888888888, \"#fdca26\"], [1.0, \"#f0f921\"]], \"sequentialminus\": [[0.0, \"#0d0887\"], [0.1111111111111111, \"#46039f\"], [0.2222222222222222, \"#7201a8\"], [0.3333333333333333, \"#9c179e\"], [0.4444444444444444, \"#bd3786\"], [0.5555555555555556, \"#d8576b\"], [0.6666666666666666, \"#ed7953\"], [0.7777777777777778, \"#fb9f3a\"], [0.8888888888888888, \"#fdca26\"], [1.0, \"#f0f921\"]]}, \"colorway\": [\"#636efa\", \"#EF553B\", \"#00cc96\", \"#ab63fa\", \"#FFA15A\", \"#19d3f3\", \"#FF6692\", \"#B6E880\", \"#FF97FF\", \"#FECB52\"], \"font\": {\"color\": \"#2a3f5f\"}, \"geo\": {\"bgcolor\": \"white\", \"lakecolor\": \"white\", \"landcolor\": \"#E5ECF6\", \"showlakes\": true, \"showland\": true, \"subunitcolor\": \"white\"}, \"hoverlabel\": {\"align\": \"left\"}, \"hovermode\": \"closest\", \"mapbox\": {\"style\": \"light\"}, \"paper_bgcolor\": \"white\", \"plot_bgcolor\": \"#E5ECF6\", \"polar\": {\"angularaxis\": {\"gridcolor\": \"white\", \"linecolor\": \"white\", \"ticks\": \"\"}, \"bgcolor\": \"#E5ECF6\", \"radialaxis\": {\"gridcolor\": \"white\", \"linecolor\": \"white\", \"ticks\": \"\"}}, \"scene\": {\"xaxis\": {\"backgroundcolor\": \"#E5ECF6\", \"gridcolor\": \"white\", \"gridwidth\": 2, \"linecolor\": \"white\", \"showbackground\": true, \"ticks\": \"\", \"zerolinecolor\": \"white\"}, \"yaxis\": {\"backgroundcolor\": \"#E5ECF6\", \"gridcolor\": \"white\", \"gridwidth\": 2, \"linecolor\": \"white\", \"showbackground\": true, \"ticks\": \"\", \"zerolinecolor\": \"white\"}, \"zaxis\": {\"backgroundcolor\": \"#E5ECF6\", \"gridcolor\": \"white\", \"gridwidth\": 2, \"linecolor\": \"white\", \"showbackground\": true, \"ticks\": \"\", \"zerolinecolor\": \"white\"}}, \"shapedefaults\": {\"line\": {\"color\": \"#2a3f5f\"}}, \"ternary\": {\"aaxis\": {\"gridcolor\": \"white\", \"linecolor\": \"white\", \"ticks\": \"\"}, \"baxis\": {\"gridcolor\": \"white\", \"linecolor\": \"white\", \"ticks\": \"\"}, \"bgcolor\": \"#E5ECF6\", \"caxis\": {\"gridcolor\": \"white\", \"linecolor\": \"white\", \"ticks\": \"\"}}, \"title\": {\"x\": 0.05}, \"xaxis\": {\"automargin\": true, \"gridcolor\": \"white\", \"linecolor\": \"white\", \"ticks\": \"\", \"title\": {\"standoff\": 15}, \"zerolinecolor\": \"white\", \"zerolinewidth\": 2}, \"yaxis\": {\"automargin\": true, \"gridcolor\": \"white\", \"linecolor\": \"white\", \"ticks\": \"\", \"title\": {\"standoff\": 15}, \"zerolinecolor\": \"white\", \"zerolinewidth\": 2}}}, \"title\": {\"font\": {\"color\": \"#4D5663\"}, \"text\": \"AFRICA'S TOP10 TWITTER OFFICIALS INFLUENCERS:POPULARITY_SCORE\"}, \"xaxis\": {\"gridcolor\": \"#E1E5ED\", \"showgrid\": true, \"tickfont\": {\"color\": \"#4D5663\"}, \"title\": {\"font\": {\"color\": \"#4D5663\"}, \"text\": \"Africa Twitter influencers\"}, \"zerolinecolor\": \"#E1E5ED\"}, \"yaxis\": {\"gridcolor\": \"#E1E5ED\", \"showgrid\": true, \"tickfont\": {\"color\": \"#4D5663\"}, \"title\": {\"font\": {\"color\": \"#4D5663\"}, \"text\": \"popularity_score\"}, \"zerolinecolor\": \"#E1E5ED\"}},\n",
       "                        {\"showLink\": true, \"linkText\": \"Export to plot.ly\", \"plotlyServerURL\": \"https://plot.ly\", \"responsive\": true}\n",
       "                    ).then(function(){\n",
       "                            \n",
       "var gd = document.getElementById('96e6950f-ae10-4202-8918-ef9621060aca');\n",
       "var x = new MutationObserver(function (mutations, observer) {{\n",
       "        var display = window.getComputedStyle(gd).display;\n",
       "        if (!display || display === 'none') {{\n",
       "            console.log([gd, 'removed!']);\n",
       "            Plotly.purge(gd);\n",
       "            observer.disconnect();\n",
       "        }}\n",
       "}});\n",
       "\n",
       "// Listen for the removal of the full notebook cells\n",
       "var notebookContainer = gd.closest('#notebook-container');\n",
       "if (notebookContainer) {{\n",
       "    x.observe(notebookContainer, {childList: true});\n",
       "}}\n",
       "\n",
       "// Listen for the clearing of the current output cell\n",
       "var outputEl = gd.closest('.output');\n",
       "if (outputEl) {{\n",
       "    x.observe(outputEl, {childList: true});\n",
       "}}\n",
       "\n",
       "                        })\n",
       "                };\n",
       "                });\n",
       "            </script>\n",
       "        </div>"
      ]
     },
     "metadata": {},
     "output_type": "display_data"
    }
   ],
   "source": [
    "data2.iplot(kind=\"bar\",x=\"screen_name\",y=\"popularity_score\",xTitle='Africa Twitter influencers',\n",
    "           yTitle='popularity_score',title=\"AFRICA'S TOP10  TWITTER OFFICIALS GOVERNMENT INFLUENCERS:POPULARITY_SCORE\")"
   ]
  },
  {
   "cell_type": "code",
   "execution_count": 110,
   "metadata": {},
   "outputs": [
    {
     "data": {
      "application/vnd.plotly.v1+json": {
       "config": {
        "linkText": "Export to plot.ly",
        "plotlyServerURL": "https://plot.ly",
        "showLink": true
       },
       "data": [
        {
         "marker": {
          "color": "rgba(255, 153, 51, 0.6)",
          "line": {
           "color": "rgba(255, 153, 51, 1.0)",
           "width": 1
          }
         },
         "name": "popularity_score",
         "orientation": "v",
         "text": "",
         "type": "bar",
         "x": [
          "MBuhari",
          "NAkufoAddo",
          "KagutaMuseveni",
          "SudanPMHamdok",
          "PaulKagame",
          "Macky_Sall",
          "Presidence_RDC",
          "edmnangagwa",
          "State House Kenya",
          "PresidencyZA"
         ],
         "y": [
          5356229,
          2773986,
          1975160,
          1338115,
          1042829,
          1011098,
          883912,
          768041,
          571960,
          548121
         ]
        }
       ],
       "layout": {
        "legend": {
         "bgcolor": "#F5F6F9",
         "font": {
          "color": "#4D5663"
         }
        },
        "paper_bgcolor": "#F5F6F9",
        "plot_bgcolor": "#F5F6F9",
        "template": {
         "data": {
          "bar": [
           {
            "error_x": {
             "color": "#2a3f5f"
            },
            "error_y": {
             "color": "#2a3f5f"
            },
            "marker": {
             "line": {
              "color": "#E5ECF6",
              "width": 0.5
             }
            },
            "type": "bar"
           }
          ],
          "barpolar": [
           {
            "marker": {
             "line": {
              "color": "#E5ECF6",
              "width": 0.5
             }
            },
            "type": "barpolar"
           }
          ],
          "carpet": [
           {
            "aaxis": {
             "endlinecolor": "#2a3f5f",
             "gridcolor": "white",
             "linecolor": "white",
             "minorgridcolor": "white",
             "startlinecolor": "#2a3f5f"
            },
            "baxis": {
             "endlinecolor": "#2a3f5f",
             "gridcolor": "white",
             "linecolor": "white",
             "minorgridcolor": "white",
             "startlinecolor": "#2a3f5f"
            },
            "type": "carpet"
           }
          ],
          "choropleth": [
           {
            "colorbar": {
             "outlinewidth": 0,
             "ticks": ""
            },
            "type": "choropleth"
           }
          ],
          "contour": [
           {
            "colorbar": {
             "outlinewidth": 0,
             "ticks": ""
            },
            "colorscale": [
             [
              0,
              "#0d0887"
             ],
             [
              0.1111111111111111,
              "#46039f"
             ],
             [
              0.2222222222222222,
              "#7201a8"
             ],
             [
              0.3333333333333333,
              "#9c179e"
             ],
             [
              0.4444444444444444,
              "#bd3786"
             ],
             [
              0.5555555555555556,
              "#d8576b"
             ],
             [
              0.6666666666666666,
              "#ed7953"
             ],
             [
              0.7777777777777778,
              "#fb9f3a"
             ],
             [
              0.8888888888888888,
              "#fdca26"
             ],
             [
              1,
              "#f0f921"
             ]
            ],
            "type": "contour"
           }
          ],
          "contourcarpet": [
           {
            "colorbar": {
             "outlinewidth": 0,
             "ticks": ""
            },
            "type": "contourcarpet"
           }
          ],
          "heatmap": [
           {
            "colorbar": {
             "outlinewidth": 0,
             "ticks": ""
            },
            "colorscale": [
             [
              0,
              "#0d0887"
             ],
             [
              0.1111111111111111,
              "#46039f"
             ],
             [
              0.2222222222222222,
              "#7201a8"
             ],
             [
              0.3333333333333333,
              "#9c179e"
             ],
             [
              0.4444444444444444,
              "#bd3786"
             ],
             [
              0.5555555555555556,
              "#d8576b"
             ],
             [
              0.6666666666666666,
              "#ed7953"
             ],
             [
              0.7777777777777778,
              "#fb9f3a"
             ],
             [
              0.8888888888888888,
              "#fdca26"
             ],
             [
              1,
              "#f0f921"
             ]
            ],
            "type": "heatmap"
           }
          ],
          "heatmapgl": [
           {
            "colorbar": {
             "outlinewidth": 0,
             "ticks": ""
            },
            "colorscale": [
             [
              0,
              "#0d0887"
             ],
             [
              0.1111111111111111,
              "#46039f"
             ],
             [
              0.2222222222222222,
              "#7201a8"
             ],
             [
              0.3333333333333333,
              "#9c179e"
             ],
             [
              0.4444444444444444,
              "#bd3786"
             ],
             [
              0.5555555555555556,
              "#d8576b"
             ],
             [
              0.6666666666666666,
              "#ed7953"
             ],
             [
              0.7777777777777778,
              "#fb9f3a"
             ],
             [
              0.8888888888888888,
              "#fdca26"
             ],
             [
              1,
              "#f0f921"
             ]
            ],
            "type": "heatmapgl"
           }
          ],
          "histogram": [
           {
            "marker": {
             "colorbar": {
              "outlinewidth": 0,
              "ticks": ""
             }
            },
            "type": "histogram"
           }
          ],
          "histogram2d": [
           {
            "colorbar": {
             "outlinewidth": 0,
             "ticks": ""
            },
            "colorscale": [
             [
              0,
              "#0d0887"
             ],
             [
              0.1111111111111111,
              "#46039f"
             ],
             [
              0.2222222222222222,
              "#7201a8"
             ],
             [
              0.3333333333333333,
              "#9c179e"
             ],
             [
              0.4444444444444444,
              "#bd3786"
             ],
             [
              0.5555555555555556,
              "#d8576b"
             ],
             [
              0.6666666666666666,
              "#ed7953"
             ],
             [
              0.7777777777777778,
              "#fb9f3a"
             ],
             [
              0.8888888888888888,
              "#fdca26"
             ],
             [
              1,
              "#f0f921"
             ]
            ],
            "type": "histogram2d"
           }
          ],
          "histogram2dcontour": [
           {
            "colorbar": {
             "outlinewidth": 0,
             "ticks": ""
            },
            "colorscale": [
             [
              0,
              "#0d0887"
             ],
             [
              0.1111111111111111,
              "#46039f"
             ],
             [
              0.2222222222222222,
              "#7201a8"
             ],
             [
              0.3333333333333333,
              "#9c179e"
             ],
             [
              0.4444444444444444,
              "#bd3786"
             ],
             [
              0.5555555555555556,
              "#d8576b"
             ],
             [
              0.6666666666666666,
              "#ed7953"
             ],
             [
              0.7777777777777778,
              "#fb9f3a"
             ],
             [
              0.8888888888888888,
              "#fdca26"
             ],
             [
              1,
              "#f0f921"
             ]
            ],
            "type": "histogram2dcontour"
           }
          ],
          "mesh3d": [
           {
            "colorbar": {
             "outlinewidth": 0,
             "ticks": ""
            },
            "type": "mesh3d"
           }
          ],
          "parcoords": [
           {
            "line": {
             "colorbar": {
              "outlinewidth": 0,
              "ticks": ""
             }
            },
            "type": "parcoords"
           }
          ],
          "pie": [
           {
            "automargin": true,
            "type": "pie"
           }
          ],
          "scatter": [
           {
            "marker": {
             "colorbar": {
              "outlinewidth": 0,
              "ticks": ""
             }
            },
            "type": "scatter"
           }
          ],
          "scatter3d": [
           {
            "line": {
             "colorbar": {
              "outlinewidth": 0,
              "ticks": ""
             }
            },
            "marker": {
             "colorbar": {
              "outlinewidth": 0,
              "ticks": ""
             }
            },
            "type": "scatter3d"
           }
          ],
          "scattercarpet": [
           {
            "marker": {
             "colorbar": {
              "outlinewidth": 0,
              "ticks": ""
             }
            },
            "type": "scattercarpet"
           }
          ],
          "scattergeo": [
           {
            "marker": {
             "colorbar": {
              "outlinewidth": 0,
              "ticks": ""
             }
            },
            "type": "scattergeo"
           }
          ],
          "scattergl": [
           {
            "marker": {
             "colorbar": {
              "outlinewidth": 0,
              "ticks": ""
             }
            },
            "type": "scattergl"
           }
          ],
          "scattermapbox": [
           {
            "marker": {
             "colorbar": {
              "outlinewidth": 0,
              "ticks": ""
             }
            },
            "type": "scattermapbox"
           }
          ],
          "scatterpolar": [
           {
            "marker": {
             "colorbar": {
              "outlinewidth": 0,
              "ticks": ""
             }
            },
            "type": "scatterpolar"
           }
          ],
          "scatterpolargl": [
           {
            "marker": {
             "colorbar": {
              "outlinewidth": 0,
              "ticks": ""
             }
            },
            "type": "scatterpolargl"
           }
          ],
          "scatterternary": [
           {
            "marker": {
             "colorbar": {
              "outlinewidth": 0,
              "ticks": ""
             }
            },
            "type": "scatterternary"
           }
          ],
          "surface": [
           {
            "colorbar": {
             "outlinewidth": 0,
             "ticks": ""
            },
            "colorscale": [
             [
              0,
              "#0d0887"
             ],
             [
              0.1111111111111111,
              "#46039f"
             ],
             [
              0.2222222222222222,
              "#7201a8"
             ],
             [
              0.3333333333333333,
              "#9c179e"
             ],
             [
              0.4444444444444444,
              "#bd3786"
             ],
             [
              0.5555555555555556,
              "#d8576b"
             ],
             [
              0.6666666666666666,
              "#ed7953"
             ],
             [
              0.7777777777777778,
              "#fb9f3a"
             ],
             [
              0.8888888888888888,
              "#fdca26"
             ],
             [
              1,
              "#f0f921"
             ]
            ],
            "type": "surface"
           }
          ],
          "table": [
           {
            "cells": {
             "fill": {
              "color": "#EBF0F8"
             },
             "line": {
              "color": "white"
             }
            },
            "header": {
             "fill": {
              "color": "#C8D4E3"
             },
             "line": {
              "color": "white"
             }
            },
            "type": "table"
           }
          ]
         },
         "layout": {
          "annotationdefaults": {
           "arrowcolor": "#2a3f5f",
           "arrowhead": 0,
           "arrowwidth": 1
          },
          "coloraxis": {
           "colorbar": {
            "outlinewidth": 0,
            "ticks": ""
           }
          },
          "colorscale": {
           "diverging": [
            [
             0,
             "#8e0152"
            ],
            [
             0.1,
             "#c51b7d"
            ],
            [
             0.2,
             "#de77ae"
            ],
            [
             0.3,
             "#f1b6da"
            ],
            [
             0.4,
             "#fde0ef"
            ],
            [
             0.5,
             "#f7f7f7"
            ],
            [
             0.6,
             "#e6f5d0"
            ],
            [
             0.7,
             "#b8e186"
            ],
            [
             0.8,
             "#7fbc41"
            ],
            [
             0.9,
             "#4d9221"
            ],
            [
             1,
             "#276419"
            ]
           ],
           "sequential": [
            [
             0,
             "#0d0887"
            ],
            [
             0.1111111111111111,
             "#46039f"
            ],
            [
             0.2222222222222222,
             "#7201a8"
            ],
            [
             0.3333333333333333,
             "#9c179e"
            ],
            [
             0.4444444444444444,
             "#bd3786"
            ],
            [
             0.5555555555555556,
             "#d8576b"
            ],
            [
             0.6666666666666666,
             "#ed7953"
            ],
            [
             0.7777777777777778,
             "#fb9f3a"
            ],
            [
             0.8888888888888888,
             "#fdca26"
            ],
            [
             1,
             "#f0f921"
            ]
           ],
           "sequentialminus": [
            [
             0,
             "#0d0887"
            ],
            [
             0.1111111111111111,
             "#46039f"
            ],
            [
             0.2222222222222222,
             "#7201a8"
            ],
            [
             0.3333333333333333,
             "#9c179e"
            ],
            [
             0.4444444444444444,
             "#bd3786"
            ],
            [
             0.5555555555555556,
             "#d8576b"
            ],
            [
             0.6666666666666666,
             "#ed7953"
            ],
            [
             0.7777777777777778,
             "#fb9f3a"
            ],
            [
             0.8888888888888888,
             "#fdca26"
            ],
            [
             1,
             "#f0f921"
            ]
           ]
          },
          "colorway": [
           "#636efa",
           "#EF553B",
           "#00cc96",
           "#ab63fa",
           "#FFA15A",
           "#19d3f3",
           "#FF6692",
           "#B6E880",
           "#FF97FF",
           "#FECB52"
          ],
          "font": {
           "color": "#2a3f5f"
          },
          "geo": {
           "bgcolor": "white",
           "lakecolor": "white",
           "landcolor": "#E5ECF6",
           "showlakes": true,
           "showland": true,
           "subunitcolor": "white"
          },
          "hoverlabel": {
           "align": "left"
          },
          "hovermode": "closest",
          "mapbox": {
           "style": "light"
          },
          "paper_bgcolor": "white",
          "plot_bgcolor": "#E5ECF6",
          "polar": {
           "angularaxis": {
            "gridcolor": "white",
            "linecolor": "white",
            "ticks": ""
           },
           "bgcolor": "#E5ECF6",
           "radialaxis": {
            "gridcolor": "white",
            "linecolor": "white",
            "ticks": ""
           }
          },
          "scene": {
           "xaxis": {
            "backgroundcolor": "#E5ECF6",
            "gridcolor": "white",
            "gridwidth": 2,
            "linecolor": "white",
            "showbackground": true,
            "ticks": "",
            "zerolinecolor": "white"
           },
           "yaxis": {
            "backgroundcolor": "#E5ECF6",
            "gridcolor": "white",
            "gridwidth": 2,
            "linecolor": "white",
            "showbackground": true,
            "ticks": "",
            "zerolinecolor": "white"
           },
           "zaxis": {
            "backgroundcolor": "#E5ECF6",
            "gridcolor": "white",
            "gridwidth": 2,
            "linecolor": "white",
            "showbackground": true,
            "ticks": "",
            "zerolinecolor": "white"
           }
          },
          "shapedefaults": {
           "line": {
            "color": "#2a3f5f"
           }
          },
          "ternary": {
           "aaxis": {
            "gridcolor": "white",
            "linecolor": "white",
            "ticks": ""
           },
           "baxis": {
            "gridcolor": "white",
            "linecolor": "white",
            "ticks": ""
           },
           "bgcolor": "#E5ECF6",
           "caxis": {
            "gridcolor": "white",
            "linecolor": "white",
            "ticks": ""
           }
          },
          "title": {
           "x": 0.05
          },
          "xaxis": {
           "automargin": true,
           "gridcolor": "white",
           "linecolor": "white",
           "ticks": "",
           "title": {
            "standoff": 15
           },
           "zerolinecolor": "white",
           "zerolinewidth": 2
          },
          "yaxis": {
           "automargin": true,
           "gridcolor": "white",
           "linecolor": "white",
           "ticks": "",
           "title": {
            "standoff": 15
           },
           "zerolinecolor": "white",
           "zerolinewidth": 2
          }
         }
        },
        "title": {
         "font": {
          "color": "#4D5663"
         },
         "text": "AFRICA'S TOP10 TWITTER OFFICIALS GOVERNMENT INFLUENCERS:POPULARITY_SCORE"
        },
        "xaxis": {
         "gridcolor": "#E1E5ED",
         "showgrid": true,
         "tickfont": {
          "color": "#4D5663"
         },
         "title": {
          "font": {
           "color": "#4D5663"
          },
          "text": "Africa Twitter influencers"
         },
         "zerolinecolor": "#E1E5ED"
        },
        "yaxis": {
         "gridcolor": "#E1E5ED",
         "showgrid": true,
         "tickfont": {
          "color": "#4D5663"
         },
         "title": {
          "font": {
           "color": "#4D5663"
          },
          "text": "reach_score"
         },
         "zerolinecolor": "#E1E5ED"
        }
       }
      },
      "text/html": [
       "<div>\n",
       "        \n",
       "        \n",
       "            <div id=\"19c9920e-6fc0-4b8d-8038-26ee1225cafe\" class=\"plotly-graph-div\" style=\"height:525px; width:100%;\"></div>\n",
       "            <script type=\"text/javascript\">\n",
       "                require([\"plotly\"], function(Plotly) {\n",
       "                    window.PLOTLYENV=window.PLOTLYENV || {};\n",
       "                    window.PLOTLYENV.BASE_URL='https://plot.ly';\n",
       "                    \n",
       "                if (document.getElementById(\"19c9920e-6fc0-4b8d-8038-26ee1225cafe\")) {\n",
       "                    Plotly.newPlot(\n",
       "                        '19c9920e-6fc0-4b8d-8038-26ee1225cafe',\n",
       "                        [{\"marker\": {\"color\": \"rgba(255, 153, 51, 0.6)\", \"line\": {\"color\": \"rgba(255, 153, 51, 1.0)\", \"width\": 1}}, \"name\": \"popularity_score\", \"orientation\": \"v\", \"text\": \"\", \"type\": \"bar\", \"x\": [\"MBuhari\", \"NAkufoAddo\", \"KagutaMuseveni\", \"SudanPMHamdok\", \"PaulKagame\", \"Macky_Sall\", \"Presidence_RDC\", \"edmnangagwa\", \"State House Kenya\", \"PresidencyZA\"], \"y\": [5356229, 2773986, 1975160, 1338115, 1042829, 1011098, 883912, 768041, 571960, 548121]}],\n",
       "                        {\"legend\": {\"bgcolor\": \"#F5F6F9\", \"font\": {\"color\": \"#4D5663\"}}, \"paper_bgcolor\": \"#F5F6F9\", \"plot_bgcolor\": \"#F5F6F9\", \"template\": {\"data\": {\"bar\": [{\"error_x\": {\"color\": \"#2a3f5f\"}, \"error_y\": {\"color\": \"#2a3f5f\"}, \"marker\": {\"line\": {\"color\": \"#E5ECF6\", \"width\": 0.5}}, \"type\": \"bar\"}], \"barpolar\": [{\"marker\": {\"line\": {\"color\": \"#E5ECF6\", \"width\": 0.5}}, \"type\": \"barpolar\"}], \"carpet\": [{\"aaxis\": {\"endlinecolor\": \"#2a3f5f\", \"gridcolor\": \"white\", \"linecolor\": \"white\", \"minorgridcolor\": \"white\", \"startlinecolor\": \"#2a3f5f\"}, \"baxis\": {\"endlinecolor\": \"#2a3f5f\", \"gridcolor\": \"white\", \"linecolor\": \"white\", \"minorgridcolor\": \"white\", \"startlinecolor\": \"#2a3f5f\"}, \"type\": \"carpet\"}], \"choropleth\": [{\"colorbar\": {\"outlinewidth\": 0, \"ticks\": \"\"}, \"type\": \"choropleth\"}], \"contour\": [{\"colorbar\": {\"outlinewidth\": 0, \"ticks\": \"\"}, \"colorscale\": [[0.0, \"#0d0887\"], [0.1111111111111111, \"#46039f\"], [0.2222222222222222, \"#7201a8\"], [0.3333333333333333, \"#9c179e\"], [0.4444444444444444, \"#bd3786\"], [0.5555555555555556, \"#d8576b\"], [0.6666666666666666, \"#ed7953\"], [0.7777777777777778, \"#fb9f3a\"], [0.8888888888888888, \"#fdca26\"], [1.0, \"#f0f921\"]], \"type\": \"contour\"}], \"contourcarpet\": [{\"colorbar\": {\"outlinewidth\": 0, \"ticks\": \"\"}, \"type\": \"contourcarpet\"}], \"heatmap\": [{\"colorbar\": {\"outlinewidth\": 0, \"ticks\": \"\"}, \"colorscale\": [[0.0, \"#0d0887\"], [0.1111111111111111, \"#46039f\"], [0.2222222222222222, \"#7201a8\"], [0.3333333333333333, \"#9c179e\"], [0.4444444444444444, \"#bd3786\"], [0.5555555555555556, \"#d8576b\"], [0.6666666666666666, \"#ed7953\"], [0.7777777777777778, \"#fb9f3a\"], [0.8888888888888888, \"#fdca26\"], [1.0, \"#f0f921\"]], \"type\": \"heatmap\"}], \"heatmapgl\": [{\"colorbar\": {\"outlinewidth\": 0, \"ticks\": \"\"}, \"colorscale\": [[0.0, \"#0d0887\"], [0.1111111111111111, \"#46039f\"], [0.2222222222222222, \"#7201a8\"], [0.3333333333333333, \"#9c179e\"], [0.4444444444444444, \"#bd3786\"], [0.5555555555555556, \"#d8576b\"], [0.6666666666666666, \"#ed7953\"], [0.7777777777777778, \"#fb9f3a\"], [0.8888888888888888, \"#fdca26\"], [1.0, \"#f0f921\"]], \"type\": \"heatmapgl\"}], \"histogram\": [{\"marker\": {\"colorbar\": {\"outlinewidth\": 0, \"ticks\": \"\"}}, \"type\": \"histogram\"}], \"histogram2d\": [{\"colorbar\": {\"outlinewidth\": 0, \"ticks\": \"\"}, \"colorscale\": [[0.0, \"#0d0887\"], [0.1111111111111111, \"#46039f\"], [0.2222222222222222, \"#7201a8\"], [0.3333333333333333, \"#9c179e\"], [0.4444444444444444, \"#bd3786\"], [0.5555555555555556, \"#d8576b\"], [0.6666666666666666, \"#ed7953\"], [0.7777777777777778, \"#fb9f3a\"], [0.8888888888888888, \"#fdca26\"], [1.0, \"#f0f921\"]], \"type\": \"histogram2d\"}], \"histogram2dcontour\": [{\"colorbar\": {\"outlinewidth\": 0, \"ticks\": \"\"}, \"colorscale\": [[0.0, \"#0d0887\"], [0.1111111111111111, \"#46039f\"], [0.2222222222222222, \"#7201a8\"], [0.3333333333333333, \"#9c179e\"], [0.4444444444444444, \"#bd3786\"], [0.5555555555555556, \"#d8576b\"], [0.6666666666666666, \"#ed7953\"], [0.7777777777777778, \"#fb9f3a\"], [0.8888888888888888, \"#fdca26\"], [1.0, \"#f0f921\"]], \"type\": \"histogram2dcontour\"}], \"mesh3d\": [{\"colorbar\": {\"outlinewidth\": 0, \"ticks\": \"\"}, \"type\": \"mesh3d\"}], \"parcoords\": [{\"line\": {\"colorbar\": {\"outlinewidth\": 0, \"ticks\": \"\"}}, \"type\": \"parcoords\"}], \"pie\": [{\"automargin\": true, \"type\": \"pie\"}], \"scatter\": [{\"marker\": {\"colorbar\": {\"outlinewidth\": 0, \"ticks\": \"\"}}, \"type\": \"scatter\"}], \"scatter3d\": [{\"line\": {\"colorbar\": {\"outlinewidth\": 0, \"ticks\": \"\"}}, \"marker\": {\"colorbar\": {\"outlinewidth\": 0, \"ticks\": \"\"}}, \"type\": \"scatter3d\"}], \"scattercarpet\": [{\"marker\": {\"colorbar\": {\"outlinewidth\": 0, \"ticks\": \"\"}}, \"type\": \"scattercarpet\"}], \"scattergeo\": [{\"marker\": {\"colorbar\": {\"outlinewidth\": 0, \"ticks\": \"\"}}, \"type\": \"scattergeo\"}], \"scattergl\": [{\"marker\": {\"colorbar\": {\"outlinewidth\": 0, \"ticks\": \"\"}}, \"type\": \"scattergl\"}], \"scattermapbox\": [{\"marker\": {\"colorbar\": {\"outlinewidth\": 0, \"ticks\": \"\"}}, \"type\": \"scattermapbox\"}], \"scatterpolar\": [{\"marker\": {\"colorbar\": {\"outlinewidth\": 0, \"ticks\": \"\"}}, \"type\": \"scatterpolar\"}], \"scatterpolargl\": [{\"marker\": {\"colorbar\": {\"outlinewidth\": 0, \"ticks\": \"\"}}, \"type\": \"scatterpolargl\"}], \"scatterternary\": [{\"marker\": {\"colorbar\": {\"outlinewidth\": 0, \"ticks\": \"\"}}, \"type\": \"scatterternary\"}], \"surface\": [{\"colorbar\": {\"outlinewidth\": 0, \"ticks\": \"\"}, \"colorscale\": [[0.0, \"#0d0887\"], [0.1111111111111111, \"#46039f\"], [0.2222222222222222, \"#7201a8\"], [0.3333333333333333, \"#9c179e\"], [0.4444444444444444, \"#bd3786\"], [0.5555555555555556, \"#d8576b\"], [0.6666666666666666, \"#ed7953\"], [0.7777777777777778, \"#fb9f3a\"], [0.8888888888888888, \"#fdca26\"], [1.0, \"#f0f921\"]], \"type\": \"surface\"}], \"table\": [{\"cells\": {\"fill\": {\"color\": \"#EBF0F8\"}, \"line\": {\"color\": \"white\"}}, \"header\": {\"fill\": {\"color\": \"#C8D4E3\"}, \"line\": {\"color\": \"white\"}}, \"type\": \"table\"}]}, \"layout\": {\"annotationdefaults\": {\"arrowcolor\": \"#2a3f5f\", \"arrowhead\": 0, \"arrowwidth\": 1}, \"coloraxis\": {\"colorbar\": {\"outlinewidth\": 0, \"ticks\": \"\"}}, \"colorscale\": {\"diverging\": [[0, \"#8e0152\"], [0.1, \"#c51b7d\"], [0.2, \"#de77ae\"], [0.3, \"#f1b6da\"], [0.4, \"#fde0ef\"], [0.5, \"#f7f7f7\"], [0.6, \"#e6f5d0\"], [0.7, \"#b8e186\"], [0.8, \"#7fbc41\"], [0.9, \"#4d9221\"], [1, \"#276419\"]], \"sequential\": [[0.0, \"#0d0887\"], [0.1111111111111111, \"#46039f\"], [0.2222222222222222, \"#7201a8\"], [0.3333333333333333, \"#9c179e\"], [0.4444444444444444, \"#bd3786\"], [0.5555555555555556, \"#d8576b\"], [0.6666666666666666, \"#ed7953\"], [0.7777777777777778, \"#fb9f3a\"], [0.8888888888888888, \"#fdca26\"], [1.0, \"#f0f921\"]], \"sequentialminus\": [[0.0, \"#0d0887\"], [0.1111111111111111, \"#46039f\"], [0.2222222222222222, \"#7201a8\"], [0.3333333333333333, \"#9c179e\"], [0.4444444444444444, \"#bd3786\"], [0.5555555555555556, \"#d8576b\"], [0.6666666666666666, \"#ed7953\"], [0.7777777777777778, \"#fb9f3a\"], [0.8888888888888888, \"#fdca26\"], [1.0, \"#f0f921\"]]}, \"colorway\": [\"#636efa\", \"#EF553B\", \"#00cc96\", \"#ab63fa\", \"#FFA15A\", \"#19d3f3\", \"#FF6692\", \"#B6E880\", \"#FF97FF\", \"#FECB52\"], \"font\": {\"color\": \"#2a3f5f\"}, \"geo\": {\"bgcolor\": \"white\", \"lakecolor\": \"white\", \"landcolor\": \"#E5ECF6\", \"showlakes\": true, \"showland\": true, \"subunitcolor\": \"white\"}, \"hoverlabel\": {\"align\": \"left\"}, \"hovermode\": \"closest\", \"mapbox\": {\"style\": \"light\"}, \"paper_bgcolor\": \"white\", \"plot_bgcolor\": \"#E5ECF6\", \"polar\": {\"angularaxis\": {\"gridcolor\": \"white\", \"linecolor\": \"white\", \"ticks\": \"\"}, \"bgcolor\": \"#E5ECF6\", \"radialaxis\": {\"gridcolor\": \"white\", \"linecolor\": \"white\", \"ticks\": \"\"}}, \"scene\": {\"xaxis\": {\"backgroundcolor\": \"#E5ECF6\", \"gridcolor\": \"white\", \"gridwidth\": 2, \"linecolor\": \"white\", \"showbackground\": true, \"ticks\": \"\", \"zerolinecolor\": \"white\"}, \"yaxis\": {\"backgroundcolor\": \"#E5ECF6\", \"gridcolor\": \"white\", \"gridwidth\": 2, \"linecolor\": \"white\", \"showbackground\": true, \"ticks\": \"\", \"zerolinecolor\": \"white\"}, \"zaxis\": {\"backgroundcolor\": \"#E5ECF6\", \"gridcolor\": \"white\", \"gridwidth\": 2, \"linecolor\": \"white\", \"showbackground\": true, \"ticks\": \"\", \"zerolinecolor\": \"white\"}}, \"shapedefaults\": {\"line\": {\"color\": \"#2a3f5f\"}}, \"ternary\": {\"aaxis\": {\"gridcolor\": \"white\", \"linecolor\": \"white\", \"ticks\": \"\"}, \"baxis\": {\"gridcolor\": \"white\", \"linecolor\": \"white\", \"ticks\": \"\"}, \"bgcolor\": \"#E5ECF6\", \"caxis\": {\"gridcolor\": \"white\", \"linecolor\": \"white\", \"ticks\": \"\"}}, \"title\": {\"x\": 0.05}, \"xaxis\": {\"automargin\": true, \"gridcolor\": \"white\", \"linecolor\": \"white\", \"ticks\": \"\", \"title\": {\"standoff\": 15}, \"zerolinecolor\": \"white\", \"zerolinewidth\": 2}, \"yaxis\": {\"automargin\": true, \"gridcolor\": \"white\", \"linecolor\": \"white\", \"ticks\": \"\", \"title\": {\"standoff\": 15}, \"zerolinecolor\": \"white\", \"zerolinewidth\": 2}}}, \"title\": {\"font\": {\"color\": \"#4D5663\"}, \"text\": \"AFRICA'S TOP10 TWITTER OFFICIALS GOVERNMENT INFLUENCERS:POPULARITY_SCORE\"}, \"xaxis\": {\"gridcolor\": \"#E1E5ED\", \"showgrid\": true, \"tickfont\": {\"color\": \"#4D5663\"}, \"title\": {\"font\": {\"color\": \"#4D5663\"}, \"text\": \"Africa Twitter influencers\"}, \"zerolinecolor\": \"#E1E5ED\"}, \"yaxis\": {\"gridcolor\": \"#E1E5ED\", \"showgrid\": true, \"tickfont\": {\"color\": \"#4D5663\"}, \"title\": {\"font\": {\"color\": \"#4D5663\"}, \"text\": \"reach_score\"}, \"zerolinecolor\": \"#E1E5ED\"}},\n",
       "                        {\"showLink\": true, \"linkText\": \"Export to plot.ly\", \"plotlyServerURL\": \"https://plot.ly\", \"responsive\": true}\n",
       "                    ).then(function(){\n",
       "                            \n",
       "var gd = document.getElementById('19c9920e-6fc0-4b8d-8038-26ee1225cafe');\n",
       "var x = new MutationObserver(function (mutations, observer) {{\n",
       "        var display = window.getComputedStyle(gd).display;\n",
       "        if (!display || display === 'none') {{\n",
       "            console.log([gd, 'removed!']);\n",
       "            Plotly.purge(gd);\n",
       "            observer.disconnect();\n",
       "        }}\n",
       "}});\n",
       "\n",
       "// Listen for the removal of the full notebook cells\n",
       "var notebookContainer = gd.closest('#notebook-container');\n",
       "if (notebookContainer) {{\n",
       "    x.observe(notebookContainer, {childList: true});\n",
       "}}\n",
       "\n",
       "// Listen for the clearing of the current output cell\n",
       "var outputEl = gd.closest('.output');\n",
       "if (outputEl) {{\n",
       "    x.observe(outputEl, {childList: true});\n",
       "}}\n",
       "\n",
       "                        })\n",
       "                };\n",
       "                });\n",
       "            </script>\n",
       "        </div>"
      ]
     },
     "metadata": {},
     "output_type": "display_data"
    }
   ],
   "source": [
    "data3.iplot(kind=\"bar\",x=\"screen_name\",y=\"popularity_score\",xTitle='Africa Twitter influencers',\n",
    "           yTitle='reach_score',title=\"AFRICA'S TOP10 TWITTER OFFICIALS GOVERNMENT INFLUENCERS:POPULARITY_SCORE\")"
   ]
  },
  {
   "cell_type": "code",
   "execution_count": 12,
   "metadata": {},
   "outputs": [],
   "source": [
    "\n",
    "Top_10.to_csv (r'dataframe.csv', index = False, header=True)"
   ]
  },
  {
   "cell_type": "code",
   "execution_count": 13,
   "metadata": {},
   "outputs": [],
   "source": [
    "df=pd.read_csv('African_influencers.csv')"
   ]
  },
  {
   "cell_type": "code",
   "execution_count": 14,
   "metadata": {},
   "outputs": [
    {
     "data": {
      "text/html": [
       "<div>\n",
       "<style scoped>\n",
       "    .dataframe tbody tr th:only-of-type {\n",
       "        vertical-align: middle;\n",
       "    }\n",
       "\n",
       "    .dataframe tbody tr th {\n",
       "        vertical-align: top;\n",
       "    }\n",
       "\n",
       "    .dataframe thead th {\n",
       "        text-align: right;\n",
       "    }\n",
       "</style>\n",
       "<table border=\"1\" class=\"dataframe\">\n",
       "  <thead>\n",
       "    <tr style=\"text-align: right;\">\n",
       "      <th></th>\n",
       "      <th>Rank</th>\n",
       "      <th>Name</th>\n",
       "      <th>Twittername</th>\n",
       "      <th>screen_name</th>\n",
       "      <th>user_mentions</th>\n",
       "      <th>retweet_count</th>\n",
       "      <th>Followers_count</th>\n",
       "      <th>Tweets</th>\n",
       "      <th>Likes</th>\n",
       "      <th>friends_count</th>\n",
       "      <th>status_count</th>\n",
       "      <th>Account_age(days)</th>\n",
       "      <th>Average_tweets_per day</th>\n",
       "    </tr>\n",
       "  </thead>\n",
       "  <tbody>\n",
       "    <tr>\n",
       "      <th>0</th>\n",
       "      <td>100</td>\n",
       "      <td>Jeffrey Gettleman</td>\n",
       "      <td>@gettleman)</td>\n",
       "      <td>gettleman</td>\n",
       "      <td>194.0</td>\n",
       "      <td>1448596.0</td>\n",
       "      <td>25701.0</td>\n",
       "      <td>3118.0</td>\n",
       "      <td>31478.0</td>\n",
       "      <td>37.0</td>\n",
       "      <td>3769.0</td>\n",
       "      <td>3340.0</td>\n",
       "      <td>1.13</td>\n",
       "    </tr>\n",
       "    <tr>\n",
       "      <th>1</th>\n",
       "      <td>99</td>\n",
       "      <td>Africa24 Media</td>\n",
       "      <td>@a24media)</td>\n",
       "      <td>a24media</td>\n",
       "      <td>12.0</td>\n",
       "      <td>10814.0</td>\n",
       "      <td>31294.0</td>\n",
       "      <td>3229.0</td>\n",
       "      <td>2076.0</td>\n",
       "      <td>3060.0</td>\n",
       "      <td>16858.0</td>\n",
       "      <td>4132.0</td>\n",
       "      <td>4.08</td>\n",
       "    </tr>\n",
       "    <tr>\n",
       "      <th>2</th>\n",
       "      <td>98</td>\n",
       "      <td>Scapegoat</td>\n",
       "      <td>@andiMakinana)</td>\n",
       "      <td>AndiMakinana</td>\n",
       "      <td>6112.0</td>\n",
       "      <td>2650300.0</td>\n",
       "      <td>101172.0</td>\n",
       "      <td>3201.0</td>\n",
       "      <td>73068.0</td>\n",
       "      <td>2839.0</td>\n",
       "      <td>142218.0</td>\n",
       "      <td>3967.0</td>\n",
       "      <td>35.85</td>\n",
       "    </tr>\n",
       "    <tr>\n",
       "      <th>3</th>\n",
       "      <td>97</td>\n",
       "      <td>Africa Check</td>\n",
       "      <td>@AfricaCheck)</td>\n",
       "      <td>AfricaCheck</td>\n",
       "      <td>617.0</td>\n",
       "      <td>30975.0</td>\n",
       "      <td>68029.0</td>\n",
       "      <td>3234.0</td>\n",
       "      <td>17385.0</td>\n",
       "      <td>4589.0</td>\n",
       "      <td>27310.0</td>\n",
       "      <td>2936.0</td>\n",
       "      <td>9.30</td>\n",
       "    </tr>\n",
       "    <tr>\n",
       "      <th>4</th>\n",
       "      <td>96</td>\n",
       "      <td>James Copnall</td>\n",
       "      <td>@JamesCopnall)</td>\n",
       "      <td>JamesCopnall</td>\n",
       "      <td>28.0</td>\n",
       "      <td>736422.0</td>\n",
       "      <td>21960.0</td>\n",
       "      <td>3186.0</td>\n",
       "      <td>8143.0</td>\n",
       "      <td>5045.0</td>\n",
       "      <td>19434.0</td>\n",
       "      <td>3182.0</td>\n",
       "      <td>6.11</td>\n",
       "    </tr>\n",
       "    <tr>\n",
       "      <th>...</th>\n",
       "      <td>...</td>\n",
       "      <td>...</td>\n",
       "      <td>...</td>\n",
       "      <td>...</td>\n",
       "      <td>...</td>\n",
       "      <td>...</td>\n",
       "      <td>...</td>\n",
       "      <td>...</td>\n",
       "      <td>...</td>\n",
       "      <td>...</td>\n",
       "      <td>...</td>\n",
       "      <td>...</td>\n",
       "      <td>...</td>\n",
       "    </tr>\n",
       "    <tr>\n",
       "      <th>89</th>\n",
       "      <td>5</td>\n",
       "      <td>Julius Sello Malema</td>\n",
       "      <td>@Julius_S_Malema)</td>\n",
       "      <td>Julius_S_Malema</td>\n",
       "      <td>NaN</td>\n",
       "      <td>5300812.0</td>\n",
       "      <td>3122368.0</td>\n",
       "      <td>3207.0</td>\n",
       "      <td>1228961.0</td>\n",
       "      <td>652.0</td>\n",
       "      <td>37190.0</td>\n",
       "      <td>3797.0</td>\n",
       "      <td>9.80</td>\n",
       "    </tr>\n",
       "    <tr>\n",
       "      <th>90</th>\n",
       "      <td>4</td>\n",
       "      <td>News24</td>\n",
       "      <td>@News24)</td>\n",
       "      <td>News24</td>\n",
       "      <td>NaN</td>\n",
       "      <td>90095.0</td>\n",
       "      <td>3572086.0</td>\n",
       "      <td>3229.0</td>\n",
       "      <td>203872.0</td>\n",
       "      <td>632.0</td>\n",
       "      <td>322572.0</td>\n",
       "      <td>4454.0</td>\n",
       "      <td>72.48</td>\n",
       "    </tr>\n",
       "    <tr>\n",
       "      <th>91</th>\n",
       "      <td>3</td>\n",
       "      <td>jdwtweet</td>\n",
       "      <td>@SAPresident)</td>\n",
       "      <td>SAPresident</td>\n",
       "      <td>NaN</td>\n",
       "      <td>851.0</td>\n",
       "      <td>18.0</td>\n",
       "      <td>18.0</td>\n",
       "      <td>0.0</td>\n",
       "      <td>14.0</td>\n",
       "      <td>19.0</td>\n",
       "      <td>502.0</td>\n",
       "      <td>0.04</td>\n",
       "    </tr>\n",
       "    <tr>\n",
       "      <th>92</th>\n",
       "      <td>2</td>\n",
       "      <td>gareth cliff</td>\n",
       "      <td>@GarethCliff)</td>\n",
       "      <td>GarethCliff</td>\n",
       "      <td>NaN</td>\n",
       "      <td>1006134.0</td>\n",
       "      <td>1974188.0</td>\n",
       "      <td>3174.0</td>\n",
       "      <td>193488.0</td>\n",
       "      <td>356.0</td>\n",
       "      <td>31623.0</td>\n",
       "      <td>4240.0</td>\n",
       "      <td>7.46</td>\n",
       "    </tr>\n",
       "    <tr>\n",
       "      <th>93</th>\n",
       "      <td>1</td>\n",
       "      <td>Trevor noah</td>\n",
       "      <td>@Trevornoah)</td>\n",
       "      <td>Trevornoah</td>\n",
       "      <td>NaN</td>\n",
       "      <td>18868654.0</td>\n",
       "      <td>10797729.0</td>\n",
       "      <td>3181.0</td>\n",
       "      <td>8117706.0</td>\n",
       "      <td>325.0</td>\n",
       "      <td>11185.0</td>\n",
       "      <td>4055.0</td>\n",
       "      <td>2.76</td>\n",
       "    </tr>\n",
       "  </tbody>\n",
       "</table>\n",
       "<p>94 rows × 13 columns</p>\n",
       "</div>"
      ],
      "text/plain": [
       "    Rank                 Name        Twittername      screen_name  \\\n",
       "0    100    Jeffrey Gettleman        @gettleman)        gettleman   \n",
       "1     99       Africa24 Media         @a24media)         a24media   \n",
       "2     98            Scapegoat     @andiMakinana)     AndiMakinana   \n",
       "3     97         Africa Check      @AfricaCheck)      AfricaCheck   \n",
       "4     96        James Copnall     @JamesCopnall)     JamesCopnall   \n",
       "..   ...                  ...                ...              ...   \n",
       "89     5  Julius Sello Malema  @Julius_S_Malema)  Julius_S_Malema   \n",
       "90     4               News24           @News24)           News24   \n",
       "91     3             jdwtweet      @SAPresident)      SAPresident   \n",
       "92     2         gareth cliff      @GarethCliff)      GarethCliff   \n",
       "93     1          Trevor noah       @Trevornoah)       Trevornoah   \n",
       "\n",
       "    user_mentions  retweet_count  Followers_count  Tweets      Likes  \\\n",
       "0           194.0      1448596.0          25701.0  3118.0    31478.0   \n",
       "1            12.0        10814.0          31294.0  3229.0     2076.0   \n",
       "2          6112.0      2650300.0         101172.0  3201.0    73068.0   \n",
       "3           617.0        30975.0          68029.0  3234.0    17385.0   \n",
       "4            28.0       736422.0          21960.0  3186.0     8143.0   \n",
       "..            ...            ...              ...     ...        ...   \n",
       "89            NaN      5300812.0        3122368.0  3207.0  1228961.0   \n",
       "90            NaN        90095.0        3572086.0  3229.0   203872.0   \n",
       "91            NaN          851.0             18.0    18.0        0.0   \n",
       "92            NaN      1006134.0        1974188.0  3174.0   193488.0   \n",
       "93            NaN     18868654.0       10797729.0  3181.0  8117706.0   \n",
       "\n",
       "    friends_count  status_count  Account_age(days)  Average_tweets_per day  \n",
       "0            37.0        3769.0             3340.0                    1.13  \n",
       "1          3060.0       16858.0             4132.0                    4.08  \n",
       "2          2839.0      142218.0             3967.0                   35.85  \n",
       "3          4589.0       27310.0             2936.0                    9.30  \n",
       "4          5045.0       19434.0             3182.0                    6.11  \n",
       "..            ...           ...                ...                     ...  \n",
       "89          652.0       37190.0             3797.0                    9.80  \n",
       "90          632.0      322572.0             4454.0                   72.48  \n",
       "91           14.0          19.0              502.0                    0.04  \n",
       "92          356.0       31623.0             4240.0                    7.46  \n",
       "93          325.0       11185.0             4055.0                    2.76  \n",
       "\n",
       "[94 rows x 13 columns]"
      ]
     },
     "execution_count": 14,
     "metadata": {},
     "output_type": "execute_result"
    }
   ],
   "source": [
    "df"
   ]
  },
  {
   "cell_type": "code",
   "execution_count": 15,
   "metadata": {},
   "outputs": [],
   "source": [
    "df1=df.reindex(index=df.index[::-1])"
   ]
  },
  {
   "cell_type": "code",
   "execution_count": 16,
   "metadata": {},
   "outputs": [
    {
     "data": {
      "text/html": [
       "<div>\n",
       "<style scoped>\n",
       "    .dataframe tbody tr th:only-of-type {\n",
       "        vertical-align: middle;\n",
       "    }\n",
       "\n",
       "    .dataframe tbody tr th {\n",
       "        vertical-align: top;\n",
       "    }\n",
       "\n",
       "    .dataframe thead th {\n",
       "        text-align: right;\n",
       "    }\n",
       "</style>\n",
       "<table border=\"1\" class=\"dataframe\">\n",
       "  <thead>\n",
       "    <tr style=\"text-align: right;\">\n",
       "      <th></th>\n",
       "      <th>Rank</th>\n",
       "      <th>Name</th>\n",
       "      <th>Twittername</th>\n",
       "      <th>screen_name</th>\n",
       "      <th>user_mentions</th>\n",
       "      <th>retweet_count</th>\n",
       "      <th>Followers_count</th>\n",
       "      <th>Tweets</th>\n",
       "      <th>Likes</th>\n",
       "      <th>friends_count</th>\n",
       "      <th>status_count</th>\n",
       "      <th>Account_age(days)</th>\n",
       "      <th>Average_tweets_per day</th>\n",
       "    </tr>\n",
       "  </thead>\n",
       "  <tbody>\n",
       "    <tr>\n",
       "      <th>93</th>\n",
       "      <td>1</td>\n",
       "      <td>Trevor noah</td>\n",
       "      <td>@Trevornoah</td>\n",
       "      <td>Trevornoah</td>\n",
       "      <td>NaN</td>\n",
       "      <td>18868654.0</td>\n",
       "      <td>10797729.0</td>\n",
       "      <td>3181.0</td>\n",
       "      <td>8117706.0</td>\n",
       "      <td>325.0</td>\n",
       "      <td>11185.0</td>\n",
       "      <td>4055.0</td>\n",
       "      <td>2.76</td>\n",
       "    </tr>\n",
       "    <tr>\n",
       "      <th>92</th>\n",
       "      <td>2</td>\n",
       "      <td>gareth cliff</td>\n",
       "      <td>@GarethCliff</td>\n",
       "      <td>GarethCliff</td>\n",
       "      <td>NaN</td>\n",
       "      <td>1006134.0</td>\n",
       "      <td>1974188.0</td>\n",
       "      <td>3174.0</td>\n",
       "      <td>193488.0</td>\n",
       "      <td>356.0</td>\n",
       "      <td>31623.0</td>\n",
       "      <td>4240.0</td>\n",
       "      <td>7.46</td>\n",
       "    </tr>\n",
       "    <tr>\n",
       "      <th>91</th>\n",
       "      <td>3</td>\n",
       "      <td>jdwtweet</td>\n",
       "      <td>@SAPresident</td>\n",
       "      <td>SAPresident</td>\n",
       "      <td>NaN</td>\n",
       "      <td>851.0</td>\n",
       "      <td>18.0</td>\n",
       "      <td>18.0</td>\n",
       "      <td>0.0</td>\n",
       "      <td>14.0</td>\n",
       "      <td>19.0</td>\n",
       "      <td>502.0</td>\n",
       "      <td>0.04</td>\n",
       "    </tr>\n",
       "    <tr>\n",
       "      <th>90</th>\n",
       "      <td>4</td>\n",
       "      <td>News24</td>\n",
       "      <td>@News24</td>\n",
       "      <td>News24</td>\n",
       "      <td>NaN</td>\n",
       "      <td>90095.0</td>\n",
       "      <td>3572086.0</td>\n",
       "      <td>3229.0</td>\n",
       "      <td>203872.0</td>\n",
       "      <td>632.0</td>\n",
       "      <td>322572.0</td>\n",
       "      <td>4454.0</td>\n",
       "      <td>72.48</td>\n",
       "    </tr>\n",
       "    <tr>\n",
       "      <th>89</th>\n",
       "      <td>5</td>\n",
       "      <td>Julius Sello Malema</td>\n",
       "      <td>@Julius_S_Malema</td>\n",
       "      <td>Julius_S_Malema</td>\n",
       "      <td>NaN</td>\n",
       "      <td>5300812.0</td>\n",
       "      <td>3122368.0</td>\n",
       "      <td>3207.0</td>\n",
       "      <td>1228961.0</td>\n",
       "      <td>652.0</td>\n",
       "      <td>37190.0</td>\n",
       "      <td>3797.0</td>\n",
       "      <td>9.80</td>\n",
       "    </tr>\n",
       "    <tr>\n",
       "      <th>...</th>\n",
       "      <td>...</td>\n",
       "      <td>...</td>\n",
       "      <td>...</td>\n",
       "      <td>...</td>\n",
       "      <td>...</td>\n",
       "      <td>...</td>\n",
       "      <td>...</td>\n",
       "      <td>...</td>\n",
       "      <td>...</td>\n",
       "      <td>...</td>\n",
       "      <td>...</td>\n",
       "      <td>...</td>\n",
       "      <td>...</td>\n",
       "    </tr>\n",
       "    <tr>\n",
       "      <th>4</th>\n",
       "      <td>96</td>\n",
       "      <td>James Copnall</td>\n",
       "      <td>@JamesCopnall</td>\n",
       "      <td>JamesCopnall</td>\n",
       "      <td>28.0</td>\n",
       "      <td>736422.0</td>\n",
       "      <td>21960.0</td>\n",
       "      <td>3186.0</td>\n",
       "      <td>8143.0</td>\n",
       "      <td>5045.0</td>\n",
       "      <td>19434.0</td>\n",
       "      <td>3182.0</td>\n",
       "      <td>6.11</td>\n",
       "    </tr>\n",
       "    <tr>\n",
       "      <th>3</th>\n",
       "      <td>97</td>\n",
       "      <td>Africa Check</td>\n",
       "      <td>@AfricaCheck</td>\n",
       "      <td>AfricaCheck</td>\n",
       "      <td>617.0</td>\n",
       "      <td>30975.0</td>\n",
       "      <td>68029.0</td>\n",
       "      <td>3234.0</td>\n",
       "      <td>17385.0</td>\n",
       "      <td>4589.0</td>\n",
       "      <td>27310.0</td>\n",
       "      <td>2936.0</td>\n",
       "      <td>9.30</td>\n",
       "    </tr>\n",
       "    <tr>\n",
       "      <th>2</th>\n",
       "      <td>98</td>\n",
       "      <td>Scapegoat</td>\n",
       "      <td>@andiMakinana</td>\n",
       "      <td>AndiMakinana</td>\n",
       "      <td>6112.0</td>\n",
       "      <td>2650300.0</td>\n",
       "      <td>101172.0</td>\n",
       "      <td>3201.0</td>\n",
       "      <td>73068.0</td>\n",
       "      <td>2839.0</td>\n",
       "      <td>142218.0</td>\n",
       "      <td>3967.0</td>\n",
       "      <td>35.85</td>\n",
       "    </tr>\n",
       "    <tr>\n",
       "      <th>1</th>\n",
       "      <td>99</td>\n",
       "      <td>Africa24 Media</td>\n",
       "      <td>@a24media</td>\n",
       "      <td>a24media</td>\n",
       "      <td>12.0</td>\n",
       "      <td>10814.0</td>\n",
       "      <td>31294.0</td>\n",
       "      <td>3229.0</td>\n",
       "      <td>2076.0</td>\n",
       "      <td>3060.0</td>\n",
       "      <td>16858.0</td>\n",
       "      <td>4132.0</td>\n",
       "      <td>4.08</td>\n",
       "    </tr>\n",
       "    <tr>\n",
       "      <th>0</th>\n",
       "      <td>100</td>\n",
       "      <td>Jeffrey Gettleman</td>\n",
       "      <td>@gettleman</td>\n",
       "      <td>gettleman</td>\n",
       "      <td>194.0</td>\n",
       "      <td>1448596.0</td>\n",
       "      <td>25701.0</td>\n",
       "      <td>3118.0</td>\n",
       "      <td>31478.0</td>\n",
       "      <td>37.0</td>\n",
       "      <td>3769.0</td>\n",
       "      <td>3340.0</td>\n",
       "      <td>1.13</td>\n",
       "    </tr>\n",
       "  </tbody>\n",
       "</table>\n",
       "<p>94 rows × 13 columns</p>\n",
       "</div>"
      ],
      "text/plain": [
       "    Rank                 Name       Twittername      screen_name  \\\n",
       "93     1          Trevor noah       @Trevornoah       Trevornoah   \n",
       "92     2         gareth cliff      @GarethCliff      GarethCliff   \n",
       "91     3             jdwtweet      @SAPresident      SAPresident   \n",
       "90     4               News24           @News24           News24   \n",
       "89     5  Julius Sello Malema  @Julius_S_Malema  Julius_S_Malema   \n",
       "..   ...                  ...               ...              ...   \n",
       "4     96        James Copnall     @JamesCopnall     JamesCopnall   \n",
       "3     97         Africa Check      @AfricaCheck      AfricaCheck   \n",
       "2     98            Scapegoat     @andiMakinana     AndiMakinana   \n",
       "1     99       Africa24 Media         @a24media         a24media   \n",
       "0    100    Jeffrey Gettleman        @gettleman        gettleman   \n",
       "\n",
       "    user_mentions  retweet_count  Followers_count  Tweets      Likes  \\\n",
       "93            NaN     18868654.0       10797729.0  3181.0  8117706.0   \n",
       "92            NaN      1006134.0        1974188.0  3174.0   193488.0   \n",
       "91            NaN          851.0             18.0    18.0        0.0   \n",
       "90            NaN        90095.0        3572086.0  3229.0   203872.0   \n",
       "89            NaN      5300812.0        3122368.0  3207.0  1228961.0   \n",
       "..            ...            ...              ...     ...        ...   \n",
       "4            28.0       736422.0          21960.0  3186.0     8143.0   \n",
       "3           617.0        30975.0          68029.0  3234.0    17385.0   \n",
       "2          6112.0      2650300.0         101172.0  3201.0    73068.0   \n",
       "1            12.0        10814.0          31294.0  3229.0     2076.0   \n",
       "0           194.0      1448596.0          25701.0  3118.0    31478.0   \n",
       "\n",
       "    friends_count  status_count  Account_age(days)  Average_tweets_per day  \n",
       "93          325.0       11185.0             4055.0                    2.76  \n",
       "92          356.0       31623.0             4240.0                    7.46  \n",
       "91           14.0          19.0              502.0                    0.04  \n",
       "90          632.0      322572.0             4454.0                   72.48  \n",
       "89          652.0       37190.0             3797.0                    9.80  \n",
       "..            ...           ...                ...                     ...  \n",
       "4          5045.0       19434.0             3182.0                    6.11  \n",
       "3          4589.0       27310.0             2936.0                    9.30  \n",
       "2          2839.0      142218.0             3967.0                   35.85  \n",
       "1          3060.0       16858.0             4132.0                    4.08  \n",
       "0            37.0        3769.0             3340.0                    1.13  \n",
       "\n",
       "[94 rows x 13 columns]"
      ]
     },
     "execution_count": 16,
     "metadata": {},
     "output_type": "execute_result"
    }
   ],
   "source": [
    "\n",
    "#striping off the last character in the twittername column\n",
    "df1['Twittername'] = df1['Twittername'].str.rstrip(')')\n",
    "df1"
   ]
  },
  {
   "cell_type": "code",
   "execution_count": 17,
   "metadata": {},
   "outputs": [],
   "source": [
    "df2= df1.sort_values(by=['Followers_count'],ascending=False)"
   ]
  },
  {
   "cell_type": "code",
   "execution_count": 18,
   "metadata": {},
   "outputs": [],
   "source": [
    "df3 = df2.reset_index(drop=True)"
   ]
  },
  {
   "cell_type": "code",
   "execution_count": 19,
   "metadata": {},
   "outputs": [],
   "source": [
    "top10=df3.head(10)"
   ]
  },
  {
   "cell_type": "code",
   "execution_count": 20,
   "metadata": {},
   "outputs": [
    {
     "data": {
      "text/html": [
       "<div>\n",
       "<style scoped>\n",
       "    .dataframe tbody tr th:only-of-type {\n",
       "        vertical-align: middle;\n",
       "    }\n",
       "\n",
       "    .dataframe tbody tr th {\n",
       "        vertical-align: top;\n",
       "    }\n",
       "\n",
       "    .dataframe thead th {\n",
       "        text-align: right;\n",
       "    }\n",
       "</style>\n",
       "<table border=\"1\" class=\"dataframe\">\n",
       "  <thead>\n",
       "    <tr style=\"text-align: right;\">\n",
       "      <th></th>\n",
       "      <th>Rank</th>\n",
       "      <th>Name</th>\n",
       "      <th>Twittername</th>\n",
       "      <th>screen_name</th>\n",
       "      <th>user_mentions</th>\n",
       "      <th>retweet_count</th>\n",
       "      <th>Followers_count</th>\n",
       "      <th>Tweets</th>\n",
       "      <th>Likes</th>\n",
       "      <th>friends_count</th>\n",
       "      <th>status_count</th>\n",
       "      <th>Account_age(days)</th>\n",
       "      <th>Average_tweets_per day</th>\n",
       "    </tr>\n",
       "  </thead>\n",
       "  <tbody>\n",
       "    <tr>\n",
       "      <th>0</th>\n",
       "      <td>1</td>\n",
       "      <td>Trevor noah</td>\n",
       "      <td>@Trevornoah</td>\n",
       "      <td>Trevornoah</td>\n",
       "      <td>NaN</td>\n",
       "      <td>18868654.0</td>\n",
       "      <td>10797729.0</td>\n",
       "      <td>3181.0</td>\n",
       "      <td>8117706.0</td>\n",
       "      <td>325.0</td>\n",
       "      <td>11185.0</td>\n",
       "      <td>4055.0</td>\n",
       "      <td>2.76</td>\n",
       "    </tr>\n",
       "    <tr>\n",
       "      <th>1</th>\n",
       "      <td>4</td>\n",
       "      <td>News24</td>\n",
       "      <td>@News24</td>\n",
       "      <td>News24</td>\n",
       "      <td>NaN</td>\n",
       "      <td>90095.0</td>\n",
       "      <td>3572086.0</td>\n",
       "      <td>3229.0</td>\n",
       "      <td>203872.0</td>\n",
       "      <td>632.0</td>\n",
       "      <td>322572.0</td>\n",
       "      <td>4454.0</td>\n",
       "      <td>72.48</td>\n",
       "    </tr>\n",
       "    <tr>\n",
       "      <th>2</th>\n",
       "      <td>5</td>\n",
       "      <td>Julius Sello Malema</td>\n",
       "      <td>@Julius_S_Malema</td>\n",
       "      <td>Julius_S_Malema</td>\n",
       "      <td>NaN</td>\n",
       "      <td>5300812.0</td>\n",
       "      <td>3122368.0</td>\n",
       "      <td>3207.0</td>\n",
       "      <td>1228961.0</td>\n",
       "      <td>652.0</td>\n",
       "      <td>37190.0</td>\n",
       "      <td>3797.0</td>\n",
       "      <td>9.80</td>\n",
       "    </tr>\n",
       "    <tr>\n",
       "      <th>3</th>\n",
       "      <td>2</td>\n",
       "      <td>gareth cliff</td>\n",
       "      <td>@GarethCliff</td>\n",
       "      <td>GarethCliff</td>\n",
       "      <td>NaN</td>\n",
       "      <td>1006134.0</td>\n",
       "      <td>1974188.0</td>\n",
       "      <td>3174.0</td>\n",
       "      <td>193488.0</td>\n",
       "      <td>356.0</td>\n",
       "      <td>31623.0</td>\n",
       "      <td>4240.0</td>\n",
       "      <td>7.46</td>\n",
       "    </tr>\n",
       "    <tr>\n",
       "      <th>4</th>\n",
       "      <td>15</td>\n",
       "      <td>Euphonik™♛</td>\n",
       "      <td>@euphonik</td>\n",
       "      <td>euphonik</td>\n",
       "      <td>1523.0</td>\n",
       "      <td>45560.0</td>\n",
       "      <td>1752911.0</td>\n",
       "      <td>998.0</td>\n",
       "      <td>227440.0</td>\n",
       "      <td>65.0</td>\n",
       "      <td>4516.0</td>\n",
       "      <td>4168.0</td>\n",
       "      <td>1.08</td>\n",
       "    </tr>\n",
       "    <tr>\n",
       "      <th>5</th>\n",
       "      <td>6</td>\n",
       "      <td>Helen Zille</td>\n",
       "      <td>@helenzille</td>\n",
       "      <td>helenzille</td>\n",
       "      <td>1253.0</td>\n",
       "      <td>429039.0</td>\n",
       "      <td>1443025.0</td>\n",
       "      <td>3196.0</td>\n",
       "      <td>204345.0</td>\n",
       "      <td>2304.0</td>\n",
       "      <td>72335.0</td>\n",
       "      <td>4176.0</td>\n",
       "      <td>17.32</td>\n",
       "    </tr>\n",
       "    <tr>\n",
       "      <th>6</th>\n",
       "      <td>11</td>\n",
       "      <td>MTV Base Africa</td>\n",
       "      <td>@MTVbaseAfrica</td>\n",
       "      <td>MTVBaseAfrica</td>\n",
       "      <td>1851.0</td>\n",
       "      <td>186412.0</td>\n",
       "      <td>1415121.0</td>\n",
       "      <td>3193.0</td>\n",
       "      <td>284458.0</td>\n",
       "      <td>109.0</td>\n",
       "      <td>56028.0</td>\n",
       "      <td>4135.0</td>\n",
       "      <td>13.55</td>\n",
       "    </tr>\n",
       "    <tr>\n",
       "      <th>7</th>\n",
       "      <td>8</td>\n",
       "      <td>5FM</td>\n",
       "      <td>@5FM</td>\n",
       "      <td>5FM</td>\n",
       "      <td>2416.0</td>\n",
       "      <td>12850.0</td>\n",
       "      <td>1163950.0</td>\n",
       "      <td>3245.0</td>\n",
       "      <td>64769.0</td>\n",
       "      <td>411.0</td>\n",
       "      <td>62811.0</td>\n",
       "      <td>4291.0</td>\n",
       "      <td>14.64</td>\n",
       "    </tr>\n",
       "    <tr>\n",
       "      <th>8</th>\n",
       "      <td>12</td>\n",
       "      <td>Cricket South Africa</td>\n",
       "      <td>@OfficialCSA</td>\n",
       "      <td>OfficialCSA</td>\n",
       "      <td>6578.0</td>\n",
       "      <td>370649.0</td>\n",
       "      <td>1159530.0</td>\n",
       "      <td>3224.0</td>\n",
       "      <td>754732.0</td>\n",
       "      <td>1998.0</td>\n",
       "      <td>88477.0</td>\n",
       "      <td>4057.0</td>\n",
       "      <td>21.82</td>\n",
       "    </tr>\n",
       "    <tr>\n",
       "      <th>9</th>\n",
       "      <td>9</td>\n",
       "      <td>loyiso gola</td>\n",
       "      <td>@loyisogola</td>\n",
       "      <td>loyisogola</td>\n",
       "      <td>612.0</td>\n",
       "      <td>849313.0</td>\n",
       "      <td>1085063.0</td>\n",
       "      <td>3205.0</td>\n",
       "      <td>224004.0</td>\n",
       "      <td>3948.0</td>\n",
       "      <td>5655.0</td>\n",
       "      <td>4106.0</td>\n",
       "      <td>1.38</td>\n",
       "    </tr>\n",
       "  </tbody>\n",
       "</table>\n",
       "</div>"
      ],
      "text/plain": [
       "   Rank                  Name       Twittername      screen_name  \\\n",
       "0     1           Trevor noah       @Trevornoah       Trevornoah   \n",
       "1     4                News24           @News24           News24   \n",
       "2     5   Julius Sello Malema  @Julius_S_Malema  Julius_S_Malema   \n",
       "3     2          gareth cliff      @GarethCliff      GarethCliff   \n",
       "4    15            Euphonik™♛         @euphonik         euphonik   \n",
       "5     6           Helen Zille       @helenzille       helenzille   \n",
       "6    11       MTV Base Africa    @MTVbaseAfrica    MTVBaseAfrica   \n",
       "7     8                   5FM              @5FM              5FM   \n",
       "8    12  Cricket South Africa      @OfficialCSA      OfficialCSA   \n",
       "9     9           loyiso gola       @loyisogola       loyisogola   \n",
       "\n",
       "   user_mentions  retweet_count  Followers_count  Tweets      Likes  \\\n",
       "0            NaN     18868654.0       10797729.0  3181.0  8117706.0   \n",
       "1            NaN        90095.0        3572086.0  3229.0   203872.0   \n",
       "2            NaN      5300812.0        3122368.0  3207.0  1228961.0   \n",
       "3            NaN      1006134.0        1974188.0  3174.0   193488.0   \n",
       "4         1523.0        45560.0        1752911.0   998.0   227440.0   \n",
       "5         1253.0       429039.0        1443025.0  3196.0   204345.0   \n",
       "6         1851.0       186412.0        1415121.0  3193.0   284458.0   \n",
       "7         2416.0        12850.0        1163950.0  3245.0    64769.0   \n",
       "8         6578.0       370649.0        1159530.0  3224.0   754732.0   \n",
       "9          612.0       849313.0        1085063.0  3205.0   224004.0   \n",
       "\n",
       "   friends_count  status_count  Account_age(days)  Average_tweets_per day  \n",
       "0          325.0       11185.0             4055.0                    2.76  \n",
       "1          632.0      322572.0             4454.0                   72.48  \n",
       "2          652.0       37190.0             3797.0                    9.80  \n",
       "3          356.0       31623.0             4240.0                    7.46  \n",
       "4           65.0        4516.0             4168.0                    1.08  \n",
       "5         2304.0       72335.0             4176.0                   17.32  \n",
       "6          109.0       56028.0             4135.0                   13.55  \n",
       "7          411.0       62811.0             4291.0                   14.64  \n",
       "8         1998.0       88477.0             4057.0                   21.82  \n",
       "9         3948.0        5655.0             4106.0                    1.38  "
      ]
     },
     "execution_count": 20,
     "metadata": {},
     "output_type": "execute_result"
    }
   ],
   "source": [
    "top10"
   ]
  },
  {
   "cell_type": "code",
   "execution_count": 21,
   "metadata": {},
   "outputs": [
    {
     "data": {
      "application/vnd.plotly.v1+json": {
       "config": {
        "linkText": "Export to plot.ly",
        "plotlyServerURL": "https://plot.ly",
        "showLink": true
       },
       "data": [
        {
         "marker": {
          "color": "rgba(255, 153, 51, 0.6)",
          "line": {
           "color": "rgba(255, 153, 51, 1.0)",
           "width": 1
          }
         },
         "name": "Followers_count",
         "orientation": "v",
         "text": "",
         "type": "bar",
         "x": [
          "Trevor noah",
          "News24",
          "Julius Sello Malema",
          "gareth cliff",
          "Euphonik™♛",
          "Helen Zille",
          "MTV Base Africa",
          "5FM",
          "Cricket South Africa",
          "loyiso gola"
         ],
         "y": [
          10797729,
          3572086,
          3122368,
          1974188,
          1752911,
          1443025,
          1415121,
          1163950,
          1159530,
          1085063
         ]
        }
       ],
       "layout": {
        "legend": {
         "bgcolor": "#F5F6F9",
         "font": {
          "color": "#4D5663"
         }
        },
        "paper_bgcolor": "#F5F6F9",
        "plot_bgcolor": "#F5F6F9",
        "template": {
         "data": {
          "bar": [
           {
            "error_x": {
             "color": "#2a3f5f"
            },
            "error_y": {
             "color": "#2a3f5f"
            },
            "marker": {
             "line": {
              "color": "#E5ECF6",
              "width": 0.5
             }
            },
            "type": "bar"
           }
          ],
          "barpolar": [
           {
            "marker": {
             "line": {
              "color": "#E5ECF6",
              "width": 0.5
             }
            },
            "type": "barpolar"
           }
          ],
          "carpet": [
           {
            "aaxis": {
             "endlinecolor": "#2a3f5f",
             "gridcolor": "white",
             "linecolor": "white",
             "minorgridcolor": "white",
             "startlinecolor": "#2a3f5f"
            },
            "baxis": {
             "endlinecolor": "#2a3f5f",
             "gridcolor": "white",
             "linecolor": "white",
             "minorgridcolor": "white",
             "startlinecolor": "#2a3f5f"
            },
            "type": "carpet"
           }
          ],
          "choropleth": [
           {
            "colorbar": {
             "outlinewidth": 0,
             "ticks": ""
            },
            "type": "choropleth"
           }
          ],
          "contour": [
           {
            "colorbar": {
             "outlinewidth": 0,
             "ticks": ""
            },
            "colorscale": [
             [
              0,
              "#0d0887"
             ],
             [
              0.1111111111111111,
              "#46039f"
             ],
             [
              0.2222222222222222,
              "#7201a8"
             ],
             [
              0.3333333333333333,
              "#9c179e"
             ],
             [
              0.4444444444444444,
              "#bd3786"
             ],
             [
              0.5555555555555556,
              "#d8576b"
             ],
             [
              0.6666666666666666,
              "#ed7953"
             ],
             [
              0.7777777777777778,
              "#fb9f3a"
             ],
             [
              0.8888888888888888,
              "#fdca26"
             ],
             [
              1,
              "#f0f921"
             ]
            ],
            "type": "contour"
           }
          ],
          "contourcarpet": [
           {
            "colorbar": {
             "outlinewidth": 0,
             "ticks": ""
            },
            "type": "contourcarpet"
           }
          ],
          "heatmap": [
           {
            "colorbar": {
             "outlinewidth": 0,
             "ticks": ""
            },
            "colorscale": [
             [
              0,
              "#0d0887"
             ],
             [
              0.1111111111111111,
              "#46039f"
             ],
             [
              0.2222222222222222,
              "#7201a8"
             ],
             [
              0.3333333333333333,
              "#9c179e"
             ],
             [
              0.4444444444444444,
              "#bd3786"
             ],
             [
              0.5555555555555556,
              "#d8576b"
             ],
             [
              0.6666666666666666,
              "#ed7953"
             ],
             [
              0.7777777777777778,
              "#fb9f3a"
             ],
             [
              0.8888888888888888,
              "#fdca26"
             ],
             [
              1,
              "#f0f921"
             ]
            ],
            "type": "heatmap"
           }
          ],
          "heatmapgl": [
           {
            "colorbar": {
             "outlinewidth": 0,
             "ticks": ""
            },
            "colorscale": [
             [
              0,
              "#0d0887"
             ],
             [
              0.1111111111111111,
              "#46039f"
             ],
             [
              0.2222222222222222,
              "#7201a8"
             ],
             [
              0.3333333333333333,
              "#9c179e"
             ],
             [
              0.4444444444444444,
              "#bd3786"
             ],
             [
              0.5555555555555556,
              "#d8576b"
             ],
             [
              0.6666666666666666,
              "#ed7953"
             ],
             [
              0.7777777777777778,
              "#fb9f3a"
             ],
             [
              0.8888888888888888,
              "#fdca26"
             ],
             [
              1,
              "#f0f921"
             ]
            ],
            "type": "heatmapgl"
           }
          ],
          "histogram": [
           {
            "marker": {
             "colorbar": {
              "outlinewidth": 0,
              "ticks": ""
             }
            },
            "type": "histogram"
           }
          ],
          "histogram2d": [
           {
            "colorbar": {
             "outlinewidth": 0,
             "ticks": ""
            },
            "colorscale": [
             [
              0,
              "#0d0887"
             ],
             [
              0.1111111111111111,
              "#46039f"
             ],
             [
              0.2222222222222222,
              "#7201a8"
             ],
             [
              0.3333333333333333,
              "#9c179e"
             ],
             [
              0.4444444444444444,
              "#bd3786"
             ],
             [
              0.5555555555555556,
              "#d8576b"
             ],
             [
              0.6666666666666666,
              "#ed7953"
             ],
             [
              0.7777777777777778,
              "#fb9f3a"
             ],
             [
              0.8888888888888888,
              "#fdca26"
             ],
             [
              1,
              "#f0f921"
             ]
            ],
            "type": "histogram2d"
           }
          ],
          "histogram2dcontour": [
           {
            "colorbar": {
             "outlinewidth": 0,
             "ticks": ""
            },
            "colorscale": [
             [
              0,
              "#0d0887"
             ],
             [
              0.1111111111111111,
              "#46039f"
             ],
             [
              0.2222222222222222,
              "#7201a8"
             ],
             [
              0.3333333333333333,
              "#9c179e"
             ],
             [
              0.4444444444444444,
              "#bd3786"
             ],
             [
              0.5555555555555556,
              "#d8576b"
             ],
             [
              0.6666666666666666,
              "#ed7953"
             ],
             [
              0.7777777777777778,
              "#fb9f3a"
             ],
             [
              0.8888888888888888,
              "#fdca26"
             ],
             [
              1,
              "#f0f921"
             ]
            ],
            "type": "histogram2dcontour"
           }
          ],
          "mesh3d": [
           {
            "colorbar": {
             "outlinewidth": 0,
             "ticks": ""
            },
            "type": "mesh3d"
           }
          ],
          "parcoords": [
           {
            "line": {
             "colorbar": {
              "outlinewidth": 0,
              "ticks": ""
             }
            },
            "type": "parcoords"
           }
          ],
          "pie": [
           {
            "automargin": true,
            "type": "pie"
           }
          ],
          "scatter": [
           {
            "marker": {
             "colorbar": {
              "outlinewidth": 0,
              "ticks": ""
             }
            },
            "type": "scatter"
           }
          ],
          "scatter3d": [
           {
            "line": {
             "colorbar": {
              "outlinewidth": 0,
              "ticks": ""
             }
            },
            "marker": {
             "colorbar": {
              "outlinewidth": 0,
              "ticks": ""
             }
            },
            "type": "scatter3d"
           }
          ],
          "scattercarpet": [
           {
            "marker": {
             "colorbar": {
              "outlinewidth": 0,
              "ticks": ""
             }
            },
            "type": "scattercarpet"
           }
          ],
          "scattergeo": [
           {
            "marker": {
             "colorbar": {
              "outlinewidth": 0,
              "ticks": ""
             }
            },
            "type": "scattergeo"
           }
          ],
          "scattergl": [
           {
            "marker": {
             "colorbar": {
              "outlinewidth": 0,
              "ticks": ""
             }
            },
            "type": "scattergl"
           }
          ],
          "scattermapbox": [
           {
            "marker": {
             "colorbar": {
              "outlinewidth": 0,
              "ticks": ""
             }
            },
            "type": "scattermapbox"
           }
          ],
          "scatterpolar": [
           {
            "marker": {
             "colorbar": {
              "outlinewidth": 0,
              "ticks": ""
             }
            },
            "type": "scatterpolar"
           }
          ],
          "scatterpolargl": [
           {
            "marker": {
             "colorbar": {
              "outlinewidth": 0,
              "ticks": ""
             }
            },
            "type": "scatterpolargl"
           }
          ],
          "scatterternary": [
           {
            "marker": {
             "colorbar": {
              "outlinewidth": 0,
              "ticks": ""
             }
            },
            "type": "scatterternary"
           }
          ],
          "surface": [
           {
            "colorbar": {
             "outlinewidth": 0,
             "ticks": ""
            },
            "colorscale": [
             [
              0,
              "#0d0887"
             ],
             [
              0.1111111111111111,
              "#46039f"
             ],
             [
              0.2222222222222222,
              "#7201a8"
             ],
             [
              0.3333333333333333,
              "#9c179e"
             ],
             [
              0.4444444444444444,
              "#bd3786"
             ],
             [
              0.5555555555555556,
              "#d8576b"
             ],
             [
              0.6666666666666666,
              "#ed7953"
             ],
             [
              0.7777777777777778,
              "#fb9f3a"
             ],
             [
              0.8888888888888888,
              "#fdca26"
             ],
             [
              1,
              "#f0f921"
             ]
            ],
            "type": "surface"
           }
          ],
          "table": [
           {
            "cells": {
             "fill": {
              "color": "#EBF0F8"
             },
             "line": {
              "color": "white"
             }
            },
            "header": {
             "fill": {
              "color": "#C8D4E3"
             },
             "line": {
              "color": "white"
             }
            },
            "type": "table"
           }
          ]
         },
         "layout": {
          "annotationdefaults": {
           "arrowcolor": "#2a3f5f",
           "arrowhead": 0,
           "arrowwidth": 1
          },
          "coloraxis": {
           "colorbar": {
            "outlinewidth": 0,
            "ticks": ""
           }
          },
          "colorscale": {
           "diverging": [
            [
             0,
             "#8e0152"
            ],
            [
             0.1,
             "#c51b7d"
            ],
            [
             0.2,
             "#de77ae"
            ],
            [
             0.3,
             "#f1b6da"
            ],
            [
             0.4,
             "#fde0ef"
            ],
            [
             0.5,
             "#f7f7f7"
            ],
            [
             0.6,
             "#e6f5d0"
            ],
            [
             0.7,
             "#b8e186"
            ],
            [
             0.8,
             "#7fbc41"
            ],
            [
             0.9,
             "#4d9221"
            ],
            [
             1,
             "#276419"
            ]
           ],
           "sequential": [
            [
             0,
             "#0d0887"
            ],
            [
             0.1111111111111111,
             "#46039f"
            ],
            [
             0.2222222222222222,
             "#7201a8"
            ],
            [
             0.3333333333333333,
             "#9c179e"
            ],
            [
             0.4444444444444444,
             "#bd3786"
            ],
            [
             0.5555555555555556,
             "#d8576b"
            ],
            [
             0.6666666666666666,
             "#ed7953"
            ],
            [
             0.7777777777777778,
             "#fb9f3a"
            ],
            [
             0.8888888888888888,
             "#fdca26"
            ],
            [
             1,
             "#f0f921"
            ]
           ],
           "sequentialminus": [
            [
             0,
             "#0d0887"
            ],
            [
             0.1111111111111111,
             "#46039f"
            ],
            [
             0.2222222222222222,
             "#7201a8"
            ],
            [
             0.3333333333333333,
             "#9c179e"
            ],
            [
             0.4444444444444444,
             "#bd3786"
            ],
            [
             0.5555555555555556,
             "#d8576b"
            ],
            [
             0.6666666666666666,
             "#ed7953"
            ],
            [
             0.7777777777777778,
             "#fb9f3a"
            ],
            [
             0.8888888888888888,
             "#fdca26"
            ],
            [
             1,
             "#f0f921"
            ]
           ]
          },
          "colorway": [
           "#636efa",
           "#EF553B",
           "#00cc96",
           "#ab63fa",
           "#FFA15A",
           "#19d3f3",
           "#FF6692",
           "#B6E880",
           "#FF97FF",
           "#FECB52"
          ],
          "font": {
           "color": "#2a3f5f"
          },
          "geo": {
           "bgcolor": "white",
           "lakecolor": "white",
           "landcolor": "#E5ECF6",
           "showlakes": true,
           "showland": true,
           "subunitcolor": "white"
          },
          "hoverlabel": {
           "align": "left"
          },
          "hovermode": "closest",
          "mapbox": {
           "style": "light"
          },
          "paper_bgcolor": "white",
          "plot_bgcolor": "#E5ECF6",
          "polar": {
           "angularaxis": {
            "gridcolor": "white",
            "linecolor": "white",
            "ticks": ""
           },
           "bgcolor": "#E5ECF6",
           "radialaxis": {
            "gridcolor": "white",
            "linecolor": "white",
            "ticks": ""
           }
          },
          "scene": {
           "xaxis": {
            "backgroundcolor": "#E5ECF6",
            "gridcolor": "white",
            "gridwidth": 2,
            "linecolor": "white",
            "showbackground": true,
            "ticks": "",
            "zerolinecolor": "white"
           },
           "yaxis": {
            "backgroundcolor": "#E5ECF6",
            "gridcolor": "white",
            "gridwidth": 2,
            "linecolor": "white",
            "showbackground": true,
            "ticks": "",
            "zerolinecolor": "white"
           },
           "zaxis": {
            "backgroundcolor": "#E5ECF6",
            "gridcolor": "white",
            "gridwidth": 2,
            "linecolor": "white",
            "showbackground": true,
            "ticks": "",
            "zerolinecolor": "white"
           }
          },
          "shapedefaults": {
           "line": {
            "color": "#2a3f5f"
           }
          },
          "ternary": {
           "aaxis": {
            "gridcolor": "white",
            "linecolor": "white",
            "ticks": ""
           },
           "baxis": {
            "gridcolor": "white",
            "linecolor": "white",
            "ticks": ""
           },
           "bgcolor": "#E5ECF6",
           "caxis": {
            "gridcolor": "white",
            "linecolor": "white",
            "ticks": ""
           }
          },
          "title": {
           "x": 0.05
          },
          "xaxis": {
           "automargin": true,
           "gridcolor": "white",
           "linecolor": "white",
           "ticks": "",
           "title": {
            "standoff": 15
           },
           "zerolinecolor": "white",
           "zerolinewidth": 2
          },
          "yaxis": {
           "automargin": true,
           "gridcolor": "white",
           "linecolor": "white",
           "ticks": "",
           "title": {
            "standoff": 15
           },
           "zerolinecolor": "white",
           "zerolinewidth": 2
          }
         }
        },
        "title": {
         "font": {
          "color": "#4D5663"
         },
         "text": "AFRICAN TOP 10 TWITTER OFFICIALS INFLUENCERS"
        },
        "xaxis": {
         "gridcolor": "#E1E5ED",
         "showgrid": true,
         "tickfont": {
          "color": "#4D5663"
         },
         "title": {
          "font": {
           "color": "#4D5663"
          },
          "text": "Africa\"s Top 10 Twitter influencers"
         },
         "zerolinecolor": "#E1E5ED"
        },
        "yaxis": {
         "gridcolor": "#E1E5ED",
         "showgrid": true,
         "tickfont": {
          "color": "#4D5663"
         },
         "title": {
          "font": {
           "color": "#4D5663"
          },
          "text": "Number of twitter followers"
         },
         "zerolinecolor": "#E1E5ED"
        }
       }
      },
      "text/html": [
       "<div>\n",
       "        \n",
       "        \n",
       "            <div id=\"313a8500-d63d-4062-af0d-6e8bff5800c5\" class=\"plotly-graph-div\" style=\"height:525px; width:100%;\"></div>\n",
       "            <script type=\"text/javascript\">\n",
       "                require([\"plotly\"], function(Plotly) {\n",
       "                    window.PLOTLYENV=window.PLOTLYENV || {};\n",
       "                    window.PLOTLYENV.BASE_URL='https://plot.ly';\n",
       "                    \n",
       "                if (document.getElementById(\"313a8500-d63d-4062-af0d-6e8bff5800c5\")) {\n",
       "                    Plotly.newPlot(\n",
       "                        '313a8500-d63d-4062-af0d-6e8bff5800c5',\n",
       "                        [{\"marker\": {\"color\": \"rgba(255, 153, 51, 0.6)\", \"line\": {\"color\": \"rgba(255, 153, 51, 1.0)\", \"width\": 1}}, \"name\": \"Followers_count\", \"orientation\": \"v\", \"text\": \"\", \"type\": \"bar\", \"x\": [\"Trevor noah\", \"News24\", \"Julius Sello Malema\", \"gareth cliff\", \"Euphonik\\u2122\\u265b\", \"Helen Zille\", \"MTV Base Africa\", \"5FM\", \"Cricket South Africa\", \"loyiso gola\"], \"y\": [10797729.0, 3572086.0, 3122368.0, 1974188.0, 1752911.0, 1443025.0, 1415121.0, 1163950.0, 1159530.0, 1085063.0]}],\n",
       "                        {\"legend\": {\"bgcolor\": \"#F5F6F9\", \"font\": {\"color\": \"#4D5663\"}}, \"paper_bgcolor\": \"#F5F6F9\", \"plot_bgcolor\": \"#F5F6F9\", \"template\": {\"data\": {\"bar\": [{\"error_x\": {\"color\": \"#2a3f5f\"}, \"error_y\": {\"color\": \"#2a3f5f\"}, \"marker\": {\"line\": {\"color\": \"#E5ECF6\", \"width\": 0.5}}, \"type\": \"bar\"}], \"barpolar\": [{\"marker\": {\"line\": {\"color\": \"#E5ECF6\", \"width\": 0.5}}, \"type\": \"barpolar\"}], \"carpet\": [{\"aaxis\": {\"endlinecolor\": \"#2a3f5f\", \"gridcolor\": \"white\", \"linecolor\": \"white\", \"minorgridcolor\": \"white\", \"startlinecolor\": \"#2a3f5f\"}, \"baxis\": {\"endlinecolor\": \"#2a3f5f\", \"gridcolor\": \"white\", \"linecolor\": \"white\", \"minorgridcolor\": \"white\", \"startlinecolor\": \"#2a3f5f\"}, \"type\": \"carpet\"}], \"choropleth\": [{\"colorbar\": {\"outlinewidth\": 0, \"ticks\": \"\"}, \"type\": \"choropleth\"}], \"contour\": [{\"colorbar\": {\"outlinewidth\": 0, \"ticks\": \"\"}, \"colorscale\": [[0.0, \"#0d0887\"], [0.1111111111111111, \"#46039f\"], [0.2222222222222222, \"#7201a8\"], [0.3333333333333333, \"#9c179e\"], [0.4444444444444444, \"#bd3786\"], [0.5555555555555556, \"#d8576b\"], [0.6666666666666666, \"#ed7953\"], [0.7777777777777778, \"#fb9f3a\"], [0.8888888888888888, \"#fdca26\"], [1.0, \"#f0f921\"]], \"type\": \"contour\"}], \"contourcarpet\": [{\"colorbar\": {\"outlinewidth\": 0, \"ticks\": \"\"}, \"type\": \"contourcarpet\"}], \"heatmap\": [{\"colorbar\": {\"outlinewidth\": 0, \"ticks\": \"\"}, \"colorscale\": [[0.0, \"#0d0887\"], [0.1111111111111111, \"#46039f\"], [0.2222222222222222, \"#7201a8\"], [0.3333333333333333, \"#9c179e\"], [0.4444444444444444, \"#bd3786\"], [0.5555555555555556, \"#d8576b\"], [0.6666666666666666, \"#ed7953\"], [0.7777777777777778, \"#fb9f3a\"], [0.8888888888888888, \"#fdca26\"], [1.0, \"#f0f921\"]], \"type\": \"heatmap\"}], \"heatmapgl\": [{\"colorbar\": {\"outlinewidth\": 0, \"ticks\": \"\"}, \"colorscale\": [[0.0, \"#0d0887\"], [0.1111111111111111, \"#46039f\"], [0.2222222222222222, \"#7201a8\"], [0.3333333333333333, \"#9c179e\"], [0.4444444444444444, \"#bd3786\"], [0.5555555555555556, \"#d8576b\"], [0.6666666666666666, \"#ed7953\"], [0.7777777777777778, \"#fb9f3a\"], [0.8888888888888888, \"#fdca26\"], [1.0, \"#f0f921\"]], \"type\": \"heatmapgl\"}], \"histogram\": [{\"marker\": {\"colorbar\": {\"outlinewidth\": 0, \"ticks\": \"\"}}, \"type\": \"histogram\"}], \"histogram2d\": [{\"colorbar\": {\"outlinewidth\": 0, \"ticks\": \"\"}, \"colorscale\": [[0.0, \"#0d0887\"], [0.1111111111111111, \"#46039f\"], [0.2222222222222222, \"#7201a8\"], [0.3333333333333333, \"#9c179e\"], [0.4444444444444444, \"#bd3786\"], [0.5555555555555556, \"#d8576b\"], [0.6666666666666666, \"#ed7953\"], [0.7777777777777778, \"#fb9f3a\"], [0.8888888888888888, \"#fdca26\"], [1.0, \"#f0f921\"]], \"type\": \"histogram2d\"}], \"histogram2dcontour\": [{\"colorbar\": {\"outlinewidth\": 0, \"ticks\": \"\"}, \"colorscale\": [[0.0, \"#0d0887\"], [0.1111111111111111, \"#46039f\"], [0.2222222222222222, \"#7201a8\"], [0.3333333333333333, \"#9c179e\"], [0.4444444444444444, \"#bd3786\"], [0.5555555555555556, \"#d8576b\"], [0.6666666666666666, \"#ed7953\"], [0.7777777777777778, \"#fb9f3a\"], [0.8888888888888888, \"#fdca26\"], [1.0, \"#f0f921\"]], \"type\": \"histogram2dcontour\"}], \"mesh3d\": [{\"colorbar\": {\"outlinewidth\": 0, \"ticks\": \"\"}, \"type\": \"mesh3d\"}], \"parcoords\": [{\"line\": {\"colorbar\": {\"outlinewidth\": 0, \"ticks\": \"\"}}, \"type\": \"parcoords\"}], \"pie\": [{\"automargin\": true, \"type\": \"pie\"}], \"scatter\": [{\"marker\": {\"colorbar\": {\"outlinewidth\": 0, \"ticks\": \"\"}}, \"type\": \"scatter\"}], \"scatter3d\": [{\"line\": {\"colorbar\": {\"outlinewidth\": 0, \"ticks\": \"\"}}, \"marker\": {\"colorbar\": {\"outlinewidth\": 0, \"ticks\": \"\"}}, \"type\": \"scatter3d\"}], \"scattercarpet\": [{\"marker\": {\"colorbar\": {\"outlinewidth\": 0, \"ticks\": \"\"}}, \"type\": \"scattercarpet\"}], \"scattergeo\": [{\"marker\": {\"colorbar\": {\"outlinewidth\": 0, \"ticks\": \"\"}}, \"type\": \"scattergeo\"}], \"scattergl\": [{\"marker\": {\"colorbar\": {\"outlinewidth\": 0, \"ticks\": \"\"}}, \"type\": \"scattergl\"}], \"scattermapbox\": [{\"marker\": {\"colorbar\": {\"outlinewidth\": 0, \"ticks\": \"\"}}, \"type\": \"scattermapbox\"}], \"scatterpolar\": [{\"marker\": {\"colorbar\": {\"outlinewidth\": 0, \"ticks\": \"\"}}, \"type\": \"scatterpolar\"}], \"scatterpolargl\": [{\"marker\": {\"colorbar\": {\"outlinewidth\": 0, \"ticks\": \"\"}}, \"type\": \"scatterpolargl\"}], \"scatterternary\": [{\"marker\": {\"colorbar\": {\"outlinewidth\": 0, \"ticks\": \"\"}}, \"type\": \"scatterternary\"}], \"surface\": [{\"colorbar\": {\"outlinewidth\": 0, \"ticks\": \"\"}, \"colorscale\": [[0.0, \"#0d0887\"], [0.1111111111111111, \"#46039f\"], [0.2222222222222222, \"#7201a8\"], [0.3333333333333333, \"#9c179e\"], [0.4444444444444444, \"#bd3786\"], [0.5555555555555556, \"#d8576b\"], [0.6666666666666666, \"#ed7953\"], [0.7777777777777778, \"#fb9f3a\"], [0.8888888888888888, \"#fdca26\"], [1.0, \"#f0f921\"]], \"type\": \"surface\"}], \"table\": [{\"cells\": {\"fill\": {\"color\": \"#EBF0F8\"}, \"line\": {\"color\": \"white\"}}, \"header\": {\"fill\": {\"color\": \"#C8D4E3\"}, \"line\": {\"color\": \"white\"}}, \"type\": \"table\"}]}, \"layout\": {\"annotationdefaults\": {\"arrowcolor\": \"#2a3f5f\", \"arrowhead\": 0, \"arrowwidth\": 1}, \"coloraxis\": {\"colorbar\": {\"outlinewidth\": 0, \"ticks\": \"\"}}, \"colorscale\": {\"diverging\": [[0, \"#8e0152\"], [0.1, \"#c51b7d\"], [0.2, \"#de77ae\"], [0.3, \"#f1b6da\"], [0.4, \"#fde0ef\"], [0.5, \"#f7f7f7\"], [0.6, \"#e6f5d0\"], [0.7, \"#b8e186\"], [0.8, \"#7fbc41\"], [0.9, \"#4d9221\"], [1, \"#276419\"]], \"sequential\": [[0.0, \"#0d0887\"], [0.1111111111111111, \"#46039f\"], [0.2222222222222222, \"#7201a8\"], [0.3333333333333333, \"#9c179e\"], [0.4444444444444444, \"#bd3786\"], [0.5555555555555556, \"#d8576b\"], [0.6666666666666666, \"#ed7953\"], [0.7777777777777778, \"#fb9f3a\"], [0.8888888888888888, \"#fdca26\"], [1.0, \"#f0f921\"]], \"sequentialminus\": [[0.0, \"#0d0887\"], [0.1111111111111111, \"#46039f\"], [0.2222222222222222, \"#7201a8\"], [0.3333333333333333, \"#9c179e\"], [0.4444444444444444, \"#bd3786\"], [0.5555555555555556, \"#d8576b\"], [0.6666666666666666, \"#ed7953\"], [0.7777777777777778, \"#fb9f3a\"], [0.8888888888888888, \"#fdca26\"], [1.0, \"#f0f921\"]]}, \"colorway\": [\"#636efa\", \"#EF553B\", \"#00cc96\", \"#ab63fa\", \"#FFA15A\", \"#19d3f3\", \"#FF6692\", \"#B6E880\", \"#FF97FF\", \"#FECB52\"], \"font\": {\"color\": \"#2a3f5f\"}, \"geo\": {\"bgcolor\": \"white\", \"lakecolor\": \"white\", \"landcolor\": \"#E5ECF6\", \"showlakes\": true, \"showland\": true, \"subunitcolor\": \"white\"}, \"hoverlabel\": {\"align\": \"left\"}, \"hovermode\": \"closest\", \"mapbox\": {\"style\": \"light\"}, \"paper_bgcolor\": \"white\", \"plot_bgcolor\": \"#E5ECF6\", \"polar\": {\"angularaxis\": {\"gridcolor\": \"white\", \"linecolor\": \"white\", \"ticks\": \"\"}, \"bgcolor\": \"#E5ECF6\", \"radialaxis\": {\"gridcolor\": \"white\", \"linecolor\": \"white\", \"ticks\": \"\"}}, \"scene\": {\"xaxis\": {\"backgroundcolor\": \"#E5ECF6\", \"gridcolor\": \"white\", \"gridwidth\": 2, \"linecolor\": \"white\", \"showbackground\": true, \"ticks\": \"\", \"zerolinecolor\": \"white\"}, \"yaxis\": {\"backgroundcolor\": \"#E5ECF6\", \"gridcolor\": \"white\", \"gridwidth\": 2, \"linecolor\": \"white\", \"showbackground\": true, \"ticks\": \"\", \"zerolinecolor\": \"white\"}, \"zaxis\": {\"backgroundcolor\": \"#E5ECF6\", \"gridcolor\": \"white\", \"gridwidth\": 2, \"linecolor\": \"white\", \"showbackground\": true, \"ticks\": \"\", \"zerolinecolor\": \"white\"}}, \"shapedefaults\": {\"line\": {\"color\": \"#2a3f5f\"}}, \"ternary\": {\"aaxis\": {\"gridcolor\": \"white\", \"linecolor\": \"white\", \"ticks\": \"\"}, \"baxis\": {\"gridcolor\": \"white\", \"linecolor\": \"white\", \"ticks\": \"\"}, \"bgcolor\": \"#E5ECF6\", \"caxis\": {\"gridcolor\": \"white\", \"linecolor\": \"white\", \"ticks\": \"\"}}, \"title\": {\"x\": 0.05}, \"xaxis\": {\"automargin\": true, \"gridcolor\": \"white\", \"linecolor\": \"white\", \"ticks\": \"\", \"title\": {\"standoff\": 15}, \"zerolinecolor\": \"white\", \"zerolinewidth\": 2}, \"yaxis\": {\"automargin\": true, \"gridcolor\": \"white\", \"linecolor\": \"white\", \"ticks\": \"\", \"title\": {\"standoff\": 15}, \"zerolinecolor\": \"white\", \"zerolinewidth\": 2}}}, \"title\": {\"font\": {\"color\": \"#4D5663\"}, \"text\": \"AFRICAN TOP 10 TWITTER OFFICIALS INFLUENCERS\"}, \"xaxis\": {\"gridcolor\": \"#E1E5ED\", \"showgrid\": true, \"tickfont\": {\"color\": \"#4D5663\"}, \"title\": {\"font\": {\"color\": \"#4D5663\"}, \"text\": \"Africa\\\"s Top 10 Twitter influencers\"}, \"zerolinecolor\": \"#E1E5ED\"}, \"yaxis\": {\"gridcolor\": \"#E1E5ED\", \"showgrid\": true, \"tickfont\": {\"color\": \"#4D5663\"}, \"title\": {\"font\": {\"color\": \"#4D5663\"}, \"text\": \"Number of twitter followers\"}, \"zerolinecolor\": \"#E1E5ED\"}},\n",
       "                        {\"showLink\": true, \"linkText\": \"Export to plot.ly\", \"plotlyServerURL\": \"https://plot.ly\", \"responsive\": true}\n",
       "                    ).then(function(){\n",
       "                            \n",
       "var gd = document.getElementById('313a8500-d63d-4062-af0d-6e8bff5800c5');\n",
       "var x = new MutationObserver(function (mutations, observer) {{\n",
       "        var display = window.getComputedStyle(gd).display;\n",
       "        if (!display || display === 'none') {{\n",
       "            console.log([gd, 'removed!']);\n",
       "            Plotly.purge(gd);\n",
       "            observer.disconnect();\n",
       "        }}\n",
       "}});\n",
       "\n",
       "// Listen for the removal of the full notebook cells\n",
       "var notebookContainer = gd.closest('#notebook-container');\n",
       "if (notebookContainer) {{\n",
       "    x.observe(notebookContainer, {childList: true});\n",
       "}}\n",
       "\n",
       "// Listen for the clearing of the current output cell\n",
       "var outputEl = gd.closest('.output');\n",
       "if (outputEl) {{\n",
       "    x.observe(outputEl, {childList: true});\n",
       "}}\n",
       "\n",
       "                        })\n",
       "                };\n",
       "                });\n",
       "            </script>\n",
       "        </div>"
      ]
     },
     "metadata": {},
     "output_type": "display_data"
    }
   ],
   "source": [
    "top10.iplot(kind=\"bar\",x=\"Name\",y=\"Followers_count\",xTitle='Africa\"s Top 10 Twitter influencers',\n",
    "           yTitle='Number of twitter followers',title='AFRICAN TOP 10 TWITTER OFFICIALS INFLUENCERS')"
   ]
  },
  {
   "cell_type": "code",
   "execution_count": 22,
   "metadata": {},
   "outputs": [],
   "source": [
    "top10.to_csv (r'top10twitterinfluencers.csv', index = False, header=True)"
   ]
  },
  {
   "cell_type": "markdown",
   "metadata": {},
   "source": [
    "Popularity (Retweet Influence): measured by the number of Retweets and Likes users get. We will now calculate the popularity score for the influencers. \n"
   ]
  },
  {
   "cell_type": "code",
   "execution_count": 23,
   "metadata": {},
   "outputs": [
    {
     "data": {
      "text/html": [
       "<div>\n",
       "<style scoped>\n",
       "    .dataframe tbody tr th:only-of-type {\n",
       "        vertical-align: middle;\n",
       "    }\n",
       "\n",
       "    .dataframe tbody tr th {\n",
       "        vertical-align: top;\n",
       "    }\n",
       "\n",
       "    .dataframe thead th {\n",
       "        text-align: right;\n",
       "    }\n",
       "</style>\n",
       "<table border=\"1\" class=\"dataframe\">\n",
       "  <thead>\n",
       "    <tr style=\"text-align: right;\">\n",
       "      <th></th>\n",
       "      <th>Rank</th>\n",
       "      <th>Name</th>\n",
       "      <th>Twittername</th>\n",
       "      <th>screen_name</th>\n",
       "      <th>user_mentions</th>\n",
       "      <th>retweet_count</th>\n",
       "      <th>Followers_count</th>\n",
       "      <th>Tweets</th>\n",
       "      <th>Likes</th>\n",
       "      <th>friends_count</th>\n",
       "      <th>status_count</th>\n",
       "      <th>Account_age(days)</th>\n",
       "      <th>Average_tweets_per day</th>\n",
       "    </tr>\n",
       "  </thead>\n",
       "  <tbody>\n",
       "    <tr>\n",
       "      <th>0</th>\n",
       "      <td>1</td>\n",
       "      <td>Trevor noah</td>\n",
       "      <td>@Trevornoah</td>\n",
       "      <td>Trevornoah</td>\n",
       "      <td>NaN</td>\n",
       "      <td>18868654.0</td>\n",
       "      <td>10797729.0</td>\n",
       "      <td>3181.0</td>\n",
       "      <td>8117706.0</td>\n",
       "      <td>325.0</td>\n",
       "      <td>11185.0</td>\n",
       "      <td>4055.0</td>\n",
       "      <td>2.76</td>\n",
       "    </tr>\n",
       "    <tr>\n",
       "      <th>1</th>\n",
       "      <td>4</td>\n",
       "      <td>News24</td>\n",
       "      <td>@News24</td>\n",
       "      <td>News24</td>\n",
       "      <td>NaN</td>\n",
       "      <td>90095.0</td>\n",
       "      <td>3572086.0</td>\n",
       "      <td>3229.0</td>\n",
       "      <td>203872.0</td>\n",
       "      <td>632.0</td>\n",
       "      <td>322572.0</td>\n",
       "      <td>4454.0</td>\n",
       "      <td>72.48</td>\n",
       "    </tr>\n",
       "    <tr>\n",
       "      <th>2</th>\n",
       "      <td>5</td>\n",
       "      <td>Julius Sello Malema</td>\n",
       "      <td>@Julius_S_Malema</td>\n",
       "      <td>Julius_S_Malema</td>\n",
       "      <td>NaN</td>\n",
       "      <td>5300812.0</td>\n",
       "      <td>3122368.0</td>\n",
       "      <td>3207.0</td>\n",
       "      <td>1228961.0</td>\n",
       "      <td>652.0</td>\n",
       "      <td>37190.0</td>\n",
       "      <td>3797.0</td>\n",
       "      <td>9.80</td>\n",
       "    </tr>\n",
       "    <tr>\n",
       "      <th>3</th>\n",
       "      <td>2</td>\n",
       "      <td>gareth cliff</td>\n",
       "      <td>@GarethCliff</td>\n",
       "      <td>GarethCliff</td>\n",
       "      <td>NaN</td>\n",
       "      <td>1006134.0</td>\n",
       "      <td>1974188.0</td>\n",
       "      <td>3174.0</td>\n",
       "      <td>193488.0</td>\n",
       "      <td>356.0</td>\n",
       "      <td>31623.0</td>\n",
       "      <td>4240.0</td>\n",
       "      <td>7.46</td>\n",
       "    </tr>\n",
       "    <tr>\n",
       "      <th>4</th>\n",
       "      <td>15</td>\n",
       "      <td>Euphonik™♛</td>\n",
       "      <td>@euphonik</td>\n",
       "      <td>euphonik</td>\n",
       "      <td>1523.0</td>\n",
       "      <td>45560.0</td>\n",
       "      <td>1752911.0</td>\n",
       "      <td>998.0</td>\n",
       "      <td>227440.0</td>\n",
       "      <td>65.0</td>\n",
       "      <td>4516.0</td>\n",
       "      <td>4168.0</td>\n",
       "      <td>1.08</td>\n",
       "    </tr>\n",
       "    <tr>\n",
       "      <th>...</th>\n",
       "      <td>...</td>\n",
       "      <td>...</td>\n",
       "      <td>...</td>\n",
       "      <td>...</td>\n",
       "      <td>...</td>\n",
       "      <td>...</td>\n",
       "      <td>...</td>\n",
       "      <td>...</td>\n",
       "      <td>...</td>\n",
       "      <td>...</td>\n",
       "      <td>...</td>\n",
       "      <td>...</td>\n",
       "      <td>...</td>\n",
       "    </tr>\n",
       "    <tr>\n",
       "      <th>89</th>\n",
       "      <td>93</td>\n",
       "      <td>DOS African Affairs</td>\n",
       "      <td>@StateAfrica</td>\n",
       "      <td>stateafrica</td>\n",
       "      <td>0.0</td>\n",
       "      <td>0.0</td>\n",
       "      <td>8.0</td>\n",
       "      <td>1.0</td>\n",
       "      <td>1.0</td>\n",
       "      <td>0.0</td>\n",
       "      <td>1.0</td>\n",
       "      <td>1131.0</td>\n",
       "      <td>0.00</td>\n",
       "    </tr>\n",
       "    <tr>\n",
       "      <th>90</th>\n",
       "      <td>16</td>\n",
       "      <td>andrew harding</td>\n",
       "      <td>@BBCAndrewH</td>\n",
       "      <td>BBCAndrewH</td>\n",
       "      <td>0.0</td>\n",
       "      <td>0.0</td>\n",
       "      <td>7.0</td>\n",
       "      <td>6.0</td>\n",
       "      <td>1.0</td>\n",
       "      <td>0.0</td>\n",
       "      <td>6.0</td>\n",
       "      <td>813.0</td>\n",
       "      <td>0.01</td>\n",
       "    </tr>\n",
       "    <tr>\n",
       "      <th>91</th>\n",
       "      <td>71</td>\n",
       "      <td>This Is Africa</td>\n",
       "      <td>@thisisafrica</td>\n",
       "      <td>ThisisAfrica</td>\n",
       "      <td>0.0</td>\n",
       "      <td>NaN</td>\n",
       "      <td>6.0</td>\n",
       "      <td>NaN</td>\n",
       "      <td>NaN</td>\n",
       "      <td>0.0</td>\n",
       "      <td>0.0</td>\n",
       "      <td>440.0</td>\n",
       "      <td>0.00</td>\n",
       "    </tr>\n",
       "    <tr>\n",
       "      <th>92</th>\n",
       "      <td>44</td>\n",
       "      <td>CNBC Africa</td>\n",
       "      <td>@cnbcafrica</td>\n",
       "      <td>cnbcafrica</td>\n",
       "      <td>931.0</td>\n",
       "      <td>21774.0</td>\n",
       "      <td>NaN</td>\n",
       "      <td>3230.0</td>\n",
       "      <td>15473.0</td>\n",
       "      <td>657.0</td>\n",
       "      <td>91438.0</td>\n",
       "      <td>3763.0</td>\n",
       "      <td>8.07</td>\n",
       "    </tr>\n",
       "    <tr>\n",
       "      <th>93</th>\n",
       "      <td>88</td>\n",
       "      <td>andBeyond</td>\n",
       "      <td>@andBeyondSafari</td>\n",
       "      <td>NaN</td>\n",
       "      <td>0.0</td>\n",
       "      <td>237701.0</td>\n",
       "      <td>NaN</td>\n",
       "      <td>3243.0</td>\n",
       "      <td>8233.0</td>\n",
       "      <td>NaN</td>\n",
       "      <td>NaN</td>\n",
       "      <td>NaN</td>\n",
       "      <td>NaN</td>\n",
       "    </tr>\n",
       "  </tbody>\n",
       "</table>\n",
       "<p>94 rows × 13 columns</p>\n",
       "</div>"
      ],
      "text/plain": [
       "    Rank                 Name       Twittername      screen_name  \\\n",
       "0      1          Trevor noah       @Trevornoah       Trevornoah   \n",
       "1      4               News24           @News24           News24   \n",
       "2      5  Julius Sello Malema  @Julius_S_Malema  Julius_S_Malema   \n",
       "3      2         gareth cliff      @GarethCliff      GarethCliff   \n",
       "4     15           Euphonik™♛         @euphonik         euphonik   \n",
       "..   ...                  ...               ...              ...   \n",
       "89    93  DOS African Affairs      @StateAfrica      stateafrica   \n",
       "90    16       andrew harding       @BBCAndrewH       BBCAndrewH   \n",
       "91    71       This Is Africa     @thisisafrica     ThisisAfrica   \n",
       "92    44          CNBC Africa       @cnbcafrica       cnbcafrica   \n",
       "93    88            andBeyond  @andBeyondSafari              NaN   \n",
       "\n",
       "    user_mentions  retweet_count  Followers_count  Tweets      Likes  \\\n",
       "0             NaN     18868654.0       10797729.0  3181.0  8117706.0   \n",
       "1             NaN        90095.0        3572086.0  3229.0   203872.0   \n",
       "2             NaN      5300812.0        3122368.0  3207.0  1228961.0   \n",
       "3             NaN      1006134.0        1974188.0  3174.0   193488.0   \n",
       "4          1523.0        45560.0        1752911.0   998.0   227440.0   \n",
       "..            ...            ...              ...     ...        ...   \n",
       "89            0.0            0.0              8.0     1.0        1.0   \n",
       "90            0.0            0.0              7.0     6.0        1.0   \n",
       "91            0.0            NaN              6.0     NaN        NaN   \n",
       "92          931.0        21774.0              NaN  3230.0    15473.0   \n",
       "93            0.0       237701.0              NaN  3243.0     8233.0   \n",
       "\n",
       "    friends_count  status_count  Account_age(days)  Average_tweets_per day  \n",
       "0           325.0       11185.0             4055.0                    2.76  \n",
       "1           632.0      322572.0             4454.0                   72.48  \n",
       "2           652.0       37190.0             3797.0                    9.80  \n",
       "3           356.0       31623.0             4240.0                    7.46  \n",
       "4            65.0        4516.0             4168.0                    1.08  \n",
       "..            ...           ...                ...                     ...  \n",
       "89            0.0           1.0             1131.0                    0.00  \n",
       "90            0.0           6.0              813.0                    0.01  \n",
       "91            0.0           0.0              440.0                    0.00  \n",
       "92          657.0       91438.0             3763.0                    8.07  \n",
       "93            NaN           NaN                NaN                     NaN  \n",
       "\n",
       "[94 rows x 13 columns]"
      ]
     },
     "execution_count": 23,
     "metadata": {},
     "output_type": "execute_result"
    }
   ],
   "source": [
    "df3"
   ]
  },
  {
   "cell_type": "code",
   "execution_count": 24,
   "metadata": {},
   "outputs": [],
   "source": [
    "#Creating a new column by adding two columns.\n",
    "df3[\"popularity_score\"]=df3[\"retweet_count\"]+df3[\"Likes\"]"
   ]
  },
  {
   "cell_type": "code",
   "execution_count": 25,
   "metadata": {},
   "outputs": [
    {
     "data": {
      "text/html": [
       "<div>\n",
       "<style scoped>\n",
       "    .dataframe tbody tr th:only-of-type {\n",
       "        vertical-align: middle;\n",
       "    }\n",
       "\n",
       "    .dataframe tbody tr th {\n",
       "        vertical-align: top;\n",
       "    }\n",
       "\n",
       "    .dataframe thead th {\n",
       "        text-align: right;\n",
       "    }\n",
       "</style>\n",
       "<table border=\"1\" class=\"dataframe\">\n",
       "  <thead>\n",
       "    <tr style=\"text-align: right;\">\n",
       "      <th></th>\n",
       "      <th>Rank</th>\n",
       "      <th>Name</th>\n",
       "      <th>Twittername</th>\n",
       "      <th>screen_name</th>\n",
       "      <th>user_mentions</th>\n",
       "      <th>retweet_count</th>\n",
       "      <th>Followers_count</th>\n",
       "      <th>Tweets</th>\n",
       "      <th>Likes</th>\n",
       "      <th>friends_count</th>\n",
       "      <th>status_count</th>\n",
       "      <th>Account_age(days)</th>\n",
       "      <th>Average_tweets_per day</th>\n",
       "      <th>popularity_score</th>\n",
       "    </tr>\n",
       "  </thead>\n",
       "  <tbody>\n",
       "    <tr>\n",
       "      <th>0</th>\n",
       "      <td>1</td>\n",
       "      <td>Trevor noah</td>\n",
       "      <td>@Trevornoah</td>\n",
       "      <td>Trevornoah</td>\n",
       "      <td>NaN</td>\n",
       "      <td>18868654.0</td>\n",
       "      <td>10797729.0</td>\n",
       "      <td>3181.0</td>\n",
       "      <td>8117706.0</td>\n",
       "      <td>325.0</td>\n",
       "      <td>11185.0</td>\n",
       "      <td>4055.0</td>\n",
       "      <td>2.76</td>\n",
       "      <td>26986360.0</td>\n",
       "    </tr>\n",
       "    <tr>\n",
       "      <th>1</th>\n",
       "      <td>4</td>\n",
       "      <td>News24</td>\n",
       "      <td>@News24</td>\n",
       "      <td>News24</td>\n",
       "      <td>NaN</td>\n",
       "      <td>90095.0</td>\n",
       "      <td>3572086.0</td>\n",
       "      <td>3229.0</td>\n",
       "      <td>203872.0</td>\n",
       "      <td>632.0</td>\n",
       "      <td>322572.0</td>\n",
       "      <td>4454.0</td>\n",
       "      <td>72.48</td>\n",
       "      <td>293967.0</td>\n",
       "    </tr>\n",
       "    <tr>\n",
       "      <th>2</th>\n",
       "      <td>5</td>\n",
       "      <td>Julius Sello Malema</td>\n",
       "      <td>@Julius_S_Malema</td>\n",
       "      <td>Julius_S_Malema</td>\n",
       "      <td>NaN</td>\n",
       "      <td>5300812.0</td>\n",
       "      <td>3122368.0</td>\n",
       "      <td>3207.0</td>\n",
       "      <td>1228961.0</td>\n",
       "      <td>652.0</td>\n",
       "      <td>37190.0</td>\n",
       "      <td>3797.0</td>\n",
       "      <td>9.80</td>\n",
       "      <td>6529773.0</td>\n",
       "    </tr>\n",
       "    <tr>\n",
       "      <th>3</th>\n",
       "      <td>2</td>\n",
       "      <td>gareth cliff</td>\n",
       "      <td>@GarethCliff</td>\n",
       "      <td>GarethCliff</td>\n",
       "      <td>NaN</td>\n",
       "      <td>1006134.0</td>\n",
       "      <td>1974188.0</td>\n",
       "      <td>3174.0</td>\n",
       "      <td>193488.0</td>\n",
       "      <td>356.0</td>\n",
       "      <td>31623.0</td>\n",
       "      <td>4240.0</td>\n",
       "      <td>7.46</td>\n",
       "      <td>1199622.0</td>\n",
       "    </tr>\n",
       "    <tr>\n",
       "      <th>4</th>\n",
       "      <td>15</td>\n",
       "      <td>Euphonik™♛</td>\n",
       "      <td>@euphonik</td>\n",
       "      <td>euphonik</td>\n",
       "      <td>1523.0</td>\n",
       "      <td>45560.0</td>\n",
       "      <td>1752911.0</td>\n",
       "      <td>998.0</td>\n",
       "      <td>227440.0</td>\n",
       "      <td>65.0</td>\n",
       "      <td>4516.0</td>\n",
       "      <td>4168.0</td>\n",
       "      <td>1.08</td>\n",
       "      <td>273000.0</td>\n",
       "    </tr>\n",
       "    <tr>\n",
       "      <th>...</th>\n",
       "      <td>...</td>\n",
       "      <td>...</td>\n",
       "      <td>...</td>\n",
       "      <td>...</td>\n",
       "      <td>...</td>\n",
       "      <td>...</td>\n",
       "      <td>...</td>\n",
       "      <td>...</td>\n",
       "      <td>...</td>\n",
       "      <td>...</td>\n",
       "      <td>...</td>\n",
       "      <td>...</td>\n",
       "      <td>...</td>\n",
       "      <td>...</td>\n",
       "    </tr>\n",
       "    <tr>\n",
       "      <th>89</th>\n",
       "      <td>93</td>\n",
       "      <td>DOS African Affairs</td>\n",
       "      <td>@StateAfrica</td>\n",
       "      <td>stateafrica</td>\n",
       "      <td>0.0</td>\n",
       "      <td>0.0</td>\n",
       "      <td>8.0</td>\n",
       "      <td>1.0</td>\n",
       "      <td>1.0</td>\n",
       "      <td>0.0</td>\n",
       "      <td>1.0</td>\n",
       "      <td>1131.0</td>\n",
       "      <td>0.00</td>\n",
       "      <td>1.0</td>\n",
       "    </tr>\n",
       "    <tr>\n",
       "      <th>90</th>\n",
       "      <td>16</td>\n",
       "      <td>andrew harding</td>\n",
       "      <td>@BBCAndrewH</td>\n",
       "      <td>BBCAndrewH</td>\n",
       "      <td>0.0</td>\n",
       "      <td>0.0</td>\n",
       "      <td>7.0</td>\n",
       "      <td>6.0</td>\n",
       "      <td>1.0</td>\n",
       "      <td>0.0</td>\n",
       "      <td>6.0</td>\n",
       "      <td>813.0</td>\n",
       "      <td>0.01</td>\n",
       "      <td>1.0</td>\n",
       "    </tr>\n",
       "    <tr>\n",
       "      <th>91</th>\n",
       "      <td>71</td>\n",
       "      <td>This Is Africa</td>\n",
       "      <td>@thisisafrica</td>\n",
       "      <td>ThisisAfrica</td>\n",
       "      <td>0.0</td>\n",
       "      <td>NaN</td>\n",
       "      <td>6.0</td>\n",
       "      <td>NaN</td>\n",
       "      <td>NaN</td>\n",
       "      <td>0.0</td>\n",
       "      <td>0.0</td>\n",
       "      <td>440.0</td>\n",
       "      <td>0.00</td>\n",
       "      <td>NaN</td>\n",
       "    </tr>\n",
       "    <tr>\n",
       "      <th>92</th>\n",
       "      <td>44</td>\n",
       "      <td>CNBC Africa</td>\n",
       "      <td>@cnbcafrica</td>\n",
       "      <td>cnbcafrica</td>\n",
       "      <td>931.0</td>\n",
       "      <td>21774.0</td>\n",
       "      <td>NaN</td>\n",
       "      <td>3230.0</td>\n",
       "      <td>15473.0</td>\n",
       "      <td>657.0</td>\n",
       "      <td>91438.0</td>\n",
       "      <td>3763.0</td>\n",
       "      <td>8.07</td>\n",
       "      <td>37247.0</td>\n",
       "    </tr>\n",
       "    <tr>\n",
       "      <th>93</th>\n",
       "      <td>88</td>\n",
       "      <td>andBeyond</td>\n",
       "      <td>@andBeyondSafari</td>\n",
       "      <td>NaN</td>\n",
       "      <td>0.0</td>\n",
       "      <td>237701.0</td>\n",
       "      <td>NaN</td>\n",
       "      <td>3243.0</td>\n",
       "      <td>8233.0</td>\n",
       "      <td>NaN</td>\n",
       "      <td>NaN</td>\n",
       "      <td>NaN</td>\n",
       "      <td>NaN</td>\n",
       "      <td>245934.0</td>\n",
       "    </tr>\n",
       "  </tbody>\n",
       "</table>\n",
       "<p>94 rows × 14 columns</p>\n",
       "</div>"
      ],
      "text/plain": [
       "    Rank                 Name       Twittername      screen_name  \\\n",
       "0      1          Trevor noah       @Trevornoah       Trevornoah   \n",
       "1      4               News24           @News24           News24   \n",
       "2      5  Julius Sello Malema  @Julius_S_Malema  Julius_S_Malema   \n",
       "3      2         gareth cliff      @GarethCliff      GarethCliff   \n",
       "4     15           Euphonik™♛         @euphonik         euphonik   \n",
       "..   ...                  ...               ...              ...   \n",
       "89    93  DOS African Affairs      @StateAfrica      stateafrica   \n",
       "90    16       andrew harding       @BBCAndrewH       BBCAndrewH   \n",
       "91    71       This Is Africa     @thisisafrica     ThisisAfrica   \n",
       "92    44          CNBC Africa       @cnbcafrica       cnbcafrica   \n",
       "93    88            andBeyond  @andBeyondSafari              NaN   \n",
       "\n",
       "    user_mentions  retweet_count  Followers_count  Tweets      Likes  \\\n",
       "0             NaN     18868654.0       10797729.0  3181.0  8117706.0   \n",
       "1             NaN        90095.0        3572086.0  3229.0   203872.0   \n",
       "2             NaN      5300812.0        3122368.0  3207.0  1228961.0   \n",
       "3             NaN      1006134.0        1974188.0  3174.0   193488.0   \n",
       "4          1523.0        45560.0        1752911.0   998.0   227440.0   \n",
       "..            ...            ...              ...     ...        ...   \n",
       "89            0.0            0.0              8.0     1.0        1.0   \n",
       "90            0.0            0.0              7.0     6.0        1.0   \n",
       "91            0.0            NaN              6.0     NaN        NaN   \n",
       "92          931.0        21774.0              NaN  3230.0    15473.0   \n",
       "93            0.0       237701.0              NaN  3243.0     8233.0   \n",
       "\n",
       "    friends_count  status_count  Account_age(days)  Average_tweets_per day  \\\n",
       "0           325.0       11185.0             4055.0                    2.76   \n",
       "1           632.0      322572.0             4454.0                   72.48   \n",
       "2           652.0       37190.0             3797.0                    9.80   \n",
       "3           356.0       31623.0             4240.0                    7.46   \n",
       "4            65.0        4516.0             4168.0                    1.08   \n",
       "..            ...           ...                ...                     ...   \n",
       "89            0.0           1.0             1131.0                    0.00   \n",
       "90            0.0           6.0              813.0                    0.01   \n",
       "91            0.0           0.0              440.0                    0.00   \n",
       "92          657.0       91438.0             3763.0                    8.07   \n",
       "93            NaN           NaN                NaN                     NaN   \n",
       "\n",
       "    popularity_score  \n",
       "0         26986360.0  \n",
       "1           293967.0  \n",
       "2          6529773.0  \n",
       "3          1199622.0  \n",
       "4           273000.0  \n",
       "..               ...  \n",
       "89               1.0  \n",
       "90               1.0  \n",
       "91               NaN  \n",
       "92           37247.0  \n",
       "93          245934.0  \n",
       "\n",
       "[94 rows x 14 columns]"
      ]
     },
     "execution_count": 25,
     "metadata": {},
     "output_type": "execute_result"
    }
   ],
   "source": [
    "df3"
   ]
  },
  {
   "cell_type": "markdown",
   "metadata": {},
   "source": [
    "we will also calculate Reach (Indegree Influence): measured by the size of their audience "
   ]
  },
  {
   "cell_type": "code",
   "execution_count": 26,
   "metadata": {},
   "outputs": [],
   "source": [
    "#Creating anew column; Reach_score by subtracting the followers_count and the friends_count\n",
    "df3[\"reach_score\"]=df3[\"Followers_count\"]-df3[\"friends_count\"]"
   ]
  },
  {
   "cell_type": "code",
   "execution_count": 27,
   "metadata": {},
   "outputs": [
    {
     "data": {
      "text/html": [
       "<div>\n",
       "<style scoped>\n",
       "    .dataframe tbody tr th:only-of-type {\n",
       "        vertical-align: middle;\n",
       "    }\n",
       "\n",
       "    .dataframe tbody tr th {\n",
       "        vertical-align: top;\n",
       "    }\n",
       "\n",
       "    .dataframe thead th {\n",
       "        text-align: right;\n",
       "    }\n",
       "</style>\n",
       "<table border=\"1\" class=\"dataframe\">\n",
       "  <thead>\n",
       "    <tr style=\"text-align: right;\">\n",
       "      <th></th>\n",
       "      <th>Rank</th>\n",
       "      <th>Name</th>\n",
       "      <th>Twittername</th>\n",
       "      <th>screen_name</th>\n",
       "      <th>user_mentions</th>\n",
       "      <th>retweet_count</th>\n",
       "      <th>Followers_count</th>\n",
       "      <th>Tweets</th>\n",
       "      <th>Likes</th>\n",
       "      <th>friends_count</th>\n",
       "      <th>status_count</th>\n",
       "      <th>Account_age(days)</th>\n",
       "      <th>Average_tweets_per day</th>\n",
       "      <th>popularity_score</th>\n",
       "      <th>reach_score</th>\n",
       "    </tr>\n",
       "  </thead>\n",
       "  <tbody>\n",
       "    <tr>\n",
       "      <th>0</th>\n",
       "      <td>1</td>\n",
       "      <td>Trevor noah</td>\n",
       "      <td>@Trevornoah</td>\n",
       "      <td>Trevornoah</td>\n",
       "      <td>NaN</td>\n",
       "      <td>18868654.0</td>\n",
       "      <td>10797729.0</td>\n",
       "      <td>3181.0</td>\n",
       "      <td>8117706.0</td>\n",
       "      <td>325.0</td>\n",
       "      <td>11185.0</td>\n",
       "      <td>4055.0</td>\n",
       "      <td>2.76</td>\n",
       "      <td>26986360.0</td>\n",
       "      <td>10797404.0</td>\n",
       "    </tr>\n",
       "    <tr>\n",
       "      <th>1</th>\n",
       "      <td>4</td>\n",
       "      <td>News24</td>\n",
       "      <td>@News24</td>\n",
       "      <td>News24</td>\n",
       "      <td>NaN</td>\n",
       "      <td>90095.0</td>\n",
       "      <td>3572086.0</td>\n",
       "      <td>3229.0</td>\n",
       "      <td>203872.0</td>\n",
       "      <td>632.0</td>\n",
       "      <td>322572.0</td>\n",
       "      <td>4454.0</td>\n",
       "      <td>72.48</td>\n",
       "      <td>293967.0</td>\n",
       "      <td>3571454.0</td>\n",
       "    </tr>\n",
       "    <tr>\n",
       "      <th>2</th>\n",
       "      <td>5</td>\n",
       "      <td>Julius Sello Malema</td>\n",
       "      <td>@Julius_S_Malema</td>\n",
       "      <td>Julius_S_Malema</td>\n",
       "      <td>NaN</td>\n",
       "      <td>5300812.0</td>\n",
       "      <td>3122368.0</td>\n",
       "      <td>3207.0</td>\n",
       "      <td>1228961.0</td>\n",
       "      <td>652.0</td>\n",
       "      <td>37190.0</td>\n",
       "      <td>3797.0</td>\n",
       "      <td>9.80</td>\n",
       "      <td>6529773.0</td>\n",
       "      <td>3121716.0</td>\n",
       "    </tr>\n",
       "    <tr>\n",
       "      <th>3</th>\n",
       "      <td>2</td>\n",
       "      <td>gareth cliff</td>\n",
       "      <td>@GarethCliff</td>\n",
       "      <td>GarethCliff</td>\n",
       "      <td>NaN</td>\n",
       "      <td>1006134.0</td>\n",
       "      <td>1974188.0</td>\n",
       "      <td>3174.0</td>\n",
       "      <td>193488.0</td>\n",
       "      <td>356.0</td>\n",
       "      <td>31623.0</td>\n",
       "      <td>4240.0</td>\n",
       "      <td>7.46</td>\n",
       "      <td>1199622.0</td>\n",
       "      <td>1973832.0</td>\n",
       "    </tr>\n",
       "    <tr>\n",
       "      <th>4</th>\n",
       "      <td>15</td>\n",
       "      <td>Euphonik™♛</td>\n",
       "      <td>@euphonik</td>\n",
       "      <td>euphonik</td>\n",
       "      <td>1523.0</td>\n",
       "      <td>45560.0</td>\n",
       "      <td>1752911.0</td>\n",
       "      <td>998.0</td>\n",
       "      <td>227440.0</td>\n",
       "      <td>65.0</td>\n",
       "      <td>4516.0</td>\n",
       "      <td>4168.0</td>\n",
       "      <td>1.08</td>\n",
       "      <td>273000.0</td>\n",
       "      <td>1752846.0</td>\n",
       "    </tr>\n",
       "    <tr>\n",
       "      <th>...</th>\n",
       "      <td>...</td>\n",
       "      <td>...</td>\n",
       "      <td>...</td>\n",
       "      <td>...</td>\n",
       "      <td>...</td>\n",
       "      <td>...</td>\n",
       "      <td>...</td>\n",
       "      <td>...</td>\n",
       "      <td>...</td>\n",
       "      <td>...</td>\n",
       "      <td>...</td>\n",
       "      <td>...</td>\n",
       "      <td>...</td>\n",
       "      <td>...</td>\n",
       "      <td>...</td>\n",
       "    </tr>\n",
       "    <tr>\n",
       "      <th>89</th>\n",
       "      <td>93</td>\n",
       "      <td>DOS African Affairs</td>\n",
       "      <td>@StateAfrica</td>\n",
       "      <td>stateafrica</td>\n",
       "      <td>0.0</td>\n",
       "      <td>0.0</td>\n",
       "      <td>8.0</td>\n",
       "      <td>1.0</td>\n",
       "      <td>1.0</td>\n",
       "      <td>0.0</td>\n",
       "      <td>1.0</td>\n",
       "      <td>1131.0</td>\n",
       "      <td>0.00</td>\n",
       "      <td>1.0</td>\n",
       "      <td>8.0</td>\n",
       "    </tr>\n",
       "    <tr>\n",
       "      <th>90</th>\n",
       "      <td>16</td>\n",
       "      <td>andrew harding</td>\n",
       "      <td>@BBCAndrewH</td>\n",
       "      <td>BBCAndrewH</td>\n",
       "      <td>0.0</td>\n",
       "      <td>0.0</td>\n",
       "      <td>7.0</td>\n",
       "      <td>6.0</td>\n",
       "      <td>1.0</td>\n",
       "      <td>0.0</td>\n",
       "      <td>6.0</td>\n",
       "      <td>813.0</td>\n",
       "      <td>0.01</td>\n",
       "      <td>1.0</td>\n",
       "      <td>7.0</td>\n",
       "    </tr>\n",
       "    <tr>\n",
       "      <th>91</th>\n",
       "      <td>71</td>\n",
       "      <td>This Is Africa</td>\n",
       "      <td>@thisisafrica</td>\n",
       "      <td>ThisisAfrica</td>\n",
       "      <td>0.0</td>\n",
       "      <td>NaN</td>\n",
       "      <td>6.0</td>\n",
       "      <td>NaN</td>\n",
       "      <td>NaN</td>\n",
       "      <td>0.0</td>\n",
       "      <td>0.0</td>\n",
       "      <td>440.0</td>\n",
       "      <td>0.00</td>\n",
       "      <td>NaN</td>\n",
       "      <td>6.0</td>\n",
       "    </tr>\n",
       "    <tr>\n",
       "      <th>92</th>\n",
       "      <td>44</td>\n",
       "      <td>CNBC Africa</td>\n",
       "      <td>@cnbcafrica</td>\n",
       "      <td>cnbcafrica</td>\n",
       "      <td>931.0</td>\n",
       "      <td>21774.0</td>\n",
       "      <td>NaN</td>\n",
       "      <td>3230.0</td>\n",
       "      <td>15473.0</td>\n",
       "      <td>657.0</td>\n",
       "      <td>91438.0</td>\n",
       "      <td>3763.0</td>\n",
       "      <td>8.07</td>\n",
       "      <td>37247.0</td>\n",
       "      <td>NaN</td>\n",
       "    </tr>\n",
       "    <tr>\n",
       "      <th>93</th>\n",
       "      <td>88</td>\n",
       "      <td>andBeyond</td>\n",
       "      <td>@andBeyondSafari</td>\n",
       "      <td>NaN</td>\n",
       "      <td>0.0</td>\n",
       "      <td>237701.0</td>\n",
       "      <td>NaN</td>\n",
       "      <td>3243.0</td>\n",
       "      <td>8233.0</td>\n",
       "      <td>NaN</td>\n",
       "      <td>NaN</td>\n",
       "      <td>NaN</td>\n",
       "      <td>NaN</td>\n",
       "      <td>245934.0</td>\n",
       "      <td>NaN</td>\n",
       "    </tr>\n",
       "  </tbody>\n",
       "</table>\n",
       "<p>94 rows × 15 columns</p>\n",
       "</div>"
      ],
      "text/plain": [
       "    Rank                 Name       Twittername      screen_name  \\\n",
       "0      1          Trevor noah       @Trevornoah       Trevornoah   \n",
       "1      4               News24           @News24           News24   \n",
       "2      5  Julius Sello Malema  @Julius_S_Malema  Julius_S_Malema   \n",
       "3      2         gareth cliff      @GarethCliff      GarethCliff   \n",
       "4     15           Euphonik™♛         @euphonik         euphonik   \n",
       "..   ...                  ...               ...              ...   \n",
       "89    93  DOS African Affairs      @StateAfrica      stateafrica   \n",
       "90    16       andrew harding       @BBCAndrewH       BBCAndrewH   \n",
       "91    71       This Is Africa     @thisisafrica     ThisisAfrica   \n",
       "92    44          CNBC Africa       @cnbcafrica       cnbcafrica   \n",
       "93    88            andBeyond  @andBeyondSafari              NaN   \n",
       "\n",
       "    user_mentions  retweet_count  Followers_count  Tweets      Likes  \\\n",
       "0             NaN     18868654.0       10797729.0  3181.0  8117706.0   \n",
       "1             NaN        90095.0        3572086.0  3229.0   203872.0   \n",
       "2             NaN      5300812.0        3122368.0  3207.0  1228961.0   \n",
       "3             NaN      1006134.0        1974188.0  3174.0   193488.0   \n",
       "4          1523.0        45560.0        1752911.0   998.0   227440.0   \n",
       "..            ...            ...              ...     ...        ...   \n",
       "89            0.0            0.0              8.0     1.0        1.0   \n",
       "90            0.0            0.0              7.0     6.0        1.0   \n",
       "91            0.0            NaN              6.0     NaN        NaN   \n",
       "92          931.0        21774.0              NaN  3230.0    15473.0   \n",
       "93            0.0       237701.0              NaN  3243.0     8233.0   \n",
       "\n",
       "    friends_count  status_count  Account_age(days)  Average_tweets_per day  \\\n",
       "0           325.0       11185.0             4055.0                    2.76   \n",
       "1           632.0      322572.0             4454.0                   72.48   \n",
       "2           652.0       37190.0             3797.0                    9.80   \n",
       "3           356.0       31623.0             4240.0                    7.46   \n",
       "4            65.0        4516.0             4168.0                    1.08   \n",
       "..            ...           ...                ...                     ...   \n",
       "89            0.0           1.0             1131.0                    0.00   \n",
       "90            0.0           6.0              813.0                    0.01   \n",
       "91            0.0           0.0              440.0                    0.00   \n",
       "92          657.0       91438.0             3763.0                    8.07   \n",
       "93            NaN           NaN                NaN                     NaN   \n",
       "\n",
       "    popularity_score  reach_score  \n",
       "0         26986360.0   10797404.0  \n",
       "1           293967.0    3571454.0  \n",
       "2          6529773.0    3121716.0  \n",
       "3          1199622.0    1973832.0  \n",
       "4           273000.0    1752846.0  \n",
       "..               ...          ...  \n",
       "89               1.0          8.0  \n",
       "90               1.0          7.0  \n",
       "91               NaN          6.0  \n",
       "92           37247.0          NaN  \n",
       "93          245934.0          NaN  \n",
       "\n",
       "[94 rows x 15 columns]"
      ]
     },
     "execution_count": 27,
     "metadata": {},
     "output_type": "execute_result"
    }
   ],
   "source": [
    "df3"
   ]
  },
  {
   "cell_type": "code",
   "execution_count": 30,
   "metadata": {},
   "outputs": [],
   "source": [
    "#getting influencers who have followers above 1000\n",
    "df4=df3[df3['Followers_count']>1000]"
   ]
  },
  {
   "cell_type": "code",
   "execution_count": 31,
   "metadata": {},
   "outputs": [
    {
     "data": {
      "text/html": [
       "<div>\n",
       "<style scoped>\n",
       "    .dataframe tbody tr th:only-of-type {\n",
       "        vertical-align: middle;\n",
       "    }\n",
       "\n",
       "    .dataframe tbody tr th {\n",
       "        vertical-align: top;\n",
       "    }\n",
       "\n",
       "    .dataframe thead th {\n",
       "        text-align: right;\n",
       "    }\n",
       "</style>\n",
       "<table border=\"1\" class=\"dataframe\">\n",
       "  <thead>\n",
       "    <tr style=\"text-align: right;\">\n",
       "      <th></th>\n",
       "      <th>Rank</th>\n",
       "      <th>Name</th>\n",
       "      <th>Twittername</th>\n",
       "      <th>screen_name</th>\n",
       "      <th>user_mentions</th>\n",
       "      <th>retweet_count</th>\n",
       "      <th>Followers_count</th>\n",
       "      <th>Tweets</th>\n",
       "      <th>Likes</th>\n",
       "      <th>friends_count</th>\n",
       "      <th>status_count</th>\n",
       "      <th>Account_age(days)</th>\n",
       "      <th>Average_tweets_per day</th>\n",
       "      <th>popularity_score</th>\n",
       "      <th>reach_score</th>\n",
       "    </tr>\n",
       "  </thead>\n",
       "  <tbody>\n",
       "    <tr>\n",
       "      <th>0</th>\n",
       "      <td>1</td>\n",
       "      <td>Trevor noah</td>\n",
       "      <td>@Trevornoah</td>\n",
       "      <td>Trevornoah</td>\n",
       "      <td>NaN</td>\n",
       "      <td>18868654.0</td>\n",
       "      <td>10797729.0</td>\n",
       "      <td>3181.0</td>\n",
       "      <td>8117706.0</td>\n",
       "      <td>325.0</td>\n",
       "      <td>11185.0</td>\n",
       "      <td>4055.0</td>\n",
       "      <td>2.76</td>\n",
       "      <td>26986360.0</td>\n",
       "      <td>10797404.0</td>\n",
       "    </tr>\n",
       "    <tr>\n",
       "      <th>1</th>\n",
       "      <td>4</td>\n",
       "      <td>News24</td>\n",
       "      <td>@News24</td>\n",
       "      <td>News24</td>\n",
       "      <td>NaN</td>\n",
       "      <td>90095.0</td>\n",
       "      <td>3572086.0</td>\n",
       "      <td>3229.0</td>\n",
       "      <td>203872.0</td>\n",
       "      <td>632.0</td>\n",
       "      <td>322572.0</td>\n",
       "      <td>4454.0</td>\n",
       "      <td>72.48</td>\n",
       "      <td>293967.0</td>\n",
       "      <td>3571454.0</td>\n",
       "    </tr>\n",
       "    <tr>\n",
       "      <th>2</th>\n",
       "      <td>5</td>\n",
       "      <td>Julius Sello Malema</td>\n",
       "      <td>@Julius_S_Malema</td>\n",
       "      <td>Julius_S_Malema</td>\n",
       "      <td>NaN</td>\n",
       "      <td>5300812.0</td>\n",
       "      <td>3122368.0</td>\n",
       "      <td>3207.0</td>\n",
       "      <td>1228961.0</td>\n",
       "      <td>652.0</td>\n",
       "      <td>37190.0</td>\n",
       "      <td>3797.0</td>\n",
       "      <td>9.80</td>\n",
       "      <td>6529773.0</td>\n",
       "      <td>3121716.0</td>\n",
       "    </tr>\n",
       "    <tr>\n",
       "      <th>3</th>\n",
       "      <td>2</td>\n",
       "      <td>gareth cliff</td>\n",
       "      <td>@GarethCliff</td>\n",
       "      <td>GarethCliff</td>\n",
       "      <td>NaN</td>\n",
       "      <td>1006134.0</td>\n",
       "      <td>1974188.0</td>\n",
       "      <td>3174.0</td>\n",
       "      <td>193488.0</td>\n",
       "      <td>356.0</td>\n",
       "      <td>31623.0</td>\n",
       "      <td>4240.0</td>\n",
       "      <td>7.46</td>\n",
       "      <td>1199622.0</td>\n",
       "      <td>1973832.0</td>\n",
       "    </tr>\n",
       "    <tr>\n",
       "      <th>4</th>\n",
       "      <td>15</td>\n",
       "      <td>Euphonik™♛</td>\n",
       "      <td>@euphonik</td>\n",
       "      <td>euphonik</td>\n",
       "      <td>1523.0</td>\n",
       "      <td>45560.0</td>\n",
       "      <td>1752911.0</td>\n",
       "      <td>998.0</td>\n",
       "      <td>227440.0</td>\n",
       "      <td>65.0</td>\n",
       "      <td>4516.0</td>\n",
       "      <td>4168.0</td>\n",
       "      <td>1.08</td>\n",
       "      <td>273000.0</td>\n",
       "      <td>1752846.0</td>\n",
       "    </tr>\n",
       "    <tr>\n",
       "      <th>...</th>\n",
       "      <td>...</td>\n",
       "      <td>...</td>\n",
       "      <td>...</td>\n",
       "      <td>...</td>\n",
       "      <td>...</td>\n",
       "      <td>...</td>\n",
       "      <td>...</td>\n",
       "      <td>...</td>\n",
       "      <td>...</td>\n",
       "      <td>...</td>\n",
       "      <td>...</td>\n",
       "      <td>...</td>\n",
       "      <td>...</td>\n",
       "      <td>...</td>\n",
       "      <td>...</td>\n",
       "    </tr>\n",
       "    <tr>\n",
       "      <th>79</th>\n",
       "      <td>79</td>\n",
       "      <td>iamsuede™</td>\n",
       "      <td>@iamsuede</td>\n",
       "      <td>iamsuede</td>\n",
       "      <td>10.0</td>\n",
       "      <td>2189689.0</td>\n",
       "      <td>18240.0</td>\n",
       "      <td>3243.0</td>\n",
       "      <td>5215.0</td>\n",
       "      <td>2257.0</td>\n",
       "      <td>88732.0</td>\n",
       "      <td>4135.0</td>\n",
       "      <td>21.46</td>\n",
       "      <td>2194904.0</td>\n",
       "      <td>15983.0</td>\n",
       "    </tr>\n",
       "    <tr>\n",
       "      <th>80</th>\n",
       "      <td>81</td>\n",
       "      <td>Kahn Morbee</td>\n",
       "      <td>@KahnMorbee</td>\n",
       "      <td>KahnMorbee</td>\n",
       "      <td>3.0</td>\n",
       "      <td>27914.0</td>\n",
       "      <td>17441.0</td>\n",
       "      <td>3196.0</td>\n",
       "      <td>11459.0</td>\n",
       "      <td>424.0</td>\n",
       "      <td>4993.0</td>\n",
       "      <td>4187.0</td>\n",
       "      <td>1.19</td>\n",
       "      <td>39373.0</td>\n",
       "      <td>17017.0</td>\n",
       "    </tr>\n",
       "    <tr>\n",
       "      <th>81</th>\n",
       "      <td>64</td>\n",
       "      <td>George Ayittey</td>\n",
       "      <td>@ayittey</td>\n",
       "      <td>ayittey</td>\n",
       "      <td>546.0</td>\n",
       "      <td>126473.0</td>\n",
       "      <td>17071.0</td>\n",
       "      <td>3231.0</td>\n",
       "      <td>56105.0</td>\n",
       "      <td>151.0</td>\n",
       "      <td>12733.0</td>\n",
       "      <td>4118.0</td>\n",
       "      <td>3.10</td>\n",
       "      <td>182578.0</td>\n",
       "      <td>16920.0</td>\n",
       "    </tr>\n",
       "    <tr>\n",
       "      <th>82</th>\n",
       "      <td>86</td>\n",
       "      <td>Sarah Carter</td>\n",
       "      <td>@sarzss</td>\n",
       "      <td>sarzss</td>\n",
       "      <td>1.0</td>\n",
       "      <td>51048.0</td>\n",
       "      <td>11929.0</td>\n",
       "      <td>2160.0</td>\n",
       "      <td>1031.0</td>\n",
       "      <td>894.0</td>\n",
       "      <td>2165.0</td>\n",
       "      <td>3537.0</td>\n",
       "      <td>0.61</td>\n",
       "      <td>52079.0</td>\n",
       "      <td>11035.0</td>\n",
       "    </tr>\n",
       "    <tr>\n",
       "      <th>83</th>\n",
       "      <td>72</td>\n",
       "      <td>Jax Panik</td>\n",
       "      <td>@jaxpanik</td>\n",
       "      <td>jaxpanik</td>\n",
       "      <td>0.0</td>\n",
       "      <td>1038218.0</td>\n",
       "      <td>7489.0</td>\n",
       "      <td>3172.0</td>\n",
       "      <td>3444.0</td>\n",
       "      <td>15.0</td>\n",
       "      <td>15410.0</td>\n",
       "      <td>4583.0</td>\n",
       "      <td>3.36</td>\n",
       "      <td>1041662.0</td>\n",
       "      <td>7474.0</td>\n",
       "    </tr>\n",
       "  </tbody>\n",
       "</table>\n",
       "<p>84 rows × 15 columns</p>\n",
       "</div>"
      ],
      "text/plain": [
       "    Rank                 Name       Twittername      screen_name  \\\n",
       "0      1          Trevor noah       @Trevornoah       Trevornoah   \n",
       "1      4               News24           @News24           News24   \n",
       "2      5  Julius Sello Malema  @Julius_S_Malema  Julius_S_Malema   \n",
       "3      2         gareth cliff      @GarethCliff      GarethCliff   \n",
       "4     15           Euphonik™♛         @euphonik         euphonik   \n",
       "..   ...                  ...               ...              ...   \n",
       "79    79            iamsuede™         @iamsuede         iamsuede   \n",
       "80    81          Kahn Morbee       @KahnMorbee       KahnMorbee   \n",
       "81    64       George Ayittey          @ayittey          ayittey   \n",
       "82    86         Sarah Carter           @sarzss           sarzss   \n",
       "83    72            Jax Panik         @jaxpanik         jaxpanik   \n",
       "\n",
       "    user_mentions  retweet_count  Followers_count  Tweets      Likes  \\\n",
       "0             NaN     18868654.0       10797729.0  3181.0  8117706.0   \n",
       "1             NaN        90095.0        3572086.0  3229.0   203872.0   \n",
       "2             NaN      5300812.0        3122368.0  3207.0  1228961.0   \n",
       "3             NaN      1006134.0        1974188.0  3174.0   193488.0   \n",
       "4          1523.0        45560.0        1752911.0   998.0   227440.0   \n",
       "..            ...            ...              ...     ...        ...   \n",
       "79           10.0      2189689.0          18240.0  3243.0     5215.0   \n",
       "80            3.0        27914.0          17441.0  3196.0    11459.0   \n",
       "81          546.0       126473.0          17071.0  3231.0    56105.0   \n",
       "82            1.0        51048.0          11929.0  2160.0     1031.0   \n",
       "83            0.0      1038218.0           7489.0  3172.0     3444.0   \n",
       "\n",
       "    friends_count  status_count  Account_age(days)  Average_tweets_per day  \\\n",
       "0           325.0       11185.0             4055.0                    2.76   \n",
       "1           632.0      322572.0             4454.0                   72.48   \n",
       "2           652.0       37190.0             3797.0                    9.80   \n",
       "3           356.0       31623.0             4240.0                    7.46   \n",
       "4            65.0        4516.0             4168.0                    1.08   \n",
       "..            ...           ...                ...                     ...   \n",
       "79         2257.0       88732.0             4135.0                   21.46   \n",
       "80          424.0        4993.0             4187.0                    1.19   \n",
       "81          151.0       12733.0             4118.0                    3.10   \n",
       "82          894.0        2165.0             3537.0                    0.61   \n",
       "83           15.0       15410.0             4583.0                    3.36   \n",
       "\n",
       "    popularity_score  reach_score  \n",
       "0         26986360.0   10797404.0  \n",
       "1           293967.0    3571454.0  \n",
       "2          6529773.0    3121716.0  \n",
       "3          1199622.0    1973832.0  \n",
       "4           273000.0    1752846.0  \n",
       "..               ...          ...  \n",
       "79         2194904.0      15983.0  \n",
       "80           39373.0      17017.0  \n",
       "81          182578.0      16920.0  \n",
       "82           52079.0      11035.0  \n",
       "83         1041662.0       7474.0  \n",
       "\n",
       "[84 rows x 15 columns]"
      ]
     },
     "execution_count": 31,
     "metadata": {},
     "output_type": "execute_result"
    }
   ],
   "source": [
    "df4"
   ]
  },
  {
   "cell_type": "code",
   "execution_count": 34,
   "metadata": {},
   "outputs": [],
   "source": [
    "#getting 'active users' by doing away with users below 50 tweets\n",
    "df5=df4[df4['Tweets']>50]"
   ]
  },
  {
   "cell_type": "code",
   "execution_count": 35,
   "metadata": {},
   "outputs": [
    {
     "data": {
      "text/html": [
       "<div>\n",
       "<style scoped>\n",
       "    .dataframe tbody tr th:only-of-type {\n",
       "        vertical-align: middle;\n",
       "    }\n",
       "\n",
       "    .dataframe tbody tr th {\n",
       "        vertical-align: top;\n",
       "    }\n",
       "\n",
       "    .dataframe thead th {\n",
       "        text-align: right;\n",
       "    }\n",
       "</style>\n",
       "<table border=\"1\" class=\"dataframe\">\n",
       "  <thead>\n",
       "    <tr style=\"text-align: right;\">\n",
       "      <th></th>\n",
       "      <th>Rank</th>\n",
       "      <th>Name</th>\n",
       "      <th>Twittername</th>\n",
       "      <th>screen_name</th>\n",
       "      <th>user_mentions</th>\n",
       "      <th>retweet_count</th>\n",
       "      <th>Followers_count</th>\n",
       "      <th>Tweets</th>\n",
       "      <th>Likes</th>\n",
       "      <th>friends_count</th>\n",
       "      <th>status_count</th>\n",
       "      <th>Account_age(days)</th>\n",
       "      <th>Average_tweets_per day</th>\n",
       "      <th>popularity_score</th>\n",
       "      <th>reach_score</th>\n",
       "    </tr>\n",
       "  </thead>\n",
       "  <tbody>\n",
       "    <tr>\n",
       "      <th>0</th>\n",
       "      <td>1</td>\n",
       "      <td>Trevor noah</td>\n",
       "      <td>@Trevornoah</td>\n",
       "      <td>Trevornoah</td>\n",
       "      <td>NaN</td>\n",
       "      <td>18868654.0</td>\n",
       "      <td>10797729.0</td>\n",
       "      <td>3181.0</td>\n",
       "      <td>8117706.0</td>\n",
       "      <td>325.0</td>\n",
       "      <td>11185.0</td>\n",
       "      <td>4055.0</td>\n",
       "      <td>2.76</td>\n",
       "      <td>26986360.0</td>\n",
       "      <td>10797404.0</td>\n",
       "    </tr>\n",
       "    <tr>\n",
       "      <th>1</th>\n",
       "      <td>4</td>\n",
       "      <td>News24</td>\n",
       "      <td>@News24</td>\n",
       "      <td>News24</td>\n",
       "      <td>NaN</td>\n",
       "      <td>90095.0</td>\n",
       "      <td>3572086.0</td>\n",
       "      <td>3229.0</td>\n",
       "      <td>203872.0</td>\n",
       "      <td>632.0</td>\n",
       "      <td>322572.0</td>\n",
       "      <td>4454.0</td>\n",
       "      <td>72.48</td>\n",
       "      <td>293967.0</td>\n",
       "      <td>3571454.0</td>\n",
       "    </tr>\n",
       "    <tr>\n",
       "      <th>2</th>\n",
       "      <td>5</td>\n",
       "      <td>Julius Sello Malema</td>\n",
       "      <td>@Julius_S_Malema</td>\n",
       "      <td>Julius_S_Malema</td>\n",
       "      <td>NaN</td>\n",
       "      <td>5300812.0</td>\n",
       "      <td>3122368.0</td>\n",
       "      <td>3207.0</td>\n",
       "      <td>1228961.0</td>\n",
       "      <td>652.0</td>\n",
       "      <td>37190.0</td>\n",
       "      <td>3797.0</td>\n",
       "      <td>9.80</td>\n",
       "      <td>6529773.0</td>\n",
       "      <td>3121716.0</td>\n",
       "    </tr>\n",
       "    <tr>\n",
       "      <th>3</th>\n",
       "      <td>2</td>\n",
       "      <td>gareth cliff</td>\n",
       "      <td>@GarethCliff</td>\n",
       "      <td>GarethCliff</td>\n",
       "      <td>NaN</td>\n",
       "      <td>1006134.0</td>\n",
       "      <td>1974188.0</td>\n",
       "      <td>3174.0</td>\n",
       "      <td>193488.0</td>\n",
       "      <td>356.0</td>\n",
       "      <td>31623.0</td>\n",
       "      <td>4240.0</td>\n",
       "      <td>7.46</td>\n",
       "      <td>1199622.0</td>\n",
       "      <td>1973832.0</td>\n",
       "    </tr>\n",
       "    <tr>\n",
       "      <th>4</th>\n",
       "      <td>15</td>\n",
       "      <td>Euphonik™♛</td>\n",
       "      <td>@euphonik</td>\n",
       "      <td>euphonik</td>\n",
       "      <td>1523.0</td>\n",
       "      <td>45560.0</td>\n",
       "      <td>1752911.0</td>\n",
       "      <td>998.0</td>\n",
       "      <td>227440.0</td>\n",
       "      <td>65.0</td>\n",
       "      <td>4516.0</td>\n",
       "      <td>4168.0</td>\n",
       "      <td>1.08</td>\n",
       "      <td>273000.0</td>\n",
       "      <td>1752846.0</td>\n",
       "    </tr>\n",
       "    <tr>\n",
       "      <th>...</th>\n",
       "      <td>...</td>\n",
       "      <td>...</td>\n",
       "      <td>...</td>\n",
       "      <td>...</td>\n",
       "      <td>...</td>\n",
       "      <td>...</td>\n",
       "      <td>...</td>\n",
       "      <td>...</td>\n",
       "      <td>...</td>\n",
       "      <td>...</td>\n",
       "      <td>...</td>\n",
       "      <td>...</td>\n",
       "      <td>...</td>\n",
       "      <td>...</td>\n",
       "      <td>...</td>\n",
       "    </tr>\n",
       "    <tr>\n",
       "      <th>79</th>\n",
       "      <td>79</td>\n",
       "      <td>iamsuede™</td>\n",
       "      <td>@iamsuede</td>\n",
       "      <td>iamsuede</td>\n",
       "      <td>10.0</td>\n",
       "      <td>2189689.0</td>\n",
       "      <td>18240.0</td>\n",
       "      <td>3243.0</td>\n",
       "      <td>5215.0</td>\n",
       "      <td>2257.0</td>\n",
       "      <td>88732.0</td>\n",
       "      <td>4135.0</td>\n",
       "      <td>21.46</td>\n",
       "      <td>2194904.0</td>\n",
       "      <td>15983.0</td>\n",
       "    </tr>\n",
       "    <tr>\n",
       "      <th>80</th>\n",
       "      <td>81</td>\n",
       "      <td>Kahn Morbee</td>\n",
       "      <td>@KahnMorbee</td>\n",
       "      <td>KahnMorbee</td>\n",
       "      <td>3.0</td>\n",
       "      <td>27914.0</td>\n",
       "      <td>17441.0</td>\n",
       "      <td>3196.0</td>\n",
       "      <td>11459.0</td>\n",
       "      <td>424.0</td>\n",
       "      <td>4993.0</td>\n",
       "      <td>4187.0</td>\n",
       "      <td>1.19</td>\n",
       "      <td>39373.0</td>\n",
       "      <td>17017.0</td>\n",
       "    </tr>\n",
       "    <tr>\n",
       "      <th>81</th>\n",
       "      <td>64</td>\n",
       "      <td>George Ayittey</td>\n",
       "      <td>@ayittey</td>\n",
       "      <td>ayittey</td>\n",
       "      <td>546.0</td>\n",
       "      <td>126473.0</td>\n",
       "      <td>17071.0</td>\n",
       "      <td>3231.0</td>\n",
       "      <td>56105.0</td>\n",
       "      <td>151.0</td>\n",
       "      <td>12733.0</td>\n",
       "      <td>4118.0</td>\n",
       "      <td>3.10</td>\n",
       "      <td>182578.0</td>\n",
       "      <td>16920.0</td>\n",
       "    </tr>\n",
       "    <tr>\n",
       "      <th>82</th>\n",
       "      <td>86</td>\n",
       "      <td>Sarah Carter</td>\n",
       "      <td>@sarzss</td>\n",
       "      <td>sarzss</td>\n",
       "      <td>1.0</td>\n",
       "      <td>51048.0</td>\n",
       "      <td>11929.0</td>\n",
       "      <td>2160.0</td>\n",
       "      <td>1031.0</td>\n",
       "      <td>894.0</td>\n",
       "      <td>2165.0</td>\n",
       "      <td>3537.0</td>\n",
       "      <td>0.61</td>\n",
       "      <td>52079.0</td>\n",
       "      <td>11035.0</td>\n",
       "    </tr>\n",
       "    <tr>\n",
       "      <th>83</th>\n",
       "      <td>72</td>\n",
       "      <td>Jax Panik</td>\n",
       "      <td>@jaxpanik</td>\n",
       "      <td>jaxpanik</td>\n",
       "      <td>0.0</td>\n",
       "      <td>1038218.0</td>\n",
       "      <td>7489.0</td>\n",
       "      <td>3172.0</td>\n",
       "      <td>3444.0</td>\n",
       "      <td>15.0</td>\n",
       "      <td>15410.0</td>\n",
       "      <td>4583.0</td>\n",
       "      <td>3.36</td>\n",
       "      <td>1041662.0</td>\n",
       "      <td>7474.0</td>\n",
       "    </tr>\n",
       "  </tbody>\n",
       "</table>\n",
       "<p>81 rows × 15 columns</p>\n",
       "</div>"
      ],
      "text/plain": [
       "    Rank                 Name       Twittername      screen_name  \\\n",
       "0      1          Trevor noah       @Trevornoah       Trevornoah   \n",
       "1      4               News24           @News24           News24   \n",
       "2      5  Julius Sello Malema  @Julius_S_Malema  Julius_S_Malema   \n",
       "3      2         gareth cliff      @GarethCliff      GarethCliff   \n",
       "4     15           Euphonik™♛         @euphonik         euphonik   \n",
       "..   ...                  ...               ...              ...   \n",
       "79    79            iamsuede™         @iamsuede         iamsuede   \n",
       "80    81          Kahn Morbee       @KahnMorbee       KahnMorbee   \n",
       "81    64       George Ayittey          @ayittey          ayittey   \n",
       "82    86         Sarah Carter           @sarzss           sarzss   \n",
       "83    72            Jax Panik         @jaxpanik         jaxpanik   \n",
       "\n",
       "    user_mentions  retweet_count  Followers_count  Tweets      Likes  \\\n",
       "0             NaN     18868654.0       10797729.0  3181.0  8117706.0   \n",
       "1             NaN        90095.0        3572086.0  3229.0   203872.0   \n",
       "2             NaN      5300812.0        3122368.0  3207.0  1228961.0   \n",
       "3             NaN      1006134.0        1974188.0  3174.0   193488.0   \n",
       "4          1523.0        45560.0        1752911.0   998.0   227440.0   \n",
       "..            ...            ...              ...     ...        ...   \n",
       "79           10.0      2189689.0          18240.0  3243.0     5215.0   \n",
       "80            3.0        27914.0          17441.0  3196.0    11459.0   \n",
       "81          546.0       126473.0          17071.0  3231.0    56105.0   \n",
       "82            1.0        51048.0          11929.0  2160.0     1031.0   \n",
       "83            0.0      1038218.0           7489.0  3172.0     3444.0   \n",
       "\n",
       "    friends_count  status_count  Account_age(days)  Average_tweets_per day  \\\n",
       "0           325.0       11185.0             4055.0                    2.76   \n",
       "1           632.0      322572.0             4454.0                   72.48   \n",
       "2           652.0       37190.0             3797.0                    9.80   \n",
       "3           356.0       31623.0             4240.0                    7.46   \n",
       "4            65.0        4516.0             4168.0                    1.08   \n",
       "..            ...           ...                ...                     ...   \n",
       "79         2257.0       88732.0             4135.0                   21.46   \n",
       "80          424.0        4993.0             4187.0                    1.19   \n",
       "81          151.0       12733.0             4118.0                    3.10   \n",
       "82          894.0        2165.0             3537.0                    0.61   \n",
       "83           15.0       15410.0             4583.0                    3.36   \n",
       "\n",
       "    popularity_score  reach_score  \n",
       "0         26986360.0   10797404.0  \n",
       "1           293967.0    3571454.0  \n",
       "2          6529773.0    3121716.0  \n",
       "3          1199622.0    1973832.0  \n",
       "4           273000.0    1752846.0  \n",
       "..               ...          ...  \n",
       "79         2194904.0      15983.0  \n",
       "80           39373.0      17017.0  \n",
       "81          182578.0      16920.0  \n",
       "82           52079.0      11035.0  \n",
       "83         1041662.0       7474.0  \n",
       "\n",
       "[81 rows x 15 columns]"
      ]
     },
     "execution_count": 35,
     "metadata": {},
     "output_type": "execute_result"
    }
   ],
   "source": [
    "df5"
   ]
  },
  {
   "cell_type": "code",
   "execution_count": 61,
   "metadata": {},
   "outputs": [],
   "source": [
    "df6=df5.sort_values(by=['popularity_score'], ascending=False,inplace=True,na_position='first')\n",
    "\n"
   ]
  },
  {
   "cell_type": "code",
   "execution_count": 62,
   "metadata": {},
   "outputs": [],
   "source": [
    "df6 = df5.reset_index(drop=True)"
   ]
  },
  {
   "cell_type": "code",
   "execution_count": 103,
   "metadata": {},
   "outputs": [],
   "source": [
    "df8=df5.sort_values(by=['popularity_score'],ascending=False)"
   ]
  },
  {
   "cell_type": "code",
   "execution_count": 104,
   "metadata": {},
   "outputs": [
    {
     "data": {
      "application/vnd.plotly.v1+json": {
       "config": {
        "linkText": "Export to plot.ly",
        "plotlyServerURL": "https://plot.ly",
        "showLink": true
       },
       "data": [
        {
         "marker": {
          "color": "rgba(255, 153, 51, 0.6)",
          "line": {
           "color": "rgba(255, 153, 51, 1.0)",
           "width": 1
          }
         },
         "name": "popularity_score",
         "orientation": "v",
         "text": "",
         "type": "bar",
         "x": [
          "Trevor noah",
          "Barry Malone",
          "Mbuyiseni Ndlozi",
          "Julius Sello Malema",
          "Africa The Good News",
          "Bob Skinstad",
          "Jendayi E Frazer",
          "Scapegoat",
          "Mike Stopforth",
          "MoadowAJE",
          "iamsuede™",
          "Rebecca Enonchong",
          "Jamal Osman",
          "James Schneider",
          "Jeffrey Gettleman",
          "Abdi Aynte",
          "gareth cliff",
          "Cricket South Africa",
          "Ulrich J van Vuuren",
          "loyiso gola",
          "Jax Panik",
          "Africa Gathering",
          "will ross",
          "Geoffrey York",
          "Hamza Mohamed",
          "Tristan McConnell",
          "James Copnall",
          "Helen Zille",
          "Peter Greste",
          "Ray Hartley",
          "MTV Base Africa",
          "Mary Harper",
          "This Is Africa",
          "Arthur Goldstuck",
          "News24",
          "GautengGovt",
          "Euphonik™♛",
          "African Union",
          "Audi South Africa",
          "Equal Education",
          "Kate Forbes",
          "Gert-Johan Coetzee",
          "Daniel Howden",
          "ONE",
          "George Ayittey",
          "Camfed",
          "Mo Ibrahim Fdn",
          "Brendan Boyle",
          "Save the Rhino",
          "Forbes Africa",
          "City of Tshwane",
          "Live Amp",
          "Samsung South Africa",
          "Africa Research Inst",
          "Patrick Ngowi",
          "AfricaProgressPanel",
          "mailandguardian",
          "5FM",
          "Disaster Operations",
          "City of Joburg",
          "Sarah Carter",
          "marais",
          "Ranger Diaries",
          "IEC South Africa",
          "Henley Africa",
          "Africa Check",
          "Kahn Morbee",
          "IFC Africa",
          "Parliament of RSA",
          "Sandton City",
          "Online Africa",
          "The Star",
          "Think Africa Press",
          "The EIU Africa team",
          "Investing In Africa",
          "Africa24 Media",
          "HowWeMadeItInAfrica",
          "VISI Magazine",
          "TechCentral",
          "Computicket",
          "FoodBlog Cape Town"
         ],
         "y": [
          26986360,
          11169700,
          10069705,
          6529773,
          4580050,
          3818773,
          3603767,
          2723368,
          2562289,
          2361227,
          2194904,
          1844203,
          1717288,
          1647507,
          1480074,
          1347064,
          1199622,
          1125381,
          1125381,
          1073317,
          1041662,
          1041662,
          1019304,
          979819,
          947323,
          759091,
          744565,
          633384,
          558295,
          557290,
          470870,
          429140,
          353945,
          326498,
          293967,
          276573,
          273000,
          260269,
          254870,
          245982,
          238602,
          214937,
          210623,
          184406,
          182578,
          179391,
          159739,
          154920,
          140611,
          138774,
          132847,
          117676,
          92959,
          86852,
          86442,
          85534,
          82010,
          77619,
          55222,
          54643,
          52079,
          51809,
          51130,
          49479,
          48919,
          48360,
          39373,
          37992,
          34729,
          21663,
          19286,
          18546,
          18488,
          16632,
          13067,
          12890,
          12882,
          12048,
          8643,
          5851,
          4297
         ]
        }
       ],
       "layout": {
        "legend": {
         "bgcolor": "#F5F6F9",
         "font": {
          "color": "#4D5663"
         }
        },
        "paper_bgcolor": "#F5F6F9",
        "plot_bgcolor": "#F5F6F9",
        "template": {
         "data": {
          "bar": [
           {
            "error_x": {
             "color": "#2a3f5f"
            },
            "error_y": {
             "color": "#2a3f5f"
            },
            "marker": {
             "line": {
              "color": "#E5ECF6",
              "width": 0.5
             }
            },
            "type": "bar"
           }
          ],
          "barpolar": [
           {
            "marker": {
             "line": {
              "color": "#E5ECF6",
              "width": 0.5
             }
            },
            "type": "barpolar"
           }
          ],
          "carpet": [
           {
            "aaxis": {
             "endlinecolor": "#2a3f5f",
             "gridcolor": "white",
             "linecolor": "white",
             "minorgridcolor": "white",
             "startlinecolor": "#2a3f5f"
            },
            "baxis": {
             "endlinecolor": "#2a3f5f",
             "gridcolor": "white",
             "linecolor": "white",
             "minorgridcolor": "white",
             "startlinecolor": "#2a3f5f"
            },
            "type": "carpet"
           }
          ],
          "choropleth": [
           {
            "colorbar": {
             "outlinewidth": 0,
             "ticks": ""
            },
            "type": "choropleth"
           }
          ],
          "contour": [
           {
            "colorbar": {
             "outlinewidth": 0,
             "ticks": ""
            },
            "colorscale": [
             [
              0,
              "#0d0887"
             ],
             [
              0.1111111111111111,
              "#46039f"
             ],
             [
              0.2222222222222222,
              "#7201a8"
             ],
             [
              0.3333333333333333,
              "#9c179e"
             ],
             [
              0.4444444444444444,
              "#bd3786"
             ],
             [
              0.5555555555555556,
              "#d8576b"
             ],
             [
              0.6666666666666666,
              "#ed7953"
             ],
             [
              0.7777777777777778,
              "#fb9f3a"
             ],
             [
              0.8888888888888888,
              "#fdca26"
             ],
             [
              1,
              "#f0f921"
             ]
            ],
            "type": "contour"
           }
          ],
          "contourcarpet": [
           {
            "colorbar": {
             "outlinewidth": 0,
             "ticks": ""
            },
            "type": "contourcarpet"
           }
          ],
          "heatmap": [
           {
            "colorbar": {
             "outlinewidth": 0,
             "ticks": ""
            },
            "colorscale": [
             [
              0,
              "#0d0887"
             ],
             [
              0.1111111111111111,
              "#46039f"
             ],
             [
              0.2222222222222222,
              "#7201a8"
             ],
             [
              0.3333333333333333,
              "#9c179e"
             ],
             [
              0.4444444444444444,
              "#bd3786"
             ],
             [
              0.5555555555555556,
              "#d8576b"
             ],
             [
              0.6666666666666666,
              "#ed7953"
             ],
             [
              0.7777777777777778,
              "#fb9f3a"
             ],
             [
              0.8888888888888888,
              "#fdca26"
             ],
             [
              1,
              "#f0f921"
             ]
            ],
            "type": "heatmap"
           }
          ],
          "heatmapgl": [
           {
            "colorbar": {
             "outlinewidth": 0,
             "ticks": ""
            },
            "colorscale": [
             [
              0,
              "#0d0887"
             ],
             [
              0.1111111111111111,
              "#46039f"
             ],
             [
              0.2222222222222222,
              "#7201a8"
             ],
             [
              0.3333333333333333,
              "#9c179e"
             ],
             [
              0.4444444444444444,
              "#bd3786"
             ],
             [
              0.5555555555555556,
              "#d8576b"
             ],
             [
              0.6666666666666666,
              "#ed7953"
             ],
             [
              0.7777777777777778,
              "#fb9f3a"
             ],
             [
              0.8888888888888888,
              "#fdca26"
             ],
             [
              1,
              "#f0f921"
             ]
            ],
            "type": "heatmapgl"
           }
          ],
          "histogram": [
           {
            "marker": {
             "colorbar": {
              "outlinewidth": 0,
              "ticks": ""
             }
            },
            "type": "histogram"
           }
          ],
          "histogram2d": [
           {
            "colorbar": {
             "outlinewidth": 0,
             "ticks": ""
            },
            "colorscale": [
             [
              0,
              "#0d0887"
             ],
             [
              0.1111111111111111,
              "#46039f"
             ],
             [
              0.2222222222222222,
              "#7201a8"
             ],
             [
              0.3333333333333333,
              "#9c179e"
             ],
             [
              0.4444444444444444,
              "#bd3786"
             ],
             [
              0.5555555555555556,
              "#d8576b"
             ],
             [
              0.6666666666666666,
              "#ed7953"
             ],
             [
              0.7777777777777778,
              "#fb9f3a"
             ],
             [
              0.8888888888888888,
              "#fdca26"
             ],
             [
              1,
              "#f0f921"
             ]
            ],
            "type": "histogram2d"
           }
          ],
          "histogram2dcontour": [
           {
            "colorbar": {
             "outlinewidth": 0,
             "ticks": ""
            },
            "colorscale": [
             [
              0,
              "#0d0887"
             ],
             [
              0.1111111111111111,
              "#46039f"
             ],
             [
              0.2222222222222222,
              "#7201a8"
             ],
             [
              0.3333333333333333,
              "#9c179e"
             ],
             [
              0.4444444444444444,
              "#bd3786"
             ],
             [
              0.5555555555555556,
              "#d8576b"
             ],
             [
              0.6666666666666666,
              "#ed7953"
             ],
             [
              0.7777777777777778,
              "#fb9f3a"
             ],
             [
              0.8888888888888888,
              "#fdca26"
             ],
             [
              1,
              "#f0f921"
             ]
            ],
            "type": "histogram2dcontour"
           }
          ],
          "mesh3d": [
           {
            "colorbar": {
             "outlinewidth": 0,
             "ticks": ""
            },
            "type": "mesh3d"
           }
          ],
          "parcoords": [
           {
            "line": {
             "colorbar": {
              "outlinewidth": 0,
              "ticks": ""
             }
            },
            "type": "parcoords"
           }
          ],
          "pie": [
           {
            "automargin": true,
            "type": "pie"
           }
          ],
          "scatter": [
           {
            "marker": {
             "colorbar": {
              "outlinewidth": 0,
              "ticks": ""
             }
            },
            "type": "scatter"
           }
          ],
          "scatter3d": [
           {
            "line": {
             "colorbar": {
              "outlinewidth": 0,
              "ticks": ""
             }
            },
            "marker": {
             "colorbar": {
              "outlinewidth": 0,
              "ticks": ""
             }
            },
            "type": "scatter3d"
           }
          ],
          "scattercarpet": [
           {
            "marker": {
             "colorbar": {
              "outlinewidth": 0,
              "ticks": ""
             }
            },
            "type": "scattercarpet"
           }
          ],
          "scattergeo": [
           {
            "marker": {
             "colorbar": {
              "outlinewidth": 0,
              "ticks": ""
             }
            },
            "type": "scattergeo"
           }
          ],
          "scattergl": [
           {
            "marker": {
             "colorbar": {
              "outlinewidth": 0,
              "ticks": ""
             }
            },
            "type": "scattergl"
           }
          ],
          "scattermapbox": [
           {
            "marker": {
             "colorbar": {
              "outlinewidth": 0,
              "ticks": ""
             }
            },
            "type": "scattermapbox"
           }
          ],
          "scatterpolar": [
           {
            "marker": {
             "colorbar": {
              "outlinewidth": 0,
              "ticks": ""
             }
            },
            "type": "scatterpolar"
           }
          ],
          "scatterpolargl": [
           {
            "marker": {
             "colorbar": {
              "outlinewidth": 0,
              "ticks": ""
             }
            },
            "type": "scatterpolargl"
           }
          ],
          "scatterternary": [
           {
            "marker": {
             "colorbar": {
              "outlinewidth": 0,
              "ticks": ""
             }
            },
            "type": "scatterternary"
           }
          ],
          "surface": [
           {
            "colorbar": {
             "outlinewidth": 0,
             "ticks": ""
            },
            "colorscale": [
             [
              0,
              "#0d0887"
             ],
             [
              0.1111111111111111,
              "#46039f"
             ],
             [
              0.2222222222222222,
              "#7201a8"
             ],
             [
              0.3333333333333333,
              "#9c179e"
             ],
             [
              0.4444444444444444,
              "#bd3786"
             ],
             [
              0.5555555555555556,
              "#d8576b"
             ],
             [
              0.6666666666666666,
              "#ed7953"
             ],
             [
              0.7777777777777778,
              "#fb9f3a"
             ],
             [
              0.8888888888888888,
              "#fdca26"
             ],
             [
              1,
              "#f0f921"
             ]
            ],
            "type": "surface"
           }
          ],
          "table": [
           {
            "cells": {
             "fill": {
              "color": "#EBF0F8"
             },
             "line": {
              "color": "white"
             }
            },
            "header": {
             "fill": {
              "color": "#C8D4E3"
             },
             "line": {
              "color": "white"
             }
            },
            "type": "table"
           }
          ]
         },
         "layout": {
          "annotationdefaults": {
           "arrowcolor": "#2a3f5f",
           "arrowhead": 0,
           "arrowwidth": 1
          },
          "coloraxis": {
           "colorbar": {
            "outlinewidth": 0,
            "ticks": ""
           }
          },
          "colorscale": {
           "diverging": [
            [
             0,
             "#8e0152"
            ],
            [
             0.1,
             "#c51b7d"
            ],
            [
             0.2,
             "#de77ae"
            ],
            [
             0.3,
             "#f1b6da"
            ],
            [
             0.4,
             "#fde0ef"
            ],
            [
             0.5,
             "#f7f7f7"
            ],
            [
             0.6,
             "#e6f5d0"
            ],
            [
             0.7,
             "#b8e186"
            ],
            [
             0.8,
             "#7fbc41"
            ],
            [
             0.9,
             "#4d9221"
            ],
            [
             1,
             "#276419"
            ]
           ],
           "sequential": [
            [
             0,
             "#0d0887"
            ],
            [
             0.1111111111111111,
             "#46039f"
            ],
            [
             0.2222222222222222,
             "#7201a8"
            ],
            [
             0.3333333333333333,
             "#9c179e"
            ],
            [
             0.4444444444444444,
             "#bd3786"
            ],
            [
             0.5555555555555556,
             "#d8576b"
            ],
            [
             0.6666666666666666,
             "#ed7953"
            ],
            [
             0.7777777777777778,
             "#fb9f3a"
            ],
            [
             0.8888888888888888,
             "#fdca26"
            ],
            [
             1,
             "#f0f921"
            ]
           ],
           "sequentialminus": [
            [
             0,
             "#0d0887"
            ],
            [
             0.1111111111111111,
             "#46039f"
            ],
            [
             0.2222222222222222,
             "#7201a8"
            ],
            [
             0.3333333333333333,
             "#9c179e"
            ],
            [
             0.4444444444444444,
             "#bd3786"
            ],
            [
             0.5555555555555556,
             "#d8576b"
            ],
            [
             0.6666666666666666,
             "#ed7953"
            ],
            [
             0.7777777777777778,
             "#fb9f3a"
            ],
            [
             0.8888888888888888,
             "#fdca26"
            ],
            [
             1,
             "#f0f921"
            ]
           ]
          },
          "colorway": [
           "#636efa",
           "#EF553B",
           "#00cc96",
           "#ab63fa",
           "#FFA15A",
           "#19d3f3",
           "#FF6692",
           "#B6E880",
           "#FF97FF",
           "#FECB52"
          ],
          "font": {
           "color": "#2a3f5f"
          },
          "geo": {
           "bgcolor": "white",
           "lakecolor": "white",
           "landcolor": "#E5ECF6",
           "showlakes": true,
           "showland": true,
           "subunitcolor": "white"
          },
          "hoverlabel": {
           "align": "left"
          },
          "hovermode": "closest",
          "mapbox": {
           "style": "light"
          },
          "paper_bgcolor": "white",
          "plot_bgcolor": "#E5ECF6",
          "polar": {
           "angularaxis": {
            "gridcolor": "white",
            "linecolor": "white",
            "ticks": ""
           },
           "bgcolor": "#E5ECF6",
           "radialaxis": {
            "gridcolor": "white",
            "linecolor": "white",
            "ticks": ""
           }
          },
          "scene": {
           "xaxis": {
            "backgroundcolor": "#E5ECF6",
            "gridcolor": "white",
            "gridwidth": 2,
            "linecolor": "white",
            "showbackground": true,
            "ticks": "",
            "zerolinecolor": "white"
           },
           "yaxis": {
            "backgroundcolor": "#E5ECF6",
            "gridcolor": "white",
            "gridwidth": 2,
            "linecolor": "white",
            "showbackground": true,
            "ticks": "",
            "zerolinecolor": "white"
           },
           "zaxis": {
            "backgroundcolor": "#E5ECF6",
            "gridcolor": "white",
            "gridwidth": 2,
            "linecolor": "white",
            "showbackground": true,
            "ticks": "",
            "zerolinecolor": "white"
           }
          },
          "shapedefaults": {
           "line": {
            "color": "#2a3f5f"
           }
          },
          "ternary": {
           "aaxis": {
            "gridcolor": "white",
            "linecolor": "white",
            "ticks": ""
           },
           "baxis": {
            "gridcolor": "white",
            "linecolor": "white",
            "ticks": ""
           },
           "bgcolor": "#E5ECF6",
           "caxis": {
            "gridcolor": "white",
            "linecolor": "white",
            "ticks": ""
           }
          },
          "title": {
           "x": 0.05
          },
          "xaxis": {
           "automargin": true,
           "gridcolor": "white",
           "linecolor": "white",
           "ticks": "",
           "title": {
            "standoff": 15
           },
           "zerolinecolor": "white",
           "zerolinewidth": 2
          },
          "yaxis": {
           "automargin": true,
           "gridcolor": "white",
           "linecolor": "white",
           "ticks": "",
           "title": {
            "standoff": 15
           },
           "zerolinecolor": "white",
           "zerolinewidth": 2
          }
         }
        },
        "title": {
         "font": {
          "color": "#4D5663"
         },
         "text": "AFRICA'S TWITTER OFFICIALS INFLUENCERS:POPULARITY_SCORE"
        },
        "xaxis": {
         "gridcolor": "#E1E5ED",
         "showgrid": true,
         "tickfont": {
          "color": "#4D5663"
         },
         "title": {
          "font": {
           "color": "#4D5663"
          },
          "text": "Africa Twitter influencers"
         },
         "zerolinecolor": "#E1E5ED"
        },
        "yaxis": {
         "gridcolor": "#E1E5ED",
         "showgrid": true,
         "tickfont": {
          "color": "#4D5663"
         },
         "title": {
          "font": {
           "color": "#4D5663"
          },
          "text": "popularity_score"
         },
         "zerolinecolor": "#E1E5ED"
        }
       }
      },
      "text/html": [
       "<div>\n",
       "        \n",
       "        \n",
       "            <div id=\"b530f6a8-eba7-44e6-83ae-8bcf8053b60b\" class=\"plotly-graph-div\" style=\"height:525px; width:100%;\"></div>\n",
       "            <script type=\"text/javascript\">\n",
       "                require([\"plotly\"], function(Plotly) {\n",
       "                    window.PLOTLYENV=window.PLOTLYENV || {};\n",
       "                    window.PLOTLYENV.BASE_URL='https://plot.ly';\n",
       "                    \n",
       "                if (document.getElementById(\"b530f6a8-eba7-44e6-83ae-8bcf8053b60b\")) {\n",
       "                    Plotly.newPlot(\n",
       "                        'b530f6a8-eba7-44e6-83ae-8bcf8053b60b',\n",
       "                        [{\"marker\": {\"color\": \"rgba(255, 153, 51, 0.6)\", \"line\": {\"color\": \"rgba(255, 153, 51, 1.0)\", \"width\": 1}}, \"name\": \"popularity_score\", \"orientation\": \"v\", \"text\": \"\", \"type\": \"bar\", \"x\": [\"Trevor noah\", \"Barry Malone\", \"Mbuyiseni Ndlozi\", \"Julius Sello Malema\", \"Africa The Good News\", \"Bob Skinstad\", \"Jendayi E Frazer\", \"Scapegoat\", \"Mike Stopforth\", \"MoadowAJE\", \"iamsuede\\u2122\", \"Rebecca Enonchong\", \"Jamal Osman\", \"James Schneider\", \"Jeffrey Gettleman\", \"Abdi Aynte\", \"gareth cliff\", \"Cricket South Africa\", \"Ulrich J van Vuuren\", \"loyiso gola\", \"Jax Panik\", \"Africa Gathering\", \"will ross\", \"Geoffrey York\", \"Hamza Mohamed\", \"Tristan McConnell\", \"James Copnall\", \"Helen Zille\", \"Peter Greste\", \"Ray Hartley\", \"MTV Base Africa\", \"Mary Harper\", \"This Is Africa\", \"Arthur Goldstuck\", \"News24\", \"GautengGovt\", \"Euphonik\\u2122\\u265b\", \"African Union\", \"Audi South Africa\", \"Equal Education\", \"Kate Forbes\", \"Gert-Johan Coetzee\", \"Daniel Howden\", \"ONE\", \"George Ayittey\", \"Camfed\", \"Mo Ibrahim Fdn\", \"Brendan Boyle\", \"Save the Rhino\", \"Forbes Africa\", \"City of Tshwane\", \"Live Amp\", \"Samsung South Africa\", \"Africa Research Inst\", \"Patrick Ngowi\", \"AfricaProgressPanel\", \"mailandguardian\", \"5FM\", \"Disaster Operations\", \"City of Joburg\", \"Sarah Carter\", \"marais\", \"Ranger Diaries\", \"IEC South Africa\", \"Henley Africa\", \"Africa Check\", \"Kahn Morbee\", \"IFC Africa\", \"Parliament of RSA\", \"Sandton City\", \"Online Africa\", \"The Star\", \"Think Africa Press\", \"The EIU Africa team\", \"Investing In Africa\", \"Africa24 Media\", \"HowWeMadeItInAfrica\", \"VISI Magazine\", \"TechCentral\", \"Computicket\", \"FoodBlog Cape Town\"], \"y\": [26986360.0, 11169700.0, 10069705.0, 6529773.0, 4580050.0, 3818773.0, 3603767.0, 2723368.0, 2562289.0, 2361227.0, 2194904.0, 1844203.0, 1717288.0, 1647507.0, 1480074.0, 1347064.0, 1199622.0, 1125381.0, 1125381.0, 1073317.0, 1041662.0, 1041662.0, 1019304.0, 979819.0, 947323.0, 759091.0, 744565.0, 633384.0, 558295.0, 557290.0, 470870.0, 429140.0, 353945.0, 326498.0, 293967.0, 276573.0, 273000.0, 260269.0, 254870.0, 245982.0, 238602.0, 214937.0, 210623.0, 184406.0, 182578.0, 179391.0, 159739.0, 154920.0, 140611.0, 138774.0, 132847.0, 117676.0, 92959.0, 86852.0, 86442.0, 85534.0, 82010.0, 77619.0, 55222.0, 54643.0, 52079.0, 51809.0, 51130.0, 49479.0, 48919.0, 48360.0, 39373.0, 37992.0, 34729.0, 21663.0, 19286.0, 18546.0, 18488.0, 16632.0, 13067.0, 12890.0, 12882.0, 12048.0, 8643.0, 5851.0, 4297.0]}],\n",
       "                        {\"legend\": {\"bgcolor\": \"#F5F6F9\", \"font\": {\"color\": \"#4D5663\"}}, \"paper_bgcolor\": \"#F5F6F9\", \"plot_bgcolor\": \"#F5F6F9\", \"template\": {\"data\": {\"bar\": [{\"error_x\": {\"color\": \"#2a3f5f\"}, \"error_y\": {\"color\": \"#2a3f5f\"}, \"marker\": {\"line\": {\"color\": \"#E5ECF6\", \"width\": 0.5}}, \"type\": \"bar\"}], \"barpolar\": [{\"marker\": {\"line\": {\"color\": \"#E5ECF6\", \"width\": 0.5}}, \"type\": \"barpolar\"}], \"carpet\": [{\"aaxis\": {\"endlinecolor\": \"#2a3f5f\", \"gridcolor\": \"white\", \"linecolor\": \"white\", \"minorgridcolor\": \"white\", \"startlinecolor\": \"#2a3f5f\"}, \"baxis\": {\"endlinecolor\": \"#2a3f5f\", \"gridcolor\": \"white\", \"linecolor\": \"white\", \"minorgridcolor\": \"white\", \"startlinecolor\": \"#2a3f5f\"}, \"type\": \"carpet\"}], \"choropleth\": [{\"colorbar\": {\"outlinewidth\": 0, \"ticks\": \"\"}, \"type\": \"choropleth\"}], \"contour\": [{\"colorbar\": {\"outlinewidth\": 0, \"ticks\": \"\"}, \"colorscale\": [[0.0, \"#0d0887\"], [0.1111111111111111, \"#46039f\"], [0.2222222222222222, \"#7201a8\"], [0.3333333333333333, \"#9c179e\"], [0.4444444444444444, \"#bd3786\"], [0.5555555555555556, \"#d8576b\"], [0.6666666666666666, \"#ed7953\"], [0.7777777777777778, \"#fb9f3a\"], [0.8888888888888888, \"#fdca26\"], [1.0, \"#f0f921\"]], \"type\": \"contour\"}], \"contourcarpet\": [{\"colorbar\": {\"outlinewidth\": 0, \"ticks\": \"\"}, \"type\": \"contourcarpet\"}], \"heatmap\": [{\"colorbar\": {\"outlinewidth\": 0, \"ticks\": \"\"}, \"colorscale\": [[0.0, \"#0d0887\"], [0.1111111111111111, \"#46039f\"], [0.2222222222222222, \"#7201a8\"], [0.3333333333333333, \"#9c179e\"], [0.4444444444444444, \"#bd3786\"], [0.5555555555555556, \"#d8576b\"], [0.6666666666666666, \"#ed7953\"], [0.7777777777777778, \"#fb9f3a\"], [0.8888888888888888, \"#fdca26\"], [1.0, \"#f0f921\"]], \"type\": \"heatmap\"}], \"heatmapgl\": [{\"colorbar\": {\"outlinewidth\": 0, \"ticks\": \"\"}, \"colorscale\": [[0.0, \"#0d0887\"], [0.1111111111111111, \"#46039f\"], [0.2222222222222222, \"#7201a8\"], [0.3333333333333333, \"#9c179e\"], [0.4444444444444444, \"#bd3786\"], [0.5555555555555556, \"#d8576b\"], [0.6666666666666666, \"#ed7953\"], [0.7777777777777778, \"#fb9f3a\"], [0.8888888888888888, \"#fdca26\"], [1.0, \"#f0f921\"]], \"type\": \"heatmapgl\"}], \"histogram\": [{\"marker\": {\"colorbar\": {\"outlinewidth\": 0, \"ticks\": \"\"}}, \"type\": \"histogram\"}], \"histogram2d\": [{\"colorbar\": {\"outlinewidth\": 0, \"ticks\": \"\"}, \"colorscale\": [[0.0, \"#0d0887\"], [0.1111111111111111, \"#46039f\"], [0.2222222222222222, \"#7201a8\"], [0.3333333333333333, \"#9c179e\"], [0.4444444444444444, \"#bd3786\"], [0.5555555555555556, \"#d8576b\"], [0.6666666666666666, \"#ed7953\"], [0.7777777777777778, \"#fb9f3a\"], [0.8888888888888888, \"#fdca26\"], [1.0, \"#f0f921\"]], \"type\": \"histogram2d\"}], \"histogram2dcontour\": [{\"colorbar\": {\"outlinewidth\": 0, \"ticks\": \"\"}, \"colorscale\": [[0.0, \"#0d0887\"], [0.1111111111111111, \"#46039f\"], [0.2222222222222222, \"#7201a8\"], [0.3333333333333333, \"#9c179e\"], [0.4444444444444444, \"#bd3786\"], [0.5555555555555556, \"#d8576b\"], [0.6666666666666666, \"#ed7953\"], [0.7777777777777778, \"#fb9f3a\"], [0.8888888888888888, \"#fdca26\"], [1.0, \"#f0f921\"]], \"type\": \"histogram2dcontour\"}], \"mesh3d\": [{\"colorbar\": {\"outlinewidth\": 0, \"ticks\": \"\"}, \"type\": \"mesh3d\"}], \"parcoords\": [{\"line\": {\"colorbar\": {\"outlinewidth\": 0, \"ticks\": \"\"}}, \"type\": \"parcoords\"}], \"pie\": [{\"automargin\": true, \"type\": \"pie\"}], \"scatter\": [{\"marker\": {\"colorbar\": {\"outlinewidth\": 0, \"ticks\": \"\"}}, \"type\": \"scatter\"}], \"scatter3d\": [{\"line\": {\"colorbar\": {\"outlinewidth\": 0, \"ticks\": \"\"}}, \"marker\": {\"colorbar\": {\"outlinewidth\": 0, \"ticks\": \"\"}}, \"type\": \"scatter3d\"}], \"scattercarpet\": [{\"marker\": {\"colorbar\": {\"outlinewidth\": 0, \"ticks\": \"\"}}, \"type\": \"scattercarpet\"}], \"scattergeo\": [{\"marker\": {\"colorbar\": {\"outlinewidth\": 0, \"ticks\": \"\"}}, \"type\": \"scattergeo\"}], \"scattergl\": [{\"marker\": {\"colorbar\": {\"outlinewidth\": 0, \"ticks\": \"\"}}, \"type\": \"scattergl\"}], \"scattermapbox\": [{\"marker\": {\"colorbar\": {\"outlinewidth\": 0, \"ticks\": \"\"}}, \"type\": \"scattermapbox\"}], \"scatterpolar\": [{\"marker\": {\"colorbar\": {\"outlinewidth\": 0, \"ticks\": \"\"}}, \"type\": \"scatterpolar\"}], \"scatterpolargl\": [{\"marker\": {\"colorbar\": {\"outlinewidth\": 0, \"ticks\": \"\"}}, \"type\": \"scatterpolargl\"}], \"scatterternary\": [{\"marker\": {\"colorbar\": {\"outlinewidth\": 0, \"ticks\": \"\"}}, \"type\": \"scatterternary\"}], \"surface\": [{\"colorbar\": {\"outlinewidth\": 0, \"ticks\": \"\"}, \"colorscale\": [[0.0, \"#0d0887\"], [0.1111111111111111, \"#46039f\"], [0.2222222222222222, \"#7201a8\"], [0.3333333333333333, \"#9c179e\"], [0.4444444444444444, \"#bd3786\"], [0.5555555555555556, \"#d8576b\"], [0.6666666666666666, \"#ed7953\"], [0.7777777777777778, \"#fb9f3a\"], [0.8888888888888888, \"#fdca26\"], [1.0, \"#f0f921\"]], \"type\": \"surface\"}], \"table\": [{\"cells\": {\"fill\": {\"color\": \"#EBF0F8\"}, \"line\": {\"color\": \"white\"}}, \"header\": {\"fill\": {\"color\": \"#C8D4E3\"}, \"line\": {\"color\": \"white\"}}, \"type\": \"table\"}]}, \"layout\": {\"annotationdefaults\": {\"arrowcolor\": \"#2a3f5f\", \"arrowhead\": 0, \"arrowwidth\": 1}, \"coloraxis\": {\"colorbar\": {\"outlinewidth\": 0, \"ticks\": \"\"}}, \"colorscale\": {\"diverging\": [[0, \"#8e0152\"], [0.1, \"#c51b7d\"], [0.2, \"#de77ae\"], [0.3, \"#f1b6da\"], [0.4, \"#fde0ef\"], [0.5, \"#f7f7f7\"], [0.6, \"#e6f5d0\"], [0.7, \"#b8e186\"], [0.8, \"#7fbc41\"], [0.9, \"#4d9221\"], [1, \"#276419\"]], \"sequential\": [[0.0, \"#0d0887\"], [0.1111111111111111, \"#46039f\"], [0.2222222222222222, \"#7201a8\"], [0.3333333333333333, \"#9c179e\"], [0.4444444444444444, \"#bd3786\"], [0.5555555555555556, \"#d8576b\"], [0.6666666666666666, \"#ed7953\"], [0.7777777777777778, \"#fb9f3a\"], [0.8888888888888888, \"#fdca26\"], [1.0, \"#f0f921\"]], \"sequentialminus\": [[0.0, \"#0d0887\"], [0.1111111111111111, \"#46039f\"], [0.2222222222222222, \"#7201a8\"], [0.3333333333333333, \"#9c179e\"], [0.4444444444444444, \"#bd3786\"], [0.5555555555555556, \"#d8576b\"], [0.6666666666666666, \"#ed7953\"], [0.7777777777777778, \"#fb9f3a\"], [0.8888888888888888, \"#fdca26\"], [1.0, \"#f0f921\"]]}, \"colorway\": [\"#636efa\", \"#EF553B\", \"#00cc96\", \"#ab63fa\", \"#FFA15A\", \"#19d3f3\", \"#FF6692\", \"#B6E880\", \"#FF97FF\", \"#FECB52\"], \"font\": {\"color\": \"#2a3f5f\"}, \"geo\": {\"bgcolor\": \"white\", \"lakecolor\": \"white\", \"landcolor\": \"#E5ECF6\", \"showlakes\": true, \"showland\": true, \"subunitcolor\": \"white\"}, \"hoverlabel\": {\"align\": \"left\"}, \"hovermode\": \"closest\", \"mapbox\": {\"style\": \"light\"}, \"paper_bgcolor\": \"white\", \"plot_bgcolor\": \"#E5ECF6\", \"polar\": {\"angularaxis\": {\"gridcolor\": \"white\", \"linecolor\": \"white\", \"ticks\": \"\"}, \"bgcolor\": \"#E5ECF6\", \"radialaxis\": {\"gridcolor\": \"white\", \"linecolor\": \"white\", \"ticks\": \"\"}}, \"scene\": {\"xaxis\": {\"backgroundcolor\": \"#E5ECF6\", \"gridcolor\": \"white\", \"gridwidth\": 2, \"linecolor\": \"white\", \"showbackground\": true, \"ticks\": \"\", \"zerolinecolor\": \"white\"}, \"yaxis\": {\"backgroundcolor\": \"#E5ECF6\", \"gridcolor\": \"white\", \"gridwidth\": 2, \"linecolor\": \"white\", \"showbackground\": true, \"ticks\": \"\", \"zerolinecolor\": \"white\"}, \"zaxis\": {\"backgroundcolor\": \"#E5ECF6\", \"gridcolor\": \"white\", \"gridwidth\": 2, \"linecolor\": \"white\", \"showbackground\": true, \"ticks\": \"\", \"zerolinecolor\": \"white\"}}, \"shapedefaults\": {\"line\": {\"color\": \"#2a3f5f\"}}, \"ternary\": {\"aaxis\": {\"gridcolor\": \"white\", \"linecolor\": \"white\", \"ticks\": \"\"}, \"baxis\": {\"gridcolor\": \"white\", \"linecolor\": \"white\", \"ticks\": \"\"}, \"bgcolor\": \"#E5ECF6\", \"caxis\": {\"gridcolor\": \"white\", \"linecolor\": \"white\", \"ticks\": \"\"}}, \"title\": {\"x\": 0.05}, \"xaxis\": {\"automargin\": true, \"gridcolor\": \"white\", \"linecolor\": \"white\", \"ticks\": \"\", \"title\": {\"standoff\": 15}, \"zerolinecolor\": \"white\", \"zerolinewidth\": 2}, \"yaxis\": {\"automargin\": true, \"gridcolor\": \"white\", \"linecolor\": \"white\", \"ticks\": \"\", \"title\": {\"standoff\": 15}, \"zerolinecolor\": \"white\", \"zerolinewidth\": 2}}}, \"title\": {\"font\": {\"color\": \"#4D5663\"}, \"text\": \"AFRICA'S TWITTER OFFICIALS INFLUENCERS:POPULARITY_SCORE\"}, \"xaxis\": {\"gridcolor\": \"#E1E5ED\", \"showgrid\": true, \"tickfont\": {\"color\": \"#4D5663\"}, \"title\": {\"font\": {\"color\": \"#4D5663\"}, \"text\": \"Africa Twitter influencers\"}, \"zerolinecolor\": \"#E1E5ED\"}, \"yaxis\": {\"gridcolor\": \"#E1E5ED\", \"showgrid\": true, \"tickfont\": {\"color\": \"#4D5663\"}, \"title\": {\"font\": {\"color\": \"#4D5663\"}, \"text\": \"popularity_score\"}, \"zerolinecolor\": \"#E1E5ED\"}},\n",
       "                        {\"showLink\": true, \"linkText\": \"Export to plot.ly\", \"plotlyServerURL\": \"https://plot.ly\", \"responsive\": true}\n",
       "                    ).then(function(){\n",
       "                            \n",
       "var gd = document.getElementById('b530f6a8-eba7-44e6-83ae-8bcf8053b60b');\n",
       "var x = new MutationObserver(function (mutations, observer) {{\n",
       "        var display = window.getComputedStyle(gd).display;\n",
       "        if (!display || display === 'none') {{\n",
       "            console.log([gd, 'removed!']);\n",
       "            Plotly.purge(gd);\n",
       "            observer.disconnect();\n",
       "        }}\n",
       "}});\n",
       "\n",
       "// Listen for the removal of the full notebook cells\n",
       "var notebookContainer = gd.closest('#notebook-container');\n",
       "if (notebookContainer) {{\n",
       "    x.observe(notebookContainer, {childList: true});\n",
       "}}\n",
       "\n",
       "// Listen for the clearing of the current output cell\n",
       "var outputEl = gd.closest('.output');\n",
       "if (outputEl) {{\n",
       "    x.observe(outputEl, {childList: true});\n",
       "}}\n",
       "\n",
       "                        })\n",
       "                };\n",
       "                });\n",
       "            </script>\n",
       "        </div>"
      ]
     },
     "metadata": {},
     "output_type": "display_data"
    }
   ],
   "source": [
    "df8.iplot(kind=\"bar\",x=\"Name\",y=\"popularity_score\",xTitle='Africa Twitter influencers',\n",
    "           yTitle='popularity_score',title=\"AFRICA'S TWITTER OFFICIALS INFLUENCERS:POPULARITY_SCORE\")"
   ]
  },
  {
   "cell_type": "code",
   "execution_count": 74,
   "metadata": {},
   "outputs": [
    {
     "data": {
      "application/vnd.plotly.v1+json": {
       "config": {
        "linkText": "Export to plot.ly",
        "plotlyServerURL": "https://plot.ly",
        "showLink": true
       },
       "data": [
        {
         "marker": {
          "color": "rgba(255, 153, 51, 0.6)",
          "line": {
           "color": "rgba(255, 153, 51, 1.0)",
           "width": 1
          }
         },
         "name": "reach_score",
         "orientation": "v",
         "text": "",
         "type": "bar",
         "x": [
          "Trevor noah",
          "News24",
          "Julius Sello Malema",
          "gareth cliff",
          "Euphonik™♛",
          "Helen Zille",
          "MTV Base Africa",
          "5FM",
          "Cricket South Africa",
          "loyiso gola",
          "Mbuyiseni Ndlozi",
          "mailandguardian",
          "City of Joburg",
          "Live Amp",
          "Parliament of RSA",
          "Samsung South Africa",
          "African Union",
          "Ulrich J van Vuuren",
          "City of Tshwane",
          "Geoffrey York",
          "IEC South Africa",
          "Forbes Africa",
          "Audi South Africa",
          "GautengGovt",
          "Computicket",
          "Abdi Aynte",
          "The Star",
          "Camfed",
          "Disaster Operations",
          "ONE",
          "IFC Africa",
          "Mo Ibrahim Fdn",
          "HowWeMadeItInAfrica",
          "Rebecca Enonchong",
          "Bob Skinstad",
          "Hamza Mohamed",
          "Scapegoat",
          "Jamal Osman",
          "Africa Research Inst",
          "TechCentral",
          "Save the Rhino",
          "Henley Africa",
          "Africa Check",
          "Equal Education",
          "FoodBlog Cape Town",
          "Mary Harper",
          "Sandton City",
          "Arthur Goldstuck",
          "AfricaProgressPanel",
          "VISI Magazine",
          "Peter Greste",
          "Investing In Africa",
          "Africa The Good News",
          "MoadowAJE",
          "Gert-Johan Coetzee",
          "Africa Gathering",
          "Think Africa Press",
          "This Is Africa",
          "Ray Hartley",
          "Jendayi E Frazer",
          "Online Africa",
          "Africa24 Media",
          "Brendan Boyle",
          "Jeffrey Gettleman",
          "Barry Malone",
          "James Schneider",
          "The EIU Africa team",
          "Patrick Ngowi",
          "marais",
          "Daniel Howden",
          "Mike Stopforth",
          "Tristan McConnell",
          "will ross",
          "Kahn Morbee",
          "George Ayittey",
          "James Copnall",
          "Kate Forbes",
          "iamsuede™",
          "Ranger Diaries",
          "Sarah Carter",
          "Jax Panik"
         ],
         "y": [
          10797404,
          3571454,
          3121716,
          1973832,
          1752846,
          1440721,
          1415012,
          1163539,
          1157532,
          1081115,
          1065666,
          1059163,
          939834,
          935361,
          669860,
          571912,
          540094,
          512214,
          435612,
          274662,
          220765,
          215624,
          213985,
          213606,
          199079,
          190953,
          190872,
          157907,
          151360,
          143233,
          125782,
          112778,
          105227,
          104261,
          102699,
          98488,
          98333,
          93252,
          86522,
          79690,
          79376,
          69124,
          63440,
          61408,
          58887,
          56231,
          55884,
          55849,
          53085,
          51079,
          50862,
          49510,
          49302,
          49223,
          48935,
          48297,
          47158,
          44634,
          34763,
          29445,
          28424,
          28234,
          28095,
          25664,
          25437,
          25369,
          24566,
          22617,
          21088,
          21003,
          20535,
          17564,
          17145,
          17017,
          16920,
          16915,
          16395,
          15983,
          15845,
          11035,
          7474
         ]
        }
       ],
       "layout": {
        "legend": {
         "bgcolor": "#F5F6F9",
         "font": {
          "color": "#4D5663"
         }
        },
        "paper_bgcolor": "#F5F6F9",
        "plot_bgcolor": "#F5F6F9",
        "template": {
         "data": {
          "bar": [
           {
            "error_x": {
             "color": "#2a3f5f"
            },
            "error_y": {
             "color": "#2a3f5f"
            },
            "marker": {
             "line": {
              "color": "#E5ECF6",
              "width": 0.5
             }
            },
            "type": "bar"
           }
          ],
          "barpolar": [
           {
            "marker": {
             "line": {
              "color": "#E5ECF6",
              "width": 0.5
             }
            },
            "type": "barpolar"
           }
          ],
          "carpet": [
           {
            "aaxis": {
             "endlinecolor": "#2a3f5f",
             "gridcolor": "white",
             "linecolor": "white",
             "minorgridcolor": "white",
             "startlinecolor": "#2a3f5f"
            },
            "baxis": {
             "endlinecolor": "#2a3f5f",
             "gridcolor": "white",
             "linecolor": "white",
             "minorgridcolor": "white",
             "startlinecolor": "#2a3f5f"
            },
            "type": "carpet"
           }
          ],
          "choropleth": [
           {
            "colorbar": {
             "outlinewidth": 0,
             "ticks": ""
            },
            "type": "choropleth"
           }
          ],
          "contour": [
           {
            "colorbar": {
             "outlinewidth": 0,
             "ticks": ""
            },
            "colorscale": [
             [
              0,
              "#0d0887"
             ],
             [
              0.1111111111111111,
              "#46039f"
             ],
             [
              0.2222222222222222,
              "#7201a8"
             ],
             [
              0.3333333333333333,
              "#9c179e"
             ],
             [
              0.4444444444444444,
              "#bd3786"
             ],
             [
              0.5555555555555556,
              "#d8576b"
             ],
             [
              0.6666666666666666,
              "#ed7953"
             ],
             [
              0.7777777777777778,
              "#fb9f3a"
             ],
             [
              0.8888888888888888,
              "#fdca26"
             ],
             [
              1,
              "#f0f921"
             ]
            ],
            "type": "contour"
           }
          ],
          "contourcarpet": [
           {
            "colorbar": {
             "outlinewidth": 0,
             "ticks": ""
            },
            "type": "contourcarpet"
           }
          ],
          "heatmap": [
           {
            "colorbar": {
             "outlinewidth": 0,
             "ticks": ""
            },
            "colorscale": [
             [
              0,
              "#0d0887"
             ],
             [
              0.1111111111111111,
              "#46039f"
             ],
             [
              0.2222222222222222,
              "#7201a8"
             ],
             [
              0.3333333333333333,
              "#9c179e"
             ],
             [
              0.4444444444444444,
              "#bd3786"
             ],
             [
              0.5555555555555556,
              "#d8576b"
             ],
             [
              0.6666666666666666,
              "#ed7953"
             ],
             [
              0.7777777777777778,
              "#fb9f3a"
             ],
             [
              0.8888888888888888,
              "#fdca26"
             ],
             [
              1,
              "#f0f921"
             ]
            ],
            "type": "heatmap"
           }
          ],
          "heatmapgl": [
           {
            "colorbar": {
             "outlinewidth": 0,
             "ticks": ""
            },
            "colorscale": [
             [
              0,
              "#0d0887"
             ],
             [
              0.1111111111111111,
              "#46039f"
             ],
             [
              0.2222222222222222,
              "#7201a8"
             ],
             [
              0.3333333333333333,
              "#9c179e"
             ],
             [
              0.4444444444444444,
              "#bd3786"
             ],
             [
              0.5555555555555556,
              "#d8576b"
             ],
             [
              0.6666666666666666,
              "#ed7953"
             ],
             [
              0.7777777777777778,
              "#fb9f3a"
             ],
             [
              0.8888888888888888,
              "#fdca26"
             ],
             [
              1,
              "#f0f921"
             ]
            ],
            "type": "heatmapgl"
           }
          ],
          "histogram": [
           {
            "marker": {
             "colorbar": {
              "outlinewidth": 0,
              "ticks": ""
             }
            },
            "type": "histogram"
           }
          ],
          "histogram2d": [
           {
            "colorbar": {
             "outlinewidth": 0,
             "ticks": ""
            },
            "colorscale": [
             [
              0,
              "#0d0887"
             ],
             [
              0.1111111111111111,
              "#46039f"
             ],
             [
              0.2222222222222222,
              "#7201a8"
             ],
             [
              0.3333333333333333,
              "#9c179e"
             ],
             [
              0.4444444444444444,
              "#bd3786"
             ],
             [
              0.5555555555555556,
              "#d8576b"
             ],
             [
              0.6666666666666666,
              "#ed7953"
             ],
             [
              0.7777777777777778,
              "#fb9f3a"
             ],
             [
              0.8888888888888888,
              "#fdca26"
             ],
             [
              1,
              "#f0f921"
             ]
            ],
            "type": "histogram2d"
           }
          ],
          "histogram2dcontour": [
           {
            "colorbar": {
             "outlinewidth": 0,
             "ticks": ""
            },
            "colorscale": [
             [
              0,
              "#0d0887"
             ],
             [
              0.1111111111111111,
              "#46039f"
             ],
             [
              0.2222222222222222,
              "#7201a8"
             ],
             [
              0.3333333333333333,
              "#9c179e"
             ],
             [
              0.4444444444444444,
              "#bd3786"
             ],
             [
              0.5555555555555556,
              "#d8576b"
             ],
             [
              0.6666666666666666,
              "#ed7953"
             ],
             [
              0.7777777777777778,
              "#fb9f3a"
             ],
             [
              0.8888888888888888,
              "#fdca26"
             ],
             [
              1,
              "#f0f921"
             ]
            ],
            "type": "histogram2dcontour"
           }
          ],
          "mesh3d": [
           {
            "colorbar": {
             "outlinewidth": 0,
             "ticks": ""
            },
            "type": "mesh3d"
           }
          ],
          "parcoords": [
           {
            "line": {
             "colorbar": {
              "outlinewidth": 0,
              "ticks": ""
             }
            },
            "type": "parcoords"
           }
          ],
          "pie": [
           {
            "automargin": true,
            "type": "pie"
           }
          ],
          "scatter": [
           {
            "marker": {
             "colorbar": {
              "outlinewidth": 0,
              "ticks": ""
             }
            },
            "type": "scatter"
           }
          ],
          "scatter3d": [
           {
            "line": {
             "colorbar": {
              "outlinewidth": 0,
              "ticks": ""
             }
            },
            "marker": {
             "colorbar": {
              "outlinewidth": 0,
              "ticks": ""
             }
            },
            "type": "scatter3d"
           }
          ],
          "scattercarpet": [
           {
            "marker": {
             "colorbar": {
              "outlinewidth": 0,
              "ticks": ""
             }
            },
            "type": "scattercarpet"
           }
          ],
          "scattergeo": [
           {
            "marker": {
             "colorbar": {
              "outlinewidth": 0,
              "ticks": ""
             }
            },
            "type": "scattergeo"
           }
          ],
          "scattergl": [
           {
            "marker": {
             "colorbar": {
              "outlinewidth": 0,
              "ticks": ""
             }
            },
            "type": "scattergl"
           }
          ],
          "scattermapbox": [
           {
            "marker": {
             "colorbar": {
              "outlinewidth": 0,
              "ticks": ""
             }
            },
            "type": "scattermapbox"
           }
          ],
          "scatterpolar": [
           {
            "marker": {
             "colorbar": {
              "outlinewidth": 0,
              "ticks": ""
             }
            },
            "type": "scatterpolar"
           }
          ],
          "scatterpolargl": [
           {
            "marker": {
             "colorbar": {
              "outlinewidth": 0,
              "ticks": ""
             }
            },
            "type": "scatterpolargl"
           }
          ],
          "scatterternary": [
           {
            "marker": {
             "colorbar": {
              "outlinewidth": 0,
              "ticks": ""
             }
            },
            "type": "scatterternary"
           }
          ],
          "surface": [
           {
            "colorbar": {
             "outlinewidth": 0,
             "ticks": ""
            },
            "colorscale": [
             [
              0,
              "#0d0887"
             ],
             [
              0.1111111111111111,
              "#46039f"
             ],
             [
              0.2222222222222222,
              "#7201a8"
             ],
             [
              0.3333333333333333,
              "#9c179e"
             ],
             [
              0.4444444444444444,
              "#bd3786"
             ],
             [
              0.5555555555555556,
              "#d8576b"
             ],
             [
              0.6666666666666666,
              "#ed7953"
             ],
             [
              0.7777777777777778,
              "#fb9f3a"
             ],
             [
              0.8888888888888888,
              "#fdca26"
             ],
             [
              1,
              "#f0f921"
             ]
            ],
            "type": "surface"
           }
          ],
          "table": [
           {
            "cells": {
             "fill": {
              "color": "#EBF0F8"
             },
             "line": {
              "color": "white"
             }
            },
            "header": {
             "fill": {
              "color": "#C8D4E3"
             },
             "line": {
              "color": "white"
             }
            },
            "type": "table"
           }
          ]
         },
         "layout": {
          "annotationdefaults": {
           "arrowcolor": "#2a3f5f",
           "arrowhead": 0,
           "arrowwidth": 1
          },
          "coloraxis": {
           "colorbar": {
            "outlinewidth": 0,
            "ticks": ""
           }
          },
          "colorscale": {
           "diverging": [
            [
             0,
             "#8e0152"
            ],
            [
             0.1,
             "#c51b7d"
            ],
            [
             0.2,
             "#de77ae"
            ],
            [
             0.3,
             "#f1b6da"
            ],
            [
             0.4,
             "#fde0ef"
            ],
            [
             0.5,
             "#f7f7f7"
            ],
            [
             0.6,
             "#e6f5d0"
            ],
            [
             0.7,
             "#b8e186"
            ],
            [
             0.8,
             "#7fbc41"
            ],
            [
             0.9,
             "#4d9221"
            ],
            [
             1,
             "#276419"
            ]
           ],
           "sequential": [
            [
             0,
             "#0d0887"
            ],
            [
             0.1111111111111111,
             "#46039f"
            ],
            [
             0.2222222222222222,
             "#7201a8"
            ],
            [
             0.3333333333333333,
             "#9c179e"
            ],
            [
             0.4444444444444444,
             "#bd3786"
            ],
            [
             0.5555555555555556,
             "#d8576b"
            ],
            [
             0.6666666666666666,
             "#ed7953"
            ],
            [
             0.7777777777777778,
             "#fb9f3a"
            ],
            [
             0.8888888888888888,
             "#fdca26"
            ],
            [
             1,
             "#f0f921"
            ]
           ],
           "sequentialminus": [
            [
             0,
             "#0d0887"
            ],
            [
             0.1111111111111111,
             "#46039f"
            ],
            [
             0.2222222222222222,
             "#7201a8"
            ],
            [
             0.3333333333333333,
             "#9c179e"
            ],
            [
             0.4444444444444444,
             "#bd3786"
            ],
            [
             0.5555555555555556,
             "#d8576b"
            ],
            [
             0.6666666666666666,
             "#ed7953"
            ],
            [
             0.7777777777777778,
             "#fb9f3a"
            ],
            [
             0.8888888888888888,
             "#fdca26"
            ],
            [
             1,
             "#f0f921"
            ]
           ]
          },
          "colorway": [
           "#636efa",
           "#EF553B",
           "#00cc96",
           "#ab63fa",
           "#FFA15A",
           "#19d3f3",
           "#FF6692",
           "#B6E880",
           "#FF97FF",
           "#FECB52"
          ],
          "font": {
           "color": "#2a3f5f"
          },
          "geo": {
           "bgcolor": "white",
           "lakecolor": "white",
           "landcolor": "#E5ECF6",
           "showlakes": true,
           "showland": true,
           "subunitcolor": "white"
          },
          "hoverlabel": {
           "align": "left"
          },
          "hovermode": "closest",
          "mapbox": {
           "style": "light"
          },
          "paper_bgcolor": "white",
          "plot_bgcolor": "#E5ECF6",
          "polar": {
           "angularaxis": {
            "gridcolor": "white",
            "linecolor": "white",
            "ticks": ""
           },
           "bgcolor": "#E5ECF6",
           "radialaxis": {
            "gridcolor": "white",
            "linecolor": "white",
            "ticks": ""
           }
          },
          "scene": {
           "xaxis": {
            "backgroundcolor": "#E5ECF6",
            "gridcolor": "white",
            "gridwidth": 2,
            "linecolor": "white",
            "showbackground": true,
            "ticks": "",
            "zerolinecolor": "white"
           },
           "yaxis": {
            "backgroundcolor": "#E5ECF6",
            "gridcolor": "white",
            "gridwidth": 2,
            "linecolor": "white",
            "showbackground": true,
            "ticks": "",
            "zerolinecolor": "white"
           },
           "zaxis": {
            "backgroundcolor": "#E5ECF6",
            "gridcolor": "white",
            "gridwidth": 2,
            "linecolor": "white",
            "showbackground": true,
            "ticks": "",
            "zerolinecolor": "white"
           }
          },
          "shapedefaults": {
           "line": {
            "color": "#2a3f5f"
           }
          },
          "ternary": {
           "aaxis": {
            "gridcolor": "white",
            "linecolor": "white",
            "ticks": ""
           },
           "baxis": {
            "gridcolor": "white",
            "linecolor": "white",
            "ticks": ""
           },
           "bgcolor": "#E5ECF6",
           "caxis": {
            "gridcolor": "white",
            "linecolor": "white",
            "ticks": ""
           }
          },
          "title": {
           "x": 0.05
          },
          "xaxis": {
           "automargin": true,
           "gridcolor": "white",
           "linecolor": "white",
           "ticks": "",
           "title": {
            "standoff": 15
           },
           "zerolinecolor": "white",
           "zerolinewidth": 2
          },
          "yaxis": {
           "automargin": true,
           "gridcolor": "white",
           "linecolor": "white",
           "ticks": "",
           "title": {
            "standoff": 15
           },
           "zerolinecolor": "white",
           "zerolinewidth": 2
          }
         }
        },
        "title": {
         "font": {
          "color": "#4D5663"
         },
         "text": "AFRICA'S TWITTER OFFICIALS INFLUENCERS:REACH_SCORE"
        },
        "xaxis": {
         "gridcolor": "#E1E5ED",
         "showgrid": true,
         "tickfont": {
          "color": "#4D5663"
         },
         "title": {
          "font": {
           "color": "#4D5663"
          },
          "text": "Africa Twitter influencers"
         },
         "zerolinecolor": "#E1E5ED"
        },
        "yaxis": {
         "gridcolor": "#E1E5ED",
         "showgrid": true,
         "tickfont": {
          "color": "#4D5663"
         },
         "title": {
          "font": {
           "color": "#4D5663"
          },
          "text": "Reach_score"
         },
         "zerolinecolor": "#E1E5ED"
        }
       }
      },
      "text/html": [
       "<div>\n",
       "        \n",
       "        \n",
       "            <div id=\"25214e1d-a913-4419-b6b1-151915af9602\" class=\"plotly-graph-div\" style=\"height:525px; width:100%;\"></div>\n",
       "            <script type=\"text/javascript\">\n",
       "                require([\"plotly\"], function(Plotly) {\n",
       "                    window.PLOTLYENV=window.PLOTLYENV || {};\n",
       "                    window.PLOTLYENV.BASE_URL='https://plot.ly';\n",
       "                    \n",
       "                if (document.getElementById(\"25214e1d-a913-4419-b6b1-151915af9602\")) {\n",
       "                    Plotly.newPlot(\n",
       "                        '25214e1d-a913-4419-b6b1-151915af9602',\n",
       "                        [{\"marker\": {\"color\": \"rgba(255, 153, 51, 0.6)\", \"line\": {\"color\": \"rgba(255, 153, 51, 1.0)\", \"width\": 1}}, \"name\": \"reach_score\", \"orientation\": \"v\", \"text\": \"\", \"type\": \"bar\", \"x\": [\"Trevor noah\", \"News24\", \"Julius Sello Malema\", \"gareth cliff\", \"Euphonik\\u2122\\u265b\", \"Helen Zille\", \"MTV Base Africa\", \"5FM\", \"Cricket South Africa\", \"loyiso gola\", \"Mbuyiseni Ndlozi\", \"mailandguardian\", \"City of Joburg\", \"Live Amp\", \"Parliament of RSA\", \"Samsung South Africa\", \"African Union\", \"Ulrich J van Vuuren\", \"City of Tshwane\", \"Geoffrey York\", \"IEC South Africa\", \"Forbes Africa\", \"Audi South Africa\", \"GautengGovt\", \"Computicket\", \"Abdi Aynte\", \"The Star\", \"Camfed\", \"Disaster Operations\", \"ONE\", \"IFC Africa\", \"Mo Ibrahim Fdn\", \"HowWeMadeItInAfrica\", \"Rebecca Enonchong\", \"Bob Skinstad\", \"Hamza Mohamed\", \"Scapegoat\", \"Jamal Osman\", \"Africa Research Inst\", \"TechCentral\", \"Save the Rhino\", \"Henley Africa\", \"Africa Check\", \"Equal Education\", \"FoodBlog Cape Town\", \"Mary Harper\", \"Sandton City\", \"Arthur Goldstuck\", \"AfricaProgressPanel\", \"VISI Magazine\", \"Peter Greste\", \"Investing In Africa\", \"Africa The Good News\", \"MoadowAJE\", \"Gert-Johan Coetzee\", \"Africa Gathering\", \"Think Africa Press\", \"This Is Africa\", \"Ray Hartley\", \"Jendayi E Frazer\", \"Online Africa\", \"Africa24 Media\", \"Brendan Boyle\", \"Jeffrey Gettleman\", \"Barry Malone\", \"James Schneider\", \"The EIU Africa team\", \"Patrick Ngowi\", \"marais\", \"Daniel Howden\", \"Mike Stopforth\", \"Tristan McConnell\", \"will ross\", \"Kahn Morbee\", \"George Ayittey\", \"James Copnall\", \"Kate Forbes\", \"iamsuede\\u2122\", \"Ranger Diaries\", \"Sarah Carter\", \"Jax Panik\"], \"y\": [10797404.0, 3571454.0, 3121716.0, 1973832.0, 1752846.0, 1440721.0, 1415012.0, 1163539.0, 1157532.0, 1081115.0, 1065666.0, 1059163.0, 939834.0, 935361.0, 669860.0, 571912.0, 540094.0, 512214.0, 435612.0, 274662.0, 220765.0, 215624.0, 213985.0, 213606.0, 199079.0, 190953.0, 190872.0, 157907.0, 151360.0, 143233.0, 125782.0, 112778.0, 105227.0, 104261.0, 102699.0, 98488.0, 98333.0, 93252.0, 86522.0, 79690.0, 79376.0, 69124.0, 63440.0, 61408.0, 58887.0, 56231.0, 55884.0, 55849.0, 53085.0, 51079.0, 50862.0, 49510.0, 49302.0, 49223.0, 48935.0, 48297.0, 47158.0, 44634.0, 34763.0, 29445.0, 28424.0, 28234.0, 28095.0, 25664.0, 25437.0, 25369.0, 24566.0, 22617.0, 21088.0, 21003.0, 20535.0, 17564.0, 17145.0, 17017.0, 16920.0, 16915.0, 16395.0, 15983.0, 15845.0, 11035.0, 7474.0]}],\n",
       "                        {\"legend\": {\"bgcolor\": \"#F5F6F9\", \"font\": {\"color\": \"#4D5663\"}}, \"paper_bgcolor\": \"#F5F6F9\", \"plot_bgcolor\": \"#F5F6F9\", \"template\": {\"data\": {\"bar\": [{\"error_x\": {\"color\": \"#2a3f5f\"}, \"error_y\": {\"color\": \"#2a3f5f\"}, \"marker\": {\"line\": {\"color\": \"#E5ECF6\", \"width\": 0.5}}, \"type\": \"bar\"}], \"barpolar\": [{\"marker\": {\"line\": {\"color\": \"#E5ECF6\", \"width\": 0.5}}, \"type\": \"barpolar\"}], \"carpet\": [{\"aaxis\": {\"endlinecolor\": \"#2a3f5f\", \"gridcolor\": \"white\", \"linecolor\": \"white\", \"minorgridcolor\": \"white\", \"startlinecolor\": \"#2a3f5f\"}, \"baxis\": {\"endlinecolor\": \"#2a3f5f\", \"gridcolor\": \"white\", \"linecolor\": \"white\", \"minorgridcolor\": \"white\", \"startlinecolor\": \"#2a3f5f\"}, \"type\": \"carpet\"}], \"choropleth\": [{\"colorbar\": {\"outlinewidth\": 0, \"ticks\": \"\"}, \"type\": \"choropleth\"}], \"contour\": [{\"colorbar\": {\"outlinewidth\": 0, \"ticks\": \"\"}, \"colorscale\": [[0.0, \"#0d0887\"], [0.1111111111111111, \"#46039f\"], [0.2222222222222222, \"#7201a8\"], [0.3333333333333333, \"#9c179e\"], [0.4444444444444444, \"#bd3786\"], [0.5555555555555556, \"#d8576b\"], [0.6666666666666666, \"#ed7953\"], [0.7777777777777778, \"#fb9f3a\"], [0.8888888888888888, \"#fdca26\"], [1.0, \"#f0f921\"]], \"type\": \"contour\"}], \"contourcarpet\": [{\"colorbar\": {\"outlinewidth\": 0, \"ticks\": \"\"}, \"type\": \"contourcarpet\"}], \"heatmap\": [{\"colorbar\": {\"outlinewidth\": 0, \"ticks\": \"\"}, \"colorscale\": [[0.0, \"#0d0887\"], [0.1111111111111111, \"#46039f\"], [0.2222222222222222, \"#7201a8\"], [0.3333333333333333, \"#9c179e\"], [0.4444444444444444, \"#bd3786\"], [0.5555555555555556, \"#d8576b\"], [0.6666666666666666, \"#ed7953\"], [0.7777777777777778, \"#fb9f3a\"], [0.8888888888888888, \"#fdca26\"], [1.0, \"#f0f921\"]], \"type\": \"heatmap\"}], \"heatmapgl\": [{\"colorbar\": {\"outlinewidth\": 0, \"ticks\": \"\"}, \"colorscale\": [[0.0, \"#0d0887\"], [0.1111111111111111, \"#46039f\"], [0.2222222222222222, \"#7201a8\"], [0.3333333333333333, \"#9c179e\"], [0.4444444444444444, \"#bd3786\"], [0.5555555555555556, \"#d8576b\"], [0.6666666666666666, \"#ed7953\"], [0.7777777777777778, \"#fb9f3a\"], [0.8888888888888888, \"#fdca26\"], [1.0, \"#f0f921\"]], \"type\": \"heatmapgl\"}], \"histogram\": [{\"marker\": {\"colorbar\": {\"outlinewidth\": 0, \"ticks\": \"\"}}, \"type\": \"histogram\"}], \"histogram2d\": [{\"colorbar\": {\"outlinewidth\": 0, \"ticks\": \"\"}, \"colorscale\": [[0.0, \"#0d0887\"], [0.1111111111111111, \"#46039f\"], [0.2222222222222222, \"#7201a8\"], [0.3333333333333333, \"#9c179e\"], [0.4444444444444444, \"#bd3786\"], [0.5555555555555556, \"#d8576b\"], [0.6666666666666666, \"#ed7953\"], [0.7777777777777778, \"#fb9f3a\"], [0.8888888888888888, \"#fdca26\"], [1.0, \"#f0f921\"]], \"type\": \"histogram2d\"}], \"histogram2dcontour\": [{\"colorbar\": {\"outlinewidth\": 0, \"ticks\": \"\"}, \"colorscale\": [[0.0, \"#0d0887\"], [0.1111111111111111, \"#46039f\"], [0.2222222222222222, \"#7201a8\"], [0.3333333333333333, \"#9c179e\"], [0.4444444444444444, \"#bd3786\"], [0.5555555555555556, \"#d8576b\"], [0.6666666666666666, \"#ed7953\"], [0.7777777777777778, \"#fb9f3a\"], [0.8888888888888888, \"#fdca26\"], [1.0, \"#f0f921\"]], \"type\": \"histogram2dcontour\"}], \"mesh3d\": [{\"colorbar\": {\"outlinewidth\": 0, \"ticks\": \"\"}, \"type\": \"mesh3d\"}], \"parcoords\": [{\"line\": {\"colorbar\": {\"outlinewidth\": 0, \"ticks\": \"\"}}, \"type\": \"parcoords\"}], \"pie\": [{\"automargin\": true, \"type\": \"pie\"}], \"scatter\": [{\"marker\": {\"colorbar\": {\"outlinewidth\": 0, \"ticks\": \"\"}}, \"type\": \"scatter\"}], \"scatter3d\": [{\"line\": {\"colorbar\": {\"outlinewidth\": 0, \"ticks\": \"\"}}, \"marker\": {\"colorbar\": {\"outlinewidth\": 0, \"ticks\": \"\"}}, \"type\": \"scatter3d\"}], \"scattercarpet\": [{\"marker\": {\"colorbar\": {\"outlinewidth\": 0, \"ticks\": \"\"}}, \"type\": \"scattercarpet\"}], \"scattergeo\": [{\"marker\": {\"colorbar\": {\"outlinewidth\": 0, \"ticks\": \"\"}}, \"type\": \"scattergeo\"}], \"scattergl\": [{\"marker\": {\"colorbar\": {\"outlinewidth\": 0, \"ticks\": \"\"}}, \"type\": \"scattergl\"}], \"scattermapbox\": [{\"marker\": {\"colorbar\": {\"outlinewidth\": 0, \"ticks\": \"\"}}, \"type\": \"scattermapbox\"}], \"scatterpolar\": [{\"marker\": {\"colorbar\": {\"outlinewidth\": 0, \"ticks\": \"\"}}, \"type\": \"scatterpolar\"}], \"scatterpolargl\": [{\"marker\": {\"colorbar\": {\"outlinewidth\": 0, \"ticks\": \"\"}}, \"type\": \"scatterpolargl\"}], \"scatterternary\": [{\"marker\": {\"colorbar\": {\"outlinewidth\": 0, \"ticks\": \"\"}}, \"type\": \"scatterternary\"}], \"surface\": [{\"colorbar\": {\"outlinewidth\": 0, \"ticks\": \"\"}, \"colorscale\": [[0.0, \"#0d0887\"], [0.1111111111111111, \"#46039f\"], [0.2222222222222222, \"#7201a8\"], [0.3333333333333333, \"#9c179e\"], [0.4444444444444444, \"#bd3786\"], [0.5555555555555556, \"#d8576b\"], [0.6666666666666666, \"#ed7953\"], [0.7777777777777778, \"#fb9f3a\"], [0.8888888888888888, \"#fdca26\"], [1.0, \"#f0f921\"]], \"type\": \"surface\"}], \"table\": [{\"cells\": {\"fill\": {\"color\": \"#EBF0F8\"}, \"line\": {\"color\": \"white\"}}, \"header\": {\"fill\": {\"color\": \"#C8D4E3\"}, \"line\": {\"color\": \"white\"}}, \"type\": \"table\"}]}, \"layout\": {\"annotationdefaults\": {\"arrowcolor\": \"#2a3f5f\", \"arrowhead\": 0, \"arrowwidth\": 1}, \"coloraxis\": {\"colorbar\": {\"outlinewidth\": 0, \"ticks\": \"\"}}, \"colorscale\": {\"diverging\": [[0, \"#8e0152\"], [0.1, \"#c51b7d\"], [0.2, \"#de77ae\"], [0.3, \"#f1b6da\"], [0.4, \"#fde0ef\"], [0.5, \"#f7f7f7\"], [0.6, \"#e6f5d0\"], [0.7, \"#b8e186\"], [0.8, \"#7fbc41\"], [0.9, \"#4d9221\"], [1, \"#276419\"]], \"sequential\": [[0.0, \"#0d0887\"], [0.1111111111111111, \"#46039f\"], [0.2222222222222222, \"#7201a8\"], [0.3333333333333333, \"#9c179e\"], [0.4444444444444444, \"#bd3786\"], [0.5555555555555556, \"#d8576b\"], [0.6666666666666666, \"#ed7953\"], [0.7777777777777778, \"#fb9f3a\"], [0.8888888888888888, \"#fdca26\"], [1.0, \"#f0f921\"]], \"sequentialminus\": [[0.0, \"#0d0887\"], [0.1111111111111111, \"#46039f\"], [0.2222222222222222, \"#7201a8\"], [0.3333333333333333, \"#9c179e\"], [0.4444444444444444, \"#bd3786\"], [0.5555555555555556, \"#d8576b\"], [0.6666666666666666, \"#ed7953\"], [0.7777777777777778, \"#fb9f3a\"], [0.8888888888888888, \"#fdca26\"], [1.0, \"#f0f921\"]]}, \"colorway\": [\"#636efa\", \"#EF553B\", \"#00cc96\", \"#ab63fa\", \"#FFA15A\", \"#19d3f3\", \"#FF6692\", \"#B6E880\", \"#FF97FF\", \"#FECB52\"], \"font\": {\"color\": \"#2a3f5f\"}, \"geo\": {\"bgcolor\": \"white\", \"lakecolor\": \"white\", \"landcolor\": \"#E5ECF6\", \"showlakes\": true, \"showland\": true, \"subunitcolor\": \"white\"}, \"hoverlabel\": {\"align\": \"left\"}, \"hovermode\": \"closest\", \"mapbox\": {\"style\": \"light\"}, \"paper_bgcolor\": \"white\", \"plot_bgcolor\": \"#E5ECF6\", \"polar\": {\"angularaxis\": {\"gridcolor\": \"white\", \"linecolor\": \"white\", \"ticks\": \"\"}, \"bgcolor\": \"#E5ECF6\", \"radialaxis\": {\"gridcolor\": \"white\", \"linecolor\": \"white\", \"ticks\": \"\"}}, \"scene\": {\"xaxis\": {\"backgroundcolor\": \"#E5ECF6\", \"gridcolor\": \"white\", \"gridwidth\": 2, \"linecolor\": \"white\", \"showbackground\": true, \"ticks\": \"\", \"zerolinecolor\": \"white\"}, \"yaxis\": {\"backgroundcolor\": \"#E5ECF6\", \"gridcolor\": \"white\", \"gridwidth\": 2, \"linecolor\": \"white\", \"showbackground\": true, \"ticks\": \"\", \"zerolinecolor\": \"white\"}, \"zaxis\": {\"backgroundcolor\": \"#E5ECF6\", \"gridcolor\": \"white\", \"gridwidth\": 2, \"linecolor\": \"white\", \"showbackground\": true, \"ticks\": \"\", \"zerolinecolor\": \"white\"}}, \"shapedefaults\": {\"line\": {\"color\": \"#2a3f5f\"}}, \"ternary\": {\"aaxis\": {\"gridcolor\": \"white\", \"linecolor\": \"white\", \"ticks\": \"\"}, \"baxis\": {\"gridcolor\": \"white\", \"linecolor\": \"white\", \"ticks\": \"\"}, \"bgcolor\": \"#E5ECF6\", \"caxis\": {\"gridcolor\": \"white\", \"linecolor\": \"white\", \"ticks\": \"\"}}, \"title\": {\"x\": 0.05}, \"xaxis\": {\"automargin\": true, \"gridcolor\": \"white\", \"linecolor\": \"white\", \"ticks\": \"\", \"title\": {\"standoff\": 15}, \"zerolinecolor\": \"white\", \"zerolinewidth\": 2}, \"yaxis\": {\"automargin\": true, \"gridcolor\": \"white\", \"linecolor\": \"white\", \"ticks\": \"\", \"title\": {\"standoff\": 15}, \"zerolinecolor\": \"white\", \"zerolinewidth\": 2}}}, \"title\": {\"font\": {\"color\": \"#4D5663\"}, \"text\": \"AFRICA'S TWITTER OFFICIALS INFLUENCERS:REACH_SCORE\"}, \"xaxis\": {\"gridcolor\": \"#E1E5ED\", \"showgrid\": true, \"tickfont\": {\"color\": \"#4D5663\"}, \"title\": {\"font\": {\"color\": \"#4D5663\"}, \"text\": \"Africa Twitter influencers\"}, \"zerolinecolor\": \"#E1E5ED\"}, \"yaxis\": {\"gridcolor\": \"#E1E5ED\", \"showgrid\": true, \"tickfont\": {\"color\": \"#4D5663\"}, \"title\": {\"font\": {\"color\": \"#4D5663\"}, \"text\": \"Reach_score\"}, \"zerolinecolor\": \"#E1E5ED\"}},\n",
       "                        {\"showLink\": true, \"linkText\": \"Export to plot.ly\", \"plotlyServerURL\": \"https://plot.ly\", \"responsive\": true}\n",
       "                    ).then(function(){\n",
       "                            \n",
       "var gd = document.getElementById('25214e1d-a913-4419-b6b1-151915af9602');\n",
       "var x = new MutationObserver(function (mutations, observer) {{\n",
       "        var display = window.getComputedStyle(gd).display;\n",
       "        if (!display || display === 'none') {{\n",
       "            console.log([gd, 'removed!']);\n",
       "            Plotly.purge(gd);\n",
       "            observer.disconnect();\n",
       "        }}\n",
       "}});\n",
       "\n",
       "// Listen for the removal of the full notebook cells\n",
       "var notebookContainer = gd.closest('#notebook-container');\n",
       "if (notebookContainer) {{\n",
       "    x.observe(notebookContainer, {childList: true});\n",
       "}}\n",
       "\n",
       "// Listen for the clearing of the current output cell\n",
       "var outputEl = gd.closest('.output');\n",
       "if (outputEl) {{\n",
       "    x.observe(outputEl, {childList: true});\n",
       "}}\n",
       "\n",
       "                        })\n",
       "                };\n",
       "                });\n",
       "            </script>\n",
       "        </div>"
      ]
     },
     "metadata": {},
     "output_type": "display_data"
    }
   ],
   "source": [
    "df6.iplot(kind=\"bar\",x=\"Name\",y=\"reach_score\",xTitle='Africa Twitter influencers',\n",
    "           yTitle='Reach_score',title=\"AFRICA'S TWITTER OFFICIALS INFLUENCERS:REACH_SCORE\")"
   ]
  },
  {
   "cell_type": "code",
   "execution_count": 77,
   "metadata": {},
   "outputs": [],
   "source": [
    "df7=df6.head(10)"
   ]
  },
  {
   "cell_type": "code",
   "execution_count": 79,
   "metadata": {},
   "outputs": [
    {
     "data": {
      "application/vnd.plotly.v1+json": {
       "config": {
        "linkText": "Export to plot.ly",
        "plotlyServerURL": "https://plot.ly",
        "showLink": true
       },
       "data": [
        {
         "marker": {
          "color": "rgba(255, 153, 51, 0.6)",
          "line": {
           "color": "rgba(255, 153, 51, 1.0)",
           "width": 1
          }
         },
         "name": "popularity_score",
         "orientation": "v",
         "text": "",
         "type": "bar",
         "x": [
          "Trevor noah",
          "News24",
          "Julius Sello Malema",
          "gareth cliff",
          "Euphonik™♛",
          "Helen Zille",
          "MTV Base Africa",
          "5FM",
          "Cricket South Africa",
          "loyiso gola"
         ],
         "y": [
          26986360,
          293967,
          6529773,
          1199622,
          273000,
          633384,
          470870,
          77619,
          1125381,
          1073317
         ]
        }
       ],
       "layout": {
        "legend": {
         "bgcolor": "#F5F6F9",
         "font": {
          "color": "#4D5663"
         }
        },
        "paper_bgcolor": "#F5F6F9",
        "plot_bgcolor": "#F5F6F9",
        "template": {
         "data": {
          "bar": [
           {
            "error_x": {
             "color": "#2a3f5f"
            },
            "error_y": {
             "color": "#2a3f5f"
            },
            "marker": {
             "line": {
              "color": "#E5ECF6",
              "width": 0.5
             }
            },
            "type": "bar"
           }
          ],
          "barpolar": [
           {
            "marker": {
             "line": {
              "color": "#E5ECF6",
              "width": 0.5
             }
            },
            "type": "barpolar"
           }
          ],
          "carpet": [
           {
            "aaxis": {
             "endlinecolor": "#2a3f5f",
             "gridcolor": "white",
             "linecolor": "white",
             "minorgridcolor": "white",
             "startlinecolor": "#2a3f5f"
            },
            "baxis": {
             "endlinecolor": "#2a3f5f",
             "gridcolor": "white",
             "linecolor": "white",
             "minorgridcolor": "white",
             "startlinecolor": "#2a3f5f"
            },
            "type": "carpet"
           }
          ],
          "choropleth": [
           {
            "colorbar": {
             "outlinewidth": 0,
             "ticks": ""
            },
            "type": "choropleth"
           }
          ],
          "contour": [
           {
            "colorbar": {
             "outlinewidth": 0,
             "ticks": ""
            },
            "colorscale": [
             [
              0,
              "#0d0887"
             ],
             [
              0.1111111111111111,
              "#46039f"
             ],
             [
              0.2222222222222222,
              "#7201a8"
             ],
             [
              0.3333333333333333,
              "#9c179e"
             ],
             [
              0.4444444444444444,
              "#bd3786"
             ],
             [
              0.5555555555555556,
              "#d8576b"
             ],
             [
              0.6666666666666666,
              "#ed7953"
             ],
             [
              0.7777777777777778,
              "#fb9f3a"
             ],
             [
              0.8888888888888888,
              "#fdca26"
             ],
             [
              1,
              "#f0f921"
             ]
            ],
            "type": "contour"
           }
          ],
          "contourcarpet": [
           {
            "colorbar": {
             "outlinewidth": 0,
             "ticks": ""
            },
            "type": "contourcarpet"
           }
          ],
          "heatmap": [
           {
            "colorbar": {
             "outlinewidth": 0,
             "ticks": ""
            },
            "colorscale": [
             [
              0,
              "#0d0887"
             ],
             [
              0.1111111111111111,
              "#46039f"
             ],
             [
              0.2222222222222222,
              "#7201a8"
             ],
             [
              0.3333333333333333,
              "#9c179e"
             ],
             [
              0.4444444444444444,
              "#bd3786"
             ],
             [
              0.5555555555555556,
              "#d8576b"
             ],
             [
              0.6666666666666666,
              "#ed7953"
             ],
             [
              0.7777777777777778,
              "#fb9f3a"
             ],
             [
              0.8888888888888888,
              "#fdca26"
             ],
             [
              1,
              "#f0f921"
             ]
            ],
            "type": "heatmap"
           }
          ],
          "heatmapgl": [
           {
            "colorbar": {
             "outlinewidth": 0,
             "ticks": ""
            },
            "colorscale": [
             [
              0,
              "#0d0887"
             ],
             [
              0.1111111111111111,
              "#46039f"
             ],
             [
              0.2222222222222222,
              "#7201a8"
             ],
             [
              0.3333333333333333,
              "#9c179e"
             ],
             [
              0.4444444444444444,
              "#bd3786"
             ],
             [
              0.5555555555555556,
              "#d8576b"
             ],
             [
              0.6666666666666666,
              "#ed7953"
             ],
             [
              0.7777777777777778,
              "#fb9f3a"
             ],
             [
              0.8888888888888888,
              "#fdca26"
             ],
             [
              1,
              "#f0f921"
             ]
            ],
            "type": "heatmapgl"
           }
          ],
          "histogram": [
           {
            "marker": {
             "colorbar": {
              "outlinewidth": 0,
              "ticks": ""
             }
            },
            "type": "histogram"
           }
          ],
          "histogram2d": [
           {
            "colorbar": {
             "outlinewidth": 0,
             "ticks": ""
            },
            "colorscale": [
             [
              0,
              "#0d0887"
             ],
             [
              0.1111111111111111,
              "#46039f"
             ],
             [
              0.2222222222222222,
              "#7201a8"
             ],
             [
              0.3333333333333333,
              "#9c179e"
             ],
             [
              0.4444444444444444,
              "#bd3786"
             ],
             [
              0.5555555555555556,
              "#d8576b"
             ],
             [
              0.6666666666666666,
              "#ed7953"
             ],
             [
              0.7777777777777778,
              "#fb9f3a"
             ],
             [
              0.8888888888888888,
              "#fdca26"
             ],
             [
              1,
              "#f0f921"
             ]
            ],
            "type": "histogram2d"
           }
          ],
          "histogram2dcontour": [
           {
            "colorbar": {
             "outlinewidth": 0,
             "ticks": ""
            },
            "colorscale": [
             [
              0,
              "#0d0887"
             ],
             [
              0.1111111111111111,
              "#46039f"
             ],
             [
              0.2222222222222222,
              "#7201a8"
             ],
             [
              0.3333333333333333,
              "#9c179e"
             ],
             [
              0.4444444444444444,
              "#bd3786"
             ],
             [
              0.5555555555555556,
              "#d8576b"
             ],
             [
              0.6666666666666666,
              "#ed7953"
             ],
             [
              0.7777777777777778,
              "#fb9f3a"
             ],
             [
              0.8888888888888888,
              "#fdca26"
             ],
             [
              1,
              "#f0f921"
             ]
            ],
            "type": "histogram2dcontour"
           }
          ],
          "mesh3d": [
           {
            "colorbar": {
             "outlinewidth": 0,
             "ticks": ""
            },
            "type": "mesh3d"
           }
          ],
          "parcoords": [
           {
            "line": {
             "colorbar": {
              "outlinewidth": 0,
              "ticks": ""
             }
            },
            "type": "parcoords"
           }
          ],
          "pie": [
           {
            "automargin": true,
            "type": "pie"
           }
          ],
          "scatter": [
           {
            "marker": {
             "colorbar": {
              "outlinewidth": 0,
              "ticks": ""
             }
            },
            "type": "scatter"
           }
          ],
          "scatter3d": [
           {
            "line": {
             "colorbar": {
              "outlinewidth": 0,
              "ticks": ""
             }
            },
            "marker": {
             "colorbar": {
              "outlinewidth": 0,
              "ticks": ""
             }
            },
            "type": "scatter3d"
           }
          ],
          "scattercarpet": [
           {
            "marker": {
             "colorbar": {
              "outlinewidth": 0,
              "ticks": ""
             }
            },
            "type": "scattercarpet"
           }
          ],
          "scattergeo": [
           {
            "marker": {
             "colorbar": {
              "outlinewidth": 0,
              "ticks": ""
             }
            },
            "type": "scattergeo"
           }
          ],
          "scattergl": [
           {
            "marker": {
             "colorbar": {
              "outlinewidth": 0,
              "ticks": ""
             }
            },
            "type": "scattergl"
           }
          ],
          "scattermapbox": [
           {
            "marker": {
             "colorbar": {
              "outlinewidth": 0,
              "ticks": ""
             }
            },
            "type": "scattermapbox"
           }
          ],
          "scatterpolar": [
           {
            "marker": {
             "colorbar": {
              "outlinewidth": 0,
              "ticks": ""
             }
            },
            "type": "scatterpolar"
           }
          ],
          "scatterpolargl": [
           {
            "marker": {
             "colorbar": {
              "outlinewidth": 0,
              "ticks": ""
             }
            },
            "type": "scatterpolargl"
           }
          ],
          "scatterternary": [
           {
            "marker": {
             "colorbar": {
              "outlinewidth": 0,
              "ticks": ""
             }
            },
            "type": "scatterternary"
           }
          ],
          "surface": [
           {
            "colorbar": {
             "outlinewidth": 0,
             "ticks": ""
            },
            "colorscale": [
             [
              0,
              "#0d0887"
             ],
             [
              0.1111111111111111,
              "#46039f"
             ],
             [
              0.2222222222222222,
              "#7201a8"
             ],
             [
              0.3333333333333333,
              "#9c179e"
             ],
             [
              0.4444444444444444,
              "#bd3786"
             ],
             [
              0.5555555555555556,
              "#d8576b"
             ],
             [
              0.6666666666666666,
              "#ed7953"
             ],
             [
              0.7777777777777778,
              "#fb9f3a"
             ],
             [
              0.8888888888888888,
              "#fdca26"
             ],
             [
              1,
              "#f0f921"
             ]
            ],
            "type": "surface"
           }
          ],
          "table": [
           {
            "cells": {
             "fill": {
              "color": "#EBF0F8"
             },
             "line": {
              "color": "white"
             }
            },
            "header": {
             "fill": {
              "color": "#C8D4E3"
             },
             "line": {
              "color": "white"
             }
            },
            "type": "table"
           }
          ]
         },
         "layout": {
          "annotationdefaults": {
           "arrowcolor": "#2a3f5f",
           "arrowhead": 0,
           "arrowwidth": 1
          },
          "coloraxis": {
           "colorbar": {
            "outlinewidth": 0,
            "ticks": ""
           }
          },
          "colorscale": {
           "diverging": [
            [
             0,
             "#8e0152"
            ],
            [
             0.1,
             "#c51b7d"
            ],
            [
             0.2,
             "#de77ae"
            ],
            [
             0.3,
             "#f1b6da"
            ],
            [
             0.4,
             "#fde0ef"
            ],
            [
             0.5,
             "#f7f7f7"
            ],
            [
             0.6,
             "#e6f5d0"
            ],
            [
             0.7,
             "#b8e186"
            ],
            [
             0.8,
             "#7fbc41"
            ],
            [
             0.9,
             "#4d9221"
            ],
            [
             1,
             "#276419"
            ]
           ],
           "sequential": [
            [
             0,
             "#0d0887"
            ],
            [
             0.1111111111111111,
             "#46039f"
            ],
            [
             0.2222222222222222,
             "#7201a8"
            ],
            [
             0.3333333333333333,
             "#9c179e"
            ],
            [
             0.4444444444444444,
             "#bd3786"
            ],
            [
             0.5555555555555556,
             "#d8576b"
            ],
            [
             0.6666666666666666,
             "#ed7953"
            ],
            [
             0.7777777777777778,
             "#fb9f3a"
            ],
            [
             0.8888888888888888,
             "#fdca26"
            ],
            [
             1,
             "#f0f921"
            ]
           ],
           "sequentialminus": [
            [
             0,
             "#0d0887"
            ],
            [
             0.1111111111111111,
             "#46039f"
            ],
            [
             0.2222222222222222,
             "#7201a8"
            ],
            [
             0.3333333333333333,
             "#9c179e"
            ],
            [
             0.4444444444444444,
             "#bd3786"
            ],
            [
             0.5555555555555556,
             "#d8576b"
            ],
            [
             0.6666666666666666,
             "#ed7953"
            ],
            [
             0.7777777777777778,
             "#fb9f3a"
            ],
            [
             0.8888888888888888,
             "#fdca26"
            ],
            [
             1,
             "#f0f921"
            ]
           ]
          },
          "colorway": [
           "#636efa",
           "#EF553B",
           "#00cc96",
           "#ab63fa",
           "#FFA15A",
           "#19d3f3",
           "#FF6692",
           "#B6E880",
           "#FF97FF",
           "#FECB52"
          ],
          "font": {
           "color": "#2a3f5f"
          },
          "geo": {
           "bgcolor": "white",
           "lakecolor": "white",
           "landcolor": "#E5ECF6",
           "showlakes": true,
           "showland": true,
           "subunitcolor": "white"
          },
          "hoverlabel": {
           "align": "left"
          },
          "hovermode": "closest",
          "mapbox": {
           "style": "light"
          },
          "paper_bgcolor": "white",
          "plot_bgcolor": "#E5ECF6",
          "polar": {
           "angularaxis": {
            "gridcolor": "white",
            "linecolor": "white",
            "ticks": ""
           },
           "bgcolor": "#E5ECF6",
           "radialaxis": {
            "gridcolor": "white",
            "linecolor": "white",
            "ticks": ""
           }
          },
          "scene": {
           "xaxis": {
            "backgroundcolor": "#E5ECF6",
            "gridcolor": "white",
            "gridwidth": 2,
            "linecolor": "white",
            "showbackground": true,
            "ticks": "",
            "zerolinecolor": "white"
           },
           "yaxis": {
            "backgroundcolor": "#E5ECF6",
            "gridcolor": "white",
            "gridwidth": 2,
            "linecolor": "white",
            "showbackground": true,
            "ticks": "",
            "zerolinecolor": "white"
           },
           "zaxis": {
            "backgroundcolor": "#E5ECF6",
            "gridcolor": "white",
            "gridwidth": 2,
            "linecolor": "white",
            "showbackground": true,
            "ticks": "",
            "zerolinecolor": "white"
           }
          },
          "shapedefaults": {
           "line": {
            "color": "#2a3f5f"
           }
          },
          "ternary": {
           "aaxis": {
            "gridcolor": "white",
            "linecolor": "white",
            "ticks": ""
           },
           "baxis": {
            "gridcolor": "white",
            "linecolor": "white",
            "ticks": ""
           },
           "bgcolor": "#E5ECF6",
           "caxis": {
            "gridcolor": "white",
            "linecolor": "white",
            "ticks": ""
           }
          },
          "title": {
           "x": 0.05
          },
          "xaxis": {
           "automargin": true,
           "gridcolor": "white",
           "linecolor": "white",
           "ticks": "",
           "title": {
            "standoff": 15
           },
           "zerolinecolor": "white",
           "zerolinewidth": 2
          },
          "yaxis": {
           "automargin": true,
           "gridcolor": "white",
           "linecolor": "white",
           "ticks": "",
           "title": {
            "standoff": 15
           },
           "zerolinecolor": "white",
           "zerolinewidth": 2
          }
         }
        },
        "title": {
         "font": {
          "color": "#4D5663"
         },
         "text": "AFRICA'S TOP10 TWITTER OFFICIALS INFLUENCERS:POPULARITY_SCORE"
        },
        "xaxis": {
         "gridcolor": "#E1E5ED",
         "showgrid": true,
         "tickfont": {
          "color": "#4D5663"
         },
         "title": {
          "font": {
           "color": "#4D5663"
          },
          "text": "Africa Twitter influencers"
         },
         "zerolinecolor": "#E1E5ED"
        },
        "yaxis": {
         "gridcolor": "#E1E5ED",
         "showgrid": true,
         "tickfont": {
          "color": "#4D5663"
         },
         "title": {
          "font": {
           "color": "#4D5663"
          },
          "text": "popularity_score"
         },
         "zerolinecolor": "#E1E5ED"
        }
       }
      },
      "text/html": [
       "<div>\n",
       "        \n",
       "        \n",
       "            <div id=\"abe05bb4-0367-471c-a51f-e072390b692f\" class=\"plotly-graph-div\" style=\"height:525px; width:100%;\"></div>\n",
       "            <script type=\"text/javascript\">\n",
       "                require([\"plotly\"], function(Plotly) {\n",
       "                    window.PLOTLYENV=window.PLOTLYENV || {};\n",
       "                    window.PLOTLYENV.BASE_URL='https://plot.ly';\n",
       "                    \n",
       "                if (document.getElementById(\"abe05bb4-0367-471c-a51f-e072390b692f\")) {\n",
       "                    Plotly.newPlot(\n",
       "                        'abe05bb4-0367-471c-a51f-e072390b692f',\n",
       "                        [{\"marker\": {\"color\": \"rgba(255, 153, 51, 0.6)\", \"line\": {\"color\": \"rgba(255, 153, 51, 1.0)\", \"width\": 1}}, \"name\": \"popularity_score\", \"orientation\": \"v\", \"text\": \"\", \"type\": \"bar\", \"x\": [\"Trevor noah\", \"News24\", \"Julius Sello Malema\", \"gareth cliff\", \"Euphonik\\u2122\\u265b\", \"Helen Zille\", \"MTV Base Africa\", \"5FM\", \"Cricket South Africa\", \"loyiso gola\"], \"y\": [26986360.0, 293967.0, 6529773.0, 1199622.0, 273000.0, 633384.0, 470870.0, 77619.0, 1125381.0, 1073317.0]}],\n",
       "                        {\"legend\": {\"bgcolor\": \"#F5F6F9\", \"font\": {\"color\": \"#4D5663\"}}, \"paper_bgcolor\": \"#F5F6F9\", \"plot_bgcolor\": \"#F5F6F9\", \"template\": {\"data\": {\"bar\": [{\"error_x\": {\"color\": \"#2a3f5f\"}, \"error_y\": {\"color\": \"#2a3f5f\"}, \"marker\": {\"line\": {\"color\": \"#E5ECF6\", \"width\": 0.5}}, \"type\": \"bar\"}], \"barpolar\": [{\"marker\": {\"line\": {\"color\": \"#E5ECF6\", \"width\": 0.5}}, \"type\": \"barpolar\"}], \"carpet\": [{\"aaxis\": {\"endlinecolor\": \"#2a3f5f\", \"gridcolor\": \"white\", \"linecolor\": \"white\", \"minorgridcolor\": \"white\", \"startlinecolor\": \"#2a3f5f\"}, \"baxis\": {\"endlinecolor\": \"#2a3f5f\", \"gridcolor\": \"white\", \"linecolor\": \"white\", \"minorgridcolor\": \"white\", \"startlinecolor\": \"#2a3f5f\"}, \"type\": \"carpet\"}], \"choropleth\": [{\"colorbar\": {\"outlinewidth\": 0, \"ticks\": \"\"}, \"type\": \"choropleth\"}], \"contour\": [{\"colorbar\": {\"outlinewidth\": 0, \"ticks\": \"\"}, \"colorscale\": [[0.0, \"#0d0887\"], [0.1111111111111111, \"#46039f\"], [0.2222222222222222, \"#7201a8\"], [0.3333333333333333, \"#9c179e\"], [0.4444444444444444, \"#bd3786\"], [0.5555555555555556, \"#d8576b\"], [0.6666666666666666, \"#ed7953\"], [0.7777777777777778, \"#fb9f3a\"], [0.8888888888888888, \"#fdca26\"], [1.0, \"#f0f921\"]], \"type\": \"contour\"}], \"contourcarpet\": [{\"colorbar\": {\"outlinewidth\": 0, \"ticks\": \"\"}, \"type\": \"contourcarpet\"}], \"heatmap\": [{\"colorbar\": {\"outlinewidth\": 0, \"ticks\": \"\"}, \"colorscale\": [[0.0, \"#0d0887\"], [0.1111111111111111, \"#46039f\"], [0.2222222222222222, \"#7201a8\"], [0.3333333333333333, \"#9c179e\"], [0.4444444444444444, \"#bd3786\"], [0.5555555555555556, \"#d8576b\"], [0.6666666666666666, \"#ed7953\"], [0.7777777777777778, \"#fb9f3a\"], [0.8888888888888888, \"#fdca26\"], [1.0, \"#f0f921\"]], \"type\": \"heatmap\"}], \"heatmapgl\": [{\"colorbar\": {\"outlinewidth\": 0, \"ticks\": \"\"}, \"colorscale\": [[0.0, \"#0d0887\"], [0.1111111111111111, \"#46039f\"], [0.2222222222222222, \"#7201a8\"], [0.3333333333333333, \"#9c179e\"], [0.4444444444444444, \"#bd3786\"], [0.5555555555555556, \"#d8576b\"], [0.6666666666666666, \"#ed7953\"], [0.7777777777777778, \"#fb9f3a\"], [0.8888888888888888, \"#fdca26\"], [1.0, \"#f0f921\"]], \"type\": \"heatmapgl\"}], \"histogram\": [{\"marker\": {\"colorbar\": {\"outlinewidth\": 0, \"ticks\": \"\"}}, \"type\": \"histogram\"}], \"histogram2d\": [{\"colorbar\": {\"outlinewidth\": 0, \"ticks\": \"\"}, \"colorscale\": [[0.0, \"#0d0887\"], [0.1111111111111111, \"#46039f\"], [0.2222222222222222, \"#7201a8\"], [0.3333333333333333, \"#9c179e\"], [0.4444444444444444, \"#bd3786\"], [0.5555555555555556, \"#d8576b\"], [0.6666666666666666, \"#ed7953\"], [0.7777777777777778, \"#fb9f3a\"], [0.8888888888888888, \"#fdca26\"], [1.0, \"#f0f921\"]], \"type\": \"histogram2d\"}], \"histogram2dcontour\": [{\"colorbar\": {\"outlinewidth\": 0, \"ticks\": \"\"}, \"colorscale\": [[0.0, \"#0d0887\"], [0.1111111111111111, \"#46039f\"], [0.2222222222222222, \"#7201a8\"], [0.3333333333333333, \"#9c179e\"], [0.4444444444444444, \"#bd3786\"], [0.5555555555555556, \"#d8576b\"], [0.6666666666666666, \"#ed7953\"], [0.7777777777777778, \"#fb9f3a\"], [0.8888888888888888, \"#fdca26\"], [1.0, \"#f0f921\"]], \"type\": \"histogram2dcontour\"}], \"mesh3d\": [{\"colorbar\": {\"outlinewidth\": 0, \"ticks\": \"\"}, \"type\": \"mesh3d\"}], \"parcoords\": [{\"line\": {\"colorbar\": {\"outlinewidth\": 0, \"ticks\": \"\"}}, \"type\": \"parcoords\"}], \"pie\": [{\"automargin\": true, \"type\": \"pie\"}], \"scatter\": [{\"marker\": {\"colorbar\": {\"outlinewidth\": 0, \"ticks\": \"\"}}, \"type\": \"scatter\"}], \"scatter3d\": [{\"line\": {\"colorbar\": {\"outlinewidth\": 0, \"ticks\": \"\"}}, \"marker\": {\"colorbar\": {\"outlinewidth\": 0, \"ticks\": \"\"}}, \"type\": \"scatter3d\"}], \"scattercarpet\": [{\"marker\": {\"colorbar\": {\"outlinewidth\": 0, \"ticks\": \"\"}}, \"type\": \"scattercarpet\"}], \"scattergeo\": [{\"marker\": {\"colorbar\": {\"outlinewidth\": 0, \"ticks\": \"\"}}, \"type\": \"scattergeo\"}], \"scattergl\": [{\"marker\": {\"colorbar\": {\"outlinewidth\": 0, \"ticks\": \"\"}}, \"type\": \"scattergl\"}], \"scattermapbox\": [{\"marker\": {\"colorbar\": {\"outlinewidth\": 0, \"ticks\": \"\"}}, \"type\": \"scattermapbox\"}], \"scatterpolar\": [{\"marker\": {\"colorbar\": {\"outlinewidth\": 0, \"ticks\": \"\"}}, \"type\": \"scatterpolar\"}], \"scatterpolargl\": [{\"marker\": {\"colorbar\": {\"outlinewidth\": 0, \"ticks\": \"\"}}, \"type\": \"scatterpolargl\"}], \"scatterternary\": [{\"marker\": {\"colorbar\": {\"outlinewidth\": 0, \"ticks\": \"\"}}, \"type\": \"scatterternary\"}], \"surface\": [{\"colorbar\": {\"outlinewidth\": 0, \"ticks\": \"\"}, \"colorscale\": [[0.0, \"#0d0887\"], [0.1111111111111111, \"#46039f\"], [0.2222222222222222, \"#7201a8\"], [0.3333333333333333, \"#9c179e\"], [0.4444444444444444, \"#bd3786\"], [0.5555555555555556, \"#d8576b\"], [0.6666666666666666, \"#ed7953\"], [0.7777777777777778, \"#fb9f3a\"], [0.8888888888888888, \"#fdca26\"], [1.0, \"#f0f921\"]], \"type\": \"surface\"}], \"table\": [{\"cells\": {\"fill\": {\"color\": \"#EBF0F8\"}, \"line\": {\"color\": \"white\"}}, \"header\": {\"fill\": {\"color\": \"#C8D4E3\"}, \"line\": {\"color\": \"white\"}}, \"type\": \"table\"}]}, \"layout\": {\"annotationdefaults\": {\"arrowcolor\": \"#2a3f5f\", \"arrowhead\": 0, \"arrowwidth\": 1}, \"coloraxis\": {\"colorbar\": {\"outlinewidth\": 0, \"ticks\": \"\"}}, \"colorscale\": {\"diverging\": [[0, \"#8e0152\"], [0.1, \"#c51b7d\"], [0.2, \"#de77ae\"], [0.3, \"#f1b6da\"], [0.4, \"#fde0ef\"], [0.5, \"#f7f7f7\"], [0.6, \"#e6f5d0\"], [0.7, \"#b8e186\"], [0.8, \"#7fbc41\"], [0.9, \"#4d9221\"], [1, \"#276419\"]], \"sequential\": [[0.0, \"#0d0887\"], [0.1111111111111111, \"#46039f\"], [0.2222222222222222, \"#7201a8\"], [0.3333333333333333, \"#9c179e\"], [0.4444444444444444, \"#bd3786\"], [0.5555555555555556, \"#d8576b\"], [0.6666666666666666, \"#ed7953\"], [0.7777777777777778, \"#fb9f3a\"], [0.8888888888888888, \"#fdca26\"], [1.0, \"#f0f921\"]], \"sequentialminus\": [[0.0, \"#0d0887\"], [0.1111111111111111, \"#46039f\"], [0.2222222222222222, \"#7201a8\"], [0.3333333333333333, \"#9c179e\"], [0.4444444444444444, \"#bd3786\"], [0.5555555555555556, \"#d8576b\"], [0.6666666666666666, \"#ed7953\"], [0.7777777777777778, \"#fb9f3a\"], [0.8888888888888888, \"#fdca26\"], [1.0, \"#f0f921\"]]}, \"colorway\": [\"#636efa\", \"#EF553B\", \"#00cc96\", \"#ab63fa\", \"#FFA15A\", \"#19d3f3\", \"#FF6692\", \"#B6E880\", \"#FF97FF\", \"#FECB52\"], \"font\": {\"color\": \"#2a3f5f\"}, \"geo\": {\"bgcolor\": \"white\", \"lakecolor\": \"white\", \"landcolor\": \"#E5ECF6\", \"showlakes\": true, \"showland\": true, \"subunitcolor\": \"white\"}, \"hoverlabel\": {\"align\": \"left\"}, \"hovermode\": \"closest\", \"mapbox\": {\"style\": \"light\"}, \"paper_bgcolor\": \"white\", \"plot_bgcolor\": \"#E5ECF6\", \"polar\": {\"angularaxis\": {\"gridcolor\": \"white\", \"linecolor\": \"white\", \"ticks\": \"\"}, \"bgcolor\": \"#E5ECF6\", \"radialaxis\": {\"gridcolor\": \"white\", \"linecolor\": \"white\", \"ticks\": \"\"}}, \"scene\": {\"xaxis\": {\"backgroundcolor\": \"#E5ECF6\", \"gridcolor\": \"white\", \"gridwidth\": 2, \"linecolor\": \"white\", \"showbackground\": true, \"ticks\": \"\", \"zerolinecolor\": \"white\"}, \"yaxis\": {\"backgroundcolor\": \"#E5ECF6\", \"gridcolor\": \"white\", \"gridwidth\": 2, \"linecolor\": \"white\", \"showbackground\": true, \"ticks\": \"\", \"zerolinecolor\": \"white\"}, \"zaxis\": {\"backgroundcolor\": \"#E5ECF6\", \"gridcolor\": \"white\", \"gridwidth\": 2, \"linecolor\": \"white\", \"showbackground\": true, \"ticks\": \"\", \"zerolinecolor\": \"white\"}}, \"shapedefaults\": {\"line\": {\"color\": \"#2a3f5f\"}}, \"ternary\": {\"aaxis\": {\"gridcolor\": \"white\", \"linecolor\": \"white\", \"ticks\": \"\"}, \"baxis\": {\"gridcolor\": \"white\", \"linecolor\": \"white\", \"ticks\": \"\"}, \"bgcolor\": \"#E5ECF6\", \"caxis\": {\"gridcolor\": \"white\", \"linecolor\": \"white\", \"ticks\": \"\"}}, \"title\": {\"x\": 0.05}, \"xaxis\": {\"automargin\": true, \"gridcolor\": \"white\", \"linecolor\": \"white\", \"ticks\": \"\", \"title\": {\"standoff\": 15}, \"zerolinecolor\": \"white\", \"zerolinewidth\": 2}, \"yaxis\": {\"automargin\": true, \"gridcolor\": \"white\", \"linecolor\": \"white\", \"ticks\": \"\", \"title\": {\"standoff\": 15}, \"zerolinecolor\": \"white\", \"zerolinewidth\": 2}}}, \"title\": {\"font\": {\"color\": \"#4D5663\"}, \"text\": \"AFRICA'S TOP10 TWITTER OFFICIALS INFLUENCERS:POPULARITY_SCORE\"}, \"xaxis\": {\"gridcolor\": \"#E1E5ED\", \"showgrid\": true, \"tickfont\": {\"color\": \"#4D5663\"}, \"title\": {\"font\": {\"color\": \"#4D5663\"}, \"text\": \"Africa Twitter influencers\"}, \"zerolinecolor\": \"#E1E5ED\"}, \"yaxis\": {\"gridcolor\": \"#E1E5ED\", \"showgrid\": true, \"tickfont\": {\"color\": \"#4D5663\"}, \"title\": {\"font\": {\"color\": \"#4D5663\"}, \"text\": \"popularity_score\"}, \"zerolinecolor\": \"#E1E5ED\"}},\n",
       "                        {\"showLink\": true, \"linkText\": \"Export to plot.ly\", \"plotlyServerURL\": \"https://plot.ly\", \"responsive\": true}\n",
       "                    ).then(function(){\n",
       "                            \n",
       "var gd = document.getElementById('abe05bb4-0367-471c-a51f-e072390b692f');\n",
       "var x = new MutationObserver(function (mutations, observer) {{\n",
       "        var display = window.getComputedStyle(gd).display;\n",
       "        if (!display || display === 'none') {{\n",
       "            console.log([gd, 'removed!']);\n",
       "            Plotly.purge(gd);\n",
       "            observer.disconnect();\n",
       "        }}\n",
       "}});\n",
       "\n",
       "// Listen for the removal of the full notebook cells\n",
       "var notebookContainer = gd.closest('#notebook-container');\n",
       "if (notebookContainer) {{\n",
       "    x.observe(notebookContainer, {childList: true});\n",
       "}}\n",
       "\n",
       "// Listen for the clearing of the current output cell\n",
       "var outputEl = gd.closest('.output');\n",
       "if (outputEl) {{\n",
       "    x.observe(outputEl, {childList: true});\n",
       "}}\n",
       "\n",
       "                        })\n",
       "                };\n",
       "                });\n",
       "            </script>\n",
       "        </div>"
      ]
     },
     "metadata": {},
     "output_type": "display_data"
    }
   ],
   "source": [
    "df7.iplot(kind=\"bar\",x=\"Name\",y=\"popularity_score\",xTitle='Africa Twitter influencers',\n",
    "           yTitle='popularity_score',title=\"AFRICA'S TOP10 TWITTER OFFICIALS INFLUENCERS:POPULARITY_SCORE\")"
   ]
  },
  {
   "cell_type": "code",
   "execution_count": 80,
   "metadata": {},
   "outputs": [
    {
     "data": {
      "application/vnd.plotly.v1+json": {
       "config": {
        "linkText": "Export to plot.ly",
        "plotlyServerURL": "https://plot.ly",
        "showLink": true
       },
       "data": [
        {
         "marker": {
          "color": "rgba(255, 153, 51, 0.6)",
          "line": {
           "color": "rgba(255, 153, 51, 1.0)",
           "width": 1
          }
         },
         "name": "reach_score",
         "orientation": "v",
         "text": "",
         "type": "bar",
         "x": [
          "Trevor noah",
          "News24",
          "Julius Sello Malema",
          "gareth cliff",
          "Euphonik™♛",
          "Helen Zille",
          "MTV Base Africa",
          "5FM",
          "Cricket South Africa",
          "loyiso gola"
         ],
         "y": [
          10797404,
          3571454,
          3121716,
          1973832,
          1752846,
          1440721,
          1415012,
          1163539,
          1157532,
          1081115
         ]
        }
       ],
       "layout": {
        "legend": {
         "bgcolor": "#F5F6F9",
         "font": {
          "color": "#4D5663"
         }
        },
        "paper_bgcolor": "#F5F6F9",
        "plot_bgcolor": "#F5F6F9",
        "template": {
         "data": {
          "bar": [
           {
            "error_x": {
             "color": "#2a3f5f"
            },
            "error_y": {
             "color": "#2a3f5f"
            },
            "marker": {
             "line": {
              "color": "#E5ECF6",
              "width": 0.5
             }
            },
            "type": "bar"
           }
          ],
          "barpolar": [
           {
            "marker": {
             "line": {
              "color": "#E5ECF6",
              "width": 0.5
             }
            },
            "type": "barpolar"
           }
          ],
          "carpet": [
           {
            "aaxis": {
             "endlinecolor": "#2a3f5f",
             "gridcolor": "white",
             "linecolor": "white",
             "minorgridcolor": "white",
             "startlinecolor": "#2a3f5f"
            },
            "baxis": {
             "endlinecolor": "#2a3f5f",
             "gridcolor": "white",
             "linecolor": "white",
             "minorgridcolor": "white",
             "startlinecolor": "#2a3f5f"
            },
            "type": "carpet"
           }
          ],
          "choropleth": [
           {
            "colorbar": {
             "outlinewidth": 0,
             "ticks": ""
            },
            "type": "choropleth"
           }
          ],
          "contour": [
           {
            "colorbar": {
             "outlinewidth": 0,
             "ticks": ""
            },
            "colorscale": [
             [
              0,
              "#0d0887"
             ],
             [
              0.1111111111111111,
              "#46039f"
             ],
             [
              0.2222222222222222,
              "#7201a8"
             ],
             [
              0.3333333333333333,
              "#9c179e"
             ],
             [
              0.4444444444444444,
              "#bd3786"
             ],
             [
              0.5555555555555556,
              "#d8576b"
             ],
             [
              0.6666666666666666,
              "#ed7953"
             ],
             [
              0.7777777777777778,
              "#fb9f3a"
             ],
             [
              0.8888888888888888,
              "#fdca26"
             ],
             [
              1,
              "#f0f921"
             ]
            ],
            "type": "contour"
           }
          ],
          "contourcarpet": [
           {
            "colorbar": {
             "outlinewidth": 0,
             "ticks": ""
            },
            "type": "contourcarpet"
           }
          ],
          "heatmap": [
           {
            "colorbar": {
             "outlinewidth": 0,
             "ticks": ""
            },
            "colorscale": [
             [
              0,
              "#0d0887"
             ],
             [
              0.1111111111111111,
              "#46039f"
             ],
             [
              0.2222222222222222,
              "#7201a8"
             ],
             [
              0.3333333333333333,
              "#9c179e"
             ],
             [
              0.4444444444444444,
              "#bd3786"
             ],
             [
              0.5555555555555556,
              "#d8576b"
             ],
             [
              0.6666666666666666,
              "#ed7953"
             ],
             [
              0.7777777777777778,
              "#fb9f3a"
             ],
             [
              0.8888888888888888,
              "#fdca26"
             ],
             [
              1,
              "#f0f921"
             ]
            ],
            "type": "heatmap"
           }
          ],
          "heatmapgl": [
           {
            "colorbar": {
             "outlinewidth": 0,
             "ticks": ""
            },
            "colorscale": [
             [
              0,
              "#0d0887"
             ],
             [
              0.1111111111111111,
              "#46039f"
             ],
             [
              0.2222222222222222,
              "#7201a8"
             ],
             [
              0.3333333333333333,
              "#9c179e"
             ],
             [
              0.4444444444444444,
              "#bd3786"
             ],
             [
              0.5555555555555556,
              "#d8576b"
             ],
             [
              0.6666666666666666,
              "#ed7953"
             ],
             [
              0.7777777777777778,
              "#fb9f3a"
             ],
             [
              0.8888888888888888,
              "#fdca26"
             ],
             [
              1,
              "#f0f921"
             ]
            ],
            "type": "heatmapgl"
           }
          ],
          "histogram": [
           {
            "marker": {
             "colorbar": {
              "outlinewidth": 0,
              "ticks": ""
             }
            },
            "type": "histogram"
           }
          ],
          "histogram2d": [
           {
            "colorbar": {
             "outlinewidth": 0,
             "ticks": ""
            },
            "colorscale": [
             [
              0,
              "#0d0887"
             ],
             [
              0.1111111111111111,
              "#46039f"
             ],
             [
              0.2222222222222222,
              "#7201a8"
             ],
             [
              0.3333333333333333,
              "#9c179e"
             ],
             [
              0.4444444444444444,
              "#bd3786"
             ],
             [
              0.5555555555555556,
              "#d8576b"
             ],
             [
              0.6666666666666666,
              "#ed7953"
             ],
             [
              0.7777777777777778,
              "#fb9f3a"
             ],
             [
              0.8888888888888888,
              "#fdca26"
             ],
             [
              1,
              "#f0f921"
             ]
            ],
            "type": "histogram2d"
           }
          ],
          "histogram2dcontour": [
           {
            "colorbar": {
             "outlinewidth": 0,
             "ticks": ""
            },
            "colorscale": [
             [
              0,
              "#0d0887"
             ],
             [
              0.1111111111111111,
              "#46039f"
             ],
             [
              0.2222222222222222,
              "#7201a8"
             ],
             [
              0.3333333333333333,
              "#9c179e"
             ],
             [
              0.4444444444444444,
              "#bd3786"
             ],
             [
              0.5555555555555556,
              "#d8576b"
             ],
             [
              0.6666666666666666,
              "#ed7953"
             ],
             [
              0.7777777777777778,
              "#fb9f3a"
             ],
             [
              0.8888888888888888,
              "#fdca26"
             ],
             [
              1,
              "#f0f921"
             ]
            ],
            "type": "histogram2dcontour"
           }
          ],
          "mesh3d": [
           {
            "colorbar": {
             "outlinewidth": 0,
             "ticks": ""
            },
            "type": "mesh3d"
           }
          ],
          "parcoords": [
           {
            "line": {
             "colorbar": {
              "outlinewidth": 0,
              "ticks": ""
             }
            },
            "type": "parcoords"
           }
          ],
          "pie": [
           {
            "automargin": true,
            "type": "pie"
           }
          ],
          "scatter": [
           {
            "marker": {
             "colorbar": {
              "outlinewidth": 0,
              "ticks": ""
             }
            },
            "type": "scatter"
           }
          ],
          "scatter3d": [
           {
            "line": {
             "colorbar": {
              "outlinewidth": 0,
              "ticks": ""
             }
            },
            "marker": {
             "colorbar": {
              "outlinewidth": 0,
              "ticks": ""
             }
            },
            "type": "scatter3d"
           }
          ],
          "scattercarpet": [
           {
            "marker": {
             "colorbar": {
              "outlinewidth": 0,
              "ticks": ""
             }
            },
            "type": "scattercarpet"
           }
          ],
          "scattergeo": [
           {
            "marker": {
             "colorbar": {
              "outlinewidth": 0,
              "ticks": ""
             }
            },
            "type": "scattergeo"
           }
          ],
          "scattergl": [
           {
            "marker": {
             "colorbar": {
              "outlinewidth": 0,
              "ticks": ""
             }
            },
            "type": "scattergl"
           }
          ],
          "scattermapbox": [
           {
            "marker": {
             "colorbar": {
              "outlinewidth": 0,
              "ticks": ""
             }
            },
            "type": "scattermapbox"
           }
          ],
          "scatterpolar": [
           {
            "marker": {
             "colorbar": {
              "outlinewidth": 0,
              "ticks": ""
             }
            },
            "type": "scatterpolar"
           }
          ],
          "scatterpolargl": [
           {
            "marker": {
             "colorbar": {
              "outlinewidth": 0,
              "ticks": ""
             }
            },
            "type": "scatterpolargl"
           }
          ],
          "scatterternary": [
           {
            "marker": {
             "colorbar": {
              "outlinewidth": 0,
              "ticks": ""
             }
            },
            "type": "scatterternary"
           }
          ],
          "surface": [
           {
            "colorbar": {
             "outlinewidth": 0,
             "ticks": ""
            },
            "colorscale": [
             [
              0,
              "#0d0887"
             ],
             [
              0.1111111111111111,
              "#46039f"
             ],
             [
              0.2222222222222222,
              "#7201a8"
             ],
             [
              0.3333333333333333,
              "#9c179e"
             ],
             [
              0.4444444444444444,
              "#bd3786"
             ],
             [
              0.5555555555555556,
              "#d8576b"
             ],
             [
              0.6666666666666666,
              "#ed7953"
             ],
             [
              0.7777777777777778,
              "#fb9f3a"
             ],
             [
              0.8888888888888888,
              "#fdca26"
             ],
             [
              1,
              "#f0f921"
             ]
            ],
            "type": "surface"
           }
          ],
          "table": [
           {
            "cells": {
             "fill": {
              "color": "#EBF0F8"
             },
             "line": {
              "color": "white"
             }
            },
            "header": {
             "fill": {
              "color": "#C8D4E3"
             },
             "line": {
              "color": "white"
             }
            },
            "type": "table"
           }
          ]
         },
         "layout": {
          "annotationdefaults": {
           "arrowcolor": "#2a3f5f",
           "arrowhead": 0,
           "arrowwidth": 1
          },
          "coloraxis": {
           "colorbar": {
            "outlinewidth": 0,
            "ticks": ""
           }
          },
          "colorscale": {
           "diverging": [
            [
             0,
             "#8e0152"
            ],
            [
             0.1,
             "#c51b7d"
            ],
            [
             0.2,
             "#de77ae"
            ],
            [
             0.3,
             "#f1b6da"
            ],
            [
             0.4,
             "#fde0ef"
            ],
            [
             0.5,
             "#f7f7f7"
            ],
            [
             0.6,
             "#e6f5d0"
            ],
            [
             0.7,
             "#b8e186"
            ],
            [
             0.8,
             "#7fbc41"
            ],
            [
             0.9,
             "#4d9221"
            ],
            [
             1,
             "#276419"
            ]
           ],
           "sequential": [
            [
             0,
             "#0d0887"
            ],
            [
             0.1111111111111111,
             "#46039f"
            ],
            [
             0.2222222222222222,
             "#7201a8"
            ],
            [
             0.3333333333333333,
             "#9c179e"
            ],
            [
             0.4444444444444444,
             "#bd3786"
            ],
            [
             0.5555555555555556,
             "#d8576b"
            ],
            [
             0.6666666666666666,
             "#ed7953"
            ],
            [
             0.7777777777777778,
             "#fb9f3a"
            ],
            [
             0.8888888888888888,
             "#fdca26"
            ],
            [
             1,
             "#f0f921"
            ]
           ],
           "sequentialminus": [
            [
             0,
             "#0d0887"
            ],
            [
             0.1111111111111111,
             "#46039f"
            ],
            [
             0.2222222222222222,
             "#7201a8"
            ],
            [
             0.3333333333333333,
             "#9c179e"
            ],
            [
             0.4444444444444444,
             "#bd3786"
            ],
            [
             0.5555555555555556,
             "#d8576b"
            ],
            [
             0.6666666666666666,
             "#ed7953"
            ],
            [
             0.7777777777777778,
             "#fb9f3a"
            ],
            [
             0.8888888888888888,
             "#fdca26"
            ],
            [
             1,
             "#f0f921"
            ]
           ]
          },
          "colorway": [
           "#636efa",
           "#EF553B",
           "#00cc96",
           "#ab63fa",
           "#FFA15A",
           "#19d3f3",
           "#FF6692",
           "#B6E880",
           "#FF97FF",
           "#FECB52"
          ],
          "font": {
           "color": "#2a3f5f"
          },
          "geo": {
           "bgcolor": "white",
           "lakecolor": "white",
           "landcolor": "#E5ECF6",
           "showlakes": true,
           "showland": true,
           "subunitcolor": "white"
          },
          "hoverlabel": {
           "align": "left"
          },
          "hovermode": "closest",
          "mapbox": {
           "style": "light"
          },
          "paper_bgcolor": "white",
          "plot_bgcolor": "#E5ECF6",
          "polar": {
           "angularaxis": {
            "gridcolor": "white",
            "linecolor": "white",
            "ticks": ""
           },
           "bgcolor": "#E5ECF6",
           "radialaxis": {
            "gridcolor": "white",
            "linecolor": "white",
            "ticks": ""
           }
          },
          "scene": {
           "xaxis": {
            "backgroundcolor": "#E5ECF6",
            "gridcolor": "white",
            "gridwidth": 2,
            "linecolor": "white",
            "showbackground": true,
            "ticks": "",
            "zerolinecolor": "white"
           },
           "yaxis": {
            "backgroundcolor": "#E5ECF6",
            "gridcolor": "white",
            "gridwidth": 2,
            "linecolor": "white",
            "showbackground": true,
            "ticks": "",
            "zerolinecolor": "white"
           },
           "zaxis": {
            "backgroundcolor": "#E5ECF6",
            "gridcolor": "white",
            "gridwidth": 2,
            "linecolor": "white",
            "showbackground": true,
            "ticks": "",
            "zerolinecolor": "white"
           }
          },
          "shapedefaults": {
           "line": {
            "color": "#2a3f5f"
           }
          },
          "ternary": {
           "aaxis": {
            "gridcolor": "white",
            "linecolor": "white",
            "ticks": ""
           },
           "baxis": {
            "gridcolor": "white",
            "linecolor": "white",
            "ticks": ""
           },
           "bgcolor": "#E5ECF6",
           "caxis": {
            "gridcolor": "white",
            "linecolor": "white",
            "ticks": ""
           }
          },
          "title": {
           "x": 0.05
          },
          "xaxis": {
           "automargin": true,
           "gridcolor": "white",
           "linecolor": "white",
           "ticks": "",
           "title": {
            "standoff": 15
           },
           "zerolinecolor": "white",
           "zerolinewidth": 2
          },
          "yaxis": {
           "automargin": true,
           "gridcolor": "white",
           "linecolor": "white",
           "ticks": "",
           "title": {
            "standoff": 15
           },
           "zerolinecolor": "white",
           "zerolinewidth": 2
          }
         }
        },
        "title": {
         "font": {
          "color": "#4D5663"
         },
         "text": "AFRICA'S TOP10 TWITTER OFFICIALS INFLUENCERS:REACH_SCORE"
        },
        "xaxis": {
         "gridcolor": "#E1E5ED",
         "showgrid": true,
         "tickfont": {
          "color": "#4D5663"
         },
         "title": {
          "font": {
           "color": "#4D5663"
          },
          "text": "Africa Twitter influencers"
         },
         "zerolinecolor": "#E1E5ED"
        },
        "yaxis": {
         "gridcolor": "#E1E5ED",
         "showgrid": true,
         "tickfont": {
          "color": "#4D5663"
         },
         "title": {
          "font": {
           "color": "#4D5663"
          },
          "text": "Reach_score"
         },
         "zerolinecolor": "#E1E5ED"
        }
       }
      },
      "text/html": [
       "<div>\n",
       "        \n",
       "        \n",
       "            <div id=\"539887bf-e5db-40a7-a2d4-35b96736fc19\" class=\"plotly-graph-div\" style=\"height:525px; width:100%;\"></div>\n",
       "            <script type=\"text/javascript\">\n",
       "                require([\"plotly\"], function(Plotly) {\n",
       "                    window.PLOTLYENV=window.PLOTLYENV || {};\n",
       "                    window.PLOTLYENV.BASE_URL='https://plot.ly';\n",
       "                    \n",
       "                if (document.getElementById(\"539887bf-e5db-40a7-a2d4-35b96736fc19\")) {\n",
       "                    Plotly.newPlot(\n",
       "                        '539887bf-e5db-40a7-a2d4-35b96736fc19',\n",
       "                        [{\"marker\": {\"color\": \"rgba(255, 153, 51, 0.6)\", \"line\": {\"color\": \"rgba(255, 153, 51, 1.0)\", \"width\": 1}}, \"name\": \"reach_score\", \"orientation\": \"v\", \"text\": \"\", \"type\": \"bar\", \"x\": [\"Trevor noah\", \"News24\", \"Julius Sello Malema\", \"gareth cliff\", \"Euphonik\\u2122\\u265b\", \"Helen Zille\", \"MTV Base Africa\", \"5FM\", \"Cricket South Africa\", \"loyiso gola\"], \"y\": [10797404.0, 3571454.0, 3121716.0, 1973832.0, 1752846.0, 1440721.0, 1415012.0, 1163539.0, 1157532.0, 1081115.0]}],\n",
       "                        {\"legend\": {\"bgcolor\": \"#F5F6F9\", \"font\": {\"color\": \"#4D5663\"}}, \"paper_bgcolor\": \"#F5F6F9\", \"plot_bgcolor\": \"#F5F6F9\", \"template\": {\"data\": {\"bar\": [{\"error_x\": {\"color\": \"#2a3f5f\"}, \"error_y\": {\"color\": \"#2a3f5f\"}, \"marker\": {\"line\": {\"color\": \"#E5ECF6\", \"width\": 0.5}}, \"type\": \"bar\"}], \"barpolar\": [{\"marker\": {\"line\": {\"color\": \"#E5ECF6\", \"width\": 0.5}}, \"type\": \"barpolar\"}], \"carpet\": [{\"aaxis\": {\"endlinecolor\": \"#2a3f5f\", \"gridcolor\": \"white\", \"linecolor\": \"white\", \"minorgridcolor\": \"white\", \"startlinecolor\": \"#2a3f5f\"}, \"baxis\": {\"endlinecolor\": \"#2a3f5f\", \"gridcolor\": \"white\", \"linecolor\": \"white\", \"minorgridcolor\": \"white\", \"startlinecolor\": \"#2a3f5f\"}, \"type\": \"carpet\"}], \"choropleth\": [{\"colorbar\": {\"outlinewidth\": 0, \"ticks\": \"\"}, \"type\": \"choropleth\"}], \"contour\": [{\"colorbar\": {\"outlinewidth\": 0, \"ticks\": \"\"}, \"colorscale\": [[0.0, \"#0d0887\"], [0.1111111111111111, \"#46039f\"], [0.2222222222222222, \"#7201a8\"], [0.3333333333333333, \"#9c179e\"], [0.4444444444444444, \"#bd3786\"], [0.5555555555555556, \"#d8576b\"], [0.6666666666666666, \"#ed7953\"], [0.7777777777777778, \"#fb9f3a\"], [0.8888888888888888, \"#fdca26\"], [1.0, \"#f0f921\"]], \"type\": \"contour\"}], \"contourcarpet\": [{\"colorbar\": {\"outlinewidth\": 0, \"ticks\": \"\"}, \"type\": \"contourcarpet\"}], \"heatmap\": [{\"colorbar\": {\"outlinewidth\": 0, \"ticks\": \"\"}, \"colorscale\": [[0.0, \"#0d0887\"], [0.1111111111111111, \"#46039f\"], [0.2222222222222222, \"#7201a8\"], [0.3333333333333333, \"#9c179e\"], [0.4444444444444444, \"#bd3786\"], [0.5555555555555556, \"#d8576b\"], [0.6666666666666666, \"#ed7953\"], [0.7777777777777778, \"#fb9f3a\"], [0.8888888888888888, \"#fdca26\"], [1.0, \"#f0f921\"]], \"type\": \"heatmap\"}], \"heatmapgl\": [{\"colorbar\": {\"outlinewidth\": 0, \"ticks\": \"\"}, \"colorscale\": [[0.0, \"#0d0887\"], [0.1111111111111111, \"#46039f\"], [0.2222222222222222, \"#7201a8\"], [0.3333333333333333, \"#9c179e\"], [0.4444444444444444, \"#bd3786\"], [0.5555555555555556, \"#d8576b\"], [0.6666666666666666, \"#ed7953\"], [0.7777777777777778, \"#fb9f3a\"], [0.8888888888888888, \"#fdca26\"], [1.0, \"#f0f921\"]], \"type\": \"heatmapgl\"}], \"histogram\": [{\"marker\": {\"colorbar\": {\"outlinewidth\": 0, \"ticks\": \"\"}}, \"type\": \"histogram\"}], \"histogram2d\": [{\"colorbar\": {\"outlinewidth\": 0, \"ticks\": \"\"}, \"colorscale\": [[0.0, \"#0d0887\"], [0.1111111111111111, \"#46039f\"], [0.2222222222222222, \"#7201a8\"], [0.3333333333333333, \"#9c179e\"], [0.4444444444444444, \"#bd3786\"], [0.5555555555555556, \"#d8576b\"], [0.6666666666666666, \"#ed7953\"], [0.7777777777777778, \"#fb9f3a\"], [0.8888888888888888, \"#fdca26\"], [1.0, \"#f0f921\"]], \"type\": \"histogram2d\"}], \"histogram2dcontour\": [{\"colorbar\": {\"outlinewidth\": 0, \"ticks\": \"\"}, \"colorscale\": [[0.0, \"#0d0887\"], [0.1111111111111111, \"#46039f\"], [0.2222222222222222, \"#7201a8\"], [0.3333333333333333, \"#9c179e\"], [0.4444444444444444, \"#bd3786\"], [0.5555555555555556, \"#d8576b\"], [0.6666666666666666, \"#ed7953\"], [0.7777777777777778, \"#fb9f3a\"], [0.8888888888888888, \"#fdca26\"], [1.0, \"#f0f921\"]], \"type\": \"histogram2dcontour\"}], \"mesh3d\": [{\"colorbar\": {\"outlinewidth\": 0, \"ticks\": \"\"}, \"type\": \"mesh3d\"}], \"parcoords\": [{\"line\": {\"colorbar\": {\"outlinewidth\": 0, \"ticks\": \"\"}}, \"type\": \"parcoords\"}], \"pie\": [{\"automargin\": true, \"type\": \"pie\"}], \"scatter\": [{\"marker\": {\"colorbar\": {\"outlinewidth\": 0, \"ticks\": \"\"}}, \"type\": \"scatter\"}], \"scatter3d\": [{\"line\": {\"colorbar\": {\"outlinewidth\": 0, \"ticks\": \"\"}}, \"marker\": {\"colorbar\": {\"outlinewidth\": 0, \"ticks\": \"\"}}, \"type\": \"scatter3d\"}], \"scattercarpet\": [{\"marker\": {\"colorbar\": {\"outlinewidth\": 0, \"ticks\": \"\"}}, \"type\": \"scattercarpet\"}], \"scattergeo\": [{\"marker\": {\"colorbar\": {\"outlinewidth\": 0, \"ticks\": \"\"}}, \"type\": \"scattergeo\"}], \"scattergl\": [{\"marker\": {\"colorbar\": {\"outlinewidth\": 0, \"ticks\": \"\"}}, \"type\": \"scattergl\"}], \"scattermapbox\": [{\"marker\": {\"colorbar\": {\"outlinewidth\": 0, \"ticks\": \"\"}}, \"type\": \"scattermapbox\"}], \"scatterpolar\": [{\"marker\": {\"colorbar\": {\"outlinewidth\": 0, \"ticks\": \"\"}}, \"type\": \"scatterpolar\"}], \"scatterpolargl\": [{\"marker\": {\"colorbar\": {\"outlinewidth\": 0, \"ticks\": \"\"}}, \"type\": \"scatterpolargl\"}], \"scatterternary\": [{\"marker\": {\"colorbar\": {\"outlinewidth\": 0, \"ticks\": \"\"}}, \"type\": \"scatterternary\"}], \"surface\": [{\"colorbar\": {\"outlinewidth\": 0, \"ticks\": \"\"}, \"colorscale\": [[0.0, \"#0d0887\"], [0.1111111111111111, \"#46039f\"], [0.2222222222222222, \"#7201a8\"], [0.3333333333333333, \"#9c179e\"], [0.4444444444444444, \"#bd3786\"], [0.5555555555555556, \"#d8576b\"], [0.6666666666666666, \"#ed7953\"], [0.7777777777777778, \"#fb9f3a\"], [0.8888888888888888, \"#fdca26\"], [1.0, \"#f0f921\"]], \"type\": \"surface\"}], \"table\": [{\"cells\": {\"fill\": {\"color\": \"#EBF0F8\"}, \"line\": {\"color\": \"white\"}}, \"header\": {\"fill\": {\"color\": \"#C8D4E3\"}, \"line\": {\"color\": \"white\"}}, \"type\": \"table\"}]}, \"layout\": {\"annotationdefaults\": {\"arrowcolor\": \"#2a3f5f\", \"arrowhead\": 0, \"arrowwidth\": 1}, \"coloraxis\": {\"colorbar\": {\"outlinewidth\": 0, \"ticks\": \"\"}}, \"colorscale\": {\"diverging\": [[0, \"#8e0152\"], [0.1, \"#c51b7d\"], [0.2, \"#de77ae\"], [0.3, \"#f1b6da\"], [0.4, \"#fde0ef\"], [0.5, \"#f7f7f7\"], [0.6, \"#e6f5d0\"], [0.7, \"#b8e186\"], [0.8, \"#7fbc41\"], [0.9, \"#4d9221\"], [1, \"#276419\"]], \"sequential\": [[0.0, \"#0d0887\"], [0.1111111111111111, \"#46039f\"], [0.2222222222222222, \"#7201a8\"], [0.3333333333333333, \"#9c179e\"], [0.4444444444444444, \"#bd3786\"], [0.5555555555555556, \"#d8576b\"], [0.6666666666666666, \"#ed7953\"], [0.7777777777777778, \"#fb9f3a\"], [0.8888888888888888, \"#fdca26\"], [1.0, \"#f0f921\"]], \"sequentialminus\": [[0.0, \"#0d0887\"], [0.1111111111111111, \"#46039f\"], [0.2222222222222222, \"#7201a8\"], [0.3333333333333333, \"#9c179e\"], [0.4444444444444444, \"#bd3786\"], [0.5555555555555556, \"#d8576b\"], [0.6666666666666666, \"#ed7953\"], [0.7777777777777778, \"#fb9f3a\"], [0.8888888888888888, \"#fdca26\"], [1.0, \"#f0f921\"]]}, \"colorway\": [\"#636efa\", \"#EF553B\", \"#00cc96\", \"#ab63fa\", \"#FFA15A\", \"#19d3f3\", \"#FF6692\", \"#B6E880\", \"#FF97FF\", \"#FECB52\"], \"font\": {\"color\": \"#2a3f5f\"}, \"geo\": {\"bgcolor\": \"white\", \"lakecolor\": \"white\", \"landcolor\": \"#E5ECF6\", \"showlakes\": true, \"showland\": true, \"subunitcolor\": \"white\"}, \"hoverlabel\": {\"align\": \"left\"}, \"hovermode\": \"closest\", \"mapbox\": {\"style\": \"light\"}, \"paper_bgcolor\": \"white\", \"plot_bgcolor\": \"#E5ECF6\", \"polar\": {\"angularaxis\": {\"gridcolor\": \"white\", \"linecolor\": \"white\", \"ticks\": \"\"}, \"bgcolor\": \"#E5ECF6\", \"radialaxis\": {\"gridcolor\": \"white\", \"linecolor\": \"white\", \"ticks\": \"\"}}, \"scene\": {\"xaxis\": {\"backgroundcolor\": \"#E5ECF6\", \"gridcolor\": \"white\", \"gridwidth\": 2, \"linecolor\": \"white\", \"showbackground\": true, \"ticks\": \"\", \"zerolinecolor\": \"white\"}, \"yaxis\": {\"backgroundcolor\": \"#E5ECF6\", \"gridcolor\": \"white\", \"gridwidth\": 2, \"linecolor\": \"white\", \"showbackground\": true, \"ticks\": \"\", \"zerolinecolor\": \"white\"}, \"zaxis\": {\"backgroundcolor\": \"#E5ECF6\", \"gridcolor\": \"white\", \"gridwidth\": 2, \"linecolor\": \"white\", \"showbackground\": true, \"ticks\": \"\", \"zerolinecolor\": \"white\"}}, \"shapedefaults\": {\"line\": {\"color\": \"#2a3f5f\"}}, \"ternary\": {\"aaxis\": {\"gridcolor\": \"white\", \"linecolor\": \"white\", \"ticks\": \"\"}, \"baxis\": {\"gridcolor\": \"white\", \"linecolor\": \"white\", \"ticks\": \"\"}, \"bgcolor\": \"#E5ECF6\", \"caxis\": {\"gridcolor\": \"white\", \"linecolor\": \"white\", \"ticks\": \"\"}}, \"title\": {\"x\": 0.05}, \"xaxis\": {\"automargin\": true, \"gridcolor\": \"white\", \"linecolor\": \"white\", \"ticks\": \"\", \"title\": {\"standoff\": 15}, \"zerolinecolor\": \"white\", \"zerolinewidth\": 2}, \"yaxis\": {\"automargin\": true, \"gridcolor\": \"white\", \"linecolor\": \"white\", \"ticks\": \"\", \"title\": {\"standoff\": 15}, \"zerolinecolor\": \"white\", \"zerolinewidth\": 2}}}, \"title\": {\"font\": {\"color\": \"#4D5663\"}, \"text\": \"AFRICA'S TOP10 TWITTER OFFICIALS INFLUENCERS:REACH_SCORE\"}, \"xaxis\": {\"gridcolor\": \"#E1E5ED\", \"showgrid\": true, \"tickfont\": {\"color\": \"#4D5663\"}, \"title\": {\"font\": {\"color\": \"#4D5663\"}, \"text\": \"Africa Twitter influencers\"}, \"zerolinecolor\": \"#E1E5ED\"}, \"yaxis\": {\"gridcolor\": \"#E1E5ED\", \"showgrid\": true, \"tickfont\": {\"color\": \"#4D5663\"}, \"title\": {\"font\": {\"color\": \"#4D5663\"}, \"text\": \"Reach_score\"}, \"zerolinecolor\": \"#E1E5ED\"}},\n",
       "                        {\"showLink\": true, \"linkText\": \"Export to plot.ly\", \"plotlyServerURL\": \"https://plot.ly\", \"responsive\": true}\n",
       "                    ).then(function(){\n",
       "                            \n",
       "var gd = document.getElementById('539887bf-e5db-40a7-a2d4-35b96736fc19');\n",
       "var x = new MutationObserver(function (mutations, observer) {{\n",
       "        var display = window.getComputedStyle(gd).display;\n",
       "        if (!display || display === 'none') {{\n",
       "            console.log([gd, 'removed!']);\n",
       "            Plotly.purge(gd);\n",
       "            observer.disconnect();\n",
       "        }}\n",
       "}});\n",
       "\n",
       "// Listen for the removal of the full notebook cells\n",
       "var notebookContainer = gd.closest('#notebook-container');\n",
       "if (notebookContainer) {{\n",
       "    x.observe(notebookContainer, {childList: true});\n",
       "}}\n",
       "\n",
       "// Listen for the clearing of the current output cell\n",
       "var outputEl = gd.closest('.output');\n",
       "if (outputEl) {{\n",
       "    x.observe(outputEl, {childList: true});\n",
       "}}\n",
       "\n",
       "                        })\n",
       "                };\n",
       "                });\n",
       "            </script>\n",
       "        </div>"
      ]
     },
     "metadata": {},
     "output_type": "display_data"
    }
   ],
   "source": [
    "df7.iplot(kind=\"bar\",x=\"Name\",y=\"reach_score\",xTitle='Africa Twitter influencers',\n",
    "           yTitle='Reach_score',title=\"AFRICA'S TOP10 TWITTER OFFICIALS INFLUENCERS:REACH_SCORE\")"
   ]
  },
  {
   "cell_type": "code",
   "execution_count": null,
   "metadata": {},
   "outputs": [],
   "source": []
  },
  {
   "cell_type": "code",
   "execution_count": null,
   "metadata": {},
   "outputs": [],
   "source": []
  }
 ],
 "metadata": {
  "kernelspec": {
   "display_name": "Python 3",
   "language": "python",
   "name": "python3"
  },
  "language_info": {
   "codemirror_mode": {
    "name": "ipython",
    "version": 3
   },
   "file_extension": ".py",
   "mimetype": "text/x-python",
   "name": "python",
   "nbconvert_exporter": "python",
   "pygments_lexer": "ipython3",
   "version": "3.7.6"
  }
 },
 "nbformat": 4,
 "nbformat_minor": 4
}
